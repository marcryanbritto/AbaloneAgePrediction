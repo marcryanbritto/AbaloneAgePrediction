{
  "metadata": {
    "kernelspec": {
      "language": "python",
      "display_name": "Python 3",
      "name": "python3"
    },
    "language_info": {
      "pygments_lexer": "ipython3",
      "nbconvert_exporter": "python",
      "version": "3.6.4",
      "file_extension": ".py",
      "codemirror_mode": {
        "name": "ipython",
        "version": 3
      },
      "name": "python",
      "mimetype": "text/x-python"
    },
    "colab": {
      "name": "🐌Abalone Age Prediction : Regression📒📈",
      "provenance": [],
      "include_colab_link": true
    }
  },
  "nbformat_minor": 0,
  "nbformat": 4,
  "cells": [
    {
      "cell_type": "markdown",
      "metadata": {
        "id": "view-in-github",
        "colab_type": "text"
      },
      "source": [
        "<a href=\"https://colab.research.google.com/github/marcryanbritto/AbaloneAgePrediction/blob/main/%F0%9F%90%8CAbalone_Age_Prediction_Regression%F0%9F%93%92%F0%9F%93%88.ipynb\" target=\"_parent\"><img src=\"https://colab.research.google.com/assets/colab-badge.svg\" alt=\"Open In Colab\"/></a>"
      ]
    },
    {
      "source": [
        "\n",
        "# IMPORTANT: RUN THIS CELL IN ORDER TO IMPORT YOUR KAGGLE DATA SOURCES\n",
        "# TO THE CORRECT LOCATION (/kaggle/input) IN YOUR NOTEBOOK,\n",
        "# THEN FEEL FREE TO DELETE THIS CELL.\n",
        "# NOTE: THIS NOTEBOOK ENVIRONMENT DIFFERS FROM KAGGLE'S PYTHON\n",
        "# ENVIRONMENT SO THERE MAY BE MISSING LIBRARIES USED BY YOUR\n",
        "# NOTEBOOK.\n",
        "\n",
        "import os\n",
        "import sys\n",
        "from tempfile import NamedTemporaryFile\n",
        "from urllib.request import urlopen\n",
        "from urllib.parse import unquote, urlparse\n",
        "from urllib.error import HTTPError\n",
        "from zipfile import ZipFile\n",
        "import tarfile\n",
        "import shutil\n",
        "\n",
        "CHUNK_SIZE = 40960\n",
        "DATA_SOURCE_MAPPING = 'abalone-dataset:https%3A%2F%2Fstorage.googleapis.com%2Fkaggle-data-sets%2F37691%2F57419%2Fbundle%2Farchive.zip%3FX-Goog-Algorithm%3DGOOG4-RSA-SHA256%26X-Goog-Credential%3Dgcp-kaggle-com%2540kaggle-161607.iam.gserviceaccount.com%252F20240819%252Fauto%252Fstorage%252Fgoog4_request%26X-Goog-Date%3D20240819T013638Z%26X-Goog-Expires%3D259200%26X-Goog-SignedHeaders%3Dhost%26X-Goog-Signature%3D2c92621d2661d18241745d4fafcf5888647fcd2ff7149fdeae36965963e92b824e2a662f628efe07ca9171a8d9322b995d45213416e0447ad8c9add1f6fd36567e644bc1051a16bcb22f147b46a59815f3d3a5e018beaad186839cab8a83c373d1f97bacfb2aa27afd5c8e6c87d26a69169a3488b1d5bf7c81916d2c64931a5d98d78275a2bc9a0ff9bd73d9120a4f755500c3b7d3723f32c29fea93823b533aebaba829aef1e305bf6a42950db94c5742e15692693807d391e9978caac725d68790539f262e2f4d3f1748b0d8816f1a8588d1eb60140329a834f85efad91a40e34c0c7ee2e5bcc85e676fa28a5a61a3e56e74f8b65253856ca5cfaf9f5d55ca'\n",
        "\n",
        "KAGGLE_INPUT_PATH='/kaggle/input'\n",
        "KAGGLE_WORKING_PATH='/kaggle/working'\n",
        "KAGGLE_SYMLINK='kaggle'\n",
        "\n",
        "!umount /kaggle/input/ 2> /dev/null\n",
        "shutil.rmtree('/kaggle/input', ignore_errors=True)\n",
        "os.makedirs(KAGGLE_INPUT_PATH, 0o777, exist_ok=True)\n",
        "os.makedirs(KAGGLE_WORKING_PATH, 0o777, exist_ok=True)\n",
        "\n",
        "try:\n",
        "  os.symlink(KAGGLE_INPUT_PATH, os.path.join(\"..\", 'input'), target_is_directory=True)\n",
        "except FileExistsError:\n",
        "  pass\n",
        "try:\n",
        "  os.symlink(KAGGLE_WORKING_PATH, os.path.join(\"..\", 'working'), target_is_directory=True)\n",
        "except FileExistsError:\n",
        "  pass\n",
        "\n",
        "for data_source_mapping in DATA_SOURCE_MAPPING.split(','):\n",
        "    directory, download_url_encoded = data_source_mapping.split(':')\n",
        "    download_url = unquote(download_url_encoded)\n",
        "    filename = urlparse(download_url).path\n",
        "    destination_path = os.path.join(KAGGLE_INPUT_PATH, directory)\n",
        "    try:\n",
        "        with urlopen(download_url) as fileres, NamedTemporaryFile() as tfile:\n",
        "            total_length = fileres.headers['content-length']\n",
        "            print(f'Downloading {directory}, {total_length} bytes compressed')\n",
        "            dl = 0\n",
        "            data = fileres.read(CHUNK_SIZE)\n",
        "            while len(data) > 0:\n",
        "                dl += len(data)\n",
        "                tfile.write(data)\n",
        "                done = int(50 * dl / int(total_length))\n",
        "                sys.stdout.write(f\"\\r[{'=' * done}{' ' * (50-done)}] {dl} bytes downloaded\")\n",
        "                sys.stdout.flush()\n",
        "                data = fileres.read(CHUNK_SIZE)\n",
        "            if filename.endswith('.zip'):\n",
        "              with ZipFile(tfile) as zfile:\n",
        "                zfile.extractall(destination_path)\n",
        "            else:\n",
        "              with tarfile.open(tfile.name) as tarfile:\n",
        "                tarfile.extractall(destination_path)\n",
        "            print(f'\\nDownloaded and uncompressed: {directory}')\n",
        "    except HTTPError as e:\n",
        "        print(f'Failed to load (likely expired) {download_url} to path {destination_path}')\n",
        "        continue\n",
        "    except OSError as e:\n",
        "        print(f'Failed to load {download_url} to path {destination_path}')\n",
        "        continue\n",
        "\n",
        "print('Data source import complete.')\n"
      ],
      "metadata": {
        "id": "-_r40hjER4jI",
        "outputId": "9aa5ff92-6251-4206-805a-90d498357285",
        "colab": {
          "base_uri": "https://localhost:8080/"
        }
      },
      "cell_type": "code",
      "outputs": [
        {
          "output_type": "stream",
          "name": "stdout",
          "text": [
            "Downloading abalone-dataset, 58677 bytes compressed\n",
            "[==================================================] 58677 bytes downloaded\n",
            "Downloaded and uncompressed: abalone-dataset\n",
            "Data source import complete.\n"
          ]
        }
      ],
      "execution_count": 4
    },
    {
      "cell_type": "markdown",
      "source": [
        "## Introduction"
      ],
      "metadata": {
        "id": "x6dxjCvvR4jL"
      }
    },
    {
      "cell_type": "markdown",
      "source": [
        "The abalone dataset contains measurements of physical features of abalone, along with their age (in terms of the number of rings on their shells). The columns in the dataset are:\n",
        "\n",
        "- **Sex**: This column indicates the sex of the abalone and is of object data type. There are three possible values: 'M' for male, 'F' for female, and 'I' for infant.\n",
        "\n",
        "- **Length**: This column contains the longest shell measurement in mm and is of float data type.\n",
        "\n",
        "- **Diameter**: This column contains the measurement perpendicular to length in mm and is of float data type.\n",
        "\n",
        "- **Height**: This column contains the height of the whole abalone in mm and is of float data type.\n",
        "\n",
        "- **Whole weight**: This column contains the weight of the whole abalone in grams and is of float data type.\n",
        "\n",
        "- **Shucked weight**: This column contains the weight of the meat of the abalone in grams and is of float data type.\n",
        "\n",
        "- **Viscera weight**: This column contains the weight of the abalone's gut (after bleeding) in grams and is of float data type.\n",
        "\n",
        "- **Shell weight**: This column contains the weight of the abalone's shell after being dried in grams and is of float data type.\n",
        "\n",
        "- **Rings**: This column indicates the age of the abalone in terms of the number of rings on their shell, and is of integer data type.\n",
        "\n",
        "These measurements can be used to predict the age of abalone without the need to perform the tedious task of counting the rings through a microscope. By analyzing the relationship between these physical features and the age of abalone, we can build a predictive model to estimate their age, which can be useful for various applications in aquaculture, ecology, and fisheries management."
      ],
      "metadata": {
        "id": "Lwo0xUEdR4jN"
      }
    },
    {
      "cell_type": "markdown",
      "source": [
        "## Importing Dependencies"
      ],
      "metadata": {
        "id": "MqZsAh_gR4jN"
      }
    },
    {
      "cell_type": "code",
      "source": [
        "import numpy as np\n",
        "import pandas as pd\n",
        "from sklearn.preprocessing import LabelEncoder\n",
        "from sklearn.metrics import mean_absolute_error\n",
        "from sklearn.ensemble import RandomForestRegressor\n",
        "from sklearn.model_selection import train_test_split\n",
        "import plotly.express as px\n",
        "import plotly.graph_objs as go"
      ],
      "metadata": {
        "execution": {
          "iopub.status.busy": "2023-03-07T06:54:45.479863Z",
          "iopub.execute_input": "2023-03-07T06:54:45.480224Z",
          "iopub.status.idle": "2023-03-07T06:54:45.485443Z",
          "shell.execute_reply.started": "2023-03-07T06:54:45.480184Z",
          "shell.execute_reply": "2023-03-07T06:54:45.484778Z"
        },
        "trusted": true,
        "id": "BevshvghR4jN"
      },
      "execution_count": 5,
      "outputs": []
    },
    {
      "cell_type": "markdown",
      "source": [
        "## Loading Data"
      ],
      "metadata": {
        "id": "6NT0gSuvR4jO"
      }
    },
    {
      "cell_type": "code",
      "source": [
        "df = pd.read_csv('../input/abalone-dataset/abalone.csv')\n",
        "df.head()"
      ],
      "metadata": {
        "execution": {
          "iopub.status.busy": "2023-03-07T06:53:04.287616Z",
          "iopub.execute_input": "2023-03-07T06:53:04.28785Z",
          "iopub.status.idle": "2023-03-07T06:53:04.328755Z",
          "shell.execute_reply.started": "2023-03-07T06:53:04.287821Z",
          "shell.execute_reply": "2023-03-07T06:53:04.327853Z"
        },
        "trusted": true,
        "id": "8pds3eyLR4jO",
        "outputId": "91a3887e-b949-446e-ec9d-80a24c0b039a",
        "colab": {
          "base_uri": "https://localhost:8080/",
          "height": 206
        }
      },
      "execution_count": 6,
      "outputs": [
        {
          "output_type": "execute_result",
          "data": {
            "text/plain": [
              "  Sex  Length  Diameter  Height  Whole weight  Shucked weight  Viscera weight  \\\n",
              "0   M   0.455     0.365   0.095        0.5140          0.2245          0.1010   \n",
              "1   M   0.350     0.265   0.090        0.2255          0.0995          0.0485   \n",
              "2   F   0.530     0.420   0.135        0.6770          0.2565          0.1415   \n",
              "3   M   0.440     0.365   0.125        0.5160          0.2155          0.1140   \n",
              "4   I   0.330     0.255   0.080        0.2050          0.0895          0.0395   \n",
              "\n",
              "   Shell weight  Rings  \n",
              "0         0.150     15  \n",
              "1         0.070      7  \n",
              "2         0.210      9  \n",
              "3         0.155     10  \n",
              "4         0.055      7  "
            ],
            "text/html": [
              "\n",
              "  <div id=\"df-9ae65e1b-8f0b-45be-baaa-be80fb38d70c\" class=\"colab-df-container\">\n",
              "    <div>\n",
              "<style scoped>\n",
              "    .dataframe tbody tr th:only-of-type {\n",
              "        vertical-align: middle;\n",
              "    }\n",
              "\n",
              "    .dataframe tbody tr th {\n",
              "        vertical-align: top;\n",
              "    }\n",
              "\n",
              "    .dataframe thead th {\n",
              "        text-align: right;\n",
              "    }\n",
              "</style>\n",
              "<table border=\"1\" class=\"dataframe\">\n",
              "  <thead>\n",
              "    <tr style=\"text-align: right;\">\n",
              "      <th></th>\n",
              "      <th>Sex</th>\n",
              "      <th>Length</th>\n",
              "      <th>Diameter</th>\n",
              "      <th>Height</th>\n",
              "      <th>Whole weight</th>\n",
              "      <th>Shucked weight</th>\n",
              "      <th>Viscera weight</th>\n",
              "      <th>Shell weight</th>\n",
              "      <th>Rings</th>\n",
              "    </tr>\n",
              "  </thead>\n",
              "  <tbody>\n",
              "    <tr>\n",
              "      <th>0</th>\n",
              "      <td>M</td>\n",
              "      <td>0.455</td>\n",
              "      <td>0.365</td>\n",
              "      <td>0.095</td>\n",
              "      <td>0.5140</td>\n",
              "      <td>0.2245</td>\n",
              "      <td>0.1010</td>\n",
              "      <td>0.150</td>\n",
              "      <td>15</td>\n",
              "    </tr>\n",
              "    <tr>\n",
              "      <th>1</th>\n",
              "      <td>M</td>\n",
              "      <td>0.350</td>\n",
              "      <td>0.265</td>\n",
              "      <td>0.090</td>\n",
              "      <td>0.2255</td>\n",
              "      <td>0.0995</td>\n",
              "      <td>0.0485</td>\n",
              "      <td>0.070</td>\n",
              "      <td>7</td>\n",
              "    </tr>\n",
              "    <tr>\n",
              "      <th>2</th>\n",
              "      <td>F</td>\n",
              "      <td>0.530</td>\n",
              "      <td>0.420</td>\n",
              "      <td>0.135</td>\n",
              "      <td>0.6770</td>\n",
              "      <td>0.2565</td>\n",
              "      <td>0.1415</td>\n",
              "      <td>0.210</td>\n",
              "      <td>9</td>\n",
              "    </tr>\n",
              "    <tr>\n",
              "      <th>3</th>\n",
              "      <td>M</td>\n",
              "      <td>0.440</td>\n",
              "      <td>0.365</td>\n",
              "      <td>0.125</td>\n",
              "      <td>0.5160</td>\n",
              "      <td>0.2155</td>\n",
              "      <td>0.1140</td>\n",
              "      <td>0.155</td>\n",
              "      <td>10</td>\n",
              "    </tr>\n",
              "    <tr>\n",
              "      <th>4</th>\n",
              "      <td>I</td>\n",
              "      <td>0.330</td>\n",
              "      <td>0.255</td>\n",
              "      <td>0.080</td>\n",
              "      <td>0.2050</td>\n",
              "      <td>0.0895</td>\n",
              "      <td>0.0395</td>\n",
              "      <td>0.055</td>\n",
              "      <td>7</td>\n",
              "    </tr>\n",
              "  </tbody>\n",
              "</table>\n",
              "</div>\n",
              "    <div class=\"colab-df-buttons\">\n",
              "\n",
              "  <div class=\"colab-df-container\">\n",
              "    <button class=\"colab-df-convert\" onclick=\"convertToInteractive('df-9ae65e1b-8f0b-45be-baaa-be80fb38d70c')\"\n",
              "            title=\"Convert this dataframe to an interactive table.\"\n",
              "            style=\"display:none;\">\n",
              "\n",
              "  <svg xmlns=\"http://www.w3.org/2000/svg\" height=\"24px\" viewBox=\"0 -960 960 960\">\n",
              "    <path d=\"M120-120v-720h720v720H120Zm60-500h600v-160H180v160Zm220 220h160v-160H400v160Zm0 220h160v-160H400v160ZM180-400h160v-160H180v160Zm440 0h160v-160H620v160ZM180-180h160v-160H180v160Zm440 0h160v-160H620v160Z\"/>\n",
              "  </svg>\n",
              "    </button>\n",
              "\n",
              "  <style>\n",
              "    .colab-df-container {\n",
              "      display:flex;\n",
              "      gap: 12px;\n",
              "    }\n",
              "\n",
              "    .colab-df-convert {\n",
              "      background-color: #E8F0FE;\n",
              "      border: none;\n",
              "      border-radius: 50%;\n",
              "      cursor: pointer;\n",
              "      display: none;\n",
              "      fill: #1967D2;\n",
              "      height: 32px;\n",
              "      padding: 0 0 0 0;\n",
              "      width: 32px;\n",
              "    }\n",
              "\n",
              "    .colab-df-convert:hover {\n",
              "      background-color: #E2EBFA;\n",
              "      box-shadow: 0px 1px 2px rgba(60, 64, 67, 0.3), 0px 1px 3px 1px rgba(60, 64, 67, 0.15);\n",
              "      fill: #174EA6;\n",
              "    }\n",
              "\n",
              "    .colab-df-buttons div {\n",
              "      margin-bottom: 4px;\n",
              "    }\n",
              "\n",
              "    [theme=dark] .colab-df-convert {\n",
              "      background-color: #3B4455;\n",
              "      fill: #D2E3FC;\n",
              "    }\n",
              "\n",
              "    [theme=dark] .colab-df-convert:hover {\n",
              "      background-color: #434B5C;\n",
              "      box-shadow: 0px 1px 3px 1px rgba(0, 0, 0, 0.15);\n",
              "      filter: drop-shadow(0px 1px 2px rgba(0, 0, 0, 0.3));\n",
              "      fill: #FFFFFF;\n",
              "    }\n",
              "  </style>\n",
              "\n",
              "    <script>\n",
              "      const buttonEl =\n",
              "        document.querySelector('#df-9ae65e1b-8f0b-45be-baaa-be80fb38d70c button.colab-df-convert');\n",
              "      buttonEl.style.display =\n",
              "        google.colab.kernel.accessAllowed ? 'block' : 'none';\n",
              "\n",
              "      async function convertToInteractive(key) {\n",
              "        const element = document.querySelector('#df-9ae65e1b-8f0b-45be-baaa-be80fb38d70c');\n",
              "        const dataTable =\n",
              "          await google.colab.kernel.invokeFunction('convertToInteractive',\n",
              "                                                    [key], {});\n",
              "        if (!dataTable) return;\n",
              "\n",
              "        const docLinkHtml = 'Like what you see? Visit the ' +\n",
              "          '<a target=\"_blank\" href=https://colab.research.google.com/notebooks/data_table.ipynb>data table notebook</a>'\n",
              "          + ' to learn more about interactive tables.';\n",
              "        element.innerHTML = '';\n",
              "        dataTable['output_type'] = 'display_data';\n",
              "        await google.colab.output.renderOutput(dataTable, element);\n",
              "        const docLink = document.createElement('div');\n",
              "        docLink.innerHTML = docLinkHtml;\n",
              "        element.appendChild(docLink);\n",
              "      }\n",
              "    </script>\n",
              "  </div>\n",
              "\n",
              "\n",
              "<div id=\"df-7766a17a-29bb-4671-a182-49d2c3dbdb3d\">\n",
              "  <button class=\"colab-df-quickchart\" onclick=\"quickchart('df-7766a17a-29bb-4671-a182-49d2c3dbdb3d')\"\n",
              "            title=\"Suggest charts\"\n",
              "            style=\"display:none;\">\n",
              "\n",
              "<svg xmlns=\"http://www.w3.org/2000/svg\" height=\"24px\"viewBox=\"0 0 24 24\"\n",
              "     width=\"24px\">\n",
              "    <g>\n",
              "        <path d=\"M19 3H5c-1.1 0-2 .9-2 2v14c0 1.1.9 2 2 2h14c1.1 0 2-.9 2-2V5c0-1.1-.9-2-2-2zM9 17H7v-7h2v7zm4 0h-2V7h2v10zm4 0h-2v-4h2v4z\"/>\n",
              "    </g>\n",
              "</svg>\n",
              "  </button>\n",
              "\n",
              "<style>\n",
              "  .colab-df-quickchart {\n",
              "      --bg-color: #E8F0FE;\n",
              "      --fill-color: #1967D2;\n",
              "      --hover-bg-color: #E2EBFA;\n",
              "      --hover-fill-color: #174EA6;\n",
              "      --disabled-fill-color: #AAA;\n",
              "      --disabled-bg-color: #DDD;\n",
              "  }\n",
              "\n",
              "  [theme=dark] .colab-df-quickchart {\n",
              "      --bg-color: #3B4455;\n",
              "      --fill-color: #D2E3FC;\n",
              "      --hover-bg-color: #434B5C;\n",
              "      --hover-fill-color: #FFFFFF;\n",
              "      --disabled-bg-color: #3B4455;\n",
              "      --disabled-fill-color: #666;\n",
              "  }\n",
              "\n",
              "  .colab-df-quickchart {\n",
              "    background-color: var(--bg-color);\n",
              "    border: none;\n",
              "    border-radius: 50%;\n",
              "    cursor: pointer;\n",
              "    display: none;\n",
              "    fill: var(--fill-color);\n",
              "    height: 32px;\n",
              "    padding: 0;\n",
              "    width: 32px;\n",
              "  }\n",
              "\n",
              "  .colab-df-quickchart:hover {\n",
              "    background-color: var(--hover-bg-color);\n",
              "    box-shadow: 0 1px 2px rgba(60, 64, 67, 0.3), 0 1px 3px 1px rgba(60, 64, 67, 0.15);\n",
              "    fill: var(--button-hover-fill-color);\n",
              "  }\n",
              "\n",
              "  .colab-df-quickchart-complete:disabled,\n",
              "  .colab-df-quickchart-complete:disabled:hover {\n",
              "    background-color: var(--disabled-bg-color);\n",
              "    fill: var(--disabled-fill-color);\n",
              "    box-shadow: none;\n",
              "  }\n",
              "\n",
              "  .colab-df-spinner {\n",
              "    border: 2px solid var(--fill-color);\n",
              "    border-color: transparent;\n",
              "    border-bottom-color: var(--fill-color);\n",
              "    animation:\n",
              "      spin 1s steps(1) infinite;\n",
              "  }\n",
              "\n",
              "  @keyframes spin {\n",
              "    0% {\n",
              "      border-color: transparent;\n",
              "      border-bottom-color: var(--fill-color);\n",
              "      border-left-color: var(--fill-color);\n",
              "    }\n",
              "    20% {\n",
              "      border-color: transparent;\n",
              "      border-left-color: var(--fill-color);\n",
              "      border-top-color: var(--fill-color);\n",
              "    }\n",
              "    30% {\n",
              "      border-color: transparent;\n",
              "      border-left-color: var(--fill-color);\n",
              "      border-top-color: var(--fill-color);\n",
              "      border-right-color: var(--fill-color);\n",
              "    }\n",
              "    40% {\n",
              "      border-color: transparent;\n",
              "      border-right-color: var(--fill-color);\n",
              "      border-top-color: var(--fill-color);\n",
              "    }\n",
              "    60% {\n",
              "      border-color: transparent;\n",
              "      border-right-color: var(--fill-color);\n",
              "    }\n",
              "    80% {\n",
              "      border-color: transparent;\n",
              "      border-right-color: var(--fill-color);\n",
              "      border-bottom-color: var(--fill-color);\n",
              "    }\n",
              "    90% {\n",
              "      border-color: transparent;\n",
              "      border-bottom-color: var(--fill-color);\n",
              "    }\n",
              "  }\n",
              "</style>\n",
              "\n",
              "  <script>\n",
              "    async function quickchart(key) {\n",
              "      const quickchartButtonEl =\n",
              "        document.querySelector('#' + key + ' button');\n",
              "      quickchartButtonEl.disabled = true;  // To prevent multiple clicks.\n",
              "      quickchartButtonEl.classList.add('colab-df-spinner');\n",
              "      try {\n",
              "        const charts = await google.colab.kernel.invokeFunction(\n",
              "            'suggestCharts', [key], {});\n",
              "      } catch (error) {\n",
              "        console.error('Error during call to suggestCharts:', error);\n",
              "      }\n",
              "      quickchartButtonEl.classList.remove('colab-df-spinner');\n",
              "      quickchartButtonEl.classList.add('colab-df-quickchart-complete');\n",
              "    }\n",
              "    (() => {\n",
              "      let quickchartButtonEl =\n",
              "        document.querySelector('#df-7766a17a-29bb-4671-a182-49d2c3dbdb3d button');\n",
              "      quickchartButtonEl.style.display =\n",
              "        google.colab.kernel.accessAllowed ? 'block' : 'none';\n",
              "    })();\n",
              "  </script>\n",
              "</div>\n",
              "\n",
              "    </div>\n",
              "  </div>\n"
            ],
            "application/vnd.google.colaboratory.intrinsic+json": {
              "type": "dataframe",
              "variable_name": "df",
              "summary": "{\n  \"name\": \"df\",\n  \"rows\": 4177,\n  \"fields\": [\n    {\n      \"column\": \"Sex\",\n      \"properties\": {\n        \"dtype\": \"category\",\n        \"num_unique_values\": 3,\n        \"samples\": [\n          \"M\",\n          \"F\",\n          \"I\"\n        ],\n        \"semantic_type\": \"\",\n        \"description\": \"\"\n      }\n    },\n    {\n      \"column\": \"Length\",\n      \"properties\": {\n        \"dtype\": \"number\",\n        \"std\": 0.12009291256479956,\n        \"min\": 0.075,\n        \"max\": 0.815,\n        \"num_unique_values\": 134,\n        \"samples\": [\n          0.815,\n          0.65,\n          0.29\n        ],\n        \"semantic_type\": \"\",\n        \"description\": \"\"\n      }\n    },\n    {\n      \"column\": \"Diameter\",\n      \"properties\": {\n        \"dtype\": \"number\",\n        \"std\": 0.09923986613365945,\n        \"min\": 0.055,\n        \"max\": 0.65,\n        \"num_unique_values\": 111,\n        \"samples\": [\n          0.09,\n          0.35,\n          0.3\n        ],\n        \"semantic_type\": \"\",\n        \"description\": \"\"\n      }\n    },\n    {\n      \"column\": \"Height\",\n      \"properties\": {\n        \"dtype\": \"number\",\n        \"std\": 0.041827056607257274,\n        \"min\": 0.0,\n        \"max\": 1.13,\n        \"num_unique_values\": 51,\n        \"samples\": [\n          0.235,\n          0.035,\n          0.015\n        ],\n        \"semantic_type\": \"\",\n        \"description\": \"\"\n      }\n    },\n    {\n      \"column\": \"Whole weight\",\n      \"properties\": {\n        \"dtype\": \"number\",\n        \"std\": 0.4903890182309977,\n        \"min\": 0.002,\n        \"max\": 2.8255,\n        \"num_unique_values\": 2429,\n        \"samples\": [\n          1.2825,\n          1.09,\n          0.131\n        ],\n        \"semantic_type\": \"\",\n        \"description\": \"\"\n      }\n    },\n    {\n      \"column\": \"Shucked weight\",\n      \"properties\": {\n        \"dtype\": \"number\",\n        \"std\": 0.22196294903322014,\n        \"min\": 0.001,\n        \"max\": 1.488,\n        \"num_unique_values\": 1515,\n        \"samples\": [\n          0.2105,\n          0.0645,\n          0.476\n        ],\n        \"semantic_type\": \"\",\n        \"description\": \"\"\n      }\n    },\n    {\n      \"column\": \"Viscera weight\",\n      \"properties\": {\n        \"dtype\": \"number\",\n        \"std\": 0.10961425025968446,\n        \"min\": 0.0005,\n        \"max\": 0.76,\n        \"num_unique_values\": 880,\n        \"samples\": [\n          0.0645,\n          0.0095,\n          0.1115\n        ],\n        \"semantic_type\": \"\",\n        \"description\": \"\"\n      }\n    },\n    {\n      \"column\": \"Shell weight\",\n      \"properties\": {\n        \"dtype\": \"number\",\n        \"std\": 0.1392026695223861,\n        \"min\": 0.0015,\n        \"max\": 1.005,\n        \"num_unique_values\": 926,\n        \"samples\": [\n          0.3745,\n          0.2825,\n          0.49\n        ],\n        \"semantic_type\": \"\",\n        \"description\": \"\"\n      }\n    },\n    {\n      \"column\": \"Rings\",\n      \"properties\": {\n        \"dtype\": \"number\",\n        \"std\": 3,\n        \"min\": 1,\n        \"max\": 29,\n        \"num_unique_values\": 28,\n        \"samples\": [\n          11,\n          27,\n          14\n        ],\n        \"semantic_type\": \"\",\n        \"description\": \"\"\n      }\n    }\n  ]\n}"
            }
          },
          "metadata": {},
          "execution_count": 6
        }
      ]
    },
    {
      "cell_type": "code",
      "source": [
        "df.info()"
      ],
      "metadata": {
        "execution": {
          "iopub.status.busy": "2023-03-07T06:53:04.330464Z",
          "iopub.execute_input": "2023-03-07T06:53:04.330815Z",
          "iopub.status.idle": "2023-03-07T06:53:04.345352Z",
          "shell.execute_reply.started": "2023-03-07T06:53:04.330761Z",
          "shell.execute_reply": "2023-03-07T06:53:04.344451Z"
        },
        "trusted": true,
        "id": "WVoJI0AUR4jO",
        "outputId": "5cd2581f-a16d-4c8c-ee6d-8a880901be58",
        "colab": {
          "base_uri": "https://localhost:8080/"
        }
      },
      "execution_count": 7,
      "outputs": [
        {
          "output_type": "stream",
          "name": "stdout",
          "text": [
            "<class 'pandas.core.frame.DataFrame'>\n",
            "RangeIndex: 4177 entries, 0 to 4176\n",
            "Data columns (total 9 columns):\n",
            " #   Column          Non-Null Count  Dtype  \n",
            "---  ------          --------------  -----  \n",
            " 0   Sex             4177 non-null   object \n",
            " 1   Length          4177 non-null   float64\n",
            " 2   Diameter        4177 non-null   float64\n",
            " 3   Height          4177 non-null   float64\n",
            " 4   Whole weight    4177 non-null   float64\n",
            " 5   Shucked weight  4177 non-null   float64\n",
            " 6   Viscera weight  4177 non-null   float64\n",
            " 7   Shell weight    4177 non-null   float64\n",
            " 8   Rings           4177 non-null   int64  \n",
            "dtypes: float64(7), int64(1), object(1)\n",
            "memory usage: 293.8+ KB\n"
          ]
        }
      ]
    },
    {
      "cell_type": "markdown",
      "source": [
        "## Data Exploration"
      ],
      "metadata": {
        "id": "Gy66E1iJR4jP"
      }
    },
    {
      "cell_type": "markdown",
      "source": [
        "**Convert Categorical Values into Numerical Values**"
      ],
      "metadata": {
        "id": "ir1ZvIsAR4jP"
      }
    },
    {
      "cell_type": "code",
      "source": [
        "le=LabelEncoder()\n",
        "df['Sex']=le.fit_transform(df['Sex'])"
      ],
      "metadata": {
        "execution": {
          "iopub.status.busy": "2023-03-07T06:53:04.347855Z",
          "iopub.execute_input": "2023-03-07T06:53:04.348129Z",
          "iopub.status.idle": "2023-03-07T06:53:04.354739Z",
          "shell.execute_reply.started": "2023-03-07T06:53:04.348096Z",
          "shell.execute_reply": "2023-03-07T06:53:04.353677Z"
        },
        "trusted": true,
        "id": "r8tbmze9R4jP"
      },
      "execution_count": 8,
      "outputs": []
    },
    {
      "cell_type": "code",
      "source": [
        "df.info()"
      ],
      "metadata": {
        "execution": {
          "iopub.status.busy": "2023-03-07T06:53:04.356103Z",
          "iopub.execute_input": "2023-03-07T06:53:04.356406Z",
          "iopub.status.idle": "2023-03-07T06:53:04.37477Z",
          "shell.execute_reply.started": "2023-03-07T06:53:04.356374Z",
          "shell.execute_reply": "2023-03-07T06:53:04.37409Z"
        },
        "trusted": true,
        "id": "8CXXYUA5R4jP",
        "outputId": "f66e6113-5d8e-4f81-a8d1-a00741e067b3",
        "colab": {
          "base_uri": "https://localhost:8080/"
        }
      },
      "execution_count": 9,
      "outputs": [
        {
          "output_type": "stream",
          "name": "stdout",
          "text": [
            "<class 'pandas.core.frame.DataFrame'>\n",
            "RangeIndex: 4177 entries, 0 to 4176\n",
            "Data columns (total 9 columns):\n",
            " #   Column          Non-Null Count  Dtype  \n",
            "---  ------          --------------  -----  \n",
            " 0   Sex             4177 non-null   int64  \n",
            " 1   Length          4177 non-null   float64\n",
            " 2   Diameter        4177 non-null   float64\n",
            " 3   Height          4177 non-null   float64\n",
            " 4   Whole weight    4177 non-null   float64\n",
            " 5   Shucked weight  4177 non-null   float64\n",
            " 6   Viscera weight  4177 non-null   float64\n",
            " 7   Shell weight    4177 non-null   float64\n",
            " 8   Rings           4177 non-null   int64  \n",
            "dtypes: float64(7), int64(2)\n",
            "memory usage: 293.8 KB\n"
          ]
        }
      ]
    },
    {
      "cell_type": "markdown",
      "source": [
        "**Check for NaN values**"
      ],
      "metadata": {
        "id": "AZ5OrfJgR4jP"
      }
    },
    {
      "cell_type": "code",
      "source": [
        "df.isna().sum()\n",
        "df.isna().count()"
      ],
      "metadata": {
        "execution": {
          "iopub.status.busy": "2023-03-07T06:53:04.376275Z",
          "iopub.execute_input": "2023-03-07T06:53:04.376729Z",
          "iopub.status.idle": "2023-03-07T06:53:04.390095Z",
          "shell.execute_reply.started": "2023-03-07T06:53:04.376697Z",
          "shell.execute_reply": "2023-03-07T06:53:04.38931Z"
        },
        "trusted": true,
        "id": "rv4xrDeiR4jP",
        "outputId": "99106c8f-e0d4-406f-c3d2-c8fbeb842f93",
        "colab": {
          "base_uri": "https://localhost:8080/",
          "height": 366
        }
      },
      "execution_count": 10,
      "outputs": [
        {
          "output_type": "execute_result",
          "data": {
            "text/plain": [
              "Sex               4177\n",
              "Length            4177\n",
              "Diameter          4177\n",
              "Height            4177\n",
              "Whole weight      4177\n",
              "Shucked weight    4177\n",
              "Viscera weight    4177\n",
              "Shell weight      4177\n",
              "Rings             4177\n",
              "dtype: int64"
            ],
            "text/html": [
              "<div>\n",
              "<style scoped>\n",
              "    .dataframe tbody tr th:only-of-type {\n",
              "        vertical-align: middle;\n",
              "    }\n",
              "\n",
              "    .dataframe tbody tr th {\n",
              "        vertical-align: top;\n",
              "    }\n",
              "\n",
              "    .dataframe thead th {\n",
              "        text-align: right;\n",
              "    }\n",
              "</style>\n",
              "<table border=\"1\" class=\"dataframe\">\n",
              "  <thead>\n",
              "    <tr style=\"text-align: right;\">\n",
              "      <th></th>\n",
              "      <th>0</th>\n",
              "    </tr>\n",
              "  </thead>\n",
              "  <tbody>\n",
              "    <tr>\n",
              "      <th>Sex</th>\n",
              "      <td>4177</td>\n",
              "    </tr>\n",
              "    <tr>\n",
              "      <th>Length</th>\n",
              "      <td>4177</td>\n",
              "    </tr>\n",
              "    <tr>\n",
              "      <th>Diameter</th>\n",
              "      <td>4177</td>\n",
              "    </tr>\n",
              "    <tr>\n",
              "      <th>Height</th>\n",
              "      <td>4177</td>\n",
              "    </tr>\n",
              "    <tr>\n",
              "      <th>Whole weight</th>\n",
              "      <td>4177</td>\n",
              "    </tr>\n",
              "    <tr>\n",
              "      <th>Shucked weight</th>\n",
              "      <td>4177</td>\n",
              "    </tr>\n",
              "    <tr>\n",
              "      <th>Viscera weight</th>\n",
              "      <td>4177</td>\n",
              "    </tr>\n",
              "    <tr>\n",
              "      <th>Shell weight</th>\n",
              "      <td>4177</td>\n",
              "    </tr>\n",
              "    <tr>\n",
              "      <th>Rings</th>\n",
              "      <td>4177</td>\n",
              "    </tr>\n",
              "  </tbody>\n",
              "</table>\n",
              "</div><br><label><b>dtype:</b> int64</label>"
            ]
          },
          "metadata": {},
          "execution_count": 10
        }
      ]
    },
    {
      "cell_type": "code",
      "source": [
        "df['Sex']=df['Sex'].astype('float')"
      ],
      "metadata": {
        "execution": {
          "iopub.status.busy": "2023-03-07T06:53:04.391731Z",
          "iopub.execute_input": "2023-03-07T06:53:04.392029Z",
          "iopub.status.idle": "2023-03-07T06:53:04.398711Z",
          "shell.execute_reply.started": "2023-03-07T06:53:04.391989Z",
          "shell.execute_reply": "2023-03-07T06:53:04.397879Z"
        },
        "trusted": true,
        "id": "ar55CbOmR4jQ"
      },
      "execution_count": 11,
      "outputs": []
    },
    {
      "cell_type": "code",
      "source": [
        "df.info()"
      ],
      "metadata": {
        "execution": {
          "iopub.status.busy": "2023-03-07T06:53:04.402241Z",
          "iopub.execute_input": "2023-03-07T06:53:04.402485Z",
          "iopub.status.idle": "2023-03-07T06:53:04.418766Z",
          "shell.execute_reply.started": "2023-03-07T06:53:04.402442Z",
          "shell.execute_reply": "2023-03-07T06:53:04.417833Z"
        },
        "trusted": true,
        "id": "gKWnU3vZR4jQ",
        "outputId": "7b2a3bbc-3e41-481a-fbc8-45ef053c1c8a",
        "colab": {
          "base_uri": "https://localhost:8080/"
        }
      },
      "execution_count": 12,
      "outputs": [
        {
          "output_type": "stream",
          "name": "stdout",
          "text": [
            "<class 'pandas.core.frame.DataFrame'>\n",
            "RangeIndex: 4177 entries, 0 to 4176\n",
            "Data columns (total 9 columns):\n",
            " #   Column          Non-Null Count  Dtype  \n",
            "---  ------          --------------  -----  \n",
            " 0   Sex             4177 non-null   float64\n",
            " 1   Length          4177 non-null   float64\n",
            " 2   Diameter        4177 non-null   float64\n",
            " 3   Height          4177 non-null   float64\n",
            " 4   Whole weight    4177 non-null   float64\n",
            " 5   Shucked weight  4177 non-null   float64\n",
            " 6   Viscera weight  4177 non-null   float64\n",
            " 7   Shell weight    4177 non-null   float64\n",
            " 8   Rings           4177 non-null   int64  \n",
            "dtypes: float64(8), int64(1)\n",
            "memory usage: 293.8 KB\n"
          ]
        }
      ]
    },
    {
      "cell_type": "code",
      "source": [],
      "metadata": {
        "id": "IFvZEH_tR4jQ"
      },
      "execution_count": 12,
      "outputs": []
    },
    {
      "cell_type": "markdown",
      "source": [],
      "metadata": {
        "id": "isZaX2LxR4jQ"
      }
    },
    {
      "cell_type": "code",
      "source": [
        "df.describe()"
      ],
      "metadata": {
        "execution": {
          "iopub.status.busy": "2023-03-07T06:53:04.420367Z",
          "iopub.execute_input": "2023-03-07T06:53:04.420864Z",
          "iopub.status.idle": "2023-03-07T06:53:04.463091Z",
          "shell.execute_reply.started": "2023-03-07T06:53:04.42082Z",
          "shell.execute_reply": "2023-03-07T06:53:04.462214Z"
        },
        "trusted": true,
        "id": "PScJsUfSR4jQ",
        "outputId": "51636f50-aef2-4c7a-819b-50ef384c9bb1",
        "colab": {
          "base_uri": "https://localhost:8080/",
          "height": 300
        }
      },
      "execution_count": 13,
      "outputs": [
        {
          "output_type": "execute_result",
          "data": {
            "text/plain": [
              "               Sex       Length     Diameter       Height  Whole weight  \\\n",
              "count  4177.000000  4177.000000  4177.000000  4177.000000   4177.000000   \n",
              "mean      1.052909     0.523992     0.407881     0.139516      0.828742   \n",
              "std       0.822240     0.120093     0.099240     0.041827      0.490389   \n",
              "min       0.000000     0.075000     0.055000     0.000000      0.002000   \n",
              "25%       0.000000     0.450000     0.350000     0.115000      0.441500   \n",
              "50%       1.000000     0.545000     0.425000     0.140000      0.799500   \n",
              "75%       2.000000     0.615000     0.480000     0.165000      1.153000   \n",
              "max       2.000000     0.815000     0.650000     1.130000      2.825500   \n",
              "\n",
              "       Shucked weight  Viscera weight  Shell weight        Rings  \n",
              "count     4177.000000     4177.000000   4177.000000  4177.000000  \n",
              "mean         0.359367        0.180594      0.238831     9.933684  \n",
              "std          0.221963        0.109614      0.139203     3.224169  \n",
              "min          0.001000        0.000500      0.001500     1.000000  \n",
              "25%          0.186000        0.093500      0.130000     8.000000  \n",
              "50%          0.336000        0.171000      0.234000     9.000000  \n",
              "75%          0.502000        0.253000      0.329000    11.000000  \n",
              "max          1.488000        0.760000      1.005000    29.000000  "
            ],
            "text/html": [
              "\n",
              "  <div id=\"df-b7639b21-7cd1-48f3-ba25-3b570c9ed484\" class=\"colab-df-container\">\n",
              "    <div>\n",
              "<style scoped>\n",
              "    .dataframe tbody tr th:only-of-type {\n",
              "        vertical-align: middle;\n",
              "    }\n",
              "\n",
              "    .dataframe tbody tr th {\n",
              "        vertical-align: top;\n",
              "    }\n",
              "\n",
              "    .dataframe thead th {\n",
              "        text-align: right;\n",
              "    }\n",
              "</style>\n",
              "<table border=\"1\" class=\"dataframe\">\n",
              "  <thead>\n",
              "    <tr style=\"text-align: right;\">\n",
              "      <th></th>\n",
              "      <th>Sex</th>\n",
              "      <th>Length</th>\n",
              "      <th>Diameter</th>\n",
              "      <th>Height</th>\n",
              "      <th>Whole weight</th>\n",
              "      <th>Shucked weight</th>\n",
              "      <th>Viscera weight</th>\n",
              "      <th>Shell weight</th>\n",
              "      <th>Rings</th>\n",
              "    </tr>\n",
              "  </thead>\n",
              "  <tbody>\n",
              "    <tr>\n",
              "      <th>count</th>\n",
              "      <td>4177.000000</td>\n",
              "      <td>4177.000000</td>\n",
              "      <td>4177.000000</td>\n",
              "      <td>4177.000000</td>\n",
              "      <td>4177.000000</td>\n",
              "      <td>4177.000000</td>\n",
              "      <td>4177.000000</td>\n",
              "      <td>4177.000000</td>\n",
              "      <td>4177.000000</td>\n",
              "    </tr>\n",
              "    <tr>\n",
              "      <th>mean</th>\n",
              "      <td>1.052909</td>\n",
              "      <td>0.523992</td>\n",
              "      <td>0.407881</td>\n",
              "      <td>0.139516</td>\n",
              "      <td>0.828742</td>\n",
              "      <td>0.359367</td>\n",
              "      <td>0.180594</td>\n",
              "      <td>0.238831</td>\n",
              "      <td>9.933684</td>\n",
              "    </tr>\n",
              "    <tr>\n",
              "      <th>std</th>\n",
              "      <td>0.822240</td>\n",
              "      <td>0.120093</td>\n",
              "      <td>0.099240</td>\n",
              "      <td>0.041827</td>\n",
              "      <td>0.490389</td>\n",
              "      <td>0.221963</td>\n",
              "      <td>0.109614</td>\n",
              "      <td>0.139203</td>\n",
              "      <td>3.224169</td>\n",
              "    </tr>\n",
              "    <tr>\n",
              "      <th>min</th>\n",
              "      <td>0.000000</td>\n",
              "      <td>0.075000</td>\n",
              "      <td>0.055000</td>\n",
              "      <td>0.000000</td>\n",
              "      <td>0.002000</td>\n",
              "      <td>0.001000</td>\n",
              "      <td>0.000500</td>\n",
              "      <td>0.001500</td>\n",
              "      <td>1.000000</td>\n",
              "    </tr>\n",
              "    <tr>\n",
              "      <th>25%</th>\n",
              "      <td>0.000000</td>\n",
              "      <td>0.450000</td>\n",
              "      <td>0.350000</td>\n",
              "      <td>0.115000</td>\n",
              "      <td>0.441500</td>\n",
              "      <td>0.186000</td>\n",
              "      <td>0.093500</td>\n",
              "      <td>0.130000</td>\n",
              "      <td>8.000000</td>\n",
              "    </tr>\n",
              "    <tr>\n",
              "      <th>50%</th>\n",
              "      <td>1.000000</td>\n",
              "      <td>0.545000</td>\n",
              "      <td>0.425000</td>\n",
              "      <td>0.140000</td>\n",
              "      <td>0.799500</td>\n",
              "      <td>0.336000</td>\n",
              "      <td>0.171000</td>\n",
              "      <td>0.234000</td>\n",
              "      <td>9.000000</td>\n",
              "    </tr>\n",
              "    <tr>\n",
              "      <th>75%</th>\n",
              "      <td>2.000000</td>\n",
              "      <td>0.615000</td>\n",
              "      <td>0.480000</td>\n",
              "      <td>0.165000</td>\n",
              "      <td>1.153000</td>\n",
              "      <td>0.502000</td>\n",
              "      <td>0.253000</td>\n",
              "      <td>0.329000</td>\n",
              "      <td>11.000000</td>\n",
              "    </tr>\n",
              "    <tr>\n",
              "      <th>max</th>\n",
              "      <td>2.000000</td>\n",
              "      <td>0.815000</td>\n",
              "      <td>0.650000</td>\n",
              "      <td>1.130000</td>\n",
              "      <td>2.825500</td>\n",
              "      <td>1.488000</td>\n",
              "      <td>0.760000</td>\n",
              "      <td>1.005000</td>\n",
              "      <td>29.000000</td>\n",
              "    </tr>\n",
              "  </tbody>\n",
              "</table>\n",
              "</div>\n",
              "    <div class=\"colab-df-buttons\">\n",
              "\n",
              "  <div class=\"colab-df-container\">\n",
              "    <button class=\"colab-df-convert\" onclick=\"convertToInteractive('df-b7639b21-7cd1-48f3-ba25-3b570c9ed484')\"\n",
              "            title=\"Convert this dataframe to an interactive table.\"\n",
              "            style=\"display:none;\">\n",
              "\n",
              "  <svg xmlns=\"http://www.w3.org/2000/svg\" height=\"24px\" viewBox=\"0 -960 960 960\">\n",
              "    <path d=\"M120-120v-720h720v720H120Zm60-500h600v-160H180v160Zm220 220h160v-160H400v160Zm0 220h160v-160H400v160ZM180-400h160v-160H180v160Zm440 0h160v-160H620v160ZM180-180h160v-160H180v160Zm440 0h160v-160H620v160Z\"/>\n",
              "  </svg>\n",
              "    </button>\n",
              "\n",
              "  <style>\n",
              "    .colab-df-container {\n",
              "      display:flex;\n",
              "      gap: 12px;\n",
              "    }\n",
              "\n",
              "    .colab-df-convert {\n",
              "      background-color: #E8F0FE;\n",
              "      border: none;\n",
              "      border-radius: 50%;\n",
              "      cursor: pointer;\n",
              "      display: none;\n",
              "      fill: #1967D2;\n",
              "      height: 32px;\n",
              "      padding: 0 0 0 0;\n",
              "      width: 32px;\n",
              "    }\n",
              "\n",
              "    .colab-df-convert:hover {\n",
              "      background-color: #E2EBFA;\n",
              "      box-shadow: 0px 1px 2px rgba(60, 64, 67, 0.3), 0px 1px 3px 1px rgba(60, 64, 67, 0.15);\n",
              "      fill: #174EA6;\n",
              "    }\n",
              "\n",
              "    .colab-df-buttons div {\n",
              "      margin-bottom: 4px;\n",
              "    }\n",
              "\n",
              "    [theme=dark] .colab-df-convert {\n",
              "      background-color: #3B4455;\n",
              "      fill: #D2E3FC;\n",
              "    }\n",
              "\n",
              "    [theme=dark] .colab-df-convert:hover {\n",
              "      background-color: #434B5C;\n",
              "      box-shadow: 0px 1px 3px 1px rgba(0, 0, 0, 0.15);\n",
              "      filter: drop-shadow(0px 1px 2px rgba(0, 0, 0, 0.3));\n",
              "      fill: #FFFFFF;\n",
              "    }\n",
              "  </style>\n",
              "\n",
              "    <script>\n",
              "      const buttonEl =\n",
              "        document.querySelector('#df-b7639b21-7cd1-48f3-ba25-3b570c9ed484 button.colab-df-convert');\n",
              "      buttonEl.style.display =\n",
              "        google.colab.kernel.accessAllowed ? 'block' : 'none';\n",
              "\n",
              "      async function convertToInteractive(key) {\n",
              "        const element = document.querySelector('#df-b7639b21-7cd1-48f3-ba25-3b570c9ed484');\n",
              "        const dataTable =\n",
              "          await google.colab.kernel.invokeFunction('convertToInteractive',\n",
              "                                                    [key], {});\n",
              "        if (!dataTable) return;\n",
              "\n",
              "        const docLinkHtml = 'Like what you see? Visit the ' +\n",
              "          '<a target=\"_blank\" href=https://colab.research.google.com/notebooks/data_table.ipynb>data table notebook</a>'\n",
              "          + ' to learn more about interactive tables.';\n",
              "        element.innerHTML = '';\n",
              "        dataTable['output_type'] = 'display_data';\n",
              "        await google.colab.output.renderOutput(dataTable, element);\n",
              "        const docLink = document.createElement('div');\n",
              "        docLink.innerHTML = docLinkHtml;\n",
              "        element.appendChild(docLink);\n",
              "      }\n",
              "    </script>\n",
              "  </div>\n",
              "\n",
              "\n",
              "<div id=\"df-4fba1e83-b695-4394-aa3d-ff73e94bb53e\">\n",
              "  <button class=\"colab-df-quickchart\" onclick=\"quickchart('df-4fba1e83-b695-4394-aa3d-ff73e94bb53e')\"\n",
              "            title=\"Suggest charts\"\n",
              "            style=\"display:none;\">\n",
              "\n",
              "<svg xmlns=\"http://www.w3.org/2000/svg\" height=\"24px\"viewBox=\"0 0 24 24\"\n",
              "     width=\"24px\">\n",
              "    <g>\n",
              "        <path d=\"M19 3H5c-1.1 0-2 .9-2 2v14c0 1.1.9 2 2 2h14c1.1 0 2-.9 2-2V5c0-1.1-.9-2-2-2zM9 17H7v-7h2v7zm4 0h-2V7h2v10zm4 0h-2v-4h2v4z\"/>\n",
              "    </g>\n",
              "</svg>\n",
              "  </button>\n",
              "\n",
              "<style>\n",
              "  .colab-df-quickchart {\n",
              "      --bg-color: #E8F0FE;\n",
              "      --fill-color: #1967D2;\n",
              "      --hover-bg-color: #E2EBFA;\n",
              "      --hover-fill-color: #174EA6;\n",
              "      --disabled-fill-color: #AAA;\n",
              "      --disabled-bg-color: #DDD;\n",
              "  }\n",
              "\n",
              "  [theme=dark] .colab-df-quickchart {\n",
              "      --bg-color: #3B4455;\n",
              "      --fill-color: #D2E3FC;\n",
              "      --hover-bg-color: #434B5C;\n",
              "      --hover-fill-color: #FFFFFF;\n",
              "      --disabled-bg-color: #3B4455;\n",
              "      --disabled-fill-color: #666;\n",
              "  }\n",
              "\n",
              "  .colab-df-quickchart {\n",
              "    background-color: var(--bg-color);\n",
              "    border: none;\n",
              "    border-radius: 50%;\n",
              "    cursor: pointer;\n",
              "    display: none;\n",
              "    fill: var(--fill-color);\n",
              "    height: 32px;\n",
              "    padding: 0;\n",
              "    width: 32px;\n",
              "  }\n",
              "\n",
              "  .colab-df-quickchart:hover {\n",
              "    background-color: var(--hover-bg-color);\n",
              "    box-shadow: 0 1px 2px rgba(60, 64, 67, 0.3), 0 1px 3px 1px rgba(60, 64, 67, 0.15);\n",
              "    fill: var(--button-hover-fill-color);\n",
              "  }\n",
              "\n",
              "  .colab-df-quickchart-complete:disabled,\n",
              "  .colab-df-quickchart-complete:disabled:hover {\n",
              "    background-color: var(--disabled-bg-color);\n",
              "    fill: var(--disabled-fill-color);\n",
              "    box-shadow: none;\n",
              "  }\n",
              "\n",
              "  .colab-df-spinner {\n",
              "    border: 2px solid var(--fill-color);\n",
              "    border-color: transparent;\n",
              "    border-bottom-color: var(--fill-color);\n",
              "    animation:\n",
              "      spin 1s steps(1) infinite;\n",
              "  }\n",
              "\n",
              "  @keyframes spin {\n",
              "    0% {\n",
              "      border-color: transparent;\n",
              "      border-bottom-color: var(--fill-color);\n",
              "      border-left-color: var(--fill-color);\n",
              "    }\n",
              "    20% {\n",
              "      border-color: transparent;\n",
              "      border-left-color: var(--fill-color);\n",
              "      border-top-color: var(--fill-color);\n",
              "    }\n",
              "    30% {\n",
              "      border-color: transparent;\n",
              "      border-left-color: var(--fill-color);\n",
              "      border-top-color: var(--fill-color);\n",
              "      border-right-color: var(--fill-color);\n",
              "    }\n",
              "    40% {\n",
              "      border-color: transparent;\n",
              "      border-right-color: var(--fill-color);\n",
              "      border-top-color: var(--fill-color);\n",
              "    }\n",
              "    60% {\n",
              "      border-color: transparent;\n",
              "      border-right-color: var(--fill-color);\n",
              "    }\n",
              "    80% {\n",
              "      border-color: transparent;\n",
              "      border-right-color: var(--fill-color);\n",
              "      border-bottom-color: var(--fill-color);\n",
              "    }\n",
              "    90% {\n",
              "      border-color: transparent;\n",
              "      border-bottom-color: var(--fill-color);\n",
              "    }\n",
              "  }\n",
              "</style>\n",
              "\n",
              "  <script>\n",
              "    async function quickchart(key) {\n",
              "      const quickchartButtonEl =\n",
              "        document.querySelector('#' + key + ' button');\n",
              "      quickchartButtonEl.disabled = true;  // To prevent multiple clicks.\n",
              "      quickchartButtonEl.classList.add('colab-df-spinner');\n",
              "      try {\n",
              "        const charts = await google.colab.kernel.invokeFunction(\n",
              "            'suggestCharts', [key], {});\n",
              "      } catch (error) {\n",
              "        console.error('Error during call to suggestCharts:', error);\n",
              "      }\n",
              "      quickchartButtonEl.classList.remove('colab-df-spinner');\n",
              "      quickchartButtonEl.classList.add('colab-df-quickchart-complete');\n",
              "    }\n",
              "    (() => {\n",
              "      let quickchartButtonEl =\n",
              "        document.querySelector('#df-4fba1e83-b695-4394-aa3d-ff73e94bb53e button');\n",
              "      quickchartButtonEl.style.display =\n",
              "        google.colab.kernel.accessAllowed ? 'block' : 'none';\n",
              "    })();\n",
              "  </script>\n",
              "</div>\n",
              "\n",
              "    </div>\n",
              "  </div>\n"
            ],
            "application/vnd.google.colaboratory.intrinsic+json": {
              "type": "dataframe",
              "summary": "{\n  \"name\": \"df\",\n  \"rows\": 8,\n  \"fields\": [\n    {\n      \"column\": \"Sex\",\n      \"properties\": {\n        \"dtype\": \"number\",\n        \"std\": 1476.4454601064729,\n        \"min\": 0.0,\n        \"max\": 4177.0,\n        \"num_unique_values\": 6,\n        \"samples\": [\n          4177.0,\n          1.0529087862101987,\n          2.0\n        ],\n        \"semantic_type\": \"\",\n        \"description\": \"\"\n      }\n    },\n    {\n      \"column\": \"Length\",\n      \"properties\": {\n        \"dtype\": \"number\",\n        \"std\": 1476.6337327640701,\n        \"min\": 0.075,\n        \"max\": 4177.0,\n        \"num_unique_values\": 8,\n        \"samples\": [\n          0.5239920995930094,\n          0.545,\n          4177.0\n        ],\n        \"semantic_type\": \"\",\n        \"description\": \"\"\n      }\n    },\n    {\n      \"column\": \"Diameter\",\n      \"properties\": {\n        \"dtype\": \"number\",\n        \"std\": 1476.6679169284005,\n        \"min\": 0.055,\n        \"max\": 4177.0,\n        \"num_unique_values\": 8,\n        \"samples\": [\n          0.40788125448886764,\n          0.425,\n          4177.0\n        ],\n        \"semantic_type\": \"\",\n        \"description\": \"\"\n      }\n    },\n    {\n      \"column\": \"Height\",\n      \"properties\": {\n        \"dtype\": \"number\",\n        \"std\": 1476.705111439784,\n        \"min\": 0.0,\n        \"max\": 4177.0,\n        \"num_unique_values\": 8,\n        \"samples\": [\n          0.13951639932966242,\n          0.14,\n          4177.0\n        ],\n        \"semantic_type\": \"\",\n        \"description\": \"\"\n      }\n    },\n    {\n      \"column\": \"Whole weight\",\n      \"properties\": {\n        \"dtype\": \"number\",\n        \"std\": 1476.4624008415421,\n        \"min\": 0.002,\n        \"max\": 4177.0,\n        \"num_unique_values\": 8,\n        \"samples\": [\n          0.8287421594445774,\n          0.7995,\n          4177.0\n        ],\n        \"semantic_type\": \"\",\n        \"description\": \"\"\n      }\n    },\n    {\n      \"column\": \"Shucked weight\",\n      \"properties\": {\n        \"dtype\": \"number\",\n        \"std\": 1476.6362941125883,\n        \"min\": 0.001,\n        \"max\": 4177.0,\n        \"num_unique_values\": 8,\n        \"samples\": [\n          0.35936748862820206,\n          0.336,\n          4177.0\n        ],\n        \"semantic_type\": \"\",\n        \"description\": \"\"\n      }\n    },\n    {\n      \"column\": \"Viscera weight\",\n      \"properties\": {\n        \"dtype\": \"number\",\n        \"std\": 1476.7133240871924,\n        \"min\": 0.0005,\n        \"max\": 4177.0,\n        \"num_unique_values\": 8,\n        \"samples\": [\n          0.1805936078525257,\n          0.171,\n          4177.0\n        ],\n        \"semantic_type\": \"\",\n        \"description\": \"\"\n      }\n    },\n    {\n      \"column\": \"Shell weight\",\n      \"properties\": {\n        \"dtype\": \"number\",\n        \"std\": 1476.6876126479815,\n        \"min\": 0.0015,\n        \"max\": 4177.0,\n        \"num_unique_values\": 8,\n        \"samples\": [\n          0.23883085946851804,\n          0.234,\n          4177.0\n        ],\n        \"semantic_type\": \"\",\n        \"description\": \"\"\n      }\n    },\n    {\n      \"column\": \"Rings\",\n      \"properties\": {\n        \"dtype\": \"number\",\n        \"std\": 1473.222436401964,\n        \"min\": 1.0,\n        \"max\": 4177.0,\n        \"num_unique_values\": 8,\n        \"samples\": [\n          9.933684462532918,\n          9.0,\n          4177.0\n        ],\n        \"semantic_type\": \"\",\n        \"description\": \"\"\n      }\n    }\n  ]\n}"
            }
          },
          "metadata": {},
          "execution_count": 13
        }
      ]
    },
    {
      "cell_type": "markdown",
      "source": [
        "**Correlation between Input Variables**"
      ],
      "metadata": {
        "id": "EYMgjZKCR4jQ"
      }
    },
    {
      "cell_type": "code",
      "source": [
        "df.corr()"
      ],
      "metadata": {
        "execution": {
          "iopub.status.busy": "2023-03-07T06:53:04.466495Z",
          "iopub.execute_input": "2023-03-07T06:53:04.466978Z",
          "iopub.status.idle": "2023-03-07T06:53:04.487265Z",
          "shell.execute_reply.started": "2023-03-07T06:53:04.466929Z",
          "shell.execute_reply": "2023-03-07T06:53:04.486408Z"
        },
        "trusted": true,
        "id": "_ETMhsQCR4jQ",
        "outputId": "543b977d-1e45-43b3-db1d-8ece81ab0ca3",
        "colab": {
          "base_uri": "https://localhost:8080/",
          "height": 331
        }
      },
      "execution_count": 14,
      "outputs": [
        {
          "output_type": "execute_result",
          "data": {
            "text/plain": [
              "                     Sex    Length  Diameter    Height  Whole weight  \\\n",
              "Sex             1.000000 -0.036066 -0.038874 -0.042077     -0.021391   \n",
              "Length         -0.036066  1.000000  0.986812  0.827554      0.925261   \n",
              "Diameter       -0.038874  0.986812  1.000000  0.833684      0.925452   \n",
              "Height         -0.042077  0.827554  0.833684  1.000000      0.819221   \n",
              "Whole weight   -0.021391  0.925261  0.925452  0.819221      1.000000   \n",
              "Shucked weight -0.001373  0.897914  0.893162  0.774972      0.969405   \n",
              "Viscera weight -0.032067  0.903018  0.899724  0.798319      0.966375   \n",
              "Shell weight   -0.034854  0.897706  0.905330  0.817338      0.955355   \n",
              "Rings          -0.034627  0.556720  0.574660  0.557467      0.540390   \n",
              "\n",
              "                Shucked weight  Viscera weight  Shell weight     Rings  \n",
              "Sex                  -0.001373       -0.032067     -0.034854 -0.034627  \n",
              "Length                0.897914        0.903018      0.897706  0.556720  \n",
              "Diameter              0.893162        0.899724      0.905330  0.574660  \n",
              "Height                0.774972        0.798319      0.817338  0.557467  \n",
              "Whole weight          0.969405        0.966375      0.955355  0.540390  \n",
              "Shucked weight        1.000000        0.931961      0.882617  0.420884  \n",
              "Viscera weight        0.931961        1.000000      0.907656  0.503819  \n",
              "Shell weight          0.882617        0.907656      1.000000  0.627574  \n",
              "Rings                 0.420884        0.503819      0.627574  1.000000  "
            ],
            "text/html": [
              "\n",
              "  <div id=\"df-68381a08-f40c-468b-9b61-cffd10fe0f49\" class=\"colab-df-container\">\n",
              "    <div>\n",
              "<style scoped>\n",
              "    .dataframe tbody tr th:only-of-type {\n",
              "        vertical-align: middle;\n",
              "    }\n",
              "\n",
              "    .dataframe tbody tr th {\n",
              "        vertical-align: top;\n",
              "    }\n",
              "\n",
              "    .dataframe thead th {\n",
              "        text-align: right;\n",
              "    }\n",
              "</style>\n",
              "<table border=\"1\" class=\"dataframe\">\n",
              "  <thead>\n",
              "    <tr style=\"text-align: right;\">\n",
              "      <th></th>\n",
              "      <th>Sex</th>\n",
              "      <th>Length</th>\n",
              "      <th>Diameter</th>\n",
              "      <th>Height</th>\n",
              "      <th>Whole weight</th>\n",
              "      <th>Shucked weight</th>\n",
              "      <th>Viscera weight</th>\n",
              "      <th>Shell weight</th>\n",
              "      <th>Rings</th>\n",
              "    </tr>\n",
              "  </thead>\n",
              "  <tbody>\n",
              "    <tr>\n",
              "      <th>Sex</th>\n",
              "      <td>1.000000</td>\n",
              "      <td>-0.036066</td>\n",
              "      <td>-0.038874</td>\n",
              "      <td>-0.042077</td>\n",
              "      <td>-0.021391</td>\n",
              "      <td>-0.001373</td>\n",
              "      <td>-0.032067</td>\n",
              "      <td>-0.034854</td>\n",
              "      <td>-0.034627</td>\n",
              "    </tr>\n",
              "    <tr>\n",
              "      <th>Length</th>\n",
              "      <td>-0.036066</td>\n",
              "      <td>1.000000</td>\n",
              "      <td>0.986812</td>\n",
              "      <td>0.827554</td>\n",
              "      <td>0.925261</td>\n",
              "      <td>0.897914</td>\n",
              "      <td>0.903018</td>\n",
              "      <td>0.897706</td>\n",
              "      <td>0.556720</td>\n",
              "    </tr>\n",
              "    <tr>\n",
              "      <th>Diameter</th>\n",
              "      <td>-0.038874</td>\n",
              "      <td>0.986812</td>\n",
              "      <td>1.000000</td>\n",
              "      <td>0.833684</td>\n",
              "      <td>0.925452</td>\n",
              "      <td>0.893162</td>\n",
              "      <td>0.899724</td>\n",
              "      <td>0.905330</td>\n",
              "      <td>0.574660</td>\n",
              "    </tr>\n",
              "    <tr>\n",
              "      <th>Height</th>\n",
              "      <td>-0.042077</td>\n",
              "      <td>0.827554</td>\n",
              "      <td>0.833684</td>\n",
              "      <td>1.000000</td>\n",
              "      <td>0.819221</td>\n",
              "      <td>0.774972</td>\n",
              "      <td>0.798319</td>\n",
              "      <td>0.817338</td>\n",
              "      <td>0.557467</td>\n",
              "    </tr>\n",
              "    <tr>\n",
              "      <th>Whole weight</th>\n",
              "      <td>-0.021391</td>\n",
              "      <td>0.925261</td>\n",
              "      <td>0.925452</td>\n",
              "      <td>0.819221</td>\n",
              "      <td>1.000000</td>\n",
              "      <td>0.969405</td>\n",
              "      <td>0.966375</td>\n",
              "      <td>0.955355</td>\n",
              "      <td>0.540390</td>\n",
              "    </tr>\n",
              "    <tr>\n",
              "      <th>Shucked weight</th>\n",
              "      <td>-0.001373</td>\n",
              "      <td>0.897914</td>\n",
              "      <td>0.893162</td>\n",
              "      <td>0.774972</td>\n",
              "      <td>0.969405</td>\n",
              "      <td>1.000000</td>\n",
              "      <td>0.931961</td>\n",
              "      <td>0.882617</td>\n",
              "      <td>0.420884</td>\n",
              "    </tr>\n",
              "    <tr>\n",
              "      <th>Viscera weight</th>\n",
              "      <td>-0.032067</td>\n",
              "      <td>0.903018</td>\n",
              "      <td>0.899724</td>\n",
              "      <td>0.798319</td>\n",
              "      <td>0.966375</td>\n",
              "      <td>0.931961</td>\n",
              "      <td>1.000000</td>\n",
              "      <td>0.907656</td>\n",
              "      <td>0.503819</td>\n",
              "    </tr>\n",
              "    <tr>\n",
              "      <th>Shell weight</th>\n",
              "      <td>-0.034854</td>\n",
              "      <td>0.897706</td>\n",
              "      <td>0.905330</td>\n",
              "      <td>0.817338</td>\n",
              "      <td>0.955355</td>\n",
              "      <td>0.882617</td>\n",
              "      <td>0.907656</td>\n",
              "      <td>1.000000</td>\n",
              "      <td>0.627574</td>\n",
              "    </tr>\n",
              "    <tr>\n",
              "      <th>Rings</th>\n",
              "      <td>-0.034627</td>\n",
              "      <td>0.556720</td>\n",
              "      <td>0.574660</td>\n",
              "      <td>0.557467</td>\n",
              "      <td>0.540390</td>\n",
              "      <td>0.420884</td>\n",
              "      <td>0.503819</td>\n",
              "      <td>0.627574</td>\n",
              "      <td>1.000000</td>\n",
              "    </tr>\n",
              "  </tbody>\n",
              "</table>\n",
              "</div>\n",
              "    <div class=\"colab-df-buttons\">\n",
              "\n",
              "  <div class=\"colab-df-container\">\n",
              "    <button class=\"colab-df-convert\" onclick=\"convertToInteractive('df-68381a08-f40c-468b-9b61-cffd10fe0f49')\"\n",
              "            title=\"Convert this dataframe to an interactive table.\"\n",
              "            style=\"display:none;\">\n",
              "\n",
              "  <svg xmlns=\"http://www.w3.org/2000/svg\" height=\"24px\" viewBox=\"0 -960 960 960\">\n",
              "    <path d=\"M120-120v-720h720v720H120Zm60-500h600v-160H180v160Zm220 220h160v-160H400v160Zm0 220h160v-160H400v160ZM180-400h160v-160H180v160Zm440 0h160v-160H620v160ZM180-180h160v-160H180v160Zm440 0h160v-160H620v160Z\"/>\n",
              "  </svg>\n",
              "    </button>\n",
              "\n",
              "  <style>\n",
              "    .colab-df-container {\n",
              "      display:flex;\n",
              "      gap: 12px;\n",
              "    }\n",
              "\n",
              "    .colab-df-convert {\n",
              "      background-color: #E8F0FE;\n",
              "      border: none;\n",
              "      border-radius: 50%;\n",
              "      cursor: pointer;\n",
              "      display: none;\n",
              "      fill: #1967D2;\n",
              "      height: 32px;\n",
              "      padding: 0 0 0 0;\n",
              "      width: 32px;\n",
              "    }\n",
              "\n",
              "    .colab-df-convert:hover {\n",
              "      background-color: #E2EBFA;\n",
              "      box-shadow: 0px 1px 2px rgba(60, 64, 67, 0.3), 0px 1px 3px 1px rgba(60, 64, 67, 0.15);\n",
              "      fill: #174EA6;\n",
              "    }\n",
              "\n",
              "    .colab-df-buttons div {\n",
              "      margin-bottom: 4px;\n",
              "    }\n",
              "\n",
              "    [theme=dark] .colab-df-convert {\n",
              "      background-color: #3B4455;\n",
              "      fill: #D2E3FC;\n",
              "    }\n",
              "\n",
              "    [theme=dark] .colab-df-convert:hover {\n",
              "      background-color: #434B5C;\n",
              "      box-shadow: 0px 1px 3px 1px rgba(0, 0, 0, 0.15);\n",
              "      filter: drop-shadow(0px 1px 2px rgba(0, 0, 0, 0.3));\n",
              "      fill: #FFFFFF;\n",
              "    }\n",
              "  </style>\n",
              "\n",
              "    <script>\n",
              "      const buttonEl =\n",
              "        document.querySelector('#df-68381a08-f40c-468b-9b61-cffd10fe0f49 button.colab-df-convert');\n",
              "      buttonEl.style.display =\n",
              "        google.colab.kernel.accessAllowed ? 'block' : 'none';\n",
              "\n",
              "      async function convertToInteractive(key) {\n",
              "        const element = document.querySelector('#df-68381a08-f40c-468b-9b61-cffd10fe0f49');\n",
              "        const dataTable =\n",
              "          await google.colab.kernel.invokeFunction('convertToInteractive',\n",
              "                                                    [key], {});\n",
              "        if (!dataTable) return;\n",
              "\n",
              "        const docLinkHtml = 'Like what you see? Visit the ' +\n",
              "          '<a target=\"_blank\" href=https://colab.research.google.com/notebooks/data_table.ipynb>data table notebook</a>'\n",
              "          + ' to learn more about interactive tables.';\n",
              "        element.innerHTML = '';\n",
              "        dataTable['output_type'] = 'display_data';\n",
              "        await google.colab.output.renderOutput(dataTable, element);\n",
              "        const docLink = document.createElement('div');\n",
              "        docLink.innerHTML = docLinkHtml;\n",
              "        element.appendChild(docLink);\n",
              "      }\n",
              "    </script>\n",
              "  </div>\n",
              "\n",
              "\n",
              "<div id=\"df-e51eff36-2f5d-4a77-988b-714dbca7b09f\">\n",
              "  <button class=\"colab-df-quickchart\" onclick=\"quickchart('df-e51eff36-2f5d-4a77-988b-714dbca7b09f')\"\n",
              "            title=\"Suggest charts\"\n",
              "            style=\"display:none;\">\n",
              "\n",
              "<svg xmlns=\"http://www.w3.org/2000/svg\" height=\"24px\"viewBox=\"0 0 24 24\"\n",
              "     width=\"24px\">\n",
              "    <g>\n",
              "        <path d=\"M19 3H5c-1.1 0-2 .9-2 2v14c0 1.1.9 2 2 2h14c1.1 0 2-.9 2-2V5c0-1.1-.9-2-2-2zM9 17H7v-7h2v7zm4 0h-2V7h2v10zm4 0h-2v-4h2v4z\"/>\n",
              "    </g>\n",
              "</svg>\n",
              "  </button>\n",
              "\n",
              "<style>\n",
              "  .colab-df-quickchart {\n",
              "      --bg-color: #E8F0FE;\n",
              "      --fill-color: #1967D2;\n",
              "      --hover-bg-color: #E2EBFA;\n",
              "      --hover-fill-color: #174EA6;\n",
              "      --disabled-fill-color: #AAA;\n",
              "      --disabled-bg-color: #DDD;\n",
              "  }\n",
              "\n",
              "  [theme=dark] .colab-df-quickchart {\n",
              "      --bg-color: #3B4455;\n",
              "      --fill-color: #D2E3FC;\n",
              "      --hover-bg-color: #434B5C;\n",
              "      --hover-fill-color: #FFFFFF;\n",
              "      --disabled-bg-color: #3B4455;\n",
              "      --disabled-fill-color: #666;\n",
              "  }\n",
              "\n",
              "  .colab-df-quickchart {\n",
              "    background-color: var(--bg-color);\n",
              "    border: none;\n",
              "    border-radius: 50%;\n",
              "    cursor: pointer;\n",
              "    display: none;\n",
              "    fill: var(--fill-color);\n",
              "    height: 32px;\n",
              "    padding: 0;\n",
              "    width: 32px;\n",
              "  }\n",
              "\n",
              "  .colab-df-quickchart:hover {\n",
              "    background-color: var(--hover-bg-color);\n",
              "    box-shadow: 0 1px 2px rgba(60, 64, 67, 0.3), 0 1px 3px 1px rgba(60, 64, 67, 0.15);\n",
              "    fill: var(--button-hover-fill-color);\n",
              "  }\n",
              "\n",
              "  .colab-df-quickchart-complete:disabled,\n",
              "  .colab-df-quickchart-complete:disabled:hover {\n",
              "    background-color: var(--disabled-bg-color);\n",
              "    fill: var(--disabled-fill-color);\n",
              "    box-shadow: none;\n",
              "  }\n",
              "\n",
              "  .colab-df-spinner {\n",
              "    border: 2px solid var(--fill-color);\n",
              "    border-color: transparent;\n",
              "    border-bottom-color: var(--fill-color);\n",
              "    animation:\n",
              "      spin 1s steps(1) infinite;\n",
              "  }\n",
              "\n",
              "  @keyframes spin {\n",
              "    0% {\n",
              "      border-color: transparent;\n",
              "      border-bottom-color: var(--fill-color);\n",
              "      border-left-color: var(--fill-color);\n",
              "    }\n",
              "    20% {\n",
              "      border-color: transparent;\n",
              "      border-left-color: var(--fill-color);\n",
              "      border-top-color: var(--fill-color);\n",
              "    }\n",
              "    30% {\n",
              "      border-color: transparent;\n",
              "      border-left-color: var(--fill-color);\n",
              "      border-top-color: var(--fill-color);\n",
              "      border-right-color: var(--fill-color);\n",
              "    }\n",
              "    40% {\n",
              "      border-color: transparent;\n",
              "      border-right-color: var(--fill-color);\n",
              "      border-top-color: var(--fill-color);\n",
              "    }\n",
              "    60% {\n",
              "      border-color: transparent;\n",
              "      border-right-color: var(--fill-color);\n",
              "    }\n",
              "    80% {\n",
              "      border-color: transparent;\n",
              "      border-right-color: var(--fill-color);\n",
              "      border-bottom-color: var(--fill-color);\n",
              "    }\n",
              "    90% {\n",
              "      border-color: transparent;\n",
              "      border-bottom-color: var(--fill-color);\n",
              "    }\n",
              "  }\n",
              "</style>\n",
              "\n",
              "  <script>\n",
              "    async function quickchart(key) {\n",
              "      const quickchartButtonEl =\n",
              "        document.querySelector('#' + key + ' button');\n",
              "      quickchartButtonEl.disabled = true;  // To prevent multiple clicks.\n",
              "      quickchartButtonEl.classList.add('colab-df-spinner');\n",
              "      try {\n",
              "        const charts = await google.colab.kernel.invokeFunction(\n",
              "            'suggestCharts', [key], {});\n",
              "      } catch (error) {\n",
              "        console.error('Error during call to suggestCharts:', error);\n",
              "      }\n",
              "      quickchartButtonEl.classList.remove('colab-df-spinner');\n",
              "      quickchartButtonEl.classList.add('colab-df-quickchart-complete');\n",
              "    }\n",
              "    (() => {\n",
              "      let quickchartButtonEl =\n",
              "        document.querySelector('#df-e51eff36-2f5d-4a77-988b-714dbca7b09f button');\n",
              "      quickchartButtonEl.style.display =\n",
              "        google.colab.kernel.accessAllowed ? 'block' : 'none';\n",
              "    })();\n",
              "  </script>\n",
              "</div>\n",
              "\n",
              "    </div>\n",
              "  </div>\n"
            ],
            "application/vnd.google.colaboratory.intrinsic+json": {
              "type": "dataframe",
              "summary": "{\n  \"name\": \"df\",\n  \"rows\": 9,\n  \"fields\": [\n    {\n      \"column\": \"Sex\",\n      \"properties\": {\n        \"dtype\": \"number\",\n        \"std\": 0.34360780542843783,\n        \"min\": -0.04207701376615057,\n        \"max\": 1.0,\n        \"num_unique_values\": 9,\n        \"samples\": [\n          -0.034854448558414144,\n          -0.03606617677382196,\n          -0.001372717407463586\n        ],\n        \"semantic_type\": \"\",\n        \"description\": \"\"\n      }\n    },\n    {\n      \"column\": \"Length\",\n      \"properties\": {\n        \"dtype\": \"number\",\n        \"std\": 0.33030825550083703,\n        \"min\": -0.03606617677382196,\n        \"max\": 1.0,\n        \"num_unique_values\": 9,\n        \"samples\": [\n          0.8977055691879205,\n          1.0,\n          0.8979136582496655\n        ],\n        \"semantic_type\": \"\",\n        \"description\": \"\"\n      }\n    },\n    {\n      \"column\": \"Diameter\",\n      \"properties\": {\n        \"dtype\": \"number\",\n        \"std\": 0.32988600558700987,\n        \"min\": -0.038874435726919884,\n        \"max\": 1.0,\n        \"num_unique_values\": 9,\n        \"samples\": [\n          0.905329781213082,\n          0.9868115846025,\n          0.8931624751432796\n        ],\n        \"semantic_type\": \"\",\n        \"description\": \"\"\n      }\n    },\n    {\n      \"column\": \"Height\",\n      \"properties\": {\n        \"dtype\": \"number\",\n        \"std\": 0.3036390750076056,\n        \"min\": -0.04207701376615057,\n        \"max\": 1.0,\n        \"num_unique_values\": 9,\n        \"samples\": [\n          0.8173380147032083,\n          0.8275536093192142,\n          0.7749722929028299\n        ],\n        \"semantic_type\": \"\",\n        \"description\": \"\"\n      }\n    },\n    {\n      \"column\": \"Whole weight\",\n      \"properties\": {\n        \"dtype\": \"number\",\n        \"std\": 0.3340649790573093,\n        \"min\": -0.02139133268693968,\n        \"max\": 1.0,\n        \"num_unique_values\": 9,\n        \"samples\": [\n          0.9553554421763288,\n          0.9252611721489467,\n          0.969405456703434\n        ],\n        \"semantic_type\": \"\",\n        \"description\": \"\"\n      }\n    },\n    {\n      \"column\": \"Shucked weight\",\n      \"properties\": {\n        \"dtype\": \"number\",\n        \"std\": 0.33112867803363655,\n        \"min\": -0.001372717407463586,\n        \"max\": 1.0,\n        \"num_unique_values\": 9,\n        \"samples\": [\n          0.88261706017464,\n          0.8979136582496655,\n          1.0\n        ],\n        \"semantic_type\": \"\",\n        \"description\": \"\"\n      }\n    },\n    {\n      \"column\": \"Viscera weight\",\n      \"properties\": {\n        \"dtype\": \"number\",\n        \"std\": 0.3327611209204745,\n        \"min\": -0.03206651040853545,\n        \"max\": 1.0,\n        \"num_unique_values\": 9,\n        \"samples\": [\n          0.9076563206965705,\n          0.9030176990077563,\n          0.9319613217425567\n        ],\n        \"semantic_type\": \"\",\n        \"description\": \"\"\n      }\n    },\n    {\n      \"column\": \"Shell weight\",\n      \"properties\": {\n        \"dtype\": \"number\",\n        \"std\": 0.3208847983698195,\n        \"min\": -0.034854448558414144,\n        \"max\": 1.0,\n        \"num_unique_values\": 9,\n        \"samples\": [\n          1.0,\n          0.8977055691879205,\n          0.88261706017464\n        ],\n        \"semantic_type\": \"\",\n        \"description\": \"\"\n      }\n    },\n    {\n      \"column\": \"Rings\",\n      \"properties\": {\n        \"dtype\": \"number\",\n        \"std\": 0.26583062255180817,\n        \"min\": -0.034626760241362846,\n        \"max\": 1.0,\n        \"num_unique_values\": 9,\n        \"samples\": [\n          0.6275740445103175,\n          0.5567195769296182,\n          0.4208836579452148\n        ],\n        \"semantic_type\": \"\",\n        \"description\": \"\"\n      }\n    }\n  ]\n}"
            }
          },
          "metadata": {},
          "execution_count": 14
        }
      ]
    },
    {
      "cell_type": "markdown",
      "source": [
        "## Exploratory Data Analysis"
      ],
      "metadata": {
        "id": "QbvM3VJIR4jQ"
      }
    },
    {
      "cell_type": "code",
      "source": [
        "fig = px.scatter(df, x='Length', y='Rings',\n",
        "                 color='Sex',\n",
        "                 title='Relationship between Abalone Age and Length',\n",
        "                 labels={'Length': 'Length (mm)', 'Rings': 'Age (years)'})\n",
        "\n",
        "fig.show()"
      ],
      "metadata": {
        "execution": {
          "iopub.status.busy": "2023-03-07T06:53:04.488552Z",
          "iopub.execute_input": "2023-03-07T06:53:04.48879Z",
          "iopub.status.idle": "2023-03-07T06:53:05.477366Z",
          "shell.execute_reply.started": "2023-03-07T06:53:04.48876Z",
          "shell.execute_reply": "2023-03-07T06:53:05.47672Z"
        },
        "trusted": true,
        "id": "nIEkvTWHR4jQ",
        "outputId": "83125f40-e0d3-4ae1-8294-89e7f9fcfeac",
        "colab": {
          "base_uri": "https://localhost:8080/",
          "height": 542
        }
      },
      "execution_count": 15,
      "outputs": [
        {
          "output_type": "display_data",
          "data": {
            "text/html": [
              "<html>\n",
              "<head><meta charset=\"utf-8\" /></head>\n",
              "<body>\n",
              "    <div>            <script src=\"https://cdnjs.cloudflare.com/ajax/libs/mathjax/2.7.5/MathJax.js?config=TeX-AMS-MML_SVG\"></script><script type=\"text/javascript\">if (window.MathJax && window.MathJax.Hub && window.MathJax.Hub.Config) {window.MathJax.Hub.Config({SVG: {font: \"STIX-Web\"}});}</script>                <script type=\"text/javascript\">window.PlotlyConfig = {MathJaxConfig: 'local'};</script>\n",
              "        <script charset=\"utf-8\" src=\"https://cdn.plot.ly/plotly-2.24.1.min.js\"></script>                <div id=\"8851c996-6b62-418b-9d08-222d47d7430e\" class=\"plotly-graph-div\" style=\"height:525px; width:100%;\"></div>            <script type=\"text/javascript\">                                    window.PLOTLYENV=window.PLOTLYENV || {};                                    if (document.getElementById(\"8851c996-6b62-418b-9d08-222d47d7430e\")) {                    Plotly.newPlot(                        \"8851c996-6b62-418b-9d08-222d47d7430e\",                        [{\"hovertemplate\":\"Length (mm)=%{x}\\u003cbr\\u003eAge (years)=%{y}\\u003cbr\\u003eSex=%{marker.color}\\u003cextra\\u003e\\u003c\\u002fextra\\u003e\",\"legendgroup\":\"\",\"marker\":{\"color\":[2.0,2.0,0.0,2.0,1.0,1.0,0.0,0.0,2.0,0.0,0.0,2.0,2.0,0.0,0.0,2.0,1.0,0.0,2.0,2.0,2.0,1.0,0.0,0.0,0.0,0.0,0.0,2.0,2.0,2.0,2.0,0.0,2.0,0.0,0.0,2.0,0.0,0.0,0.0,2.0,0.0,0.0,1.0,1.0,1.0,1.0,2.0,0.0,1.0,0.0,1.0,2.0,2.0,0.0,2.0,0.0,2.0,2.0,1.0,0.0,2.0,2.0,0.0,2.0,2.0,2.0,0.0,0.0,0.0,1.0,2.0,0.0,0.0,2.0,0.0,0.0,2.0,0.0,0.0,0.0,0.0,2.0,0.0,2.0,2.0,0.0,2.0,2.0,0.0,0.0,2.0,2.0,2.0,0.0,2.0,2.0,2.0,2.0,2.0,0.0,1.0,2.0,2.0,2.0,2.0,0.0,0.0,0.0,0.0,0.0,2.0,2.0,1.0,2.0,0.0,0.0,0.0,2.0,0.0,2.0,0.0,1.0,0.0,2.0,1.0,1.0,1.0,1.0,2.0,2.0,2.0,0.0,0.0,1.0,1.0,0.0,0.0,2.0,0.0,2.0,0.0,0.0,2.0,2.0,2.0,0.0,2.0,1.0,1.0,1.0,2.0,0.0,0.0,0.0,0.0,2.0,0.0,2.0,0.0,0.0,2.0,0.0,2.0,0.0,0.0,2.0,0.0,0.0,2.0,0.0,2.0,0.0,2.0,0.0,1.0,1.0,1.0,1.0,1.0,2.0,2.0,2.0,0.0,0.0,0.0,2.0,0.0,0.0,0.0,0.0,2.0,2.0,2.0,1.0,0.0,2.0,0.0,2.0,2.0,2.0,0.0,2.0,0.0,0.0,2.0,0.0,1.0,1.0,0.0,1.0,0.0,2.0,0.0,2.0,0.0,2.0,2.0,1.0,2.0,0.0,0.0,0.0,0.0,0.0,1.0,0.0,0.0,1.0,0.0,0.0,2.0,2.0,2.0,1.0,1.0,1.0,1.0,1.0,1.0,1.0,2.0,1.0,1.0,1.0,1.0,1.0,1.0,1.0,1.0,1.0,1.0,2.0,0.0,0.0,2.0,2.0,2.0,2.0,0.0,0.0,0.0,0.0,2.0,1.0,2.0,0.0,2.0,2.0,2.0,0.0,0.0,2.0,2.0,2.0,2.0,2.0,0.0,2.0,2.0,0.0,0.0,1.0,0.0,2.0,2.0,0.0,2.0,0.0,2.0,0.0,2.0,0.0,2.0,0.0,2.0,1.0,1.0,1.0,2.0,2.0,0.0,0.0,2.0,2.0,0.0,1.0,1.0,2.0,2.0,2.0,0.0,2.0,2.0,0.0,2.0,1.0,0.0,2.0,0.0,1.0,1.0,1.0,2.0,1.0,2.0,1.0,1.0,2.0,2.0,1.0,2.0,0.0,1.0,1.0,0.0,2.0,2.0,2.0,2.0,0.0,2.0,0.0,2.0,0.0,0.0,2.0,0.0,1.0,1.0,2.0,0.0,0.0,2.0,2.0,2.0,2.0,2.0,0.0,2.0,0.0,2.0,0.0,0.0,0.0,0.0,2.0,2.0,0.0,2.0,0.0,0.0,0.0,0.0,0.0,2.0,0.0,2.0,0.0,2.0,0.0,2.0,2.0,2.0,2.0,2.0,0.0,2.0,2.0,2.0,1.0,1.0,2.0,0.0,1.0,1.0,1.0,0.0,2.0,2.0,2.0,0.0,2.0,0.0,0.0,1.0,0.0,2.0,2.0,2.0,2.0,2.0,2.0,0.0,2.0,0.0,0.0,0.0,2.0,0.0,2.0,0.0,1.0,0.0,1.0,1.0,2.0,0.0,2.0,0.0,0.0,0.0,2.0,2.0,2.0,1.0,2.0,1.0,1.0,2.0,2.0,1.0,1.0,0.0,1.0,0.0,0.0,2.0,2.0,2.0,0.0,2.0,0.0,0.0,0.0,0.0,2.0,0.0,1.0,1.0,0.0,2.0,0.0,1.0,1.0,1.0,1.0,0.0,2.0,0.0,2.0,0.0,0.0,1.0,0.0,0.0,2.0,0.0,2.0,2.0,2.0,0.0,2.0,2.0,0.0,2.0,0.0,2.0,0.0,2.0,0.0,2.0,2.0,0.0,2.0,2.0,0.0,0.0,0.0,0.0,2.0,0.0,0.0,0.0,0.0,0.0,2.0,2.0,2.0,2.0,1.0,1.0,0.0,0.0,2.0,0.0,2.0,2.0,2.0,2.0,0.0,2.0,0.0,1.0,2.0,2.0,2.0,2.0,0.0,0.0,2.0,1.0,0.0,1.0,0.0,1.0,1.0,1.0,2.0,2.0,0.0,0.0,0.0,2.0,2.0,0.0,2.0,2.0,2.0,0.0,1.0,1.0,1.0,1.0,1.0,1.0,1.0,1.0,0.0,0.0,1.0,0.0,1.0,0.0,0.0,0.0,2.0,1.0,1.0,2.0,0.0,1.0,1.0,0.0,0.0,1.0,0.0,1.0,0.0,1.0,0.0,0.0,1.0,0.0,1.0,0.0,1.0,1.0,0.0,2.0,0.0,1.0,0.0,1.0,0.0,2.0,1.0,0.0,1.0,1.0,0.0,1.0,0.0,0.0,1.0,1.0,1.0,2.0,1.0,2.0,2.0,0.0,2.0,2.0,1.0,1.0,2.0,0.0,2.0,2.0,2.0,2.0,1.0,0.0,0.0,1.0,0.0,0.0,0.0,1.0,2.0,1.0,0.0,2.0,1.0,2.0,2.0,2.0,2.0,1.0,0.0,2.0,1.0,0.0,2.0,2.0,1.0,2.0,2.0,1.0,0.0,2.0,1.0,1.0,2.0,0.0,2.0,0.0,0.0,1.0,0.0,1.0,1.0,0.0,0.0,1.0,0.0,2.0,0.0,2.0,0.0,2.0,0.0,0.0,2.0,0.0,0.0,2.0,0.0,0.0,0.0,1.0,2.0,0.0,2.0,2.0,2.0,0.0,0.0,2.0,2.0,2.0,1.0,0.0,2.0,1.0,1.0,1.0,2.0,0.0,0.0,2.0,0.0,0.0,2.0,2.0,2.0,2.0,0.0,2.0,1.0,1.0,2.0,1.0,2.0,2.0,1.0,1.0,1.0,1.0,1.0,1.0,2.0,2.0,2.0,2.0,0.0,2.0,0.0,2.0,0.0,2.0,2.0,2.0,2.0,2.0,2.0,2.0,0.0,2.0,2.0,2.0,0.0,0.0,0.0,2.0,0.0,0.0,2.0,2.0,2.0,0.0,2.0,0.0,0.0,2.0,2.0,2.0,0.0,2.0,2.0,2.0,0.0,0.0,2.0,0.0,2.0,0.0,2.0,0.0,0.0,0.0,1.0,2.0,2.0,2.0,2.0,2.0,2.0,2.0,0.0,2.0,2.0,2.0,1.0,1.0,2.0,0.0,2.0,0.0,0.0,0.0,0.0,2.0,2.0,2.0,2.0,2.0,2.0,2.0,0.0,2.0,2.0,2.0,1.0,2.0,2.0,1.0,0.0,0.0,0.0,2.0,0.0,1.0,1.0,1.0,1.0,1.0,1.0,1.0,1.0,1.0,1.0,1.0,1.0,1.0,1.0,1.0,1.0,1.0,1.0,2.0,1.0,1.0,1.0,1.0,1.0,2.0,1.0,0.0,1.0,2.0,0.0,2.0,2.0,2.0,2.0,0.0,0.0,0.0,2.0,0.0,2.0,2.0,2.0,2.0,0.0,2.0,2.0,0.0,0.0,0.0,0.0,2.0,0.0,2.0,0.0,2.0,0.0,0.0,2.0,2.0,0.0,2.0,0.0,0.0,2.0,2.0,0.0,0.0,0.0,2.0,2.0,2.0,2.0,2.0,0.0,0.0,0.0,0.0,0.0,0.0,2.0,1.0,1.0,1.0,1.0,1.0,1.0,1.0,1.0,1.0,1.0,1.0,1.0,1.0,1.0,1.0,1.0,1.0,1.0,1.0,1.0,1.0,1.0,1.0,1.0,1.0,1.0,1.0,1.0,1.0,1.0,1.0,1.0,1.0,1.0,1.0,1.0,1.0,1.0,1.0,0.0,1.0,1.0,1.0,1.0,1.0,1.0,1.0,1.0,1.0,1.0,1.0,1.0,0.0,2.0,0.0,2.0,0.0,2.0,2.0,2.0,2.0,0.0,2.0,2.0,2.0,2.0,1.0,2.0,2.0,0.0,1.0,2.0,1.0,2.0,1.0,1.0,2.0,2.0,0.0,2.0,0.0,2.0,0.0,0.0,2.0,0.0,2.0,2.0,0.0,0.0,0.0,0.0,2.0,2.0,0.0,2.0,2.0,2.0,0.0,0.0,0.0,2.0,0.0,2.0,2.0,2.0,0.0,0.0,0.0,2.0,0.0,2.0,0.0,2.0,2.0,2.0,2.0,0.0,0.0,0.0,2.0,0.0,0.0,0.0,2.0,0.0,2.0,2.0,2.0,2.0,0.0,0.0,0.0,2.0,2.0,0.0,2.0,0.0,0.0,2.0,2.0,2.0,0.0,0.0,0.0,2.0,2.0,0.0,2.0,0.0,0.0,2.0,2.0,2.0,0.0,0.0,2.0,2.0,0.0,0.0,2.0,1.0,1.0,1.0,1.0,1.0,1.0,1.0,1.0,1.0,1.0,1.0,1.0,1.0,1.0,1.0,1.0,1.0,1.0,1.0,1.0,1.0,1.0,1.0,1.0,1.0,1.0,1.0,2.0,1.0,1.0,1.0,1.0,1.0,1.0,1.0,1.0,1.0,1.0,1.0,1.0,2.0,1.0,1.0,1.0,1.0,2.0,1.0,1.0,1.0,2.0,0.0,1.0,0.0,1.0,1.0,1.0,2.0,1.0,1.0,0.0,1.0,1.0,2.0,1.0,1.0,1.0,1.0,2.0,2.0,2.0,0.0,0.0,2.0,2.0,2.0,0.0,2.0,2.0,2.0,0.0,2.0,0.0,1.0,0.0,0.0,2.0,0.0,2.0,1.0,2.0,2.0,2.0,2.0,2.0,2.0,2.0,0.0,2.0,2.0,2.0,0.0,2.0,0.0,2.0,0.0,2.0,2.0,0.0,2.0,2.0,2.0,2.0,0.0,0.0,2.0,2.0,0.0,0.0,2.0,2.0,2.0,0.0,2.0,2.0,0.0,0.0,2.0,2.0,0.0,0.0,2.0,1.0,0.0,0.0,2.0,0.0,2.0,0.0,2.0,2.0,2.0,0.0,0.0,0.0,2.0,2.0,0.0,0.0,2.0,2.0,0.0,2.0,2.0,0.0,0.0,2.0,0.0,1.0,1.0,1.0,1.0,1.0,1.0,1.0,1.0,1.0,1.0,1.0,1.0,1.0,1.0,1.0,1.0,1.0,1.0,1.0,1.0,1.0,1.0,1.0,1.0,1.0,1.0,1.0,1.0,1.0,1.0,1.0,1.0,1.0,1.0,1.0,1.0,1.0,1.0,1.0,1.0,1.0,1.0,1.0,1.0,1.0,1.0,1.0,1.0,1.0,1.0,1.0,1.0,1.0,0.0,1.0,1.0,1.0,0.0,1.0,1.0,1.0,1.0,1.0,1.0,1.0,1.0,1.0,1.0,1.0,1.0,2.0,1.0,2.0,1.0,1.0,1.0,1.0,1.0,1.0,1.0,1.0,1.0,1.0,1.0,1.0,1.0,2.0,1.0,1.0,1.0,1.0,1.0,1.0,0.0,2.0,0.0,1.0,1.0,0.0,1.0,1.0,1.0,0.0,2.0,1.0,1.0,2.0,1.0,1.0,1.0,1.0,1.0,0.0,1.0,1.0,0.0,2.0,2.0,1.0,1.0,0.0,2.0,1.0,2.0,0.0,0.0,2.0,2.0,2.0,0.0,2.0,2.0,1.0,2.0,2.0,2.0,2.0,1.0,2.0,2.0,0.0,0.0,2.0,2.0,1.0,0.0,0.0,2.0,1.0,2.0,1.0,0.0,0.0,2.0,2.0,2.0,1.0,2.0,2.0,0.0,2.0,2.0,0.0,2.0,2.0,0.0,2.0,2.0,0.0,0.0,2.0,0.0,0.0,0.0,0.0,1.0,2.0,1.0,2.0,2.0,0.0,0.0,2.0,2.0,2.0,2.0,2.0,2.0,2.0,0.0,0.0,2.0,2.0,0.0,0.0,2.0,0.0,2.0,0.0,0.0,0.0,0.0,0.0,2.0,2.0,0.0,0.0,2.0,2.0,0.0,0.0,0.0,2.0,0.0,0.0,0.0,0.0,0.0,0.0,1.0,1.0,1.0,1.0,1.0,1.0,1.0,1.0,1.0,1.0,1.0,1.0,1.0,1.0,2.0,1.0,1.0,1.0,2.0,1.0,2.0,1.0,1.0,1.0,1.0,1.0,2.0,1.0,0.0,1.0,1.0,2.0,2.0,0.0,2.0,0.0,1.0,2.0,1.0,2.0,2.0,1.0,2.0,0.0,0.0,2.0,0.0,0.0,2.0,2.0,2.0,0.0,0.0,2.0,2.0,0.0,0.0,0.0,2.0,2.0,0.0,0.0,0.0,0.0,1.0,2.0,0.0,2.0,2.0,2.0,2.0,0.0,2.0,2.0,0.0,0.0,2.0,0.0,0.0,2.0,0.0,0.0,2.0,0.0,2.0,0.0,2.0,2.0,0.0,2.0,2.0,2.0,0.0,2.0,2.0,0.0,2.0,2.0,2.0,2.0,2.0,2.0,1.0,1.0,1.0,1.0,1.0,1.0,1.0,1.0,1.0,1.0,1.0,1.0,1.0,1.0,1.0,1.0,1.0,1.0,1.0,1.0,1.0,1.0,1.0,1.0,1.0,1.0,1.0,1.0,1.0,1.0,1.0,1.0,1.0,1.0,1.0,1.0,1.0,1.0,1.0,2.0,1.0,1.0,1.0,2.0,1.0,1.0,1.0,1.0,1.0,1.0,1.0,1.0,1.0,0.0,1.0,1.0,1.0,1.0,1.0,1.0,2.0,1.0,1.0,1.0,2.0,1.0,1.0,1.0,1.0,1.0,1.0,1.0,1.0,2.0,1.0,1.0,1.0,1.0,1.0,1.0,2.0,1.0,1.0,1.0,1.0,1.0,1.0,1.0,1.0,1.0,2.0,1.0,0.0,2.0,2.0,0.0,2.0,1.0,1.0,1.0,1.0,2.0,1.0,0.0,1.0,2.0,0.0,1.0,1.0,0.0,2.0,2.0,0.0,2.0,2.0,1.0,0.0,2.0,1.0,1.0,0.0,2.0,2.0,1.0,0.0,0.0,2.0,1.0,0.0,2.0,2.0,0.0,2.0,1.0,0.0,0.0,0.0,2.0,0.0,0.0,2.0,0.0,1.0,2.0,0.0,2.0,2.0,1.0,0.0,2.0,0.0,1.0,0.0,1.0,1.0,2.0,0.0,2.0,2.0,2.0,1.0,0.0,1.0,2.0,0.0,2.0,2.0,2.0,1.0,2.0,0.0,0.0,0.0,2.0,2.0,2.0,2.0,2.0,2.0,2.0,2.0,0.0,2.0,0.0,2.0,0.0,0.0,2.0,2.0,2.0,2.0,0.0,0.0,0.0,2.0,0.0,2.0,2.0,2.0,2.0,0.0,2.0,2.0,2.0,2.0,0.0,0.0,0.0,2.0,0.0,2.0,0.0,2.0,0.0,0.0,2.0,0.0,0.0,2.0,0.0,0.0,2.0,2.0,2.0,0.0,0.0,0.0,2.0,0.0,0.0,2.0,2.0,2.0,1.0,1.0,0.0,2.0,1.0,2.0,1.0,1.0,1.0,1.0,2.0,1.0,2.0,1.0,0.0,2.0,2.0,2.0,2.0,2.0,2.0,0.0,1.0,1.0,0.0,0.0,0.0,2.0,2.0,2.0,1.0,0.0,2.0,1.0,2.0,2.0,2.0,2.0,0.0,0.0,2.0,2.0,2.0,2.0,0.0,0.0,2.0,2.0,2.0,0.0,2.0,0.0,0.0,0.0,0.0,2.0,0.0,0.0,2.0,2.0,1.0,1.0,1.0,1.0,1.0,1.0,1.0,1.0,1.0,1.0,1.0,1.0,1.0,1.0,1.0,1.0,1.0,1.0,1.0,1.0,1.0,1.0,1.0,1.0,1.0,1.0,1.0,1.0,1.0,1.0,1.0,1.0,1.0,1.0,0.0,1.0,1.0,2.0,1.0,1.0,1.0,1.0,1.0,1.0,1.0,1.0,1.0,1.0,1.0,1.0,1.0,0.0,1.0,1.0,1.0,1.0,1.0,1.0,2.0,2.0,2.0,1.0,2.0,1.0,0.0,2.0,2.0,1.0,2.0,1.0,2.0,2.0,2.0,2.0,0.0,2.0,2.0,2.0,2.0,2.0,0.0,1.0,1.0,0.0,2.0,0.0,0.0,2.0,1.0,2.0,2.0,0.0,2.0,2.0,0.0,1.0,0.0,2.0,2.0,0.0,0.0,0.0,2.0,2.0,0.0,2.0,2.0,2.0,0.0,2.0,2.0,2.0,2.0,2.0,2.0,0.0,0.0,0.0,2.0,0.0,0.0,0.0,2.0,2.0,2.0,2.0,0.0,0.0,1.0,2.0,0.0,0.0,2.0,0.0,1.0,0.0,0.0,0.0,0.0,2.0,0.0,2.0,0.0,2.0,2.0,0.0,2.0,0.0,2.0,2.0,2.0,2.0,2.0,0.0,2.0,2.0,0.0,0.0,2.0,0.0,0.0,2.0,1.0,1.0,1.0,1.0,1.0,1.0,1.0,1.0,1.0,1.0,1.0,1.0,1.0,1.0,1.0,1.0,1.0,1.0,1.0,1.0,1.0,1.0,1.0,1.0,1.0,2.0,1.0,2.0,1.0,1.0,2.0,2.0,2.0,1.0,2.0,2.0,0.0,0.0,2.0,0.0,0.0,2.0,0.0,2.0,2.0,0.0,2.0,2.0,0.0,2.0,1.0,1.0,1.0,1.0,1.0,1.0,1.0,1.0,0.0,1.0,1.0,1.0,1.0,1.0,2.0,0.0,2.0,2.0,2.0,1.0,0.0,1.0,2.0,1.0,2.0,0.0,2.0,2.0,2.0,0.0,0.0,0.0,0.0,2.0,1.0,0.0,2.0,0.0,0.0,2.0,0.0,0.0,2.0,0.0,2.0,2.0,0.0,2.0,0.0,0.0,0.0,2.0,0.0,0.0,2.0,0.0,2.0,0.0,1.0,2.0,2.0,2.0,2.0,0.0,1.0,2.0,1.0,2.0,0.0,2.0,2.0,0.0,2.0,2.0,1.0,1.0,2.0,1.0,1.0,1.0,1.0,0.0,0.0,1.0,2.0,1.0,0.0,0.0,2.0,2.0,0.0,1.0,2.0,2.0,2.0,2.0,0.0,2.0,0.0,2.0,0.0,0.0,0.0,2.0,0.0,1.0,1.0,2.0,2.0,0.0,2.0,2.0,2.0,2.0,2.0,0.0,0.0,1.0,2.0,2.0,2.0,2.0,2.0,0.0,2.0,0.0,0.0,0.0,2.0,0.0,1.0,0.0,2.0,1.0,2.0,1.0,1.0,2.0,0.0,2.0,0.0,0.0,0.0,0.0,0.0,2.0,2.0,2.0,1.0,2.0,0.0,2.0,2.0,0.0,2.0,2.0,0.0,1.0,1.0,1.0,1.0,1.0,1.0,0.0,0.0,0.0,2.0,2.0,2.0,1.0,0.0,2.0,0.0,0.0,2.0,2.0,0.0,2.0,0.0,0.0,1.0,0.0,2.0,0.0,0.0,2.0,0.0,0.0,0.0,2.0,1.0,1.0,0.0,2.0,2.0,0.0,0.0,2.0,0.0,2.0,0.0,2.0,1.0,0.0,2.0,0.0,0.0,2.0,1.0,2.0,0.0,0.0,2.0,0.0,2.0,2.0,0.0,0.0,2.0,2.0,2.0,2.0,2.0,0.0,2.0,2.0,0.0,0.0,1.0,0.0,0.0,0.0,0.0,2.0,0.0,0.0,2.0,0.0,2.0,2.0,0.0,0.0,2.0,2.0,2.0,1.0,0.0,1.0,1.0,1.0,0.0,0.0,1.0,0.0,1.0,2.0,0.0,1.0,2.0,0.0,0.0,2.0,1.0,1.0,0.0,0.0,2.0,0.0,2.0,0.0,0.0,0.0,2.0,2.0,0.0,2.0,1.0,2.0,0.0,2.0,2.0,2.0,0.0,0.0,1.0,2.0,2.0,1.0,0.0,0.0,2.0,2.0,0.0,1.0,1.0,2.0,0.0,2.0,0.0,2.0,0.0,2.0,2.0,2.0,0.0,1.0,1.0,1.0,2.0,0.0,0.0,2.0,2.0,0.0,0.0,2.0,2.0,0.0,2.0,2.0,2.0,2.0,0.0,0.0,0.0,2.0,0.0,2.0,0.0,0.0,2.0,2.0,0.0,1.0,1.0,2.0,0.0,0.0,1.0,2.0,0.0,1.0,1.0,0.0,2.0,2.0,1.0,0.0,0.0,0.0,0.0,1.0,1.0,2.0,0.0,2.0,2.0,1.0,1.0,1.0,1.0,1.0,1.0,0.0,1.0,0.0,1.0,2.0,1.0,1.0,0.0,1.0,1.0,0.0,0.0,1.0,2.0,0.0,1.0,2.0,2.0,2.0,0.0,0.0,2.0,1.0,0.0,0.0,2.0,1.0,1.0,2.0,0.0,2.0,1.0,0.0,0.0,0.0,1.0,0.0,2.0,1.0,0.0,0.0,2.0,2.0,2.0,0.0,2.0,2.0,0.0,1.0,0.0,0.0,0.0,2.0,2.0,1.0,1.0,1.0,1.0,1.0,1.0,0.0,2.0,0.0,2.0,2.0,0.0,2.0,2.0,2.0,0.0,2.0,2.0,2.0,2.0,0.0,2.0,0.0,2.0,2.0,0.0,0.0,0.0,2.0,2.0,0.0,2.0,1.0,0.0,0.0,2.0,2.0,2.0,0.0,0.0,1.0,2.0,2.0,0.0,2.0,2.0,2.0,0.0,0.0,1.0,1.0,1.0,1.0,1.0,1.0,1.0,1.0,1.0,1.0,2.0,0.0,1.0,0.0,1.0,2.0,2.0,1.0,2.0,2.0,2.0,0.0,2.0,2.0,2.0,2.0,0.0,0.0,0.0,2.0,0.0,2.0,2.0,0.0,0.0,1.0,2.0,0.0,0.0,0.0,0.0,0.0,0.0,1.0,1.0,1.0,1.0,1.0,1.0,1.0,1.0,1.0,1.0,1.0,1.0,1.0,1.0,1.0,1.0,1.0,1.0,1.0,1.0,1.0,0.0,0.0,1.0,1.0,1.0,2.0,1.0,1.0,2.0,2.0,1.0,1.0,2.0,2.0,2.0,0.0,2.0,0.0,2.0,0.0,0.0,0.0,0.0,2.0,0.0,0.0,2.0,0.0,0.0,0.0,0.0,0.0,2.0,2.0,0.0,0.0,2.0,0.0,0.0,0.0,2.0,0.0,0.0,0.0,0.0,2.0,0.0,0.0,2.0,2.0,0.0,2.0,0.0,2.0,0.0,2.0,0.0,0.0,2.0,2.0,1.0,1.0,1.0,1.0,1.0,1.0,1.0,1.0,1.0,1.0,1.0,1.0,1.0,1.0,1.0,1.0,1.0,1.0,1.0,2.0,1.0,1.0,2.0,2.0,1.0,1.0,1.0,1.0,0.0,2.0,2.0,0.0,1.0,0.0,1.0,2.0,0.0,2.0,0.0,0.0,2.0,0.0,0.0,2.0,2.0,0.0,0.0,2.0,2.0,2.0,0.0,0.0,2.0,0.0,2.0,2.0,2.0,2.0,0.0,2.0,2.0,2.0,2.0,2.0,2.0,0.0,2.0,2.0,0.0,2.0,0.0,2.0,0.0,2.0,2.0,0.0,2.0,2.0,2.0,2.0,0.0,2.0,2.0,0.0,2.0,1.0,1.0,1.0,1.0,1.0,1.0,1.0,1.0,1.0,1.0,1.0,1.0,1.0,1.0,1.0,1.0,1.0,1.0,1.0,1.0,1.0,1.0,1.0,1.0,1.0,1.0,1.0,2.0,1.0,1.0,1.0,1.0,1.0,2.0,1.0,1.0,1.0,1.0,1.0,1.0,0.0,2.0,1.0,1.0,0.0,1.0,1.0,2.0,0.0,1.0,1.0,1.0,1.0,1.0,1.0,0.0,1.0,1.0,1.0,0.0,0.0,2.0,0.0,0.0,1.0,2.0,1.0,0.0,2.0,2.0,2.0,2.0,2.0,2.0,2.0,2.0,0.0,0.0,0.0,0.0,2.0,2.0,2.0,0.0,2.0,2.0,2.0,2.0,2.0,0.0,2.0,2.0,2.0,0.0,0.0,0.0,2.0,0.0,2.0,2.0,2.0,1.0,1.0,1.0,1.0,1.0,1.0,1.0,1.0,1.0,1.0,1.0,1.0,1.0,1.0,2.0,1.0,2.0,1.0,0.0,2.0,0.0,0.0,0.0,2.0,2.0,0.0,2.0,0.0,2.0,2.0,2.0,2.0,2.0,0.0,2.0,2.0,0.0,2.0,2.0,0.0,0.0,0.0,0.0,0.0,0.0,2.0,2.0,0.0,0.0,0.0,2.0,2.0,1.0,1.0,1.0,1.0,1.0,1.0,1.0,1.0,1.0,1.0,1.0,1.0,1.0,1.0,0.0,1.0,1.0,1.0,1.0,1.0,1.0,1.0,2.0,1.0,1.0,1.0,2.0,1.0,2.0,0.0,1.0,1.0,1.0,1.0,1.0,1.0,0.0,1.0,1.0,0.0,1.0,2.0,2.0,2.0,0.0,0.0,2.0,0.0,1.0,2.0,1.0,1.0,2.0,2.0,1.0,0.0,2.0,0.0,2.0,0.0,2.0,1.0,1.0,0.0,2.0,1.0,0.0,0.0,2.0,0.0,0.0,2.0,2.0,2.0,0.0,0.0,2.0,0.0,2.0,0.0,2.0,0.0,2.0,2.0,0.0,2.0,2.0,2.0,0.0,0.0,2.0,2.0,0.0,0.0,0.0,0.0,0.0,0.0,1.0,0.0,2.0,2.0,2.0,2.0,0.0,2.0,2.0,2.0,2.0,2.0,2.0,1.0,1.0,1.0,2.0,2.0,1.0,0.0,0.0,0.0,0.0,1.0,2.0,2.0,2.0,2.0,0.0,2.0,1.0,0.0,2.0,2.0,0.0,0.0,0.0,0.0,2.0,2.0,2.0,0.0,0.0,2.0,2.0,2.0,0.0,1.0,1.0,1.0,1.0,1.0,1.0,1.0,1.0,1.0,1.0,1.0,1.0,1.0,1.0,1.0,1.0,1.0,1.0,1.0,1.0,1.0,1.0,1.0,1.0,2.0,2.0,1.0,1.0,2.0,1.0,2.0,0.0,2.0,1.0,2.0,1.0,0.0,2.0,2.0,1.0,2.0,2.0,2.0,0.0,0.0,2.0,0.0,2.0,2.0,1.0,0.0,2.0,2.0,0.0,0.0,2.0,0.0,0.0,2.0,2.0,2.0,0.0,0.0,0.0,2.0,2.0,0.0,0.0,2.0,0.0,0.0,2.0,0.0,0.0,1.0,1.0,1.0,1.0,1.0,1.0,2.0,2.0,2.0,2.0,0.0,2.0,2.0,0.0,2.0,0.0,2.0,2.0,2.0,2.0,2.0,2.0,1.0,1.0,1.0,1.0,1.0,1.0,1.0,1.0,1.0,1.0,1.0,2.0,0.0,2.0,0.0,0.0,0.0,2.0,2.0,0.0,2.0,2.0,0.0,0.0,0.0,2.0,2.0,0.0,0.0,2.0,2.0,2.0,2.0,2.0,1.0,2.0,1.0,1.0,1.0,0.0,2.0,2.0,0.0,0.0,0.0,0.0,0.0,0.0,2.0,2.0,2.0,2.0,0.0,2.0,0.0,1.0,0.0,2.0,0.0,0.0,0.0,0.0,2.0,2.0,2.0,0.0,2.0,0.0,2.0,2.0,1.0,0.0,0.0,2.0,1.0,0.0,2.0,2.0,2.0,0.0,0.0,0.0,0.0,2.0,2.0,1.0,2.0,0.0,2.0,0.0,0.0,1.0,1.0,2.0,0.0,0.0,0.0,0.0,0.0,0.0,2.0,1.0,1.0,1.0,1.0,2.0,0.0,0.0,0.0,0.0,0.0,2.0,2.0,0.0,2.0,2.0,2.0,2.0,2.0,2.0,1.0,0.0,0.0,1.0,0.0,2.0,2.0,2.0,0.0,0.0,2.0,1.0,2.0,2.0,0.0,2.0,2.0,2.0,0.0,0.0,0.0,2.0,0.0,2.0,2.0,0.0,1.0,2.0,1.0,0.0,1.0,0.0,2.0,2.0,2.0,0.0,0.0,0.0,2.0,0.0,2.0,0.0,0.0,2.0,0.0,0.0,2.0,2.0,0.0,0.0,2.0,2.0,0.0,2.0,0.0,2.0,2.0,0.0,0.0,2.0,0.0,0.0,2.0,0.0,2.0,0.0,2.0,0.0,2.0,0.0,2.0,0.0,2.0,0.0,2.0,0.0,0.0,0.0,0.0,0.0,1.0,1.0,0.0,2.0,1.0,0.0,0.0,0.0,2.0,1.0,2.0,2.0,2.0,2.0,0.0,0.0,1.0,0.0,0.0,1.0,2.0,1.0,1.0,1.0,0.0,0.0,0.0,1.0,1.0,1.0,0.0,0.0,1.0,0.0,0.0,1.0,0.0,2.0,0.0,1.0,0.0,1.0,2.0,1.0,1.0,1.0,0.0,0.0,1.0,0.0,1.0,1.0,1.0,2.0,1.0,0.0,2.0,2.0,1.0,2.0,1.0,2.0,1.0,1.0,1.0,2.0,2.0,1.0,2.0,0.0,0.0,1.0,1.0,2.0,1.0,1.0,2.0,2.0,2.0,0.0,0.0,2.0,2.0,2.0,2.0,2.0,2.0,2.0,2.0,2.0,0.0,2.0,0.0,2.0,0.0,2.0,2.0,2.0,1.0,2.0,1.0,1.0,1.0,1.0,1.0,1.0,1.0,1.0,2.0,0.0,0.0,2.0,2.0,0.0,2.0,0.0,2.0,2.0,0.0,2.0,0.0,2.0,2.0,1.0,1.0,1.0,1.0,1.0,1.0,1.0,1.0,1.0,1.0,1.0,1.0,1.0,0.0,2.0,1.0,0.0,1.0,1.0,0.0,2.0,2.0,0.0,2.0,0.0,0.0,0.0,2.0,0.0,0.0,0.0,2.0,2.0,0.0,0.0,2.0,2.0,0.0,2.0,2.0,0.0,0.0,2.0,0.0,1.0,1.0,1.0,1.0,1.0,1.0,1.0,1.0,1.0,1.0,1.0,1.0,1.0,1.0,0.0,1.0,1.0,0.0,2.0,2.0,2.0,2.0,0.0,2.0,2.0,0.0,2.0,0.0,2.0,2.0,2.0,0.0,0.0,2.0,2.0,0.0,0.0,0.0,2.0,2.0,0.0,0.0,2.0,0.0,0.0,0.0,2.0,2.0,0.0,1.0,1.0,1.0,1.0,1.0,1.0,1.0,1.0,1.0,1.0,1.0,1.0,1.0,1.0,1.0,1.0,1.0,2.0,1.0,1.0,1.0,1.0,1.0,1.0,1.0,1.0,1.0,0.0,1.0,2.0,1.0,1.0,1.0,1.0,2.0,1.0,1.0,1.0,0.0,2.0,1.0,0.0,1.0,1.0,0.0,2.0,1.0,1.0,1.0,2.0,0.0,0.0,0.0,0.0,2.0,0.0,2.0,0.0,0.0,0.0,2.0,0.0,0.0,2.0,2.0,1.0,2.0,2.0,2.0,0.0,0.0,2.0,0.0,0.0,2.0,2.0,2.0,2.0,2.0,1.0,1.0,1.0,1.0,1.0,1.0,0.0,2.0,2.0,0.0,2.0,0.0,2.0,0.0,2.0,2.0,2.0,2.0,2.0,0.0,0.0,0.0,2.0,2.0,0.0,0.0,2.0,2.0,0.0,1.0,1.0,1.0,1.0,1.0,1.0,1.0,1.0,1.0,1.0,1.0,1.0,1.0,1.0,1.0,1.0,1.0,1.0,1.0,1.0,1.0,1.0,1.0,0.0,1.0,1.0,2.0,1.0,2.0,1.0,2.0,0.0,1.0,1.0,1.0,1.0,1.0,1.0,0.0,0.0,1.0,2.0,1.0,0.0,0.0,0.0,2.0,0.0,2.0,0.0,2.0,0.0,2.0,2.0,2.0,1.0,2.0,0.0,1.0,1.0,0.0,2.0,2.0,2.0,2.0,2.0,0.0,2.0,2.0,0.0,2.0,0.0,2.0,0.0,0.0,2.0,0.0,0.0,2.0,0.0,2.0,2.0,2.0,0.0,2.0,0.0,2.0,1.0,1.0,1.0,1.0,0.0,2.0,1.0,1.0,0.0,2.0,1.0,2.0,1.0,2.0,2.0,0.0,0.0,2.0,2.0,2.0,2.0,2.0,0.0,0.0,0.0,0.0,0.0,0.0,1.0,1.0,1.0,1.0,1.0,1.0,1.0,1.0,1.0,1.0,1.0,1.0,1.0,1.0,1.0,2.0,2.0,2.0,1.0,1.0,1.0,1.0,0.0,2.0,2.0,0.0,1.0,1.0,2.0,0.0,1.0,2.0,0.0,2.0,1.0,2.0,2.0,2.0,0.0,1.0,2.0,2.0,2.0,2.0,0.0,0.0,0.0,0.0,0.0,0.0,2.0,2.0,0.0,2.0,0.0,0.0,2.0,1.0,1.0,1.0,1.0,2.0,1.0,0.0,2.0,0.0,1.0,2.0,0.0,1.0,1.0,1.0,2.0,2.0,2.0,2.0,2.0,2.0,0.0,0.0,2.0,2.0,0.0,2.0,2.0,0.0,2.0,0.0,0.0,2.0,2.0,0.0,2.0,1.0,1.0,2.0,0.0,2.0,0.0,2.0,2.0,2.0,1.0,2.0,0.0,2.0,0.0,2.0,2.0,0.0,0.0,2.0,1.0,2.0,0.0,0.0,0.0,0.0,2.0,0.0,1.0,2.0,0.0,0.0,0.0,0.0,2.0,0.0,0.0,1.0,0.0,2.0,2.0,0.0,2.0,0.0,1.0,0.0,0.0,2.0,1.0,1.0,0.0,0.0,0.0,2.0,2.0,0.0,0.0,1.0,2.0,0.0,2.0,0.0,0.0,1.0,2.0,0.0,1.0,2.0,2.0,2.0,2.0,1.0,1.0,0.0,2.0,1.0,1.0,1.0,1.0,1.0,0.0,1.0,0.0,1.0,2.0,2.0,1.0,2.0,0.0,0.0,1.0,1.0,1.0,0.0,0.0,1.0,0.0,1.0,1.0,2.0,0.0,2.0,0.0,2.0,2.0,0.0,0.0,2.0,2.0,1.0,2.0,2.0,0.0,0.0,0.0,0.0,1.0,1.0,2.0,1.0,0.0,0.0,0.0,0.0,2.0,2.0,0.0,1.0,1.0,1.0,1.0,1.0,1.0,1.0,1.0,1.0,2.0,1.0,1.0,1.0,1.0,1.0,2.0,2.0,0.0,2.0,1.0,0.0,2.0,2.0,0.0,0.0,2.0,0.0,2.0,2.0,2.0,2.0,1.0,1.0,1.0,1.0,1.0,1.0,1.0,1.0,1.0,1.0,2.0,0.0,2.0,0.0,2.0,2.0,2.0,2.0,0.0,2.0,2.0,2.0,0.0,2.0,2.0,2.0,0.0,0.0,2.0,1.0,1.0,1.0,1.0,1.0,1.0,1.0,1.0,1.0,1.0,1.0,2.0,1.0,1.0,1.0,1.0,1.0,0.0,1.0,0.0,0.0,0.0,2.0,2.0,2.0,0.0,2.0,2.0,2.0,2.0,0.0,0.0,0.0,2.0,0.0,0.0,2.0,1.0,2.0,2.0,0.0,0.0,1.0,1.0,1.0,1.0,1.0,1.0,1.0,1.0,1.0,1.0,2.0,1.0,1.0,2.0,2.0,1.0,2.0,1.0,2.0,0.0,2.0,2.0,1.0,2.0,2.0,2.0,2.0,0.0,2.0,2.0,0.0,0.0,2.0,0.0,2.0,0.0,0.0,2.0,2.0,0.0,0.0,0.0,1.0,1.0,2.0,2.0,1.0,0.0,1.0,0.0,0.0,2.0,0.0,2.0,1.0,2.0,1.0,1.0,1.0,1.0,1.0,2.0,1.0,2.0,1.0,2.0,1.0,1.0,2.0,0.0,0.0,0.0,2.0,2.0,0.0,0.0,0.0,2.0,0.0,2.0,2.0,2.0,2.0,2.0,1.0,1.0,1.0,1.0,1.0,1.0,1.0,2.0,2.0,1.0,0.0,0.0,0.0,2.0,1.0,1.0,1.0,1.0,2.0,0.0,2.0,2.0,2.0,0.0,2.0,2.0,0.0,2.0],\"coloraxis\":\"coloraxis\",\"symbol\":\"circle\"},\"mode\":\"markers\",\"name\":\"\",\"showlegend\":false,\"x\":[0.455,0.35,0.53,0.44,0.33,0.425,0.53,0.545,0.475,0.55,0.525,0.43,0.49,0.535,0.47,0.5,0.355,0.44,0.365,0.45,0.355,0.38,0.565,0.55,0.615,0.56,0.58,0.59,0.605,0.575,0.58,0.68,0.665,0.68,0.705,0.465,0.54,0.45,0.575,0.355,0.45,0.55,0.24,0.205,0.21,0.39,0.47,0.46,0.325,0.525,0.52,0.4,0.485,0.47,0.405,0.5,0.445,0.47,0.245,0.505,0.45,0.505,0.53,0.425,0.52,0.475,0.565,0.595,0.475,0.31,0.555,0.4,0.595,0.57,0.605,0.6,0.595,0.6,0.555,0.615,0.575,0.62,0.52,0.595,0.58,0.57,0.625,0.56,0.46,0.575,0.565,0.555,0.595,0.625,0.695,0.665,0.535,0.47,0.47,0.475,0.36,0.55,0.53,0.53,0.605,0.52,0.545,0.5,0.51,0.435,0.495,0.465,0.435,0.425,0.545,0.53,0.49,0.44,0.56,0.405,0.47,0.385,0.515,0.37,0.36,0.27,0.375,0.385,0.7,0.71,0.595,0.44,0.325,0.35,0.265,0.425,0.305,0.345,0.405,0.375,0.565,0.55,0.65,0.56,0.475,0.49,0.46,0.28,0.175,0.17,0.59,0.605,0.635,0.605,0.565,0.515,0.575,0.645,0.58,0.575,0.605,0.605,0.61,0.725,0.65,0.725,0.725,0.68,0.705,0.68,0.695,0.53,0.525,0.52,0.235,0.36,0.315,0.315,0.225,0.58,0.57,0.64,0.56,0.62,0.645,0.62,0.63,0.63,0.63,0.585,0.615,0.61,0.58,0.355,0.51,0.5,0.505,0.64,0.56,0.585,0.45,0.5,0.5,0.53,0.42,0.44,0.4,0.435,0.525,0.37,0.49,0.335,0.415,0.5,0.485,0.55,0.45,0.405,0.47,0.415,0.445,0.47,0.49,0.445,0.425,0.5,0.39,0.365,0.58,0.53,0.555,0.565,0.625,0.275,0.44,0.295,0.075,0.13,0.11,0.16,0.565,0.27,0.23,0.3,0.33,0.35,0.32,0.36,0.305,0.345,0.33,0.59,0.595,0.575,0.6,0.56,0.56,0.545,0.635,0.59,0.54,0.57,0.53,0.245,0.27,0.46,0.52,0.35,0.47,0.45,0.64,0.59,0.62,0.63,0.63,0.655,0.66,0.61,0.635,0.515,0.535,0.36,0.455,0.485,0.515,0.535,0.53,0.495,0.44,0.535,0.54,0.565,0.61,0.565,0.6,0.295,0.275,0.28,0.49,0.37,0.405,0.54,0.37,0.36,0.47,0.2,0.165,0.645,0.55,0.57,0.63,0.56,0.595,0.62,0.63,0.45,0.635,0.45,0.58,0.33,0.265,0.19,0.385,0.265,0.335,0.355,0.32,0.51,0.36,0.36,0.5,0.4,0.3,0.235,0.74,0.62,0.6,0.59,0.62,0.565,0.575,0.62,0.62,0.505,0.46,0.49,0.525,0.34,0.375,0.61,0.61,0.585,0.57,0.58,0.635,0.7,0.675,0.645,0.745,0.685,0.605,0.59,0.65,0.6,0.62,0.63,0.58,0.58,0.63,0.69,0.65,0.66,0.68,0.7,0.685,0.675,0.63,0.585,0.565,0.61,0.605,0.535,0.485,0.47,0.545,0.455,0.54,0.46,0.49,0.465,0.415,0.475,0.47,0.365,0.345,0.39,0.5,0.47,0.535,0.585,0.485,0.515,0.435,0.515,0.44,0.525,0.45,0.59,0.555,0.57,0.59,0.585,0.58,0.545,0.605,0.62,0.63,0.63,0.63,0.545,0.67,0.49,0.49,0.29,0.26,0.58,0.61,0.6,0.56,0.575,0.57,0.6,0.565,0.545,0.44,0.5,0.36,0.385,0.39,0.5,0.36,0.335,0.505,0.395,0.41,0.56,0.565,0.565,0.605,0.565,0.725,0.675,0.665,0.565,0.645,0.575,0.64,0.36,0.415,0.525,0.38,0.585,0.24,0.22,0.255,0.175,0.67,0.655,0.68,0.675,0.53,0.515,0.43,0.52,0.545,0.53,0.465,0.665,0.735,0.66,0.7,0.575,0.57,0.58,0.63,0.585,0.55,0.625,0.54,0.57,0.59,0.58,0.655,0.655,0.625,0.625,0.64,0.605,0.615,0.555,0.58,0.62,0.62,0.6,0.625,0.6,0.56,0.585,0.56,0.56,0.68,0.455,0.49,0.31,0.275,0.27,0.4,0.28,0.325,0.345,0.21,0.36,0.365,0.2,0.235,0.175,0.155,0.57,0.57,0.385,0.53,0.46,0.47,0.435,0.47,0.465,0.52,0.29,0.275,0.375,0.5,0.44,0.42,0.445,0.38,0.32,0.255,0.205,0.565,0.555,0.65,0.615,0.56,0.48,0.485,0.5,0.525,0.66,0.66,0.52,0.44,0.515,0.475,0.545,0.47,0.35,0.485,0.435,0.28,0.41,0.45,0.45,0.59,0.57,0.61,0.61,0.56,0.585,0.58,0.63,0.625,0.55,0.645,0.46,0.41,0.495,0.52,0.55,0.45,0.405,0.51,0.37,0.525,0.66,0.535,0.575,0.55,0.605,0.605,0.56,0.535,0.385,0.39,0.47,0.515,0.425,0.345,0.485,0.37,0.35,0.44,0.195,0.325,0.495,0.45,0.415,0.47,0.32,0.31,0.235,0.345,0.485,0.5,0.5,0.465,0.525,0.425,0.38,0.53,0.34,0.475,0.43,0.46,0.47,0.36,0.355,0.38,0.355,0.44,0.51,0.325,0.62,0.59,0.33,0.45,0.445,0.33,0.48,0.46,0.475,0.255,0.335,0.47,0.31,0.37,0.295,0.555,0.615,0.58,0.585,0.65,0.535,0.415,0.38,0.45,0.395,0.455,0.485,0.55,0.45,0.475,0.5,0.53,0.49,0.49,0.52,0.54,0.5,0.45,0.37,0.37,0.485,0.435,0.535,0.51,0.565,0.535,0.535,0.525,0.59,0.5,0.255,0.43,0.38,0.165,0.315,0.155,0.28,0.43,0.395,0.385,0.48,0.445,0.395,0.4,0.415,0.315,0.345,0.36,0.295,0.325,0.375,0.28,0.355,0.35,0.275,0.29,0.25,0.18,0.15,0.16,0.555,0.555,0.525,0.465,0.49,0.4,0.48,0.505,0.52,0.525,0.545,0.52,0.505,0.525,0.51,0.52,0.52,0.535,0.445,0.53,0.36,0.535,0.52,0.53,0.53,0.66,0.52,0.535,0.695,0.51,0.485,0.605,0.58,0.65,0.62,0.615,0.605,0.57,0.57,0.585,0.55,0.54,0.64,0.61,0.545,0.59,0.345,0.55,0.53,0.53,0.485,0.385,0.455,0.49,0.53,0.505,0.49,0.465,0.47,0.56,0.505,0.515,0.385,0.215,0.55,0.515,0.495,0.505,0.6,0.57,0.485,0.47,0.575,0.58,0.515,0.53,0.44,0.52,0.425,0.46,0.45,0.425,0.37,0.515,0.405,0.28,0.48,0.44,0.52,0.505,0.49,0.235,0.255,0.315,0.325,0.335,0.35,0.35,0.36,0.365,0.37,0.38,0.385,0.385,0.395,0.395,0.4,0.41,0.415,0.415,0.425,0.44,0.445,0.445,0.45,0.47,0.475,0.48,0.485,0.49,0.495,0.5,0.505,0.525,0.54,0.54,0.545,0.55,0.55,0.55,0.555,0.565,0.57,0.57,0.575,0.59,0.59,0.595,0.595,0.595,0.595,0.6,0.6,0.6,0.605,0.605,0.615,0.615,0.615,0.615,0.62,0.62,0.625,0.625,0.63,0.635,0.635,0.635,0.64,0.65,0.655,0.655,0.66,0.66,0.67,0.675,0.675,0.68,0.685,0.695,0.73,0.205,0.24,0.24,0.255,0.255,0.265,0.28,0.295,0.3,0.3,0.305,0.315,0.315,0.32,0.325,0.33,0.335,0.335,0.34,0.34,0.345,0.37,0.37,0.375,0.385,0.41,0.41,0.41,0.415,0.42,0.42,0.425,0.425,0.43,0.43,0.435,0.435,0.44,0.44,0.445,0.445,0.45,0.45,0.45,0.45,0.455,0.455,0.46,0.46,0.465,0.465,0.465,0.465,0.47,0.47,0.475,0.475,0.48,0.48,0.48,0.48,0.485,0.49,0.495,0.495,0.5,0.5,0.5,0.5,0.505,0.505,0.505,0.505,0.51,0.51,0.51,0.51,0.51,0.515,0.515,0.525,0.525,0.53,0.53,0.53,0.535,0.535,0.535,0.55,0.55,0.56,0.565,0.57,0.57,0.57,0.57,0.57,0.575,0.575,0.58,0.58,0.58,0.58,0.58,0.59,0.59,0.59,0.595,0.595,0.595,0.595,0.595,0.605,0.605,0.605,0.61,0.61,0.615,0.62,0.625,0.625,0.625,0.625,0.625,0.63,0.63,0.63,0.635,0.635,0.64,0.64,0.64,0.645,0.645,0.645,0.645,0.645,0.645,0.645,0.65,0.65,0.65,0.655,0.655,0.66,0.66,0.66,0.66,0.67,0.675,0.675,0.68,0.69,0.69,0.695,0.705,0.71,0.715,0.715,0.735,0.765,0.185,0.195,0.195,0.2,0.225,0.245,0.25,0.265,0.275,0.28,0.285,0.3,0.315,0.32,0.34,0.37,0.375,0.375,0.385,0.4,0.405,0.41,0.41,0.42,0.42,0.42,0.425,0.43,0.435,0.435,0.44,0.445,0.445,0.445,0.45,0.45,0.45,0.45,0.45,0.46,0.47,0.47,0.475,0.475,0.48,0.49,0.5,0.5,0.5,0.5,0.505,0.51,0.51,0.51,0.51,0.515,0.52,0.52,0.52,0.52,0.525,0.525,0.525,0.525,0.53,0.535,0.54,0.545,0.545,0.545,0.55,0.55,0.55,0.56,0.56,0.56,0.56,0.565,0.565,0.565,0.57,0.57,0.57,0.575,0.575,0.575,0.575,0.575,0.575,0.575,0.575,0.58,0.58,0.58,0.58,0.58,0.58,0.585,0.585,0.59,0.6,0.6,0.6,0.6,0.605,0.605,0.605,0.605,0.61,0.61,0.61,0.615,0.615,0.615,0.62,0.62,0.62,0.625,0.625,0.63,0.63,0.635,0.64,0.645,0.645,0.65,0.65,0.655,0.655,0.66,0.665,0.665,0.67,0.685,0.685,0.69,0.69,0.69,0.695,0.7,0.7,0.7,0.705,0.71,0.715,0.715,0.72,0.72,0.72,0.725,0.73,0.735,0.745,0.75,0.755,0.755,0.78,0.185,0.245,0.25,0.25,0.275,0.305,0.31,0.315,0.315,0.325,0.33,0.33,0.335,0.34,0.345,0.345,0.35,0.35,0.36,0.365,0.365,0.365,0.37,0.37,0.375,0.375,0.375,0.375,0.375,0.375,0.38,0.38,0.385,0.385,0.385,0.385,0.39,0.395,0.395,0.395,0.4,0.405,0.41,0.42,0.425,0.425,0.425,0.43,0.43,0.435,0.44,0.45,0.455,0.455,0.455,0.46,0.46,0.46,0.465,0.47,0.47,0.47,0.475,0.475,0.475,0.48,0.48,0.48,0.495,0.495,0.495,0.5,0.5,0.5,0.5,0.5,0.5,0.505,0.505,0.505,0.515,0.515,0.515,0.52,0.52,0.525,0.525,0.53,0.53,0.53,0.53,0.535,0.535,0.535,0.535,0.54,0.54,0.545,0.545,0.545,0.545,0.55,0.55,0.55,0.55,0.55,0.555,0.555,0.555,0.555,0.56,0.56,0.56,0.56,0.565,0.565,0.565,0.565,0.57,0.57,0.57,0.57,0.57,0.57,0.575,0.575,0.575,0.58,0.58,0.58,0.585,0.585,0.585,0.585,0.585,0.585,0.585,0.59,0.59,0.59,0.595,0.595,0.6,0.6,0.6,0.6,0.6,0.6,0.605,0.605,0.605,0.605,0.605,0.61,0.61,0.61,0.61,0.61,0.61,0.615,0.615,0.615,0.615,0.615,0.615,0.615,0.62,0.62,0.62,0.62,0.625,0.625,0.625,0.625,0.63,0.63,0.63,0.63,0.63,0.635,0.635,0.635,0.635,0.635,0.64,0.64,0.645,0.645,0.645,0.65,0.65,0.65,0.65,0.65,0.655,0.655,0.655,0.655,0.66,0.66,0.665,0.67,0.67,0.675,0.685,0.695,0.7,0.705,0.705,0.705,0.71,0.72,0.72,0.725,0.73,0.735,0.745,0.75,0.815,0.14,0.23,0.365,0.365,0.37,0.375,0.385,0.395,0.4,0.4,0.405,0.405,0.405,0.41,0.415,0.425,0.43,0.44,0.44,0.44,0.45,0.455,0.46,0.47,0.47,0.47,0.475,0.475,0.475,0.48,0.485,0.485,0.485,0.495,0.505,0.505,0.515,0.515,0.515,0.52,0.525,0.53,0.53,0.545,0.55,0.55,0.56,0.56,0.57,0.575,0.575,0.58,0.58,0.585,0.59,0.59,0.59,0.595,0.6,0.6,0.605,0.605,0.605,0.61,0.615,0.62,0.62,0.62,0.625,0.625,0.63,0.63,0.63,0.63,0.63,0.635,0.635,0.64,0.645,0.645,0.645,0.65,0.65,0.65,0.65,0.655,0.655,0.66,0.665,0.67,0.67,0.67,0.68,0.68,0.69,0.7,0.7,0.705,0.72,0.725,0.74,0.75,0.21,0.285,0.295,0.3,0.305,0.335,0.35,0.355,0.355,0.36,0.36,0.36,0.365,0.37,0.375,0.38,0.38,0.385,0.385,0.385,0.39,0.39,0.39,0.41,0.41,0.415,0.425,0.425,0.435,0.435,0.45,0.45,0.455,0.46,0.46,0.465,0.465,0.47,0.475,0.475,0.475,0.48,0.48,0.48,0.485,0.49,0.49,0.495,0.495,0.5,0.5,0.5,0.51,0.515,0.515,0.515,0.515,0.515,0.52,0.52,0.525,0.525,0.525,0.525,0.525,0.53,0.53,0.53,0.53,0.535,0.54,0.54,0.54,0.54,0.54,0.54,0.54,0.545,0.545,0.545,0.55,0.55,0.55,0.55,0.55,0.555,0.555,0.555,0.56,0.56,0.56,0.565,0.565,0.565,0.565,0.57,0.57,0.57,0.57,0.57,0.57,0.575,0.575,0.575,0.575,0.575,0.575,0.575,0.575,0.575,0.575,0.575,0.58,0.58,0.58,0.58,0.585,0.59,0.59,0.59,0.595,0.595,0.595,0.595,0.6,0.6,0.6,0.6,0.6,0.6,0.6,0.605,0.605,0.605,0.605,0.605,0.605,0.61,0.61,0.61,0.61,0.61,0.61,0.61,0.61,0.615,0.615,0.62,0.62,0.62,0.62,0.62,0.62,0.62,0.62,0.62,0.62,0.625,0.625,0.625,0.625,0.625,0.625,0.63,0.63,0.63,0.63,0.63,0.635,0.635,0.635,0.635,0.64,0.64,0.64,0.645,0.645,0.645,0.645,0.645,0.645,0.645,0.645,0.645,0.645,0.645,0.65,0.65,0.65,0.65,0.655,0.655,0.655,0.655,0.66,0.66,0.66,0.66,0.665,0.665,0.665,0.665,0.665,0.67,0.67,0.67,0.67,0.67,0.675,0.675,0.68,0.68,0.685,0.685,0.69,0.7,0.7,0.705,0.71,0.71,0.71,0.71,0.72,0.72,0.72,0.725,0.73,0.735,0.74,0.75,0.75,0.77,0.775,0.275,0.375,0.375,0.39,0.435,0.445,0.455,0.455,0.455,0.465,0.465,0.485,0.485,0.485,0.49,0.5,0.515,0.515,0.525,0.525,0.53,0.535,0.535,0.545,0.545,0.545,0.55,0.55,0.57,0.575,0.575,0.58,0.585,0.585,0.6,0.6,0.605,0.605,0.61,0.615,0.62,0.625,0.625,0.635,0.635,0.64,0.645,0.65,0.65,0.655,0.655,0.665,0.675,0.685,0.695,0.695,0.705,0.72,0.72,0.73,0.185,0.24,0.31,0.34,0.35,0.365,0.365,0.365,0.39,0.405,0.41,0.41,0.415,0.415,0.415,0.42,0.43,0.435,0.435,0.435,0.435,0.445,0.465,0.47,0.475,0.485,0.485,0.485,0.495,0.495,0.495,0.5,0.505,0.505,0.51,0.515,0.515,0.515,0.52,0.52,0.52,0.52,0.52,0.525,0.525,0.525,0.53,0.53,0.53,0.53,0.535,0.54,0.54,0.54,0.545,0.545,0.55,0.55,0.555,0.555,0.555,0.555,0.555,0.56,0.565,0.565,0.565,0.565,0.565,0.565,0.57,0.57,0.57,0.57,0.57,0.575,0.575,0.575,0.575,0.575,0.575,0.575,0.575,0.575,0.575,0.58,0.58,0.58,0.58,0.58,0.595,0.6,0.6,0.6,0.6,0.605,0.605,0.605,0.61,0.61,0.61,0.61,0.615,0.615,0.615,0.615,0.62,0.62,0.62,0.62,0.62,0.62,0.625,0.625,0.625,0.625,0.625,0.625,0.63,0.635,0.635,0.635,0.635,0.635,0.635,0.64,0.64,0.64,0.64,0.64,0.64,0.645,0.645,0.645,0.65,0.65,0.65,0.655,0.655,0.655,0.66,0.66,0.665,0.665,0.665,0.67,0.675,0.675,0.68,0.68,0.685,0.69,0.695,0.7,0.7,0.7,0.705,0.72,0.72,0.725,0.75,0.76,0.135,0.16,0.21,0.28,0.28,0.285,0.29,0.29,0.29,0.32,0.325,0.335,0.35,0.35,0.355,0.36,0.36,0.375,0.375,0.395,0.405,0.415,0.425,0.43,0.435,0.45,0.46,0.47,0.47,0.475,0.505,0.505,0.505,0.51,0.515,0.525,0.53,0.53,0.545,0.55,0.56,0.565,0.57,0.58,0.59,0.6,0.605,0.61,0.625,0.66,0.255,0.27,0.28,0.285,0.32,0.325,0.385,0.395,0.4,0.405,0.415,0.42,0.44,0.445,0.45,0.455,0.46,0.46,0.465,0.465,0.475,0.48,0.485,0.49,0.5,0.5,0.505,0.525,0.535,0.535,0.54,0.54,0.545,0.55,0.55,0.565,0.58,0.58,0.585,0.595,0.6,0.61,0.61,0.62,0.645,0.65,0.665,0.685,0.69,0.705,0.71,0.72,0.72,0.73,0.775,0.505,0.53,0.505,0.405,0.415,0.5,0.425,0.47,0.4,0.37,0.5,0.41,0.375,0.49,0.585,0.595,0.675,0.665,0.62,0.325,0.455,0.525,0.385,0.13,0.18,0.31,0.375,0.48,0.455,0.425,0.475,0.435,0.29,0.385,0.47,0.5,0.4,0.62,0.595,0.585,0.32,0.52,0.44,0.44,0.565,0.56,0.59,0.57,0.68,0.45,0.32,0.46,0.47,0.455,0.415,0.465,0.46,0.415,0.27,0.445,0.745,0.4,0.28,0.55,0.58,0.61,0.62,0.56,0.64,0.69,0.715,0.71,0.55,0.375,0.61,0.38,0.37,0.335,0.165,0.285,0.19,0.215,0.595,0.645,0.575,0.57,0.58,0.595,0.595,0.625,0.535,0.55,0.495,0.32,0.445,0.52,0.495,0.47,0.49,0.58,0.645,0.575,0.215,0.43,0.26,0.37,0.405,0.27,0.68,0.65,0.645,0.57,0.615,0.42,0.275,0.29,0.42,0.625,0.55,0.66,0.565,0.595,0.63,0.43,0.455,0.33,0.515,0.495,0.485,0.535,0.58,0.625,0.555,0.55,0.59,0.355,0.275,0.505,0.37,0.555,0.505,0.56,0.595,0.57,0.6,0.56,0.585,0.46,0.46,0.415,0.435,0.475,0.465,0.355,0.46,0.38,0.47,0.36,0.585,0.655,0.6,0.57,0.645,0.65,0.51,0.52,0.495,0.43,0.59,0.55,0.585,0.58,0.62,0.59,0.72,0.635,0.61,0.545,0.57,0.6,0.52,0.635,0.67,0.695,0.655,0.62,0.6,0.51,0.525,0.44,0.485,0.495,0.435,0.405,0.42,0.5,0.385,0.33,0.58,0.325,0.475,0.38,0.34,0.525,0.52,0.535,0.475,0.415,0.495,0.48,0.52,0.46,0.58,0.59,0.55,0.65,0.465,0.455,0.47,0.435,0.35,0.315,0.595,0.58,0.575,0.535,0.515,0.505,0.505,0.4,0.49,0.53,0.395,0.665,0.415,0.43,0.475,0.525,0.48,0.42,0.59,0.515,0.695,0.8,0.61,0.565,0.56,0.655,0.64,0.59,0.31,0.255,0.17,0.67,0.71,0.56,0.505,0.525,0.45,0.515,0.59,0.7,0.72,0.635,0.555,0.575,0.585,0.61,0.645,0.545,0.55,0.66,0.57,0.6,0.63,0.695,0.65,0.72,0.56,0.42,0.18,0.405,0.5,0.435,0.34,0.43,0.535,0.415,0.36,0.175,0.155,0.525,0.525,0.44,0.45,0.485,0.47,0.515,0.42,0.455,0.37,0.33,0.3,0.625,0.61,0.625,0.635,0.5,0.53,0.445,0.585,0.44,0.29,0.555,0.655,0.58,0.625,0.62,0.64,0.505,0.5,0.31,0.505,0.42,0.4,0.425,0.31,0.465,0.465,0.35,0.52,0.475,0.41,0.26,0.575,0.565,0.26,0.53,0.34,0.52,0.635,0.61,0.66,0.635,0.465,0.515,0.335,0.515,0.345,0.465,0.54,0.475,0.445,0.5,0.5,0.55,0.275,0.35,0.37,0.42,0.35,0.395,0.325,0.275,0.235,0.25,0.25,0.2,0.585,0.445,0.5,0.44,0.515,0.52,0.5,0.425,0.51,0.37,0.54,0.615,0.565,0.645,0.615,0.605,0.59,0.645,0.57,0.47,0.5,0.52,0.39,0.52,0.54,0.46,0.355,0.49,0.63,0.5,0.49,0.44,0.515,0.475,0.42,0.4,0.45,0.52,0.505,0.495,0.54,0.48,0.33,0.285,0.3,0.31,0.34,0.375,0.415,0.415,0.415,0.42,0.425,0.465,0.465,0.47,0.47,0.475,0.48,0.5,0.505,0.525,0.54,0.545,0.565,0.58,0.59,0.59,0.595,0.6,0.6,0.6,0.605,0.625,0.63,0.64,0.64,0.655,0.66,0.66,0.675,0.675,0.69,0.695,0.7,0.73,0.205,0.225,0.23,0.275,0.28,0.28,0.295,0.31,0.315,0.34,0.37,0.38,0.39,0.405,0.415,0.44,0.44,0.44,0.44,0.45,0.45,0.455,0.46,0.46,0.46,0.465,0.465,0.475,0.475,0.48,0.5,0.5,0.505,0.515,0.525,0.525,0.53,0.53,0.53,0.54,0.55,0.555,0.57,0.57,0.575,0.58,0.585,0.59,0.595,0.595,0.595,0.6,0.6,0.6,0.61,0.615,0.615,0.615,0.62,0.62,0.62,0.625,0.625,0.625,0.63,0.63,0.63,0.635,0.635,0.645,0.645,0.65,0.67,0.69,0.69,0.695,0.695,0.7,0.705,0.765,0.77,0.22,0.275,0.29,0.33,0.355,0.375,0.415,0.425,0.425,0.43,0.44,0.44,0.46,0.46,0.465,0.475,0.475,0.485,0.49,0.49,0.495,0.5,0.5,0.505,0.51,0.51,0.515,0.52,0.545,0.545,0.545,0.545,0.55,0.55,0.555,0.565,0.57,0.57,0.57,0.575,0.58,0.585,0.585,0.59,0.59,0.59,0.595,0.595,0.595,0.6,0.605,0.615,0.615,0.615,0.615,0.62,0.62,0.625,0.625,0.625,0.63,0.63,0.63,0.645,0.645,0.645,0.65,0.65,0.65,0.65,0.65,0.66,0.665,0.67,0.67,0.675,0.68,0.68,0.7,0.7,0.725,0.725,0.735,0.74,0.75,0.19,0.21,0.25,0.29,0.335,0.34,0.345,0.355,0.36,0.37,0.375,0.375,0.385,0.385,0.395,0.4,0.405,0.405,0.405,0.405,0.41,0.41,0.415,0.42,0.42,0.43,0.445,0.45,0.45,0.455,0.46,0.46,0.475,0.48,0.485,0.485,0.49,0.505,0.505,0.51,0.515,0.515,0.515,0.525,0.525,0.525,0.525,0.535,0.545,0.55,0.55,0.55,0.55,0.55,0.555,0.555,0.56,0.56,0.565,0.57,0.575,0.58,0.58,0.58,0.585,0.585,0.585,0.585,0.59,0.59,0.595,0.6,0.6,0.6,0.6,0.61,0.61,0.615,0.62,0.62,0.625,0.625,0.63,0.63,0.63,0.63,0.64,0.64,0.64,0.64,0.64,0.65,0.65,0.66,0.66,0.675,0.7,0.705,0.71,0.72,0.725,0.24,0.255,0.275,0.32,0.325,0.33,0.36,0.375,0.375,0.39,0.45,0.455,0.46,0.495,0.5,0.5,0.52,0.52,0.525,0.535,0.54,0.54,0.57,0.57,0.58,0.58,0.59,0.59,0.59,0.595,0.6,0.6,0.605,0.62,0.625,0.625,0.625,0.63,0.63,0.635,0.645,0.645,0.65,0.655,0.655,0.665,0.695,0.72,0.72,0.72,0.735,0.74,0.31,0.315,0.32,0.325,0.335,0.37,0.37,0.375,0.4,0.41,0.425,0.435,0.445,0.46,0.465,0.47,0.475,0.495,0.5,0.5,0.505,0.505,0.505,0.51,0.51,0.52,0.52,0.53,0.53,0.535,0.54,0.54,0.545,0.545,0.55,0.55,0.55,0.56,0.56,0.575,0.575,0.575,0.58,0.58,0.58,0.58,0.58,0.58,0.585,0.59,0.59,0.59,0.595,0.595,0.6,0.6,0.6,0.6,0.6,0.605,0.605,0.605,0.61,0.61,0.61,0.61,0.615,0.615,0.615,0.615,0.62,0.62,0.625,0.625,0.625,0.625,0.625,0.63,0.63,0.63,0.63,0.635,0.635,0.635,0.635,0.635,0.64,0.64,0.645,0.645,0.645,0.65,0.65,0.655,0.655,0.66,0.66,0.665,0.67,0.67,0.67,0.67,0.67,0.68,0.68,0.685,0.69,0.715,0.72,0.735,0.745,0.32,0.43,0.43,0.485,0.49,0.5,0.505,0.51,0.525,0.535,0.535,0.535,0.555,0.555,0.56,0.59,0.595,0.595,0.595,0.61,0.61,0.62,0.625,0.635,0.635,0.64,0.64,0.645,0.655,0.67,0.68,0.7,0.73,0.75,0.255,0.375,0.375,0.39,0.39,0.395,0.42,0.435,0.435,0.44,0.45,0.45,0.455,0.46,0.47,0.475,0.495,0.495,0.5,0.515,0.52,0.52,0.525,0.535,0.535,0.54,0.55,0.55,0.56,0.565,0.57,0.57,0.575,0.575,0.575,0.575,0.58,0.585,0.59,0.59,0.59,0.595,0.595,0.595,0.6,0.6,0.61,0.615,0.615,0.62,0.625,0.63,0.63,0.635,0.635,0.635,0.64,0.64,0.65,0.65,0.655,0.655,0.655,0.66,0.665,0.675,0.68,0.68,0.685,0.695,0.7,0.71,0.73,0.755,0.225,0.23,0.255,0.355,0.425,0.425,0.455,0.46,0.495,0.51,0.52,0.525,0.53,0.53,0.545,0.55,0.575,0.58,0.595,0.6,0.645,0.66,0.29,0.3,0.37,0.375,0.38,0.395,0.41,0.415,0.425,0.44,0.44,0.465,0.47,0.51,0.525,0.525,0.55,0.56,0.575,0.575,0.585,0.615,0.62,0.63,0.63,0.67,0.675,0.685,0.485,0.46,0.46,0.535,0.465,0.51,0.335,0.55,0.18,0.215,0.2,0.625,0.55,0.585,0.645,0.71,0.7,0.655,0.665,0.47,0.425,0.54,0.505,0.535,0.43,0.55,0.34,0.275,0.335,0.64,0.55,0.64,0.545,0.64,0.605,0.605,0.56,0.57,0.525,0.505,0.35,0.45,0.51,0.49,0.505,0.38,0.27,0.37,0.5,0.645,0.565,0.67,0.59,0.47,0.51,0.72,0.55,0.2,0.65,0.525,0.565,0.61,0.545,0.325,0.31,0.45,0.49,0.505,0.385,0.62,0.635,0.665,0.335,0.295,0.48,0.32,0.43,0.565,0.6,0.585,0.555,0.57,0.62,0.63,0.425,0.64,0.675,0.5,0.385,0.52,0.52,0.64,0.44,0.42,0.45,0.42,0.64,0.57,0.41,0.485,0.61,0.59,0.665,0.345,0.635,0.695,0.69,0.555,0.65,0.635,0.655,0.69,0.695,0.55,0.61,0.595,0.3,0.435,0.455,0.48,0.43,0.435,0.3,0.575,0.505,0.455,0.64,0.56,0.645,0.595,0.565,0.655,0.48,0.495,0.4,0.41,0.595,0.625,0.52,0.465,0.475,0.5,0.46,0.485,0.465,0.525,0.655,0.69,0.55,0.58,0.59,0.565,0.665,0.62,0.55,0.605,0.535,0.51,0.53,0.495,0.575,0.63,0.59,0.605,0.645,0.62,0.605,0.615,0.66,0.71,0.565,0.57,0.6,0.41,0.45,0.275,0.485,0.62,0.48,0.505,0.4,0.45,0.35,0.44,0.265,0.165,0.705,0.535,0.49,0.48,0.395,0.375,0.345,0.55,0.635,0.575,0.545,0.385,0.51,0.44,0.45,0.39,0.425,0.45,0.66,0.685,0.585,0.54,0.49,0.43,0.455,0.495,0.48,0.47,0.415,0.49,0.47,0.445,0.51,0.52,0.475,0.455,0.435,0.39,0.375,0.285,0.58,0.58,0.41,0.41,0.54,0.33,0.44,0.28,0.59,0.61,0.61,0.455,0.33,0.44,0.54,0.475,0.46,0.31,0.255,0.335,0.295,0.19,0.545,0.495,0.5,0.305,0.475,0.515,0.545,0.74,0.565,0.56,0.545,0.645,0.575,0.62,0.605,0.605,0.475,0.365,0.46,0.53,0.48,0.455,0.35,0.37,0.34,0.35,0.35,0.39,0.395,0.415,0.43,0.48,0.49,0.49,0.56,0.56,0.58,0.58,0.59,0.595,0.6,0.61,0.63,0.64,0.65,0.71,0.74,0.25,0.28,0.325,0.35,0.36,0.365,0.37,0.375,0.38,0.395,0.43,0.44,0.465,0.465,0.48,0.485,0.49,0.495,0.5,0.505,0.52,0.52,0.525,0.55,0.555,0.555,0.575,0.6,0.61,0.61,0.61,0.615,0.62,0.625,0.625,0.625,0.635,0.64,0.64,0.66,0.665,0.715,0.72,0.725,0.165,0.21,0.355,0.4,0.4,0.4,0.435,0.44,0.45,0.465,0.47,0.47,0.475,0.485,0.505,0.51,0.52,0.53,0.535,0.55,0.555,0.555,0.555,0.56,0.575,0.585,0.59,0.595,0.6,0.6,0.61,0.615,0.62,0.625,0.625,0.64,0.64,0.645,0.65,0.655,0.655,0.66,0.67,0.69,0.7,0.7,0.71,0.715,0.72,0.215,0.24,0.26,0.32,0.33,0.335,0.35,0.35,0.36,0.36,0.365,0.38,0.4,0.4,0.4,0.425,0.43,0.435,0.435,0.445,0.45,0.455,0.46,0.475,0.475,0.475,0.48,0.495,0.5,0.505,0.515,0.525,0.53,0.53,0.535,0.535,0.54,0.55,0.565,0.57,0.57,0.57,0.575,0.575,0.575,0.575,0.58,0.58,0.58,0.58,0.585,0.585,0.595,0.6,0.6,0.6,0.6,0.6,0.6,0.62,0.625,0.625,0.625,0.625,0.625,0.63,0.635,0.65,0.65,0.65,0.65,0.655,0.655,0.66,0.66,0.675,0.685,0.715,0.735,0.175,0.37,0.395,0.42,0.455,0.495,0.51,0.515,0.545,0.555,0.58,0.59,0.6,0.61,0.615,0.615,0.615,0.62,0.63,0.64,0.64,0.655,0.655,0.66,0.665,0.67,0.69,0.715,0.735,0.27,0.285,0.295,0.3,0.3,0.36,0.37,0.39,0.435,0.44,0.44,0.445,0.465,0.465,0.47,0.475,0.475,0.475,0.485,0.49,0.515,0.52,0.525,0.525,0.53,0.53,0.53,0.53,0.535,0.535,0.545,0.545,0.55,0.55,0.55,0.555,0.575,0.575,0.585,0.585,0.585,0.59,0.595,0.595,0.595,0.595,0.6,0.6,0.605,0.605,0.61,0.61,0.615,0.62,0.62,0.62,0.62,0.625,0.625,0.63,0.63,0.64,0.645,0.65,0.65,0.65,0.65,0.65,0.65,0.65,0.65,0.66,0.66,0.665,0.67,0.67,0.67,0.675,0.675,0.675,0.685,0.685,0.705,0.705,0.71,0.725,0.78,0.235,0.35,0.36,0.38,0.38,0.43,0.465,0.47,0.485,0.495,0.5,0.505,0.51,0.51,0.515,0.55,0.575,0.605,0.615,0.615,0.625,0.625,0.635,0.65,0.65,0.67,0.695,0.705,0.275,0.285,0.36,0.385,0.4,0.43,0.435,0.45,0.475,0.475,0.485,0.51,0.515,0.52,0.525,0.53,0.53,0.53,0.53,0.53,0.535,0.535,0.555,0.555,0.56,0.56,0.565,0.575,0.575,0.575,0.58,0.58,0.585,0.585,0.59,0.595,0.615,0.615,0.62,0.62,0.62,0.625,0.625,0.63,0.63,0.645,0.65,0.65,0.655,0.665,0.67,0.675,0.675,0.695,0.695,0.705,0.74,0.205,0.305,0.32,0.355,0.425,0.425,0.45,0.515,0.52,0.525,0.555,0.61,0.35,0.38,0.46,0.465,0.475,0.565,0.57,0.57,0.595,0.605,0.615,0.62,0.625,0.68,0.68,0.68,0.71,0.5,0.545,0.46,0.535,0.335,0.425,0.41,0.17,0.335,0.52,0.53,0.5,0.615,0.575,0.57,0.455,0.37,0.445,0.675,0.385,0.375,0.56,0.55,0.57,0.485,0.41,0.335,0.655,0.565,0.57,0.55,0.63,0.475,0.655,0.32,0.525,0.525,0.5,0.44,0.49,0.545,0.45,0.515,0.33,0.525,0.295,0.545,0.645,0.45,0.61,0.38,0.565,0.67,0.54,0.29,0.41,0.46,0.56,0.575,0.62,0.515,0.56,0.5,0.435,0.495,0.595,0.76,0.615,0.565,0.14,0.445,0.525,0.16,0.635,0.575,0.38,0.245,0.48,0.455,0.455,0.455,0.355,0.52,0.54,0.52,0.56,0.52,0.615,0.645,0.565,0.295,0.375,0.525,0.395,0.5,0.47,0.58,0.5,0.725,0.65,0.67,0.55,0.49,0.235,0.235,0.52,0.475,0.53,0.35,0.555,0.505,0.54,0.525,0.55,0.55,0.235,0.525,0.475,0.53,0.525,0.53,0.465,0.315,0.465,0.485,0.49,0.515,0.555,0.61,0.68,0.69,0.695,0.72,0.27,0.27,0.295,0.295,0.315,0.375,0.38,0.385,0.4,0.415,0.415,0.42,0.44,0.45,0.475,0.485,0.495,0.525,0.565,0.58,0.585,0.6,0.63,0.645,0.655,0.665,0.67,0.67,0.685,0.7,0.72,0.185,0.245,0.315,0.36,0.375,0.415,0.455,0.48,0.485,0.51,0.52,0.555,0.585,0.585,0.585,0.61,0.61,0.615,0.62,0.625,0.625,0.635,0.64,0.66,0.66,0.66,0.68,0.69,0.72,0.275,0.33,0.33,0.365,0.365,0.42,0.435,0.435,0.44,0.485,0.495,0.51,0.52,0.54,0.54,0.55,0.56,0.575,0.575,0.575,0.58,0.58,0.59,0.6,0.62,0.625,0.625,0.625,0.625,0.625,0.625,0.635,0.645,0.645,0.69,0.695,0.515,0.545,0.62,0.63,0.63,0.64,0.37,0.395,0.4,0.41,0.455,0.48,0.485,0.5,0.515,0.52,0.545,0.545,0.55,0.55,0.55,0.555,0.56,0.565,0.57,0.575,0.585,0.59,0.595,0.6,0.61,0.615,0.625,0.625,0.63,0.63,0.635,0.635,0.635,0.65,0.67,0.675,0.675,0.68,0.7,0.71,0.715,0.72,0.42,0.48,0.48,0.51,0.515,0.56,0.56,0.57,0.605,0.625,0.64,0.65,0.3,0.35,0.455,0.46,0.49,0.5,0.54,0.55,0.55,0.555,0.57,0.58,0.58,0.585,0.585,0.595,0.6,0.615,0.63,0.63,0.635,0.645,0.65,0.655,0.655,0.67,0.67,0.695,0.695,0.77,0.28,0.33,0.35,0.37,0.43,0.435,0.44,0.475,0.475,0.48,0.56,0.585,0.585,0.385,0.39,0.39,0.405,0.475,0.5,0.515,0.52,0.55,0.56,0.565,0.59,0.6,0.625,0.71],\"xaxis\":\"x\",\"y\":[15,7,9,10,7,8,20,16,9,19,14,10,11,10,10,12,7,10,7,9,11,10,12,9,10,11,11,12,15,11,10,15,18,19,13,8,16,8,11,9,9,14,5,5,4,7,9,7,6,9,8,7,10,10,7,8,8,8,4,7,7,9,10,7,8,8,12,13,10,6,13,8,20,11,13,15,9,10,11,14,9,12,16,21,14,12,13,10,9,12,15,12,13,10,15,14,9,8,7,10,7,15,15,10,12,12,11,10,9,9,9,9,9,9,11,11,11,10,9,8,9,7,14,6,6,5,6,8,19,18,17,9,7,7,7,8,7,9,9,9,10,10,16,11,10,10,10,9,5,4,15,9,10,10,12,10,13,16,13,13,13,13,12,18,16,14,20,20,14,12,14,7,8,8,5,7,5,8,4,11,14,21,10,10,12,13,12,10,11,9,13,12,14,8,10,12,11,16,15,10,9,13,12,13,8,9,9,8,13,7,10,7,12,9,14,10,8,7,10,8,9,11,9,11,10,9,7,7,11,15,13,14,22,7,12,9,1,3,3,5,17,5,5,8,8,10,13,9,7,7,7,13,12,15,15,15,19,10,15,13,11,12,11,4,6,11,14,8,9,13,22,16,14,15,13,22,12,18,20,11,15,7,9,14,14,10,10,17,9,10,17,12,15,19,26,6,6,4,11,9,9,13,8,6,10,4,3,13,14,10,21,14,19,23,23,8,14,10,18,6,5,4,11,5,7,7,7,12,8,8,12,8,5,5,16,11,14,16,13,15,14,14,12,12,8,13,9,6,8,14,8,22,12,9,16,20,13,18,17,16,18,12,20,16,12,19,11,10,12,17,16,16,19,14,13,20,11,10,15,12,15,10,10,12,10,9,12,10,14,9,10,10,10,9,6,11,10,8,12,11,9,9,7,10,7,12,8,16,11,8,15,14,11,12,14,15,20,20,16,13,14,11,13,8,6,13,18,19,21,18,18,20,18,22,13,11,7,14,9,13,10,8,19,10,10,9,13,16,12,18,16,16,17,11,14,11,15,9,10,11,11,12,6,5,6,5,12,13,17,21,9,10,9,11,10,17,9,17,21,16,29,17,15,19,12,13,11,15,11,14,14,13,11,15,17,15,12,19,11,10,12,23,15,13,17,15,12,15,11,16,10,10,10,6,5,6,9,5,4,6,3,5,9,5,4,4,3,14,12,9,20,13,12,9,10,11,11,7,5,10,15,11,15,8,10,11,8,7,12,11,17,13,12,13,9,10,14,12,13,13,8,13,11,11,14,10,12,12,7,11,16,14,20,17,10,11,10,10,11,17,11,14,19,13,11,11,10,13,14,13,13,9,18,19,12,13,9,13,12,16,17,10,13,11,12,13,9,10,10,12,12,4,9,18,15,13,12,7,9,7,10,18,12,17,15,12,10,8,21,10,9,7,10,9,9,8,7,6,14,13,7,13,19,7,9,11,6,9,11,9,5,6,11,7,10,7,17,16,18,11,18,11,10,12,19,10,11,15,13,13,14,17,19,21,23,22,12,11,23,8,7,10,7,16,10,15,13,16,11,11,10,5,11,9,4,7,4,5,13,16,12,14,9,12,9,10,11,10,10,7,7,11,7,8,9,7,8,6,4,2,3,13,15,15,11,17,10,12,13,15,11,13,15,13,18,10,12,12,14,10,14,8,14,17,20,17,17,9,14,15,13,10,13,13,20,13,20,15,13,15,15,16,17,14,14,11,13,9,11,17,11,8,8,9,10,11,15,13,15,15,13,12,10,6,5,15,9,12,9,12,10,10,9,12,12,15,11,9,11,11,10,10,9,7,10,7,6,15,10,12,12,21,6,5,7,7,6,6,6,7,7,6,7,6,7,7,6,6,6,7,6,6,9,7,7,8,8,9,8,9,8,9,9,8,8,9,11,10,8,10,10,9,10,9,10,9,9,12,10,8,6,12,11,10,11,10,9,12,10,9,12,11,9,11,11,14,9,10,9,8,11,9,17,15,10,10,12,9,11,11,11,17,6,5,3,6,4,6,4,5,4,6,5,6,8,5,6,6,7,7,5,7,7,6,7,6,6,7,7,6,6,5,6,6,6,7,7,8,6,6,7,6,7,7,8,7,7,7,6,7,7,7,7,7,6,8,8,9,6,6,6,8,7,7,8,8,7,6,8,7,7,9,8,9,8,8,7,7,8,8,8,7,8,11,8,8,7,8,8,8,9,9,9,8,10,10,8,8,7,9,9,7,8,10,8,9,11,8,8,11,11,9,9,9,9,9,11,11,10,8,11,10,10,10,9,9,8,11,8,11,10,10,11,10,10,11,8,8,11,10,10,9,11,10,9,10,11,9,10,6,11,10,12,12,8,10,10,12,11,10,11,11,12,4,3,4,4,4,4,5,7,6,5,5,6,6,6,5,6,6,6,7,6,7,7,6,7,7,6,7,7,6,7,7,7,7,8,8,6,7,6,6,7,7,6,6,7,8,7,7,9,8,6,7,8,6,9,8,8,9,8,8,7,8,9,9,8,8,9,10,7,9,9,8,8,10,9,8,8,8,9,8,9,9,8,8,7,10,9,9,9,10,9,9,8,9,9,9,8,9,9,7,8,9,8,8,10,9,9,10,9,8,9,9,10,9,9,8,8,8,9,8,8,10,9,10,10,10,9,11,11,10,11,8,9,9,14,10,9,12,9,10,9,12,9,9,11,12,10,10,10,8,12,12,11,11,11,11,10,11,6,4,5,5,6,5,5,5,5,6,7,5,7,6,6,5,6,8,4,6,7,7,7,6,5,7,6,6,8,7,6,8,9,8,7,5,7,8,8,5,5,6,7,6,7,7,7,8,8,7,9,9,8,8,8,7,9,8,11,8,8,8,8,8,8,9,8,8,8,7,8,9,9,9,9,7,9,8,7,8,7,13,9,10,9,9,9,9,10,9,9,9,8,9,9,10,9,8,9,10,8,11,9,9,10,9,9,10,9,9,9,9,10,9,11,8,8,11,10,8,9,10,10,9,10,9,10,10,10,8,9,10,10,10,10,10,8,9,9,10,10,12,10,11,10,11,10,11,11,10,11,9,12,10,12,10,9,10,10,10,10,10,12,10,9,10,10,12,10,10,9,11,9,12,9,11,12,10,12,10,9,9,10,10,15,10,11,10,11,11,11,11,9,10,10,13,10,10,10,10,10,11,10,13,9,11,12,10,11,12,11,13,12,11,11,12,9,14,14,3,4,7,5,6,7,5,5,6,7,8,7,6,5,9,6,6,5,8,9,6,7,8,9,6,6,8,7,7,7,6,8,6,7,9,9,8,8,7,8,8,9,8,9,8,9,8,9,8,9,8,9,9,8,8,9,8,9,8,9,11,9,9,11,8,10,8,9,10,11,9,10,9,11,10,10,8,9,10,11,11,10,10,9,8,11,11,10,10,11,10,10,12,11,12,11,11,10,12,13,10,11,5,5,6,6,6,5,5,6,7,8,7,7,7,6,7,7,6,8,7,8,7,7,7,8,8,7,8,7,7,6,8,7,10,7,7,9,8,8,8,7,8,9,8,8,7,8,8,8,8,8,8,9,7,6,9,10,8,8,9,7,8,9,8,7,9,7,10,9,11,7,9,9,9,10,9,10,8,9,8,8,10,9,12,8,8,9,8,11,10,8,10,9,9,9,10,8,9,9,10,9,12,8,10,10,9,10,8,9,10,8,9,13,8,10,10,9,10,10,10,11,8,10,10,8,8,9,9,8,10,9,10,9,8,9,8,9,11,10,10,12,9,10,9,9,7,10,9,12,12,13,11,11,12,9,10,12,9,11,10,9,12,10,9,9,8,11,10,11,13,12,10,9,10,10,11,10,12,14,9,10,9,9,10,10,9,12,9,11,11,9,10,9,12,11,9,12,10,14,11,11,11,12,9,12,11,13,10,11,13,10,10,11,11,11,12,10,15,11,11,12,10,11,10,13,7,14,11,11,12,11,12,12,12,5,6,7,7,8,7,6,8,8,10,7,8,9,9,8,9,9,8,10,7,8,8,8,8,10,9,10,10,9,10,10,10,10,8,11,9,9,10,11,10,10,9,11,11,10,8,9,11,10,9,10,11,10,9,10,11,13,9,11,11,5,4,7,6,7,6,7,6,8,6,7,7,6,6,8,11,8,7,7,8,7,8,7,8,9,7,8,9,8,8,8,9,11,8,10,10,10,8,8,9,9,7,10,9,8,9,8,9,9,9,9,9,9,8,10,9,10,6,8,8,7,9,9,9,11,7,11,9,9,10,11,11,9,13,9,9,9,10,11,10,9,10,11,9,9,9,10,10,10,9,10,11,11,10,11,10,9,10,8,10,8,11,11,9,12,10,11,9,11,15,9,12,11,9,10,11,11,11,9,11,11,11,12,12,10,11,10,10,10,9,11,12,11,16,10,13,10,11,10,9,10,11,10,12,12,12,11,11,12,10,10,11,13,13,12,13,10,12,11,11,11,13,4,4,5,6,7,6,5,6,6,6,7,6,7,6,9,6,7,6,7,7,7,8,7,8,7,8,7,10,10,8,9,12,10,9,9,9,9,9,11,10,9,9,10,9,10,10,12,10,14,9,5,5,5,6,8,8,8,7,7,8,7,6,9,8,8,8,8,7,7,9,7,8,8,8,9,8,7,8,8,8,10,9,9,9,11,9,8,7,11,9,10,8,8,9,9,8,10,11,12,10,10,11,12,10,17,8,10,11,7,7,11,7,8,10,10,19,9,9,11,10,14,15,27,13,5,9,8,7,4,3,6,7,8,9,7,9,11,6,7,8,10,7,12,12,9,6,10,9,8,12,9,10,16,14,10,7,9,10,9,9,11,12,8,7,10,18,8,5,10,16,12,17,14,12,19,17,11,9,5,9,6,5,6,4,7,6,5,10,13,12,20,14,15,14,21,16,13,6,6,9,9,14,12,10,11,15,14,6,13,5,11,10,6,21,13,25,19,18,7,6,5,8,16,27,18,17,13,17,8,10,7,13,14,13,8,17,13,14,9,13,7,7,12,7,13,9,9,17,14,13,15,17,8,8,12,11,7,10,11,9,10,9,6,12,11,13,14,11,14,12,8,13,8,13,10,11,17,13,14,13,14,15,13,12,18,14,15,13,15,20,14,19,9,10,9,8,10,7,9,9,9,7,6,10,6,10,9,6,12,10,13,8,7,8,10,10,9,11,11,23,12,16,11,13,13,7,8,16,14,17,13,13,12,15,10,14,12,8,17,10,11,13,15,15,9,15,9,13,23,23,18,11,17,17,11,7,6,6,21,17,13,11,16,9,12,19,18,17,11,13,13,17,20,13,11,12,18,18,15,12,19,15,16,12,8,3,12,12,12,10,8,12,12,10,5,5,11,16,11,12,14,11,10,11,16,10,10,7,14,14,14,17,14,17,13,12,16,10,15,15,10,12,15,8,10,9,7,12,9,10,18,11,18,10,13,15,12,10,6,13,14,6,10,9,11,18,11,16,16,14,23,9,16,9,13,10,9,11,9,12,14,6,7,9,10,10,9,8,5,6,5,5,4,20,14,13,8,17,11,11,9,16,8,13,11,20,14,14,14,12,18,13,8,14,13,8,12,14,14,8,13,11,14,15,7,10,11,8,9,12,15,12,15,19,12,9,5,6,6,6,7,7,6,6,8,6,8,8,8,8,10,7,8,7,9,9,11,9,11,9,9,10,9,8,9,10,10,10,12,11,12,11,15,13,13,9,14,10,10,4,4,5,4,5,5,6,6,7,7,6,6,7,6,7,7,6,6,7,6,8,7,6,7,6,7,9,7,8,8,7,7,7,9,7,8,6,6,8,9,8,7,9,8,7,8,8,7,9,9,11,8,8,9,8,10,10,8,9,10,9,10,9,8,11,9,8,11,11,9,12,9,9,13,8,10,12,13,10,12,10,4,5,5,6,6,6,8,6,7,7,7,7,7,6,7,7,7,8,8,8,7,8,9,7,8,8,9,9,9,7,7,9,8,8,8,9,9,9,9,8,8,7,8,8,9,8,8,9,9,10,10,9,7,9,10,9,10,11,9,10,11,10,8,9,9,9,9,9,10,9,9,10,9,11,13,13,11,11,10,13,11,9,11,12,11,3,4,4,5,6,6,6,7,5,7,8,7,7,8,8,7,7,8,7,6,8,8,7,8,8,7,9,8,7,8,8,8,7,11,8,8,10,9,9,8,9,7,8,8,10,8,9,10,8,10,10,9,10,9,11,8,10,11,11,10,9,10,11,9,10,10,9,8,9,10,10,8,11,9,9,10,11,10,9,10,10,10,12,10,12,10,11,10,10,11,10,9,12,9,11,9,13,9,11,10,9,5,4,4,7,6,7,8,5,6,7,7,7,7,8,9,8,9,7,9,7,9,9,8,8,9,8,9,10,9,9,9,10,10,10,10,8,9,10,10,12,9,8,11,11,11,11,11,11,10,12,10,11,6,4,5,6,7,5,7,7,8,6,8,7,7,9,8,8,8,8,9,8,9,8,8,9,8,8,8,8,10,8,11,10,8,10,8,8,9,8,9,8,9,8,8,10,9,9,11,11,9,9,9,10,10,10,9,10,10,9,11,13,9,10,11,12,11,11,11,9,10,10,9,10,11,10,11,10,10,10,9,10,7,11,11,10,8,11,11,11,12,11,12,15,12,11,12,13,10,10,9,12,9,9,10,11,12,10,13,11,13,12,12,6,8,6,8,8,7,8,9,8,10,8,13,10,9,9,9,8,8,11,9,9,10,9,9,11,9,11,10,10,11,13,11,14,12,4,6,8,7,8,6,6,7,8,9,8,8,9,8,8,9,7,8,8,7,11,11,8,9,8,10,10,11,9,9,10,10,9,8,10,9,10,11,9,8,9,12,9,9,11,12,11,11,13,11,11,11,10,11,9,9,11,9,11,12,11,9,11,10,10,11,11,11,10,11,11,13,14,11,4,5,6,7,7,8,8,10,10,11,11,9,9,9,11,8,9,10,11,8,11,10,5,5,5,7,7,8,8,7,7,7,6,10,8,8,10,9,7,8,9,10,10,11,9,10,10,11,11,10,9,8,9,11,10,10,11,20,5,5,4,9,13,14,13,12,24,10,21,11,9,7,9,10,9,9,6,7,6,15,9,13,9,18,15,15,10,14,13,11,6,9,11,12,15,8,8,7,11,10,11,13,11,6,8,16,7,5,13,14,20,12,18,5,7,11,9,10,6,17,17,15,9,8,15,9,14,12,10,14,13,14,11,16,10,14,16,11,9,18,8,16,9,10,13,9,12,11,12,13,12,13,14,8,18,14,15,15,14,15,14,19,13,13,15,11,6,9,8,12,6,7,5,12,9,7,18,13,12,14,17,12,14,11,10,11,12,13,17,11,13,18,12,12,15,12,18,24,11,13,11,11,13,14,12,15,15,12,9,11,13,14,14,14,17,13,16,16,11,15,12,16,16,10,9,5,9,13,12,17,11,11,9,16,7,4,19,16,11,15,12,12,10,12,16,13,10,10,11,13,12,8,12,11,15,16,12,17,12,14,13,13,12,14,11,13,10,11,13,15,8,10,10,6,8,5,20,19,9,9,10,11,11,5,17,13,17,12,10,16,19,10,10,6,5,8,8,5,19,15,14,7,13,13,18,13,16,10,13,19,10,13,13,18,12,9,8,10,18,13,9,8,7,8,6,7,7,6,7,8,9,7,9,7,9,8,8,10,11,9,11,10,10,13,13,4,6,6,5,6,6,6,7,6,8,6,8,7,7,8,7,9,8,8,8,7,7,7,8,8,8,8,9,12,10,8,8,9,11,10,11,10,9,9,10,11,10,11,9,3,4,6,6,7,6,7,7,8,6,7,7,8,7,8,8,8,8,10,8,8,8,9,8,8,9,10,9,8,12,10,11,10,10,9,11,9,10,9,11,11,9,10,12,11,11,11,10,11,3,4,4,6,6,6,7,6,6,7,7,7,6,6,9,8,6,7,8,8,8,8,8,9,8,7,9,7,9,8,9,8,9,8,8,9,8,10,10,10,9,8,8,9,9,9,10,10,11,9,9,9,10,9,8,11,11,10,9,10,9,10,9,11,9,11,10,12,11,11,9,11,8,12,11,10,11,12,12,4,8,5,7,8,8,7,8,7,9,9,10,10,11,11,9,14,9,11,12,9,8,10,10,9,10,10,10,13,6,7,5,5,5,6,6,8,6,8,8,7,9,8,8,7,9,9,8,9,9,8,10,10,9,9,9,11,7,10,9,10,10,8,9,9,9,8,11,10,9,8,10,10,10,12,10,10,11,10,10,9,11,11,10,11,10,14,11,11,9,13,12,11,11,10,10,13,12,10,11,10,10,11,11,11,9,11,11,9,10,11,11,10,11,11,11,5,7,7,7,7,9,9,9,7,9,8,7,10,9,9,9,10,10,10,9,10,9,9,9,11,12,13,12,5,5,7,6,6,7,8,7,8,8,8,8,9,10,9,9,9,10,8,11,10,9,10,10,9,9,9,10,9,9,9,8,13,9,9,10,10,10,11,12,11,9,10,12,8,10,10,11,13,14,10,12,11,13,10,11,12,3,6,7,7,9,8,8,10,8,8,9,12,8,6,8,8,8,9,8,10,10,9,9,7,11,10,11,11,12,14,10,14,11,6,7,9,4,8,8,9,11,9,16,14,11,6,9,14,6,7,10,12,9,11,8,9,16,12,9,14,14,10,18,5,19,10,15,8,9,15,12,9,5,12,9,16,15,10,15,7,10,15,10,9,7,7,9,12,12,16,12,13,9,12,13,14,17,10,4,15,12,4,16,16,6,4,13,9,10,13,10,15,11,19,11,10,13,18,11,8,10,10,12,20,8,14,12,10,16,21,17,11,6,5,11,13,13,10,14,11,15,11,14,20,6,13,16,12,13,13,13,5,8,7,9,12,10,9,11,11,10,10,4,5,6,6,6,6,6,6,6,8,7,8,6,7,7,8,6,7,8,6,6,10,11,10,11,8,11,10,9,10,12,4,5,6,6,6,6,7,6,8,8,10,9,9,11,12,8,9,9,8,8,10,10,9,11,8,10,11,10,11,6,6,7,7,6,8,7,7,8,8,10,7,11,8,10,11,11,12,10,10,8,10,9,11,11,13,9,9,10,13,10,10,9,11,11,10,8,8,10,9,11,9,6,7,6,7,8,7,8,8,9,8,8,8,9,10,8,8,11,9,10,10,11,8,10,9,9,11,12,11,11,13,11,12,9,9,9,9,11,11,10,11,9,11,7,7,8,9,8,9,8,9,10,9,9,9,4,7,9,8,8,8,9,11,10,8,10,10,11,10,11,9,11,9,11,11,10,10,11,13,13,11,11,10,11,11,6,7,6,7,8,6,6,8,8,8,9,11,11,8,7,7,7,10,9,8,10,10,8,11,10,9,10,12],\"yaxis\":\"y\",\"type\":\"scattergl\"}],                        {\"template\":{\"data\":{\"histogram2dcontour\":[{\"type\":\"histogram2dcontour\",\"colorbar\":{\"outlinewidth\":0,\"ticks\":\"\"},\"colorscale\":[[0.0,\"#0d0887\"],[0.1111111111111111,\"#46039f\"],[0.2222222222222222,\"#7201a8\"],[0.3333333333333333,\"#9c179e\"],[0.4444444444444444,\"#bd3786\"],[0.5555555555555556,\"#d8576b\"],[0.6666666666666666,\"#ed7953\"],[0.7777777777777778,\"#fb9f3a\"],[0.8888888888888888,\"#fdca26\"],[1.0,\"#f0f921\"]]}],\"choropleth\":[{\"type\":\"choropleth\",\"colorbar\":{\"outlinewidth\":0,\"ticks\":\"\"}}],\"histogram2d\":[{\"type\":\"histogram2d\",\"colorbar\":{\"outlinewidth\":0,\"ticks\":\"\"},\"colorscale\":[[0.0,\"#0d0887\"],[0.1111111111111111,\"#46039f\"],[0.2222222222222222,\"#7201a8\"],[0.3333333333333333,\"#9c179e\"],[0.4444444444444444,\"#bd3786\"],[0.5555555555555556,\"#d8576b\"],[0.6666666666666666,\"#ed7953\"],[0.7777777777777778,\"#fb9f3a\"],[0.8888888888888888,\"#fdca26\"],[1.0,\"#f0f921\"]]}],\"heatmap\":[{\"type\":\"heatmap\",\"colorbar\":{\"outlinewidth\":0,\"ticks\":\"\"},\"colorscale\":[[0.0,\"#0d0887\"],[0.1111111111111111,\"#46039f\"],[0.2222222222222222,\"#7201a8\"],[0.3333333333333333,\"#9c179e\"],[0.4444444444444444,\"#bd3786\"],[0.5555555555555556,\"#d8576b\"],[0.6666666666666666,\"#ed7953\"],[0.7777777777777778,\"#fb9f3a\"],[0.8888888888888888,\"#fdca26\"],[1.0,\"#f0f921\"]]}],\"heatmapgl\":[{\"type\":\"heatmapgl\",\"colorbar\":{\"outlinewidth\":0,\"ticks\":\"\"},\"colorscale\":[[0.0,\"#0d0887\"],[0.1111111111111111,\"#46039f\"],[0.2222222222222222,\"#7201a8\"],[0.3333333333333333,\"#9c179e\"],[0.4444444444444444,\"#bd3786\"],[0.5555555555555556,\"#d8576b\"],[0.6666666666666666,\"#ed7953\"],[0.7777777777777778,\"#fb9f3a\"],[0.8888888888888888,\"#fdca26\"],[1.0,\"#f0f921\"]]}],\"contourcarpet\":[{\"type\":\"contourcarpet\",\"colorbar\":{\"outlinewidth\":0,\"ticks\":\"\"}}],\"contour\":[{\"type\":\"contour\",\"colorbar\":{\"outlinewidth\":0,\"ticks\":\"\"},\"colorscale\":[[0.0,\"#0d0887\"],[0.1111111111111111,\"#46039f\"],[0.2222222222222222,\"#7201a8\"],[0.3333333333333333,\"#9c179e\"],[0.4444444444444444,\"#bd3786\"],[0.5555555555555556,\"#d8576b\"],[0.6666666666666666,\"#ed7953\"],[0.7777777777777778,\"#fb9f3a\"],[0.8888888888888888,\"#fdca26\"],[1.0,\"#f0f921\"]]}],\"surface\":[{\"type\":\"surface\",\"colorbar\":{\"outlinewidth\":0,\"ticks\":\"\"},\"colorscale\":[[0.0,\"#0d0887\"],[0.1111111111111111,\"#46039f\"],[0.2222222222222222,\"#7201a8\"],[0.3333333333333333,\"#9c179e\"],[0.4444444444444444,\"#bd3786\"],[0.5555555555555556,\"#d8576b\"],[0.6666666666666666,\"#ed7953\"],[0.7777777777777778,\"#fb9f3a\"],[0.8888888888888888,\"#fdca26\"],[1.0,\"#f0f921\"]]}],\"mesh3d\":[{\"type\":\"mesh3d\",\"colorbar\":{\"outlinewidth\":0,\"ticks\":\"\"}}],\"scatter\":[{\"fillpattern\":{\"fillmode\":\"overlay\",\"size\":10,\"solidity\":0.2},\"type\":\"scatter\"}],\"parcoords\":[{\"type\":\"parcoords\",\"line\":{\"colorbar\":{\"outlinewidth\":0,\"ticks\":\"\"}}}],\"scatterpolargl\":[{\"type\":\"scatterpolargl\",\"marker\":{\"colorbar\":{\"outlinewidth\":0,\"ticks\":\"\"}}}],\"bar\":[{\"error_x\":{\"color\":\"#2a3f5f\"},\"error_y\":{\"color\":\"#2a3f5f\"},\"marker\":{\"line\":{\"color\":\"#E5ECF6\",\"width\":0.5},\"pattern\":{\"fillmode\":\"overlay\",\"size\":10,\"solidity\":0.2}},\"type\":\"bar\"}],\"scattergeo\":[{\"type\":\"scattergeo\",\"marker\":{\"colorbar\":{\"outlinewidth\":0,\"ticks\":\"\"}}}],\"scatterpolar\":[{\"type\":\"scatterpolar\",\"marker\":{\"colorbar\":{\"outlinewidth\":0,\"ticks\":\"\"}}}],\"histogram\":[{\"marker\":{\"pattern\":{\"fillmode\":\"overlay\",\"size\":10,\"solidity\":0.2}},\"type\":\"histogram\"}],\"scattergl\":[{\"type\":\"scattergl\",\"marker\":{\"colorbar\":{\"outlinewidth\":0,\"ticks\":\"\"}}}],\"scatter3d\":[{\"type\":\"scatter3d\",\"line\":{\"colorbar\":{\"outlinewidth\":0,\"ticks\":\"\"}},\"marker\":{\"colorbar\":{\"outlinewidth\":0,\"ticks\":\"\"}}}],\"scattermapbox\":[{\"type\":\"scattermapbox\",\"marker\":{\"colorbar\":{\"outlinewidth\":0,\"ticks\":\"\"}}}],\"scatterternary\":[{\"type\":\"scatterternary\",\"marker\":{\"colorbar\":{\"outlinewidth\":0,\"ticks\":\"\"}}}],\"scattercarpet\":[{\"type\":\"scattercarpet\",\"marker\":{\"colorbar\":{\"outlinewidth\":0,\"ticks\":\"\"}}}],\"carpet\":[{\"aaxis\":{\"endlinecolor\":\"#2a3f5f\",\"gridcolor\":\"white\",\"linecolor\":\"white\",\"minorgridcolor\":\"white\",\"startlinecolor\":\"#2a3f5f\"},\"baxis\":{\"endlinecolor\":\"#2a3f5f\",\"gridcolor\":\"white\",\"linecolor\":\"white\",\"minorgridcolor\":\"white\",\"startlinecolor\":\"#2a3f5f\"},\"type\":\"carpet\"}],\"table\":[{\"cells\":{\"fill\":{\"color\":\"#EBF0F8\"},\"line\":{\"color\":\"white\"}},\"header\":{\"fill\":{\"color\":\"#C8D4E3\"},\"line\":{\"color\":\"white\"}},\"type\":\"table\"}],\"barpolar\":[{\"marker\":{\"line\":{\"color\":\"#E5ECF6\",\"width\":0.5},\"pattern\":{\"fillmode\":\"overlay\",\"size\":10,\"solidity\":0.2}},\"type\":\"barpolar\"}],\"pie\":[{\"automargin\":true,\"type\":\"pie\"}]},\"layout\":{\"autotypenumbers\":\"strict\",\"colorway\":[\"#636efa\",\"#EF553B\",\"#00cc96\",\"#ab63fa\",\"#FFA15A\",\"#19d3f3\",\"#FF6692\",\"#B6E880\",\"#FF97FF\",\"#FECB52\"],\"font\":{\"color\":\"#2a3f5f\"},\"hovermode\":\"closest\",\"hoverlabel\":{\"align\":\"left\"},\"paper_bgcolor\":\"white\",\"plot_bgcolor\":\"#E5ECF6\",\"polar\":{\"bgcolor\":\"#E5ECF6\",\"angularaxis\":{\"gridcolor\":\"white\",\"linecolor\":\"white\",\"ticks\":\"\"},\"radialaxis\":{\"gridcolor\":\"white\",\"linecolor\":\"white\",\"ticks\":\"\"}},\"ternary\":{\"bgcolor\":\"#E5ECF6\",\"aaxis\":{\"gridcolor\":\"white\",\"linecolor\":\"white\",\"ticks\":\"\"},\"baxis\":{\"gridcolor\":\"white\",\"linecolor\":\"white\",\"ticks\":\"\"},\"caxis\":{\"gridcolor\":\"white\",\"linecolor\":\"white\",\"ticks\":\"\"}},\"coloraxis\":{\"colorbar\":{\"outlinewidth\":0,\"ticks\":\"\"}},\"colorscale\":{\"sequential\":[[0.0,\"#0d0887\"],[0.1111111111111111,\"#46039f\"],[0.2222222222222222,\"#7201a8\"],[0.3333333333333333,\"#9c179e\"],[0.4444444444444444,\"#bd3786\"],[0.5555555555555556,\"#d8576b\"],[0.6666666666666666,\"#ed7953\"],[0.7777777777777778,\"#fb9f3a\"],[0.8888888888888888,\"#fdca26\"],[1.0,\"#f0f921\"]],\"sequentialminus\":[[0.0,\"#0d0887\"],[0.1111111111111111,\"#46039f\"],[0.2222222222222222,\"#7201a8\"],[0.3333333333333333,\"#9c179e\"],[0.4444444444444444,\"#bd3786\"],[0.5555555555555556,\"#d8576b\"],[0.6666666666666666,\"#ed7953\"],[0.7777777777777778,\"#fb9f3a\"],[0.8888888888888888,\"#fdca26\"],[1.0,\"#f0f921\"]],\"diverging\":[[0,\"#8e0152\"],[0.1,\"#c51b7d\"],[0.2,\"#de77ae\"],[0.3,\"#f1b6da\"],[0.4,\"#fde0ef\"],[0.5,\"#f7f7f7\"],[0.6,\"#e6f5d0\"],[0.7,\"#b8e186\"],[0.8,\"#7fbc41\"],[0.9,\"#4d9221\"],[1,\"#276419\"]]},\"xaxis\":{\"gridcolor\":\"white\",\"linecolor\":\"white\",\"ticks\":\"\",\"title\":{\"standoff\":15},\"zerolinecolor\":\"white\",\"automargin\":true,\"zerolinewidth\":2},\"yaxis\":{\"gridcolor\":\"white\",\"linecolor\":\"white\",\"ticks\":\"\",\"title\":{\"standoff\":15},\"zerolinecolor\":\"white\",\"automargin\":true,\"zerolinewidth\":2},\"scene\":{\"xaxis\":{\"backgroundcolor\":\"#E5ECF6\",\"gridcolor\":\"white\",\"linecolor\":\"white\",\"showbackground\":true,\"ticks\":\"\",\"zerolinecolor\":\"white\",\"gridwidth\":2},\"yaxis\":{\"backgroundcolor\":\"#E5ECF6\",\"gridcolor\":\"white\",\"linecolor\":\"white\",\"showbackground\":true,\"ticks\":\"\",\"zerolinecolor\":\"white\",\"gridwidth\":2},\"zaxis\":{\"backgroundcolor\":\"#E5ECF6\",\"gridcolor\":\"white\",\"linecolor\":\"white\",\"showbackground\":true,\"ticks\":\"\",\"zerolinecolor\":\"white\",\"gridwidth\":2}},\"shapedefaults\":{\"line\":{\"color\":\"#2a3f5f\"}},\"annotationdefaults\":{\"arrowcolor\":\"#2a3f5f\",\"arrowhead\":0,\"arrowwidth\":1},\"geo\":{\"bgcolor\":\"white\",\"landcolor\":\"#E5ECF6\",\"subunitcolor\":\"white\",\"showland\":true,\"showlakes\":true,\"lakecolor\":\"white\"},\"title\":{\"x\":0.05},\"mapbox\":{\"style\":\"light\"}}},\"xaxis\":{\"anchor\":\"y\",\"domain\":[0.0,1.0],\"title\":{\"text\":\"Length (mm)\"}},\"yaxis\":{\"anchor\":\"x\",\"domain\":[0.0,1.0],\"title\":{\"text\":\"Age (years)\"}},\"coloraxis\":{\"colorbar\":{\"title\":{\"text\":\"Sex\"}},\"colorscale\":[[0.0,\"#0d0887\"],[0.1111111111111111,\"#46039f\"],[0.2222222222222222,\"#7201a8\"],[0.3333333333333333,\"#9c179e\"],[0.4444444444444444,\"#bd3786\"],[0.5555555555555556,\"#d8576b\"],[0.6666666666666666,\"#ed7953\"],[0.7777777777777778,\"#fb9f3a\"],[0.8888888888888888,\"#fdca26\"],[1.0,\"#f0f921\"]]},\"legend\":{\"tracegroupgap\":0},\"title\":{\"text\":\"Relationship between Abalone Age and Length\"}},                        {\"responsive\": true}                    ).then(function(){\n",
              "                            \n",
              "var gd = document.getElementById('8851c996-6b62-418b-9d08-222d47d7430e');\n",
              "var x = new MutationObserver(function (mutations, observer) {{\n",
              "        var display = window.getComputedStyle(gd).display;\n",
              "        if (!display || display === 'none') {{\n",
              "            console.log([gd, 'removed!']);\n",
              "            Plotly.purge(gd);\n",
              "            observer.disconnect();\n",
              "        }}\n",
              "}});\n",
              "\n",
              "// Listen for the removal of the full notebook cells\n",
              "var notebookContainer = gd.closest('#notebook-container');\n",
              "if (notebookContainer) {{\n",
              "    x.observe(notebookContainer, {childList: true});\n",
              "}}\n",
              "\n",
              "// Listen for the clearing of the current output cell\n",
              "var outputEl = gd.closest('.output');\n",
              "if (outputEl) {{\n",
              "    x.observe(outputEl, {childList: true});\n",
              "}}\n",
              "\n",
              "                        })                };                            </script>        </div>\n",
              "</body>\n",
              "</html>"
            ]
          },
          "metadata": {}
        }
      ]
    },
    {
      "cell_type": "code",
      "source": [
        "fig = go.Figure(data=[go.Scatter3d(x=df['Length'], y=df['Diameter'], z=df['Height'],\n",
        "                                   mode='markers', marker=dict(size=5, color=df['Rings'], colorscale='Viridis'))])\n",
        "fig.update_layout(title='3D Scatter Plot of Abalone Length, Diameter, and Height',\n",
        "                  scene=dict(xaxis_title='Length (mm)',\n",
        "                             yaxis_title='Diameter (mm)',\n",
        "                             zaxis_title='Height (mm)'))\n",
        "fig.show()\n"
      ],
      "metadata": {
        "execution": {
          "iopub.status.busy": "2023-03-07T06:54:53.536077Z",
          "iopub.execute_input": "2023-03-07T06:54:53.536398Z",
          "iopub.status.idle": "2023-03-07T06:54:53.588716Z",
          "shell.execute_reply.started": "2023-03-07T06:54:53.536365Z",
          "shell.execute_reply": "2023-03-07T06:54:53.587842Z"
        },
        "trusted": true,
        "id": "Fe9vX6LyR4jR",
        "outputId": "a5dce943-defb-4eb3-8b46-55bac036b593",
        "colab": {
          "base_uri": "https://localhost:8080/",
          "height": 542
        }
      },
      "execution_count": 16,
      "outputs": [
        {
          "output_type": "display_data",
          "data": {
            "text/html": [
              "<html>\n",
              "<head><meta charset=\"utf-8\" /></head>\n",
              "<body>\n",
              "    <div>            <script src=\"https://cdnjs.cloudflare.com/ajax/libs/mathjax/2.7.5/MathJax.js?config=TeX-AMS-MML_SVG\"></script><script type=\"text/javascript\">if (window.MathJax && window.MathJax.Hub && window.MathJax.Hub.Config) {window.MathJax.Hub.Config({SVG: {font: \"STIX-Web\"}});}</script>                <script type=\"text/javascript\">window.PlotlyConfig = {MathJaxConfig: 'local'};</script>\n",
              "        <script charset=\"utf-8\" src=\"https://cdn.plot.ly/plotly-2.24.1.min.js\"></script>                <div id=\"38dd3414-6487-4910-a9bc-5f1959fd1de7\" class=\"plotly-graph-div\" style=\"height:525px; width:100%;\"></div>            <script type=\"text/javascript\">                                    window.PLOTLYENV=window.PLOTLYENV || {};                                    if (document.getElementById(\"38dd3414-6487-4910-a9bc-5f1959fd1de7\")) {                    Plotly.newPlot(                        \"38dd3414-6487-4910-a9bc-5f1959fd1de7\",                        [{\"marker\":{\"color\":[15,7,9,10,7,8,20,16,9,19,14,10,11,10,10,12,7,10,7,9,11,10,12,9,10,11,11,12,15,11,10,15,18,19,13,8,16,8,11,9,9,14,5,5,4,7,9,7,6,9,8,7,10,10,7,8,8,8,4,7,7,9,10,7,8,8,12,13,10,6,13,8,20,11,13,15,9,10,11,14,9,12,16,21,14,12,13,10,9,12,15,12,13,10,15,14,9,8,7,10,7,15,15,10,12,12,11,10,9,9,9,9,9,9,11,11,11,10,9,8,9,7,14,6,6,5,6,8,19,18,17,9,7,7,7,8,7,9,9,9,10,10,16,11,10,10,10,9,5,4,15,9,10,10,12,10,13,16,13,13,13,13,12,18,16,14,20,20,14,12,14,7,8,8,5,7,5,8,4,11,14,21,10,10,12,13,12,10,11,9,13,12,14,8,10,12,11,16,15,10,9,13,12,13,8,9,9,8,13,7,10,7,12,9,14,10,8,7,10,8,9,11,9,11,10,9,7,7,11,15,13,14,22,7,12,9,1,3,3,5,17,5,5,8,8,10,13,9,7,7,7,13,12,15,15,15,19,10,15,13,11,12,11,4,6,11,14,8,9,13,22,16,14,15,13,22,12,18,20,11,15,7,9,14,14,10,10,17,9,10,17,12,15,19,26,6,6,4,11,9,9,13,8,6,10,4,3,13,14,10,21,14,19,23,23,8,14,10,18,6,5,4,11,5,7,7,7,12,8,8,12,8,5,5,16,11,14,16,13,15,14,14,12,12,8,13,9,6,8,14,8,22,12,9,16,20,13,18,17,16,18,12,20,16,12,19,11,10,12,17,16,16,19,14,13,20,11,10,15,12,15,10,10,12,10,9,12,10,14,9,10,10,10,9,6,11,10,8,12,11,9,9,7,10,7,12,8,16,11,8,15,14,11,12,14,15,20,20,16,13,14,11,13,8,6,13,18,19,21,18,18,20,18,22,13,11,7,14,9,13,10,8,19,10,10,9,13,16,12,18,16,16,17,11,14,11,15,9,10,11,11,12,6,5,6,5,12,13,17,21,9,10,9,11,10,17,9,17,21,16,29,17,15,19,12,13,11,15,11,14,14,13,11,15,17,15,12,19,11,10,12,23,15,13,17,15,12,15,11,16,10,10,10,6,5,6,9,5,4,6,3,5,9,5,4,4,3,14,12,9,20,13,12,9,10,11,11,7,5,10,15,11,15,8,10,11,8,7,12,11,17,13,12,13,9,10,14,12,13,13,8,13,11,11,14,10,12,12,7,11,16,14,20,17,10,11,10,10,11,17,11,14,19,13,11,11,10,13,14,13,13,9,18,19,12,13,9,13,12,16,17,10,13,11,12,13,9,10,10,12,12,4,9,18,15,13,12,7,9,7,10,18,12,17,15,12,10,8,21,10,9,7,10,9,9,8,7,6,14,13,7,13,19,7,9,11,6,9,11,9,5,6,11,7,10,7,17,16,18,11,18,11,10,12,19,10,11,15,13,13,14,17,19,21,23,22,12,11,23,8,7,10,7,16,10,15,13,16,11,11,10,5,11,9,4,7,4,5,13,16,12,14,9,12,9,10,11,10,10,7,7,11,7,8,9,7,8,6,4,2,3,13,15,15,11,17,10,12,13,15,11,13,15,13,18,10,12,12,14,10,14,8,14,17,20,17,17,9,14,15,13,10,13,13,20,13,20,15,13,15,15,16,17,14,14,11,13,9,11,17,11,8,8,9,10,11,15,13,15,15,13,12,10,6,5,15,9,12,9,12,10,10,9,12,12,15,11,9,11,11,10,10,9,7,10,7,6,15,10,12,12,21,6,5,7,7,6,6,6,7,7,6,7,6,7,7,6,6,6,7,6,6,9,7,7,8,8,9,8,9,8,9,9,8,8,9,11,10,8,10,10,9,10,9,10,9,9,12,10,8,6,12,11,10,11,10,9,12,10,9,12,11,9,11,11,14,9,10,9,8,11,9,17,15,10,10,12,9,11,11,11,17,6,5,3,6,4,6,4,5,4,6,5,6,8,5,6,6,7,7,5,7,7,6,7,6,6,7,7,6,6,5,6,6,6,7,7,8,6,6,7,6,7,7,8,7,7,7,6,7,7,7,7,7,6,8,8,9,6,6,6,8,7,7,8,8,7,6,8,7,7,9,8,9,8,8,7,7,8,8,8,7,8,11,8,8,7,8,8,8,9,9,9,8,10,10,8,8,7,9,9,7,8,10,8,9,11,8,8,11,11,9,9,9,9,9,11,11,10,8,11,10,10,10,9,9,8,11,8,11,10,10,11,10,10,11,8,8,11,10,10,9,11,10,9,10,11,9,10,6,11,10,12,12,8,10,10,12,11,10,11,11,12,4,3,4,4,4,4,5,7,6,5,5,6,6,6,5,6,6,6,7,6,7,7,6,7,7,6,7,7,6,7,7,7,7,8,8,6,7,6,6,7,7,6,6,7,8,7,7,9,8,6,7,8,6,9,8,8,9,8,8,7,8,9,9,8,8,9,10,7,9,9,8,8,10,9,8,8,8,9,8,9,9,8,8,7,10,9,9,9,10,9,9,8,9,9,9,8,9,9,7,8,9,8,8,10,9,9,10,9,8,9,9,10,9,9,8,8,8,9,8,8,10,9,10,10,10,9,11,11,10,11,8,9,9,14,10,9,12,9,10,9,12,9,9,11,12,10,10,10,8,12,12,11,11,11,11,10,11,6,4,5,5,6,5,5,5,5,6,7,5,7,6,6,5,6,8,4,6,7,7,7,6,5,7,6,6,8,7,6,8,9,8,7,5,7,8,8,5,5,6,7,6,7,7,7,8,8,7,9,9,8,8,8,7,9,8,11,8,8,8,8,8,8,9,8,8,8,7,8,9,9,9,9,7,9,8,7,8,7,13,9,10,9,9,9,9,10,9,9,9,8,9,9,10,9,8,9,10,8,11,9,9,10,9,9,10,9,9,9,9,10,9,11,8,8,11,10,8,9,10,10,9,10,9,10,10,10,8,9,10,10,10,10,10,8,9,9,10,10,12,10,11,10,11,10,11,11,10,11,9,12,10,12,10,9,10,10,10,10,10,12,10,9,10,10,12,10,10,9,11,9,12,9,11,12,10,12,10,9,9,10,10,15,10,11,10,11,11,11,11,9,10,10,13,10,10,10,10,10,11,10,13,9,11,12,10,11,12,11,13,12,11,11,12,9,14,14,3,4,7,5,6,7,5,5,6,7,8,7,6,5,9,6,6,5,8,9,6,7,8,9,6,6,8,7,7,7,6,8,6,7,9,9,8,8,7,8,8,9,8,9,8,9,8,9,8,9,8,9,9,8,8,9,8,9,8,9,11,9,9,11,8,10,8,9,10,11,9,10,9,11,10,10,8,9,10,11,11,10,10,9,8,11,11,10,10,11,10,10,12,11,12,11,11,10,12,13,10,11,5,5,6,6,6,5,5,6,7,8,7,7,7,6,7,7,6,8,7,8,7,7,7,8,8,7,8,7,7,6,8,7,10,7,7,9,8,8,8,7,8,9,8,8,7,8,8,8,8,8,8,9,7,6,9,10,8,8,9,7,8,9,8,7,9,7,10,9,11,7,9,9,9,10,9,10,8,9,8,8,10,9,12,8,8,9,8,11,10,8,10,9,9,9,10,8,9,9,10,9,12,8,10,10,9,10,8,9,10,8,9,13,8,10,10,9,10,10,10,11,8,10,10,8,8,9,9,8,10,9,10,9,8,9,8,9,11,10,10,12,9,10,9,9,7,10,9,12,12,13,11,11,12,9,10,12,9,11,10,9,12,10,9,9,8,11,10,11,13,12,10,9,10,10,11,10,12,14,9,10,9,9,10,10,9,12,9,11,11,9,10,9,12,11,9,12,10,14,11,11,11,12,9,12,11,13,10,11,13,10,10,11,11,11,12,10,15,11,11,12,10,11,10,13,7,14,11,11,12,11,12,12,12,5,6,7,7,8,7,6,8,8,10,7,8,9,9,8,9,9,8,10,7,8,8,8,8,10,9,10,10,9,10,10,10,10,8,11,9,9,10,11,10,10,9,11,11,10,8,9,11,10,9,10,11,10,9,10,11,13,9,11,11,5,4,7,6,7,6,7,6,8,6,7,7,6,6,8,11,8,7,7,8,7,8,7,8,9,7,8,9,8,8,8,9,11,8,10,10,10,8,8,9,9,7,10,9,8,9,8,9,9,9,9,9,9,8,10,9,10,6,8,8,7,9,9,9,11,7,11,9,9,10,11,11,9,13,9,9,9,10,11,10,9,10,11,9,9,9,10,10,10,9,10,11,11,10,11,10,9,10,8,10,8,11,11,9,12,10,11,9,11,15,9,12,11,9,10,11,11,11,9,11,11,11,12,12,10,11,10,10,10,9,11,12,11,16,10,13,10,11,10,9,10,11,10,12,12,12,11,11,12,10,10,11,13,13,12,13,10,12,11,11,11,13,4,4,5,6,7,6,5,6,6,6,7,6,7,6,9,6,7,6,7,7,7,8,7,8,7,8,7,10,10,8,9,12,10,9,9,9,9,9,11,10,9,9,10,9,10,10,12,10,14,9,5,5,5,6,8,8,8,7,7,8,7,6,9,8,8,8,8,7,7,9,7,8,8,8,9,8,7,8,8,8,10,9,9,9,11,9,8,7,11,9,10,8,8,9,9,8,10,11,12,10,10,11,12,10,17,8,10,11,7,7,11,7,8,10,10,19,9,9,11,10,14,15,27,13,5,9,8,7,4,3,6,7,8,9,7,9,11,6,7,8,10,7,12,12,9,6,10,9,8,12,9,10,16,14,10,7,9,10,9,9,11,12,8,7,10,18,8,5,10,16,12,17,14,12,19,17,11,9,5,9,6,5,6,4,7,6,5,10,13,12,20,14,15,14,21,16,13,6,6,9,9,14,12,10,11,15,14,6,13,5,11,10,6,21,13,25,19,18,7,6,5,8,16,27,18,17,13,17,8,10,7,13,14,13,8,17,13,14,9,13,7,7,12,7,13,9,9,17,14,13,15,17,8,8,12,11,7,10,11,9,10,9,6,12,11,13,14,11,14,12,8,13,8,13,10,11,17,13,14,13,14,15,13,12,18,14,15,13,15,20,14,19,9,10,9,8,10,7,9,9,9,7,6,10,6,10,9,6,12,10,13,8,7,8,10,10,9,11,11,23,12,16,11,13,13,7,8,16,14,17,13,13,12,15,10,14,12,8,17,10,11,13,15,15,9,15,9,13,23,23,18,11,17,17,11,7,6,6,21,17,13,11,16,9,12,19,18,17,11,13,13,17,20,13,11,12,18,18,15,12,19,15,16,12,8,3,12,12,12,10,8,12,12,10,5,5,11,16,11,12,14,11,10,11,16,10,10,7,14,14,14,17,14,17,13,12,16,10,15,15,10,12,15,8,10,9,7,12,9,10,18,11,18,10,13,15,12,10,6,13,14,6,10,9,11,18,11,16,16,14,23,9,16,9,13,10,9,11,9,12,14,6,7,9,10,10,9,8,5,6,5,5,4,20,14,13,8,17,11,11,9,16,8,13,11,20,14,14,14,12,18,13,8,14,13,8,12,14,14,8,13,11,14,15,7,10,11,8,9,12,15,12,15,19,12,9,5,6,6,6,7,7,6,6,8,6,8,8,8,8,10,7,8,7,9,9,11,9,11,9,9,10,9,8,9,10,10,10,12,11,12,11,15,13,13,9,14,10,10,4,4,5,4,5,5,6,6,7,7,6,6,7,6,7,7,6,6,7,6,8,7,6,7,6,7,9,7,8,8,7,7,7,9,7,8,6,6,8,9,8,7,9,8,7,8,8,7,9,9,11,8,8,9,8,10,10,8,9,10,9,10,9,8,11,9,8,11,11,9,12,9,9,13,8,10,12,13,10,12,10,4,5,5,6,6,6,8,6,7,7,7,7,7,6,7,7,7,8,8,8,7,8,9,7,8,8,9,9,9,7,7,9,8,8,8,9,9,9,9,8,8,7,8,8,9,8,8,9,9,10,10,9,7,9,10,9,10,11,9,10,11,10,8,9,9,9,9,9,10,9,9,10,9,11,13,13,11,11,10,13,11,9,11,12,11,3,4,4,5,6,6,6,7,5,7,8,7,7,8,8,7,7,8,7,6,8,8,7,8,8,7,9,8,7,8,8,8,7,11,8,8,10,9,9,8,9,7,8,8,10,8,9,10,8,10,10,9,10,9,11,8,10,11,11,10,9,10,11,9,10,10,9,8,9,10,10,8,11,9,9,10,11,10,9,10,10,10,12,10,12,10,11,10,10,11,10,9,12,9,11,9,13,9,11,10,9,5,4,4,7,6,7,8,5,6,7,7,7,7,8,9,8,9,7,9,7,9,9,8,8,9,8,9,10,9,9,9,10,10,10,10,8,9,10,10,12,9,8,11,11,11,11,11,11,10,12,10,11,6,4,5,6,7,5,7,7,8,6,8,7,7,9,8,8,8,8,9,8,9,8,8,9,8,8,8,8,10,8,11,10,8,10,8,8,9,8,9,8,9,8,8,10,9,9,11,11,9,9,9,10,10,10,9,10,10,9,11,13,9,10,11,12,11,11,11,9,10,10,9,10,11,10,11,10,10,10,9,10,7,11,11,10,8,11,11,11,12,11,12,15,12,11,12,13,10,10,9,12,9,9,10,11,12,10,13,11,13,12,12,6,8,6,8,8,7,8,9,8,10,8,13,10,9,9,9,8,8,11,9,9,10,9,9,11,9,11,10,10,11,13,11,14,12,4,6,8,7,8,6,6,7,8,9,8,8,9,8,8,9,7,8,8,7,11,11,8,9,8,10,10,11,9,9,10,10,9,8,10,9,10,11,9,8,9,12,9,9,11,12,11,11,13,11,11,11,10,11,9,9,11,9,11,12,11,9,11,10,10,11,11,11,10,11,11,13,14,11,4,5,6,7,7,8,8,10,10,11,11,9,9,9,11,8,9,10,11,8,11,10,5,5,5,7,7,8,8,7,7,7,6,10,8,8,10,9,7,8,9,10,10,11,9,10,10,11,11,10,9,8,9,11,10,10,11,20,5,5,4,9,13,14,13,12,24,10,21,11,9,7,9,10,9,9,6,7,6,15,9,13,9,18,15,15,10,14,13,11,6,9,11,12,15,8,8,7,11,10,11,13,11,6,8,16,7,5,13,14,20,12,18,5,7,11,9,10,6,17,17,15,9,8,15,9,14,12,10,14,13,14,11,16,10,14,16,11,9,18,8,16,9,10,13,9,12,11,12,13,12,13,14,8,18,14,15,15,14,15,14,19,13,13,15,11,6,9,8,12,6,7,5,12,9,7,18,13,12,14,17,12,14,11,10,11,12,13,17,11,13,18,12,12,15,12,18,24,11,13,11,11,13,14,12,15,15,12,9,11,13,14,14,14,17,13,16,16,11,15,12,16,16,10,9,5,9,13,12,17,11,11,9,16,7,4,19,16,11,15,12,12,10,12,16,13,10,10,11,13,12,8,12,11,15,16,12,17,12,14,13,13,12,14,11,13,10,11,13,15,8,10,10,6,8,5,20,19,9,9,10,11,11,5,17,13,17,12,10,16,19,10,10,6,5,8,8,5,19,15,14,7,13,13,18,13,16,10,13,19,10,13,13,18,12,9,8,10,18,13,9,8,7,8,6,7,7,6,7,8,9,7,9,7,9,8,8,10,11,9,11,10,10,13,13,4,6,6,5,6,6,6,7,6,8,6,8,7,7,8,7,9,8,8,8,7,7,7,8,8,8,8,9,12,10,8,8,9,11,10,11,10,9,9,10,11,10,11,9,3,4,6,6,7,6,7,7,8,6,7,7,8,7,8,8,8,8,10,8,8,8,9,8,8,9,10,9,8,12,10,11,10,10,9,11,9,10,9,11,11,9,10,12,11,11,11,10,11,3,4,4,6,6,6,7,6,6,7,7,7,6,6,9,8,6,7,8,8,8,8,8,9,8,7,9,7,9,8,9,8,9,8,8,9,8,10,10,10,9,8,8,9,9,9,10,10,11,9,9,9,10,9,8,11,11,10,9,10,9,10,9,11,9,11,10,12,11,11,9,11,8,12,11,10,11,12,12,4,8,5,7,8,8,7,8,7,9,9,10,10,11,11,9,14,9,11,12,9,8,10,10,9,10,10,10,13,6,7,5,5,5,6,6,8,6,8,8,7,9,8,8,7,9,9,8,9,9,8,10,10,9,9,9,11,7,10,9,10,10,8,9,9,9,8,11,10,9,8,10,10,10,12,10,10,11,10,10,9,11,11,10,11,10,14,11,11,9,13,12,11,11,10,10,13,12,10,11,10,10,11,11,11,9,11,11,9,10,11,11,10,11,11,11,5,7,7,7,7,9,9,9,7,9,8,7,10,9,9,9,10,10,10,9,10,9,9,9,11,12,13,12,5,5,7,6,6,7,8,7,8,8,8,8,9,10,9,9,9,10,8,11,10,9,10,10,9,9,9,10,9,9,9,8,13,9,9,10,10,10,11,12,11,9,10,12,8,10,10,11,13,14,10,12,11,13,10,11,12,3,6,7,7,9,8,8,10,8,8,9,12,8,6,8,8,8,9,8,10,10,9,9,7,11,10,11,11,12,14,10,14,11,6,7,9,4,8,8,9,11,9,16,14,11,6,9,14,6,7,10,12,9,11,8,9,16,12,9,14,14,10,18,5,19,10,15,8,9,15,12,9,5,12,9,16,15,10,15,7,10,15,10,9,7,7,9,12,12,16,12,13,9,12,13,14,17,10,4,15,12,4,16,16,6,4,13,9,10,13,10,15,11,19,11,10,13,18,11,8,10,10,12,20,8,14,12,10,16,21,17,11,6,5,11,13,13,10,14,11,15,11,14,20,6,13,16,12,13,13,13,5,8,7,9,12,10,9,11,11,10,10,4,5,6,6,6,6,6,6,6,8,7,8,6,7,7,8,6,7,8,6,6,10,11,10,11,8,11,10,9,10,12,4,5,6,6,6,6,7,6,8,8,10,9,9,11,12,8,9,9,8,8,10,10,9,11,8,10,11,10,11,6,6,7,7,6,8,7,7,8,8,10,7,11,8,10,11,11,12,10,10,8,10,9,11,11,13,9,9,10,13,10,10,9,11,11,10,8,8,10,9,11,9,6,7,6,7,8,7,8,8,9,8,8,8,9,10,8,8,11,9,10,10,11,8,10,9,9,11,12,11,11,13,11,12,9,9,9,9,11,11,10,11,9,11,7,7,8,9,8,9,8,9,10,9,9,9,4,7,9,8,8,8,9,11,10,8,10,10,11,10,11,9,11,9,11,11,10,10,11,13,13,11,11,10,11,11,6,7,6,7,8,6,6,8,8,8,9,11,11,8,7,7,7,10,9,8,10,10,8,11,10,9,10,12],\"colorscale\":[[0.0,\"#440154\"],[0.1111111111111111,\"#482878\"],[0.2222222222222222,\"#3e4989\"],[0.3333333333333333,\"#31688e\"],[0.4444444444444444,\"#26828e\"],[0.5555555555555556,\"#1f9e89\"],[0.6666666666666666,\"#35b779\"],[0.7777777777777778,\"#6ece58\"],[0.8888888888888888,\"#b5de2b\"],[1.0,\"#fde725\"]],\"size\":5},\"mode\":\"markers\",\"x\":[0.455,0.35,0.53,0.44,0.33,0.425,0.53,0.545,0.475,0.55,0.525,0.43,0.49,0.535,0.47,0.5,0.355,0.44,0.365,0.45,0.355,0.38,0.565,0.55,0.615,0.56,0.58,0.59,0.605,0.575,0.58,0.68,0.665,0.68,0.705,0.465,0.54,0.45,0.575,0.355,0.45,0.55,0.24,0.205,0.21,0.39,0.47,0.46,0.325,0.525,0.52,0.4,0.485,0.47,0.405,0.5,0.445,0.47,0.245,0.505,0.45,0.505,0.53,0.425,0.52,0.475,0.565,0.595,0.475,0.31,0.555,0.4,0.595,0.57,0.605,0.6,0.595,0.6,0.555,0.615,0.575,0.62,0.52,0.595,0.58,0.57,0.625,0.56,0.46,0.575,0.565,0.555,0.595,0.625,0.695,0.665,0.535,0.47,0.47,0.475,0.36,0.55,0.53,0.53,0.605,0.52,0.545,0.5,0.51,0.435,0.495,0.465,0.435,0.425,0.545,0.53,0.49,0.44,0.56,0.405,0.47,0.385,0.515,0.37,0.36,0.27,0.375,0.385,0.7,0.71,0.595,0.44,0.325,0.35,0.265,0.425,0.305,0.345,0.405,0.375,0.565,0.55,0.65,0.56,0.475,0.49,0.46,0.28,0.175,0.17,0.59,0.605,0.635,0.605,0.565,0.515,0.575,0.645,0.58,0.575,0.605,0.605,0.61,0.725,0.65,0.725,0.725,0.68,0.705,0.68,0.695,0.53,0.525,0.52,0.235,0.36,0.315,0.315,0.225,0.58,0.57,0.64,0.56,0.62,0.645,0.62,0.63,0.63,0.63,0.585,0.615,0.61,0.58,0.355,0.51,0.5,0.505,0.64,0.56,0.585,0.45,0.5,0.5,0.53,0.42,0.44,0.4,0.435,0.525,0.37,0.49,0.335,0.415,0.5,0.485,0.55,0.45,0.405,0.47,0.415,0.445,0.47,0.49,0.445,0.425,0.5,0.39,0.365,0.58,0.53,0.555,0.565,0.625,0.275,0.44,0.295,0.075,0.13,0.11,0.16,0.565,0.27,0.23,0.3,0.33,0.35,0.32,0.36,0.305,0.345,0.33,0.59,0.595,0.575,0.6,0.56,0.56,0.545,0.635,0.59,0.54,0.57,0.53,0.245,0.27,0.46,0.52,0.35,0.47,0.45,0.64,0.59,0.62,0.63,0.63,0.655,0.66,0.61,0.635,0.515,0.535,0.36,0.455,0.485,0.515,0.535,0.53,0.495,0.44,0.535,0.54,0.565,0.61,0.565,0.6,0.295,0.275,0.28,0.49,0.37,0.405,0.54,0.37,0.36,0.47,0.2,0.165,0.645,0.55,0.57,0.63,0.56,0.595,0.62,0.63,0.45,0.635,0.45,0.58,0.33,0.265,0.19,0.385,0.265,0.335,0.355,0.32,0.51,0.36,0.36,0.5,0.4,0.3,0.235,0.74,0.62,0.6,0.59,0.62,0.565,0.575,0.62,0.62,0.505,0.46,0.49,0.525,0.34,0.375,0.61,0.61,0.585,0.57,0.58,0.635,0.7,0.675,0.645,0.745,0.685,0.605,0.59,0.65,0.6,0.62,0.63,0.58,0.58,0.63,0.69,0.65,0.66,0.68,0.7,0.685,0.675,0.63,0.585,0.565,0.61,0.605,0.535,0.485,0.47,0.545,0.455,0.54,0.46,0.49,0.465,0.415,0.475,0.47,0.365,0.345,0.39,0.5,0.47,0.535,0.585,0.485,0.515,0.435,0.515,0.44,0.525,0.45,0.59,0.555,0.57,0.59,0.585,0.58,0.545,0.605,0.62,0.63,0.63,0.63,0.545,0.67,0.49,0.49,0.29,0.26,0.58,0.61,0.6,0.56,0.575,0.57,0.6,0.565,0.545,0.44,0.5,0.36,0.385,0.39,0.5,0.36,0.335,0.505,0.395,0.41,0.56,0.565,0.565,0.605,0.565,0.725,0.675,0.665,0.565,0.645,0.575,0.64,0.36,0.415,0.525,0.38,0.585,0.24,0.22,0.255,0.175,0.67,0.655,0.68,0.675,0.53,0.515,0.43,0.52,0.545,0.53,0.465,0.665,0.735,0.66,0.7,0.575,0.57,0.58,0.63,0.585,0.55,0.625,0.54,0.57,0.59,0.58,0.655,0.655,0.625,0.625,0.64,0.605,0.615,0.555,0.58,0.62,0.62,0.6,0.625,0.6,0.56,0.585,0.56,0.56,0.68,0.455,0.49,0.31,0.275,0.27,0.4,0.28,0.325,0.345,0.21,0.36,0.365,0.2,0.235,0.175,0.155,0.57,0.57,0.385,0.53,0.46,0.47,0.435,0.47,0.465,0.52,0.29,0.275,0.375,0.5,0.44,0.42,0.445,0.38,0.32,0.255,0.205,0.565,0.555,0.65,0.615,0.56,0.48,0.485,0.5,0.525,0.66,0.66,0.52,0.44,0.515,0.475,0.545,0.47,0.35,0.485,0.435,0.28,0.41,0.45,0.45,0.59,0.57,0.61,0.61,0.56,0.585,0.58,0.63,0.625,0.55,0.645,0.46,0.41,0.495,0.52,0.55,0.45,0.405,0.51,0.37,0.525,0.66,0.535,0.575,0.55,0.605,0.605,0.56,0.535,0.385,0.39,0.47,0.515,0.425,0.345,0.485,0.37,0.35,0.44,0.195,0.325,0.495,0.45,0.415,0.47,0.32,0.31,0.235,0.345,0.485,0.5,0.5,0.465,0.525,0.425,0.38,0.53,0.34,0.475,0.43,0.46,0.47,0.36,0.355,0.38,0.355,0.44,0.51,0.325,0.62,0.59,0.33,0.45,0.445,0.33,0.48,0.46,0.475,0.255,0.335,0.47,0.31,0.37,0.295,0.555,0.615,0.58,0.585,0.65,0.535,0.415,0.38,0.45,0.395,0.455,0.485,0.55,0.45,0.475,0.5,0.53,0.49,0.49,0.52,0.54,0.5,0.45,0.37,0.37,0.485,0.435,0.535,0.51,0.565,0.535,0.535,0.525,0.59,0.5,0.255,0.43,0.38,0.165,0.315,0.155,0.28,0.43,0.395,0.385,0.48,0.445,0.395,0.4,0.415,0.315,0.345,0.36,0.295,0.325,0.375,0.28,0.355,0.35,0.275,0.29,0.25,0.18,0.15,0.16,0.555,0.555,0.525,0.465,0.49,0.4,0.48,0.505,0.52,0.525,0.545,0.52,0.505,0.525,0.51,0.52,0.52,0.535,0.445,0.53,0.36,0.535,0.52,0.53,0.53,0.66,0.52,0.535,0.695,0.51,0.485,0.605,0.58,0.65,0.62,0.615,0.605,0.57,0.57,0.585,0.55,0.54,0.64,0.61,0.545,0.59,0.345,0.55,0.53,0.53,0.485,0.385,0.455,0.49,0.53,0.505,0.49,0.465,0.47,0.56,0.505,0.515,0.385,0.215,0.55,0.515,0.495,0.505,0.6,0.57,0.485,0.47,0.575,0.58,0.515,0.53,0.44,0.52,0.425,0.46,0.45,0.425,0.37,0.515,0.405,0.28,0.48,0.44,0.52,0.505,0.49,0.235,0.255,0.315,0.325,0.335,0.35,0.35,0.36,0.365,0.37,0.38,0.385,0.385,0.395,0.395,0.4,0.41,0.415,0.415,0.425,0.44,0.445,0.445,0.45,0.47,0.475,0.48,0.485,0.49,0.495,0.5,0.505,0.525,0.54,0.54,0.545,0.55,0.55,0.55,0.555,0.565,0.57,0.57,0.575,0.59,0.59,0.595,0.595,0.595,0.595,0.6,0.6,0.6,0.605,0.605,0.615,0.615,0.615,0.615,0.62,0.62,0.625,0.625,0.63,0.635,0.635,0.635,0.64,0.65,0.655,0.655,0.66,0.66,0.67,0.675,0.675,0.68,0.685,0.695,0.73,0.205,0.24,0.24,0.255,0.255,0.265,0.28,0.295,0.3,0.3,0.305,0.315,0.315,0.32,0.325,0.33,0.335,0.335,0.34,0.34,0.345,0.37,0.37,0.375,0.385,0.41,0.41,0.41,0.415,0.42,0.42,0.425,0.425,0.43,0.43,0.435,0.435,0.44,0.44,0.445,0.445,0.45,0.45,0.45,0.45,0.455,0.455,0.46,0.46,0.465,0.465,0.465,0.465,0.47,0.47,0.475,0.475,0.48,0.48,0.48,0.48,0.485,0.49,0.495,0.495,0.5,0.5,0.5,0.5,0.505,0.505,0.505,0.505,0.51,0.51,0.51,0.51,0.51,0.515,0.515,0.525,0.525,0.53,0.53,0.53,0.535,0.535,0.535,0.55,0.55,0.56,0.565,0.57,0.57,0.57,0.57,0.57,0.575,0.575,0.58,0.58,0.58,0.58,0.58,0.59,0.59,0.59,0.595,0.595,0.595,0.595,0.595,0.605,0.605,0.605,0.61,0.61,0.615,0.62,0.625,0.625,0.625,0.625,0.625,0.63,0.63,0.63,0.635,0.635,0.64,0.64,0.64,0.645,0.645,0.645,0.645,0.645,0.645,0.645,0.65,0.65,0.65,0.655,0.655,0.66,0.66,0.66,0.66,0.67,0.675,0.675,0.68,0.69,0.69,0.695,0.705,0.71,0.715,0.715,0.735,0.765,0.185,0.195,0.195,0.2,0.225,0.245,0.25,0.265,0.275,0.28,0.285,0.3,0.315,0.32,0.34,0.37,0.375,0.375,0.385,0.4,0.405,0.41,0.41,0.42,0.42,0.42,0.425,0.43,0.435,0.435,0.44,0.445,0.445,0.445,0.45,0.45,0.45,0.45,0.45,0.46,0.47,0.47,0.475,0.475,0.48,0.49,0.5,0.5,0.5,0.5,0.505,0.51,0.51,0.51,0.51,0.515,0.52,0.52,0.52,0.52,0.525,0.525,0.525,0.525,0.53,0.535,0.54,0.545,0.545,0.545,0.55,0.55,0.55,0.56,0.56,0.56,0.56,0.565,0.565,0.565,0.57,0.57,0.57,0.575,0.575,0.575,0.575,0.575,0.575,0.575,0.575,0.58,0.58,0.58,0.58,0.58,0.58,0.585,0.585,0.59,0.6,0.6,0.6,0.6,0.605,0.605,0.605,0.605,0.61,0.61,0.61,0.615,0.615,0.615,0.62,0.62,0.62,0.625,0.625,0.63,0.63,0.635,0.64,0.645,0.645,0.65,0.65,0.655,0.655,0.66,0.665,0.665,0.67,0.685,0.685,0.69,0.69,0.69,0.695,0.7,0.7,0.7,0.705,0.71,0.715,0.715,0.72,0.72,0.72,0.725,0.73,0.735,0.745,0.75,0.755,0.755,0.78,0.185,0.245,0.25,0.25,0.275,0.305,0.31,0.315,0.315,0.325,0.33,0.33,0.335,0.34,0.345,0.345,0.35,0.35,0.36,0.365,0.365,0.365,0.37,0.37,0.375,0.375,0.375,0.375,0.375,0.375,0.38,0.38,0.385,0.385,0.385,0.385,0.39,0.395,0.395,0.395,0.4,0.405,0.41,0.42,0.425,0.425,0.425,0.43,0.43,0.435,0.44,0.45,0.455,0.455,0.455,0.46,0.46,0.46,0.465,0.47,0.47,0.47,0.475,0.475,0.475,0.48,0.48,0.48,0.495,0.495,0.495,0.5,0.5,0.5,0.5,0.5,0.5,0.505,0.505,0.505,0.515,0.515,0.515,0.52,0.52,0.525,0.525,0.53,0.53,0.53,0.53,0.535,0.535,0.535,0.535,0.54,0.54,0.545,0.545,0.545,0.545,0.55,0.55,0.55,0.55,0.55,0.555,0.555,0.555,0.555,0.56,0.56,0.56,0.56,0.565,0.565,0.565,0.565,0.57,0.57,0.57,0.57,0.57,0.57,0.575,0.575,0.575,0.58,0.58,0.58,0.585,0.585,0.585,0.585,0.585,0.585,0.585,0.59,0.59,0.59,0.595,0.595,0.6,0.6,0.6,0.6,0.6,0.6,0.605,0.605,0.605,0.605,0.605,0.61,0.61,0.61,0.61,0.61,0.61,0.615,0.615,0.615,0.615,0.615,0.615,0.615,0.62,0.62,0.62,0.62,0.625,0.625,0.625,0.625,0.63,0.63,0.63,0.63,0.63,0.635,0.635,0.635,0.635,0.635,0.64,0.64,0.645,0.645,0.645,0.65,0.65,0.65,0.65,0.65,0.655,0.655,0.655,0.655,0.66,0.66,0.665,0.67,0.67,0.675,0.685,0.695,0.7,0.705,0.705,0.705,0.71,0.72,0.72,0.725,0.73,0.735,0.745,0.75,0.815,0.14,0.23,0.365,0.365,0.37,0.375,0.385,0.395,0.4,0.4,0.405,0.405,0.405,0.41,0.415,0.425,0.43,0.44,0.44,0.44,0.45,0.455,0.46,0.47,0.47,0.47,0.475,0.475,0.475,0.48,0.485,0.485,0.485,0.495,0.505,0.505,0.515,0.515,0.515,0.52,0.525,0.53,0.53,0.545,0.55,0.55,0.56,0.56,0.57,0.575,0.575,0.58,0.58,0.585,0.59,0.59,0.59,0.595,0.6,0.6,0.605,0.605,0.605,0.61,0.615,0.62,0.62,0.62,0.625,0.625,0.63,0.63,0.63,0.63,0.63,0.635,0.635,0.64,0.645,0.645,0.645,0.65,0.65,0.65,0.65,0.655,0.655,0.66,0.665,0.67,0.67,0.67,0.68,0.68,0.69,0.7,0.7,0.705,0.72,0.725,0.74,0.75,0.21,0.285,0.295,0.3,0.305,0.335,0.35,0.355,0.355,0.36,0.36,0.36,0.365,0.37,0.375,0.38,0.38,0.385,0.385,0.385,0.39,0.39,0.39,0.41,0.41,0.415,0.425,0.425,0.435,0.435,0.45,0.45,0.455,0.46,0.46,0.465,0.465,0.47,0.475,0.475,0.475,0.48,0.48,0.48,0.485,0.49,0.49,0.495,0.495,0.5,0.5,0.5,0.51,0.515,0.515,0.515,0.515,0.515,0.52,0.52,0.525,0.525,0.525,0.525,0.525,0.53,0.53,0.53,0.53,0.535,0.54,0.54,0.54,0.54,0.54,0.54,0.54,0.545,0.545,0.545,0.55,0.55,0.55,0.55,0.55,0.555,0.555,0.555,0.56,0.56,0.56,0.565,0.565,0.565,0.565,0.57,0.57,0.57,0.57,0.57,0.57,0.575,0.575,0.575,0.575,0.575,0.575,0.575,0.575,0.575,0.575,0.575,0.58,0.58,0.58,0.58,0.585,0.59,0.59,0.59,0.595,0.595,0.595,0.595,0.6,0.6,0.6,0.6,0.6,0.6,0.6,0.605,0.605,0.605,0.605,0.605,0.605,0.61,0.61,0.61,0.61,0.61,0.61,0.61,0.61,0.615,0.615,0.62,0.62,0.62,0.62,0.62,0.62,0.62,0.62,0.62,0.62,0.625,0.625,0.625,0.625,0.625,0.625,0.63,0.63,0.63,0.63,0.63,0.635,0.635,0.635,0.635,0.64,0.64,0.64,0.645,0.645,0.645,0.645,0.645,0.645,0.645,0.645,0.645,0.645,0.645,0.65,0.65,0.65,0.65,0.655,0.655,0.655,0.655,0.66,0.66,0.66,0.66,0.665,0.665,0.665,0.665,0.665,0.67,0.67,0.67,0.67,0.67,0.675,0.675,0.68,0.68,0.685,0.685,0.69,0.7,0.7,0.705,0.71,0.71,0.71,0.71,0.72,0.72,0.72,0.725,0.73,0.735,0.74,0.75,0.75,0.77,0.775,0.275,0.375,0.375,0.39,0.435,0.445,0.455,0.455,0.455,0.465,0.465,0.485,0.485,0.485,0.49,0.5,0.515,0.515,0.525,0.525,0.53,0.535,0.535,0.545,0.545,0.545,0.55,0.55,0.57,0.575,0.575,0.58,0.585,0.585,0.6,0.6,0.605,0.605,0.61,0.615,0.62,0.625,0.625,0.635,0.635,0.64,0.645,0.65,0.65,0.655,0.655,0.665,0.675,0.685,0.695,0.695,0.705,0.72,0.72,0.73,0.185,0.24,0.31,0.34,0.35,0.365,0.365,0.365,0.39,0.405,0.41,0.41,0.415,0.415,0.415,0.42,0.43,0.435,0.435,0.435,0.435,0.445,0.465,0.47,0.475,0.485,0.485,0.485,0.495,0.495,0.495,0.5,0.505,0.505,0.51,0.515,0.515,0.515,0.52,0.52,0.52,0.52,0.52,0.525,0.525,0.525,0.53,0.53,0.53,0.53,0.535,0.54,0.54,0.54,0.545,0.545,0.55,0.55,0.555,0.555,0.555,0.555,0.555,0.56,0.565,0.565,0.565,0.565,0.565,0.565,0.57,0.57,0.57,0.57,0.57,0.575,0.575,0.575,0.575,0.575,0.575,0.575,0.575,0.575,0.575,0.58,0.58,0.58,0.58,0.58,0.595,0.6,0.6,0.6,0.6,0.605,0.605,0.605,0.61,0.61,0.61,0.61,0.615,0.615,0.615,0.615,0.62,0.62,0.62,0.62,0.62,0.62,0.625,0.625,0.625,0.625,0.625,0.625,0.63,0.635,0.635,0.635,0.635,0.635,0.635,0.64,0.64,0.64,0.64,0.64,0.64,0.645,0.645,0.645,0.65,0.65,0.65,0.655,0.655,0.655,0.66,0.66,0.665,0.665,0.665,0.67,0.675,0.675,0.68,0.68,0.685,0.69,0.695,0.7,0.7,0.7,0.705,0.72,0.72,0.725,0.75,0.76,0.135,0.16,0.21,0.28,0.28,0.285,0.29,0.29,0.29,0.32,0.325,0.335,0.35,0.35,0.355,0.36,0.36,0.375,0.375,0.395,0.405,0.415,0.425,0.43,0.435,0.45,0.46,0.47,0.47,0.475,0.505,0.505,0.505,0.51,0.515,0.525,0.53,0.53,0.545,0.55,0.56,0.565,0.57,0.58,0.59,0.6,0.605,0.61,0.625,0.66,0.255,0.27,0.28,0.285,0.32,0.325,0.385,0.395,0.4,0.405,0.415,0.42,0.44,0.445,0.45,0.455,0.46,0.46,0.465,0.465,0.475,0.48,0.485,0.49,0.5,0.5,0.505,0.525,0.535,0.535,0.54,0.54,0.545,0.55,0.55,0.565,0.58,0.58,0.585,0.595,0.6,0.61,0.61,0.62,0.645,0.65,0.665,0.685,0.69,0.705,0.71,0.72,0.72,0.73,0.775,0.505,0.53,0.505,0.405,0.415,0.5,0.425,0.47,0.4,0.37,0.5,0.41,0.375,0.49,0.585,0.595,0.675,0.665,0.62,0.325,0.455,0.525,0.385,0.13,0.18,0.31,0.375,0.48,0.455,0.425,0.475,0.435,0.29,0.385,0.47,0.5,0.4,0.62,0.595,0.585,0.32,0.52,0.44,0.44,0.565,0.56,0.59,0.57,0.68,0.45,0.32,0.46,0.47,0.455,0.415,0.465,0.46,0.415,0.27,0.445,0.745,0.4,0.28,0.55,0.58,0.61,0.62,0.56,0.64,0.69,0.715,0.71,0.55,0.375,0.61,0.38,0.37,0.335,0.165,0.285,0.19,0.215,0.595,0.645,0.575,0.57,0.58,0.595,0.595,0.625,0.535,0.55,0.495,0.32,0.445,0.52,0.495,0.47,0.49,0.58,0.645,0.575,0.215,0.43,0.26,0.37,0.405,0.27,0.68,0.65,0.645,0.57,0.615,0.42,0.275,0.29,0.42,0.625,0.55,0.66,0.565,0.595,0.63,0.43,0.455,0.33,0.515,0.495,0.485,0.535,0.58,0.625,0.555,0.55,0.59,0.355,0.275,0.505,0.37,0.555,0.505,0.56,0.595,0.57,0.6,0.56,0.585,0.46,0.46,0.415,0.435,0.475,0.465,0.355,0.46,0.38,0.47,0.36,0.585,0.655,0.6,0.57,0.645,0.65,0.51,0.52,0.495,0.43,0.59,0.55,0.585,0.58,0.62,0.59,0.72,0.635,0.61,0.545,0.57,0.6,0.52,0.635,0.67,0.695,0.655,0.62,0.6,0.51,0.525,0.44,0.485,0.495,0.435,0.405,0.42,0.5,0.385,0.33,0.58,0.325,0.475,0.38,0.34,0.525,0.52,0.535,0.475,0.415,0.495,0.48,0.52,0.46,0.58,0.59,0.55,0.65,0.465,0.455,0.47,0.435,0.35,0.315,0.595,0.58,0.575,0.535,0.515,0.505,0.505,0.4,0.49,0.53,0.395,0.665,0.415,0.43,0.475,0.525,0.48,0.42,0.59,0.515,0.695,0.8,0.61,0.565,0.56,0.655,0.64,0.59,0.31,0.255,0.17,0.67,0.71,0.56,0.505,0.525,0.45,0.515,0.59,0.7,0.72,0.635,0.555,0.575,0.585,0.61,0.645,0.545,0.55,0.66,0.57,0.6,0.63,0.695,0.65,0.72,0.56,0.42,0.18,0.405,0.5,0.435,0.34,0.43,0.535,0.415,0.36,0.175,0.155,0.525,0.525,0.44,0.45,0.485,0.47,0.515,0.42,0.455,0.37,0.33,0.3,0.625,0.61,0.625,0.635,0.5,0.53,0.445,0.585,0.44,0.29,0.555,0.655,0.58,0.625,0.62,0.64,0.505,0.5,0.31,0.505,0.42,0.4,0.425,0.31,0.465,0.465,0.35,0.52,0.475,0.41,0.26,0.575,0.565,0.26,0.53,0.34,0.52,0.635,0.61,0.66,0.635,0.465,0.515,0.335,0.515,0.345,0.465,0.54,0.475,0.445,0.5,0.5,0.55,0.275,0.35,0.37,0.42,0.35,0.395,0.325,0.275,0.235,0.25,0.25,0.2,0.585,0.445,0.5,0.44,0.515,0.52,0.5,0.425,0.51,0.37,0.54,0.615,0.565,0.645,0.615,0.605,0.59,0.645,0.57,0.47,0.5,0.52,0.39,0.52,0.54,0.46,0.355,0.49,0.63,0.5,0.49,0.44,0.515,0.475,0.42,0.4,0.45,0.52,0.505,0.495,0.54,0.48,0.33,0.285,0.3,0.31,0.34,0.375,0.415,0.415,0.415,0.42,0.425,0.465,0.465,0.47,0.47,0.475,0.48,0.5,0.505,0.525,0.54,0.545,0.565,0.58,0.59,0.59,0.595,0.6,0.6,0.6,0.605,0.625,0.63,0.64,0.64,0.655,0.66,0.66,0.675,0.675,0.69,0.695,0.7,0.73,0.205,0.225,0.23,0.275,0.28,0.28,0.295,0.31,0.315,0.34,0.37,0.38,0.39,0.405,0.415,0.44,0.44,0.44,0.44,0.45,0.45,0.455,0.46,0.46,0.46,0.465,0.465,0.475,0.475,0.48,0.5,0.5,0.505,0.515,0.525,0.525,0.53,0.53,0.53,0.54,0.55,0.555,0.57,0.57,0.575,0.58,0.585,0.59,0.595,0.595,0.595,0.6,0.6,0.6,0.61,0.615,0.615,0.615,0.62,0.62,0.62,0.625,0.625,0.625,0.63,0.63,0.63,0.635,0.635,0.645,0.645,0.65,0.67,0.69,0.69,0.695,0.695,0.7,0.705,0.765,0.77,0.22,0.275,0.29,0.33,0.355,0.375,0.415,0.425,0.425,0.43,0.44,0.44,0.46,0.46,0.465,0.475,0.475,0.485,0.49,0.49,0.495,0.5,0.5,0.505,0.51,0.51,0.515,0.52,0.545,0.545,0.545,0.545,0.55,0.55,0.555,0.565,0.57,0.57,0.57,0.575,0.58,0.585,0.585,0.59,0.59,0.59,0.595,0.595,0.595,0.6,0.605,0.615,0.615,0.615,0.615,0.62,0.62,0.625,0.625,0.625,0.63,0.63,0.63,0.645,0.645,0.645,0.65,0.65,0.65,0.65,0.65,0.66,0.665,0.67,0.67,0.675,0.68,0.68,0.7,0.7,0.725,0.725,0.735,0.74,0.75,0.19,0.21,0.25,0.29,0.335,0.34,0.345,0.355,0.36,0.37,0.375,0.375,0.385,0.385,0.395,0.4,0.405,0.405,0.405,0.405,0.41,0.41,0.415,0.42,0.42,0.43,0.445,0.45,0.45,0.455,0.46,0.46,0.475,0.48,0.485,0.485,0.49,0.505,0.505,0.51,0.515,0.515,0.515,0.525,0.525,0.525,0.525,0.535,0.545,0.55,0.55,0.55,0.55,0.55,0.555,0.555,0.56,0.56,0.565,0.57,0.575,0.58,0.58,0.58,0.585,0.585,0.585,0.585,0.59,0.59,0.595,0.6,0.6,0.6,0.6,0.61,0.61,0.615,0.62,0.62,0.625,0.625,0.63,0.63,0.63,0.63,0.64,0.64,0.64,0.64,0.64,0.65,0.65,0.66,0.66,0.675,0.7,0.705,0.71,0.72,0.725,0.24,0.255,0.275,0.32,0.325,0.33,0.36,0.375,0.375,0.39,0.45,0.455,0.46,0.495,0.5,0.5,0.52,0.52,0.525,0.535,0.54,0.54,0.57,0.57,0.58,0.58,0.59,0.59,0.59,0.595,0.6,0.6,0.605,0.62,0.625,0.625,0.625,0.63,0.63,0.635,0.645,0.645,0.65,0.655,0.655,0.665,0.695,0.72,0.72,0.72,0.735,0.74,0.31,0.315,0.32,0.325,0.335,0.37,0.37,0.375,0.4,0.41,0.425,0.435,0.445,0.46,0.465,0.47,0.475,0.495,0.5,0.5,0.505,0.505,0.505,0.51,0.51,0.52,0.52,0.53,0.53,0.535,0.54,0.54,0.545,0.545,0.55,0.55,0.55,0.56,0.56,0.575,0.575,0.575,0.58,0.58,0.58,0.58,0.58,0.58,0.585,0.59,0.59,0.59,0.595,0.595,0.6,0.6,0.6,0.6,0.6,0.605,0.605,0.605,0.61,0.61,0.61,0.61,0.615,0.615,0.615,0.615,0.62,0.62,0.625,0.625,0.625,0.625,0.625,0.63,0.63,0.63,0.63,0.635,0.635,0.635,0.635,0.635,0.64,0.64,0.645,0.645,0.645,0.65,0.65,0.655,0.655,0.66,0.66,0.665,0.67,0.67,0.67,0.67,0.67,0.68,0.68,0.685,0.69,0.715,0.72,0.735,0.745,0.32,0.43,0.43,0.485,0.49,0.5,0.505,0.51,0.525,0.535,0.535,0.535,0.555,0.555,0.56,0.59,0.595,0.595,0.595,0.61,0.61,0.62,0.625,0.635,0.635,0.64,0.64,0.645,0.655,0.67,0.68,0.7,0.73,0.75,0.255,0.375,0.375,0.39,0.39,0.395,0.42,0.435,0.435,0.44,0.45,0.45,0.455,0.46,0.47,0.475,0.495,0.495,0.5,0.515,0.52,0.52,0.525,0.535,0.535,0.54,0.55,0.55,0.56,0.565,0.57,0.57,0.575,0.575,0.575,0.575,0.58,0.585,0.59,0.59,0.59,0.595,0.595,0.595,0.6,0.6,0.61,0.615,0.615,0.62,0.625,0.63,0.63,0.635,0.635,0.635,0.64,0.64,0.65,0.65,0.655,0.655,0.655,0.66,0.665,0.675,0.68,0.68,0.685,0.695,0.7,0.71,0.73,0.755,0.225,0.23,0.255,0.355,0.425,0.425,0.455,0.46,0.495,0.51,0.52,0.525,0.53,0.53,0.545,0.55,0.575,0.58,0.595,0.6,0.645,0.66,0.29,0.3,0.37,0.375,0.38,0.395,0.41,0.415,0.425,0.44,0.44,0.465,0.47,0.51,0.525,0.525,0.55,0.56,0.575,0.575,0.585,0.615,0.62,0.63,0.63,0.67,0.675,0.685,0.485,0.46,0.46,0.535,0.465,0.51,0.335,0.55,0.18,0.215,0.2,0.625,0.55,0.585,0.645,0.71,0.7,0.655,0.665,0.47,0.425,0.54,0.505,0.535,0.43,0.55,0.34,0.275,0.335,0.64,0.55,0.64,0.545,0.64,0.605,0.605,0.56,0.57,0.525,0.505,0.35,0.45,0.51,0.49,0.505,0.38,0.27,0.37,0.5,0.645,0.565,0.67,0.59,0.47,0.51,0.72,0.55,0.2,0.65,0.525,0.565,0.61,0.545,0.325,0.31,0.45,0.49,0.505,0.385,0.62,0.635,0.665,0.335,0.295,0.48,0.32,0.43,0.565,0.6,0.585,0.555,0.57,0.62,0.63,0.425,0.64,0.675,0.5,0.385,0.52,0.52,0.64,0.44,0.42,0.45,0.42,0.64,0.57,0.41,0.485,0.61,0.59,0.665,0.345,0.635,0.695,0.69,0.555,0.65,0.635,0.655,0.69,0.695,0.55,0.61,0.595,0.3,0.435,0.455,0.48,0.43,0.435,0.3,0.575,0.505,0.455,0.64,0.56,0.645,0.595,0.565,0.655,0.48,0.495,0.4,0.41,0.595,0.625,0.52,0.465,0.475,0.5,0.46,0.485,0.465,0.525,0.655,0.69,0.55,0.58,0.59,0.565,0.665,0.62,0.55,0.605,0.535,0.51,0.53,0.495,0.575,0.63,0.59,0.605,0.645,0.62,0.605,0.615,0.66,0.71,0.565,0.57,0.6,0.41,0.45,0.275,0.485,0.62,0.48,0.505,0.4,0.45,0.35,0.44,0.265,0.165,0.705,0.535,0.49,0.48,0.395,0.375,0.345,0.55,0.635,0.575,0.545,0.385,0.51,0.44,0.45,0.39,0.425,0.45,0.66,0.685,0.585,0.54,0.49,0.43,0.455,0.495,0.48,0.47,0.415,0.49,0.47,0.445,0.51,0.52,0.475,0.455,0.435,0.39,0.375,0.285,0.58,0.58,0.41,0.41,0.54,0.33,0.44,0.28,0.59,0.61,0.61,0.455,0.33,0.44,0.54,0.475,0.46,0.31,0.255,0.335,0.295,0.19,0.545,0.495,0.5,0.305,0.475,0.515,0.545,0.74,0.565,0.56,0.545,0.645,0.575,0.62,0.605,0.605,0.475,0.365,0.46,0.53,0.48,0.455,0.35,0.37,0.34,0.35,0.35,0.39,0.395,0.415,0.43,0.48,0.49,0.49,0.56,0.56,0.58,0.58,0.59,0.595,0.6,0.61,0.63,0.64,0.65,0.71,0.74,0.25,0.28,0.325,0.35,0.36,0.365,0.37,0.375,0.38,0.395,0.43,0.44,0.465,0.465,0.48,0.485,0.49,0.495,0.5,0.505,0.52,0.52,0.525,0.55,0.555,0.555,0.575,0.6,0.61,0.61,0.61,0.615,0.62,0.625,0.625,0.625,0.635,0.64,0.64,0.66,0.665,0.715,0.72,0.725,0.165,0.21,0.355,0.4,0.4,0.4,0.435,0.44,0.45,0.465,0.47,0.47,0.475,0.485,0.505,0.51,0.52,0.53,0.535,0.55,0.555,0.555,0.555,0.56,0.575,0.585,0.59,0.595,0.6,0.6,0.61,0.615,0.62,0.625,0.625,0.64,0.64,0.645,0.65,0.655,0.655,0.66,0.67,0.69,0.7,0.7,0.71,0.715,0.72,0.215,0.24,0.26,0.32,0.33,0.335,0.35,0.35,0.36,0.36,0.365,0.38,0.4,0.4,0.4,0.425,0.43,0.435,0.435,0.445,0.45,0.455,0.46,0.475,0.475,0.475,0.48,0.495,0.5,0.505,0.515,0.525,0.53,0.53,0.535,0.535,0.54,0.55,0.565,0.57,0.57,0.57,0.575,0.575,0.575,0.575,0.58,0.58,0.58,0.58,0.585,0.585,0.595,0.6,0.6,0.6,0.6,0.6,0.6,0.62,0.625,0.625,0.625,0.625,0.625,0.63,0.635,0.65,0.65,0.65,0.65,0.655,0.655,0.66,0.66,0.675,0.685,0.715,0.735,0.175,0.37,0.395,0.42,0.455,0.495,0.51,0.515,0.545,0.555,0.58,0.59,0.6,0.61,0.615,0.615,0.615,0.62,0.63,0.64,0.64,0.655,0.655,0.66,0.665,0.67,0.69,0.715,0.735,0.27,0.285,0.295,0.3,0.3,0.36,0.37,0.39,0.435,0.44,0.44,0.445,0.465,0.465,0.47,0.475,0.475,0.475,0.485,0.49,0.515,0.52,0.525,0.525,0.53,0.53,0.53,0.53,0.535,0.535,0.545,0.545,0.55,0.55,0.55,0.555,0.575,0.575,0.585,0.585,0.585,0.59,0.595,0.595,0.595,0.595,0.6,0.6,0.605,0.605,0.61,0.61,0.615,0.62,0.62,0.62,0.62,0.625,0.625,0.63,0.63,0.64,0.645,0.65,0.65,0.65,0.65,0.65,0.65,0.65,0.65,0.66,0.66,0.665,0.67,0.67,0.67,0.675,0.675,0.675,0.685,0.685,0.705,0.705,0.71,0.725,0.78,0.235,0.35,0.36,0.38,0.38,0.43,0.465,0.47,0.485,0.495,0.5,0.505,0.51,0.51,0.515,0.55,0.575,0.605,0.615,0.615,0.625,0.625,0.635,0.65,0.65,0.67,0.695,0.705,0.275,0.285,0.36,0.385,0.4,0.43,0.435,0.45,0.475,0.475,0.485,0.51,0.515,0.52,0.525,0.53,0.53,0.53,0.53,0.53,0.535,0.535,0.555,0.555,0.56,0.56,0.565,0.575,0.575,0.575,0.58,0.58,0.585,0.585,0.59,0.595,0.615,0.615,0.62,0.62,0.62,0.625,0.625,0.63,0.63,0.645,0.65,0.65,0.655,0.665,0.67,0.675,0.675,0.695,0.695,0.705,0.74,0.205,0.305,0.32,0.355,0.425,0.425,0.45,0.515,0.52,0.525,0.555,0.61,0.35,0.38,0.46,0.465,0.475,0.565,0.57,0.57,0.595,0.605,0.615,0.62,0.625,0.68,0.68,0.68,0.71,0.5,0.545,0.46,0.535,0.335,0.425,0.41,0.17,0.335,0.52,0.53,0.5,0.615,0.575,0.57,0.455,0.37,0.445,0.675,0.385,0.375,0.56,0.55,0.57,0.485,0.41,0.335,0.655,0.565,0.57,0.55,0.63,0.475,0.655,0.32,0.525,0.525,0.5,0.44,0.49,0.545,0.45,0.515,0.33,0.525,0.295,0.545,0.645,0.45,0.61,0.38,0.565,0.67,0.54,0.29,0.41,0.46,0.56,0.575,0.62,0.515,0.56,0.5,0.435,0.495,0.595,0.76,0.615,0.565,0.14,0.445,0.525,0.16,0.635,0.575,0.38,0.245,0.48,0.455,0.455,0.455,0.355,0.52,0.54,0.52,0.56,0.52,0.615,0.645,0.565,0.295,0.375,0.525,0.395,0.5,0.47,0.58,0.5,0.725,0.65,0.67,0.55,0.49,0.235,0.235,0.52,0.475,0.53,0.35,0.555,0.505,0.54,0.525,0.55,0.55,0.235,0.525,0.475,0.53,0.525,0.53,0.465,0.315,0.465,0.485,0.49,0.515,0.555,0.61,0.68,0.69,0.695,0.72,0.27,0.27,0.295,0.295,0.315,0.375,0.38,0.385,0.4,0.415,0.415,0.42,0.44,0.45,0.475,0.485,0.495,0.525,0.565,0.58,0.585,0.6,0.63,0.645,0.655,0.665,0.67,0.67,0.685,0.7,0.72,0.185,0.245,0.315,0.36,0.375,0.415,0.455,0.48,0.485,0.51,0.52,0.555,0.585,0.585,0.585,0.61,0.61,0.615,0.62,0.625,0.625,0.635,0.64,0.66,0.66,0.66,0.68,0.69,0.72,0.275,0.33,0.33,0.365,0.365,0.42,0.435,0.435,0.44,0.485,0.495,0.51,0.52,0.54,0.54,0.55,0.56,0.575,0.575,0.575,0.58,0.58,0.59,0.6,0.62,0.625,0.625,0.625,0.625,0.625,0.625,0.635,0.645,0.645,0.69,0.695,0.515,0.545,0.62,0.63,0.63,0.64,0.37,0.395,0.4,0.41,0.455,0.48,0.485,0.5,0.515,0.52,0.545,0.545,0.55,0.55,0.55,0.555,0.56,0.565,0.57,0.575,0.585,0.59,0.595,0.6,0.61,0.615,0.625,0.625,0.63,0.63,0.635,0.635,0.635,0.65,0.67,0.675,0.675,0.68,0.7,0.71,0.715,0.72,0.42,0.48,0.48,0.51,0.515,0.56,0.56,0.57,0.605,0.625,0.64,0.65,0.3,0.35,0.455,0.46,0.49,0.5,0.54,0.55,0.55,0.555,0.57,0.58,0.58,0.585,0.585,0.595,0.6,0.615,0.63,0.63,0.635,0.645,0.65,0.655,0.655,0.67,0.67,0.695,0.695,0.77,0.28,0.33,0.35,0.37,0.43,0.435,0.44,0.475,0.475,0.48,0.56,0.585,0.585,0.385,0.39,0.39,0.405,0.475,0.5,0.515,0.52,0.55,0.56,0.565,0.59,0.6,0.625,0.71],\"y\":[0.365,0.265,0.42,0.365,0.255,0.3,0.415,0.425,0.37,0.44,0.38,0.35,0.38,0.405,0.355,0.4,0.28,0.34,0.295,0.32,0.28,0.275,0.44,0.415,0.48,0.44,0.45,0.445,0.475,0.425,0.47,0.56,0.525,0.55,0.55,0.355,0.475,0.355,0.445,0.29,0.335,0.425,0.175,0.15,0.15,0.295,0.37,0.375,0.245,0.425,0.41,0.32,0.36,0.36,0.31,0.4,0.35,0.385,0.19,0.4,0.345,0.405,0.41,0.325,0.4,0.355,0.44,0.495,0.39,0.235,0.425,0.32,0.475,0.48,0.45,0.475,0.475,0.47,0.425,0.475,0.445,0.51,0.425,0.475,0.45,0.465,0.465,0.44,0.355,0.45,0.425,0.44,0.465,0.495,0.56,0.535,0.435,0.375,0.37,0.375,0.265,0.435,0.435,0.415,0.47,0.41,0.43,0.4,0.39,0.395,0.395,0.36,0.32,0.35,0.41,0.415,0.375,0.34,0.43,0.305,0.365,0.295,0.425,0.265,0.28,0.195,0.275,0.29,0.535,0.54,0.48,0.35,0.26,0.26,0.2,0.33,0.23,0.255,0.325,0.285,0.445,0.45,0.52,0.455,0.375,0.38,0.35,0.205,0.13,0.13,0.475,0.5,0.515,0.485,0.45,0.405,0.46,0.485,0.455,0.46,0.465,0.485,0.485,0.56,0.545,0.57,0.575,0.57,0.56,0.515,0.55,0.395,0.435,0.405,0.16,0.26,0.21,0.245,0.16,0.475,0.48,0.51,0.45,0.475,0.51,0.49,0.48,0.5,0.48,0.46,0.48,0.485,0.45,0.275,0.4,0.405,0.41,0.5,0.45,0.46,0.345,0.4,0.4,0.435,0.335,0.34,0.3,0.34,0.415,0.28,0.365,0.25,0.325,0.405,0.395,0.405,0.35,0.3,0.36,0.305,0.325,0.35,0.375,0.355,0.38,0.37,0.29,0.27,0.465,0.415,0.445,0.44,0.505,0.215,0.35,0.225,0.055,0.1,0.09,0.12,0.425,0.2,0.175,0.23,0.255,0.26,0.245,0.275,0.245,0.27,0.25,0.47,0.455,0.46,0.495,0.45,0.45,0.46,0.505,0.475,0.475,0.44,0.42,0.195,0.2,0.38,0.45,0.275,0.39,0.36,0.525,0.5,0.485,0.505,0.515,0.54,0.53,0.5,0.525,0.425,0.415,0.285,0.355,0.395,0.38,0.415,0.435,0.4,0.355,0.435,0.435,0.505,0.475,0.455,0.495,0.215,0.205,0.21,0.395,0.28,0.305,0.435,0.28,0.27,0.36,0.145,0.12,0.515,0.41,0.435,0.485,0.44,0.455,0.47,0.485,0.355,0.535,0.35,0.455,0.255,0.21,0.145,0.31,0.205,0.265,0.275,0.255,0.4,0.295,0.28,0.38,0.325,0.22,0.175,0.6,0.465,0.475,0.45,0.475,0.45,0.455,0.51,0.465,0.375,0.425,0.39,0.42,0.26,0.305,0.48,0.495,0.45,0.46,0.455,0.515,0.58,0.525,0.525,0.585,0.545,0.49,0.465,0.525,0.48,0.5,0.515,0.465,0.455,0.49,0.56,0.545,0.565,0.58,0.575,0.52,0.545,0.49,0.45,0.465,0.495,0.47,0.42,0.4,0.375,0.425,0.37,0.42,0.38,0.42,0.375,0.325,0.375,0.375,0.295,0.275,0.31,0.395,0.38,0.44,0.455,0.365,0.455,0.325,0.415,0.345,0.44,0.355,0.485,0.45,0.44,0.5,0.475,0.46,0.44,0.495,0.47,0.5,0.515,0.5,0.41,0.54,0.38,0.39,0.225,0.2,0.45,0.485,0.5,0.455,0.45,0.45,0.47,0.455,0.42,0.345,0.41,0.275,0.305,0.3,0.415,0.275,0.26,0.425,0.295,0.325,0.455,0.435,0.455,0.5,0.455,0.565,0.535,0.555,0.49,0.55,0.47,0.54,0.28,0.31,0.41,0.285,0.465,0.185,0.165,0.195,0.125,0.55,0.53,0.55,0.555,0.44,0.405,0.34,0.405,0.415,0.415,0.35,0.54,0.59,0.545,0.585,0.4,0.465,0.46,0.48,0.465,0.45,0.515,0.42,0.455,0.455,0.46,0.51,0.53,0.5,0.5,0.52,0.485,0.525,0.45,0.44,0.52,0.47,0.505,0.485,0.47,0.46,0.455,0.435,0.445,0.53,0.35,0.38,0.22,0.195,0.195,0.29,0.2,0.23,0.25,0.15,0.27,0.26,0.14,0.16,0.125,0.11,0.445,0.45,0.3,0.42,0.355,0.37,0.335,0.37,0.38,0.405,0.23,0.205,0.29,0.375,0.355,0.325,0.35,0.29,0.245,0.195,0.155,0.45,0.425,0.515,0.49,0.44,0.37,0.39,0.385,0.405,0.5,0.53,0.4,0.34,0.4,0.35,0.415,0.355,0.255,0.355,0.33,0.21,0.32,0.35,0.345,0.455,0.44,0.475,0.475,0.425,0.435,0.445,0.48,0.49,0.425,0.525,0.355,0.305,0.39,0.425,0.41,0.335,0.31,0.4,0.29,0.41,0.52,0.42,0.455,0.43,0.47,0.495,0.445,0.42,0.315,0.3,0.345,0.39,0.345,0.27,0.37,0.285,0.265,0.345,0.145,0.24,0.37,0.35,0.345,0.355,0.24,0.225,0.17,0.255,0.38,0.385,0.385,0.36,0.405,0.335,0.305,0.415,0.265,0.365,0.34,0.365,0.36,0.295,0.265,0.235,0.26,0.345,0.4,0.24,0.485,0.45,0.255,0.34,0.33,0.215,0.375,0.35,0.36,0.18,0.245,0.35,0.225,0.28,0.215,0.435,0.515,0.49,0.475,0.525,0.45,0.34,0.305,0.355,0.295,0.35,0.38,0.425,0.35,0.385,0.38,0.41,0.39,0.385,0.395,0.415,0.375,0.38,0.275,0.275,0.37,0.325,0.405,0.4,0.44,0.4,0.405,0.4,0.44,0.375,0.19,0.325,0.29,0.11,0.23,0.105,0.205,0.335,0.315,0.285,0.385,0.33,0.295,0.3,0.325,0.25,0.26,0.295,0.225,0.25,0.3,0.205,0.265,0.255,0.2,0.205,0.19,0.125,0.1,0.11,0.455,0.44,0.41,0.36,0.36,0.305,0.375,0.4,0.4,0.4,0.42,0.4,0.38,0.425,0.39,0.385,0.405,0.41,0.345,0.44,0.265,0.42,0.405,0.415,0.42,0.52,0.385,0.42,0.515,0.39,0.355,0.46,0.455,0.515,0.505,0.525,0.495,0.44,0.43,0.405,0.44,0.44,0.51,0.47,0.45,0.445,0.27,0.43,0.425,0.455,0.375,0.275,0.34,0.38,0.41,0.385,0.38,0.35,0.36,0.41,0.385,0.435,0.28,0.155,0.415,0.39,0.385,0.39,0.465,0.465,0.375,0.37,0.45,0.465,0.405,0.41,0.335,0.42,0.345,0.34,0.335,0.33,0.275,0.38,0.305,0.205,0.4,0.34,0.41,0.405,0.365,0.175,0.185,0.24,0.25,0.25,0.27,0.25,0.3,0.275,0.275,0.275,0.29,0.3,0.29,0.29,0.31,0.325,0.32,0.305,0.325,0.365,0.335,0.325,0.35,0.375,0.365,0.365,0.355,0.385,0.41,0.4,0.44,0.395,0.405,0.42,0.44,0.43,0.45,0.45,0.435,0.45,0.455,0.435,0.465,0.475,0.46,0.48,0.48,0.475,0.465,0.475,0.475,0.495,0.475,0.455,0.5,0.52,0.51,0.505,0.505,0.5,0.49,0.49,0.505,0.51,0.5,0.485,0.51,0.525,0.52,0.58,0.53,0.52,0.585,0.525,0.525,0.56,0.54,0.56,0.595,0.14,0.175,0.175,0.19,0.18,0.195,0.12,0.23,0.235,0.23,0.22,0.235,0.23,0.24,0.24,0.265,0.25,0.25,0.25,0.25,0.265,0.29,0.28,0.28,0.265,0.31,0.305,0.31,0.33,0.32,0.315,0.34,0.315,0.325,0.325,0.325,0.34,0.345,0.325,0.335,0.35,0.36,0.355,0.345,0.335,0.355,0.375,0.36,0.345,0.365,0.37,0.345,0.35,0.365,0.365,0.37,0.36,0.375,0.385,0.36,0.365,0.37,0.385,0.395,0.4,0.39,0.385,0.385,0.4,0.39,0.39,0.41,0.355,0.39,0.375,0.405,0.405,0.41,0.43,0.39,0.415,0.4,0.425,0.425,0.405,0.4,0.43,0.435,0.445,0.43,0.455,0.4,0.45,0.45,0.455,0.445,0.46,0.475,0.46,0.46,0.46,0.455,0.45,0.49,0.465,0.47,0.455,0.47,0.45,0.475,0.46,0.455,0.49,0.475,0.47,0.47,0.475,0.48,0.51,0.48,0.49,0.475,0.5,0.485,0.485,0.495,0.48,0.49,0.525,0.505,0.5,0.5,0.5,0.52,0.52,0.505,0.5,0.5,0.515,0.495,0.52,0.525,0.46,0.51,0.505,0.535,0.495,0.475,0.525,0.57,0.565,0.535,0.525,0.505,0.535,0.535,0.565,0.565,0.525,0.6,0.6,0.13,0.15,0.135,0.155,0.165,0.18,0.18,0.195,0.195,0.21,0.22,0.22,0.235,0.225,0.265,0.28,0.28,0.275,0.29,0.32,0.3,0.3,0.325,0.3,0.32,0.31,0.325,0.335,0.33,0.345,0.33,0.345,0.34,0.335,0.365,0.34,0.33,0.33,0.33,0.35,0.36,0.38,0.35,0.35,0.38,0.465,0.375,0.375,0.38,0.39,0.39,0.405,0.4,0.4,0.38,0.385,0.4,0.38,0.38,0.46,0.4,0.4,0.405,0.395,0.4,0.39,0.42,0.39,0.41,0.415,0.415,0.43,0.425,0.43,0.445,0.44,0.415,0.455,0.435,0.45,0.46,0.445,0.44,0.46,0.45,0.435,0.47,0.455,0.435,0.445,0.445,0.455,0.455,0.445,0.45,0.45,0.45,0.46,0.465,0.47,0.475,0.455,0.465,0.465,0.47,0.475,0.48,0.475,0.485,0.485,0.47,0.46,0.465,0.475,0.47,0.45,0.48,0.485,0.48,0.47,0.5,0.495,0.515,0.53,0.48,0.5,0.5,0.515,0.51,0.53,0.525,0.5,0.505,0.54,0.52,0.54,0.53,0.53,0.56,0.565,0.575,0.525,0.55,0.56,0.55,0.535,0.58,0.55,0.565,0.505,0.575,0.585,0.565,0.57,0.625,0.58,0.63,0.375,0.205,0.185,0.19,0.195,0.215,0.225,0.23,0.23,0.225,0.25,0.205,0.245,0.25,0.255,0.255,0.27,0.255,0.27,0.27,0.27,0.265,0.29,0.28,0.29,0.29,0.275,0.275,0.28,0.27,0.275,0.27,0.29,0.28,0.3,0.28,0.3,0.305,0.295,0.27,0.29,0.285,0.335,0.305,0.325,0.32,0.31,0.34,0.315,0.315,0.34,0.33,0.345,0.365,0.33,0.36,0.35,0.365,0.34,0.365,0.355,0.355,0.355,0.38,0.36,0.37,0.355,0.365,0.355,0.38,0.395,0.38,0.42,0.375,0.41,0.375,0.395,0.405,0.38,0.395,0.38,0.42,0.4,0.4,0.395,0.4,0.42,0.415,0.42,0.415,0.425,0.4,0.415,0.41,0.435,0.42,0.42,0.435,0.445,0.43,0.405,0.43,0.405,0.43,0.435,0.425,0.44,0.43,0.43,0.425,0.425,0.425,0.445,0.455,0.44,0.45,0.445,0.39,0.45,0.45,0.46,0.435,0.44,0.435,0.42,0.48,0.46,0.46,0.455,0.445,0.465,0.49,0.475,0.46,0.47,0.475,0.45,0.445,0.47,0.455,0.465,0.465,0.475,0.48,0.475,0.465,0.455,0.46,0.485,0.49,0.435,0.475,0.47,0.45,0.48,0.475,0.465,0.48,0.46,0.475,0.47,0.5,0.475,0.475,0.48,0.475,0.51,0.495,0.5,0.475,0.455,0.505,0.515,0.48,0.485,0.505,0.485,0.475,0.495,0.49,0.5,0.495,0.475,0.51,0.565,0.525,0.51,0.5,0.525,0.505,0.59,0.525,0.51,0.51,0.525,0.535,0.52,0.49,0.495,0.515,0.53,0.53,0.505,0.545,0.545,0.565,0.545,0.565,0.555,0.57,0.55,0.575,0.575,0.6,0.58,0.565,0.57,0.61,0.65,0.105,0.165,0.265,0.255,0.27,0.28,0.3,0.295,0.29,0.3,0.31,0.29,0.3,0.32,0.315,0.34,0.34,0.34,0.32,0.365,0.335,0.335,0.355,0.345,0.35,0.355,0.37,0.365,0.365,0.36,0.38,0.39,0.37,0.38,0.385,0.38,0.395,0.425,0.4,0.4,0.4,0.43,0.4,0.41,0.43,0.425,0.43,0.435,0.445,0.465,0.46,0.46,0.435,0.455,0.44,0.465,0.46,0.455,0.455,0.465,0.485,0.485,0.515,0.485,0.475,0.485,0.435,0.48,0.52,0.47,0.47,0.5,0.455,0.48,0.49,0.505,0.51,0.515,0.515,0.51,0.505,0.545,0.515,0.5,0.485,0.54,0.51,0.505,0.515,0.545,0.51,0.5,0.5,0.515,0.525,0.55,0.555,0.56,0.565,0.575,0.57,0.55,0.17,0.21,0.215,0.23,0.225,0.255,0.26,0.27,0.26,0.27,0.275,0.265,0.27,0.27,0.28,0.285,0.29,0.29,0.28,0.3,0.3,0.285,0.29,0.3,0.3,0.325,0.325,0.315,0.335,0.325,0.34,0.335,0.36,0.35,0.355,0.37,0.345,0.355,0.36,0.36,0.36,0.37,0.37,0.355,0.375,0.375,0.4,0.37,0.4,0.4,0.39,0.375,0.395,0.375,0.36,0.35,0.395,0.39,0.41,0.39,0.415,0.39,0.38,0.4,0.4,0.42,0.43,0.4,0.42,0.4,0.43,0.425,0.43,0.455,0.42,0.425,0.425,0.4,0.375,0.42,0.435,0.425,0.42,0.415,0.425,0.395,0.435,0.46,0.445,0.44,0.425,0.42,0.44,0.44,0.43,0.45,0.45,0.435,0.43,0.445,0.445,0.455,0.425,0.47,0.45,0.47,0.465,0.445,0.45,0.435,0.445,0.44,0.435,0.46,0.43,0.445,0.445,0.49,0.45,0.46,0.435,0.45,0.45,0.46,0.46,0.475,0.48,0.48,0.48,0.47,0.47,0.455,0.475,0.47,0.48,0.47,0.505,0.475,0.465,0.485,0.47,0.475,0.465,0.47,0.485,0.47,0.475,0.485,0.515,0.515,0.54,0.49,0.48,0.47,0.45,0.48,0.48,0.49,0.475,0.5,0.47,0.485,0.485,0.505,0.5,0.49,0.485,0.495,0.5,0.5,0.49,0.49,0.505,0.515,0.525,0.505,0.5,0.5,0.51,0.51,0.51,0.51,0.5,0.51,0.485,0.48,0.495,0.505,0.525,0.51,0.55,0.51,0.505,0.505,0.5,0.535,0.53,0.51,0.525,0.505,0.505,0.52,0.5,0.505,0.52,0.52,0.55,0.54,0.525,0.51,0.52,0.51,0.52,0.565,0.55,0.565,0.535,0.545,0.575,0.57,0.54,0.56,0.57,0.55,0.525,0.565,0.56,0.59,0.565,0.565,0.595,0.62,0.63,0.175,0.245,0.27,0.28,0.3,0.32,0.335,0.325,0.345,0.325,0.36,0.365,0.37,0.345,0.355,0.37,0.35,0.395,0.365,0.38,0.41,0.425,0.385,0.42,0.415,0.385,0.38,0.42,0.455,0.44,0.45,0.43,0.455,0.45,0.495,0.465,0.475,0.475,0.475,0.455,0.47,0.495,0.49,0.495,0.475,0.475,0.5,0.525,0.485,0.52,0.545,0.515,0.53,0.535,0.55,0.53,0.545,0.55,0.56,0.575,0.135,0.18,0.215,0.26,0.265,0.27,0.275,0.27,0.31,0.3,0.315,0.335,0.31,0.31,0.31,0.325,0.34,0.335,0.33,0.33,0.345,0.33,0.37,0.375,0.34,0.385,0.36,0.37,0.38,0.38,0.375,0.38,0.405,0.4,0.4,0.415,0.42,0.385,0.41,0.415,0.395,0.38,0.385,0.415,0.405,0.4,0.43,0.43,0.395,0.405,0.455,0.425,0.395,0.39,0.425,0.43,0.435,0.45,0.435,0.41,0.4,0.45,0.455,0.445,0.445,0.415,0.455,0.435,0.45,0.46,0.46,0.455,0.44,0.415,0.44,0.45,0.45,0.435,0.455,0.445,0.465,0.45,0.45,0.43,0.475,0.45,0.5,0.44,0.44,0.44,0.455,0.47,0.46,0.475,0.465,0.49,0.455,0.47,0.48,0.46,0.46,0.47,0.47,0.47,0.495,0.495,0.49,0.49,0.495,0.495,0.47,0.485,0.495,0.515,0.505,0.445,0.52,0.47,0.49,0.485,0.52,0.505,0.525,0.5,0.515,0.53,0.48,0.515,0.49,0.49,0.485,0.51,0.49,0.52,0.52,0.51,0.51,0.515,0.525,0.52,0.535,0.51,0.5,0.515,0.525,0.53,0.515,0.51,0.54,0.54,0.535,0.55,0.545,0.575,0.55,0.55,0.535,0.575,0.565,0.57,0.55,0.605,0.13,0.11,0.15,0.21,0.2,0.215,0.21,0.21,0.21,0.24,0.25,0.25,0.235,0.25,0.27,0.27,0.27,0.28,0.275,0.29,0.25,0.325,0.315,0.32,0.325,0.33,0.35,0.365,0.375,0.365,0.39,0.395,0.385,0.455,0.4,0.41,0.43,0.405,0.44,0.47,0.41,0.445,0.435,0.46,0.465,0.45,0.445,0.49,0.515,0.515,0.19,0.195,0.215,0.215,0.255,0.24,0.28,0.295,0.305,0.31,0.305,0.315,0.305,0.32,0.35,0.355,0.345,0.345,0.36,0.355,0.38,0.35,0.39,0.37,0.39,0.38,0.385,0.385,0.42,0.42,0.385,0.42,0.43,0.41,0.42,0.44,0.45,0.435,0.485,0.465,0.47,0.43,0.48,0.49,0.495,0.5,0.525,0.55,0.54,0.57,0.5,0.585,0.575,0.555,0.57,0.39,0.425,0.385,0.305,0.3,0.39,0.33,0.35,0.31,0.29,0.38,0.31,0.29,0.385,0.48,0.455,0.55,0.535,0.49,0.25,0.355,0.405,0.29,0.095,0.13,0.225,0.29,0.38,0.37,0.325,0.36,0.35,0.21,0.295,0.375,0.4,0.31,0.51,0.47,0.455,0.24,0.41,0.35,0.33,0.425,0.425,0.455,0.465,0.53,0.36,0.24,0.35,0.37,0.35,0.325,0.35,0.375,0.31,0.195,0.355,0.585,0.3,0.2,0.44,0.46,0.5,0.495,0.42,0.51,0.55,0.565,0.565,0.47,0.305,0.45,0.28,0.275,0.235,0.115,0.21,0.13,0.15,0.465,0.5,0.45,0.45,0.45,0.48,0.47,0.42,0.42,0.43,0.4,0.235,0.34,0.4,0.385,0.37,0.37,0.47,0.495,0.485,0.17,0.325,0.215,0.28,0.305,0.19,0.55,0.515,0.49,0.405,0.48,0.345,0.22,0.225,0.34,0.525,0.465,0.505,0.47,0.495,0.51,0.325,0.35,0.26,0.415,0.39,0.375,0.46,0.465,0.525,0.455,0.425,0.475,0.28,0.2,0.39,0.28,0.43,0.4,0.445,0.475,0.45,0.48,0.435,0.465,0.335,0.36,0.315,0.32,0.38,0.36,0.28,0.375,0.325,0.365,0.27,0.455,0.59,0.485,0.46,0.5,0.495,0.395,0.38,0.415,0.335,0.465,0.46,0.43,0.455,0.51,0.45,0.575,0.51,0.48,0.445,0.45,0.475,0.41,0.51,0.52,0.57,0.525,0.48,0.475,0.405,0.405,0.375,0.415,0.385,0.345,0.315,0.33,0.395,0.305,0.265,0.475,0.27,0.375,0.3,0.26,0.425,0.415,0.45,0.36,0.325,0.385,0.405,0.425,0.375,0.455,0.49,0.415,0.5,0.375,0.355,0.375,0.35,0.265,0.24,0.47,0.475,0.435,0.435,0.42,0.385,0.395,0.31,0.395,0.435,0.325,0.535,0.305,0.345,0.395,0.425,0.39,0.345,0.46,0.42,0.55,0.63,0.49,0.48,0.455,0.485,0.52,0.47,0.24,0.185,0.125,0.55,0.565,0.43,0.4,0.43,0.36,0.435,0.475,0.53,0.56,0.495,0.44,0.47,0.455,0.485,0.525,0.44,0.45,0.525,0.475,0.47,0.505,0.57,0.545,0.595,0.44,0.325,0.125,0.325,0.405,0.335,0.275,0.34,0.41,0.325,0.265,0.135,0.115,0.43,0.39,0.345,0.345,0.365,0.35,0.375,0.34,0.35,0.29,0.25,0.22,0.46,0.475,0.465,0.505,0.385,0.43,0.33,0.415,0.355,0.225,0.455,0.515,0.46,0.43,0.485,0.5,0.375,0.395,0.245,0.38,0.305,0.315,0.315,0.235,0.35,0.36,0.255,0.415,0.365,0.315,0.2,0.45,0.435,0.19,0.385,0.255,0.38,0.5,0.485,0.515,0.5,0.38,0.4,0.24,0.4,0.255,0.355,0.415,0.355,0.335,0.355,0.38,0.435,0.205,0.265,0.285,0.33,0.26,0.305,0.2,0.2,0.17,0.18,0.185,0.145,0.47,0.35,0.385,0.325,0.405,0.405,0.39,0.325,0.415,0.275,0.415,0.475,0.44,0.515,0.47,0.49,0.455,0.485,0.42,0.355,0.44,0.425,0.285,0.4,0.415,0.36,0.26,0.4,0.51,0.385,0.39,0.325,0.395,0.38,0.31,0.305,0.36,0.4,0.4,0.4,0.41,0.39,0.26,0.21,0.23,0.24,0.255,0.3,0.325,0.315,0.315,0.32,0.31,0.375,0.35,0.37,0.375,0.365,0.37,0.4,0.39,0.425,0.42,0.45,0.44,0.46,0.455,0.48,0.49,0.475,0.5,0.485,0.475,0.49,0.5,0.585,0.5,0.545,0.525,0.535,0.555,0.55,0.55,0.53,0.525,0.57,0.15,0.17,0.18,0.195,0.21,0.22,0.22,0.225,0.235,0.265,0.29,0.285,0.295,0.31,0.325,0.335,0.345,0.325,0.355,0.35,0.35,0.35,0.35,0.345,0.345,0.355,0.34,0.385,0.355,0.37,0.375,0.38,0.385,0.395,0.415,0.425,0.42,0.41,0.405,0.435,0.425,0.425,0.445,0.435,0.45,0.445,0.45,0.465,0.47,0.465,0.465,0.46,0.46,0.46,0.48,0.485,0.5,0.47,0.51,0.485,0.475,0.48,0.49,0.49,0.495,0.495,0.48,0.495,0.495,0.49,0.5,0.5,0.52,0.545,0.54,0.55,0.525,0.575,0.56,0.585,0.6,0.16,0.205,0.21,0.24,0.285,0.29,0.315,0.33,0.34,0.32,0.34,0.335,0.345,0.37,0.355,0.365,0.375,0.375,0.375,0.38,0.38,0.39,0.38,0.4,0.395,0.385,0.4,0.395,0.43,0.42,0.42,0.4,0.42,0.44,0.425,0.43,0.45,0.45,0.43,0.48,0.455,0.45,0.435,0.47,0.46,0.46,0.465,0.47,0.46,0.49,0.48,0.475,0.45,0.47,0.475,0.49,0.48,0.495,0.49,0.48,0.505,0.51,0.465,0.515,0.48,0.52,0.515,0.52,0.535,0.51,0.49,0.515,0.505,0.5,0.51,0.55,0.52,0.53,0.525,0.55,0.53,0.55,0.57,0.575,0.555,0.14,0.15,0.175,0.215,0.25,0.245,0.255,0.255,0.26,0.275,0.29,0.275,0.3,0.285,0.32,0.305,0.305,0.31,0.305,0.3,0.315,0.325,0.335,0.325,0.315,0.34,0.36,0.325,0.335,0.34,0.35,0.345,0.355,0.375,0.38,0.365,0.365,0.385,0.38,0.385,0.395,0.41,0.39,0.385,0.415,0.4,0.375,0.43,0.44,0.43,0.425,0.42,0.425,0.465,0.435,0.445,0.44,0.435,0.43,0.445,0.435,0.44,0.465,0.425,0.46,0.465,0.42,0.455,0.47,0.475,0.475,0.48,0.495,0.45,0.51,0.48,0.45,0.46,0.465,0.48,0.5,0.49,0.505,0.475,0.47,0.525,0.505,0.485,0.495,0.495,0.515,0.52,0.51,0.505,0.525,0.525,0.54,0.54,0.565,0.55,0.57,0.17,0.195,0.2,0.235,0.24,0.225,0.27,0.265,0.285,0.29,0.335,0.35,0.365,0.375,0.365,0.375,0.4,0.395,0.43,0.405,0.42,0.415,0.425,0.42,0.445,0.445,0.47,0.455,0.485,0.435,0.475,0.45,0.475,0.48,0.475,0.5,0.485,0.49,0.485,0.51,0.49,0.49,0.525,0.515,0.515,0.515,0.54,0.565,0.55,0.565,0.57,0.595,0.23,0.235,0.205,0.25,0.26,0.28,0.27,0.28,0.315,0.305,0.34,0.335,0.31,0.36,0.35,0.385,0.375,0.375,0.39,0.37,0.425,0.4,0.365,0.4,0.4,0.4,0.465,0.38,0.405,0.445,0.425,0.415,0.43,0.43,0.435,0.425,0.435,0.43,0.435,0.425,0.455,0.45,0.465,0.46,0.45,0.45,0.445,0.44,0.45,0.5,0.46,0.475,0.47,0.46,0.445,0.48,0.45,0.45,0.465,0.495,0.49,0.48,0.425,0.47,0.48,0.49,0.475,0.515,0.455,0.495,0.475,0.475,0.495,0.515,0.5,0.49,0.49,0.48,0.53,0.485,0.51,0.485,0.52,0.485,0.5,0.515,0.505,0.575,0.485,0.52,0.495,0.52,0.565,0.5,0.515,0.525,0.525,0.51,0.485,0.525,0.525,0.525,0.54,0.515,0.505,0.505,0.515,0.55,0.58,0.59,0.575,0.215,0.345,0.33,0.365,0.355,0.37,0.38,0.37,0.41,0.4,0.4,0.405,0.405,0.425,0.425,0.44,0.485,0.43,0.43,0.475,0.485,0.5,0.49,0.51,0.525,0.485,0.495,0.505,0.505,0.515,0.54,0.545,0.585,0.615,0.185,0.26,0.285,0.3,0.28,0.3,0.32,0.335,0.325,0.32,0.33,0.34,0.355,0.37,0.375,0.375,0.33,0.375,0.38,0.385,0.41,0.395,0.4,0.42,0.41,0.42,0.405,0.445,0.45,0.44,0.45,0.47,0.47,0.43,0.445,0.445,0.435,0.45,0.435,0.47,0.405,0.47,0.48,0.46,0.45,0.45,0.495,0.485,0.49,0.475,0.515,0.515,0.495,0.505,0.49,0.5,0.485,0.5,0.505,0.51,0.54,0.49,0.455,0.53,0.525,0.52,0.52,0.56,0.51,0.535,0.555,0.56,0.55,0.575,0.17,0.17,0.185,0.27,0.31,0.32,0.35,0.355,0.38,0.395,0.43,0.4,0.415,0.395,0.435,0.43,0.48,0.43,0.455,0.465,0.5,0.525,0.215,0.22,0.275,0.285,0.29,0.3,0.325,0.32,0.325,0.34,0.34,0.405,0.36,0.415,0.4,0.4,0.425,0.42,0.45,0.45,0.46,0.495,0.485,0.495,0.49,0.515,0.505,0.53,0.39,0.36,0.35,0.42,0.36,0.4,0.26,0.425,0.135,0.165,0.15,0.48,0.42,0.45,0.5,0.53,0.54,0.505,0.5,0.375,0.335,0.41,0.395,0.44,0.35,0.435,0.255,0.2,0.22,0.49,0.44,0.475,0.41,0.54,0.49,0.47,0.45,0.465,0.405,0.405,0.265,0.355,0.405,0.38,0.41,0.3,0.195,0.295,0.385,0.505,0.44,0.545,0.415,0.36,0.385,0.575,0.405,0.145,0.515,0.405,0.435,0.47,0.405,0.245,0.235,0.335,0.38,0.405,0.3,0.485,0.505,0.53,0.265,0.215,0.38,0.25,0.34,0.45,0.48,0.46,0.42,0.495,0.485,0.51,0.34,0.505,0.525,0.4,0.305,0.435,0.415,0.525,0.35,0.32,0.35,0.325,0.505,0.455,0.325,0.41,0.48,0.485,0.535,0.285,0.51,0.53,0.54,0.435,0.525,0.48,0.51,0.555,0.55,0.435,0.495,0.5,0.24,0.35,0.375,0.38,0.35,0.35,0.23,0.48,0.385,0.375,0.505,0.435,0.52,0.485,0.45,0.5,0.38,0.385,0.335,0.31,0.465,0.475,0.425,0.36,0.375,0.405,0.355,0.385,0.39,0.415,0.53,0.54,0.45,0.475,0.475,0.44,0.57,0.51,0.46,0.475,0.42,0.395,0.405,0.375,0.455,0.5,0.45,0.485,0.5,0.5,0.485,0.5,0.525,0.575,0.45,0.435,0.445,0.3,0.325,0.2,0.355,0.485,0.38,0.41,0.31,0.355,0.26,0.35,0.2,0.125,0.555,0.425,0.385,0.37,0.3,0.28,0.265,0.415,0.48,0.475,0.435,0.305,0.34,0.34,0.36,0.3,0.325,0.35,0.525,0.525,0.475,0.435,0.39,0.33,0.365,0.38,0.38,0.4,0.32,0.385,0.375,0.345,0.38,0.405,0.365,0.36,0.34,0.3,0.285,0.215,0.445,0.44,0.315,0.3,0.405,0.245,0.31,0.21,0.465,0.48,0.46,0.345,0.235,0.33,0.405,0.375,0.33,0.235,0.19,0.255,0.21,0.13,0.435,0.4,0.375,0.225,0.35,0.4,0.41,0.535,0.465,0.44,0.42,0.515,0.435,0.48,0.45,0.475,0.375,0.285,0.35,0.43,0.395,0.345,0.265,0.28,0.25,0.28,0.265,0.315,0.31,0.31,0.32,0.355,0.395,0.37,0.465,0.45,0.46,0.48,0.47,0.475,0.475,0.47,0.475,0.51,0.545,0.55,0.605,0.18,0.21,0.24,0.265,0.27,0.27,0.28,0.285,0.275,0.3,0.335,0.35,0.37,0.355,0.37,0.37,0.4,0.4,0.385,0.39,0.39,0.395,0.44,0.44,0.44,0.42,0.46,0.475,0.48,0.495,0.47,0.505,0.485,0.495,0.47,0.485,0.495,0.48,0.5,0.525,0.52,0.585,0.565,0.58,0.12,0.15,0.265,0.315,0.29,0.3,0.335,0.33,0.34,0.345,0.355,0.355,0.42,0.37,0.475,0.405,0.38,0.42,0.42,0.44,0.44,0.44,0.43,0.415,0.44,0.45,0.46,0.47,0.41,0.475,0.47,0.49,0.51,0.495,0.47,0.5,0.475,0.52,0.505,0.52,0.54,0.5,0.525,0.525,0.575,0.56,0.57,0.545,0.545,0.15,0.185,0.205,0.24,0.23,0.26,0.26,0.265,0.265,0.265,0.275,0.285,0.31,0.315,0.265,0.325,0.325,0.335,0.34,0.355,0.35,0.435,0.34,0.355,0.36,0.35,0.355,0.37,0.365,0.39,0.4,0.39,0.405,0.42,0.415,0.41,0.41,0.425,0.45,0.47,0.42,0.42,0.455,0.44,0.475,0.45,0.46,0.46,0.47,0.47,0.465,0.46,0.465,0.47,0.47,0.475,0.475,0.475,0.485,0.48,0.48,0.475,0.5,0.49,0.485,0.465,0.495,0.515,0.515,0.52,0.475,0.525,0.53,0.5,0.515,0.515,0.53,0.52,0.555,0.125,0.285,0.3,0.325,0.37,0.375,0.375,0.39,0.43,0.405,0.45,0.465,0.46,0.49,0.475,0.475,0.495,0.46,0.515,0.5,0.5,0.455,0.505,0.53,0.5,0.525,0.53,0.525,0.565,0.205,0.225,0.22,0.225,0.22,0.265,0.275,0.29,0.325,0.34,0.32,0.345,0.37,0.355,0.345,0.365,0.335,0.35,0.365,0.39,0.405,0.415,0.405,0.425,0.425,0.42,0.41,0.395,0.405,0.45,0.41,0.41,0.415,0.45,0.4,0.43,0.45,0.44,0.42,0.465,0.46,0.465,0.47,0.44,0.46,0.45,0.47,0.5,0.49,0.49,0.45,0.495,0.47,0.5,0.525,0.47,0.48,0.485,0.485,0.49,0.505,0.5,0.51,0.52,0.495,0.495,0.52,0.525,0.51,0.51,0.525,0.53,0.51,0.54,0.51,0.54,0.54,0.535,0.51,0.53,0.55,0.535,0.55,0.53,0.555,0.56,0.6,0.13,0.25,0.25,0.28,0.32,0.31,0.36,0.355,0.365,0.375,0.395,0.4,0.375,0.38,0.37,0.415,0.42,0.455,0.505,0.475,0.48,0.47,0.505,0.525,0.5,0.525,0.525,0.555,0.205,0.205,0.265,0.29,0.315,0.33,0.375,0.335,0.355,0.36,0.37,0.395,0.39,0.41,0.4,0.425,0.425,0.42,0.395,0.41,0.4,0.45,0.44,0.46,0.465,0.43,0.43,0.45,0.465,0.46,0.42,0.45,0.42,0.47,0.45,0.48,0.48,0.455,0.5,0.48,0.48,0.495,0.5,0.49,0.475,0.51,0.505,0.495,0.52,0.525,0.52,0.54,0.54,0.58,0.535,0.56,0.58,0.155,0.23,0.23,0.27,0.305,0.31,0.365,0.385,0.375,0.4,0.445,0.49,0.26,0.275,0.34,0.355,0.385,0.445,0.45,0.44,0.46,0.48,0.455,0.46,0.47,0.52,0.54,0.52,0.555,0.385,0.42,0.365,0.41,0.26,0.35,0.325,0.105,0.25,0.425,0.41,0.42,0.475,0.45,0.45,0.35,0.275,0.37,0.535,0.3,0.295,0.44,0.41,0.465,0.4,0.335,0.255,0.515,0.45,0.44,0.465,0.475,0.37,0.5,0.235,0.395,0.43,0.39,0.34,0.385,0.44,0.36,0.4,0.25,0.41,0.225,0.45,0.5,0.355,0.49,0.3,0.455,0.545,0.425,0.225,0.33,0.375,0.44,0.45,0.5,0.4,0.46,0.4,0.355,0.38,0.5,0.575,0.5,0.46,0.105,0.345,0.43,0.12,0.48,0.47,0.27,0.18,0.39,0.365,0.375,0.355,0.27,0.405,0.4,0.39,0.445,0.41,0.46,0.49,0.43,0.23,0.28,0.4,0.28,0.4,0.35,0.42,0.38,0.55,0.515,0.535,0.44,0.37,0.18,0.175,0.41,0.4,0.425,0.275,0.42,0.39,0.44,0.4,0.45,0.44,0.175,0.41,0.365,0.4,0.415,0.425,0.39,0.235,0.355,0.385,0.385,0.395,0.44,0.5,0.55,0.55,0.55,0.575,0.205,0.19,0.22,0.22,0.23,0.29,0.3,0.285,0.295,0.315,0.33,0.32,0.33,0.35,0.35,0.39,0.375,0.41,0.455,0.435,0.45,0.465,0.48,0.525,0.545,0.515,0.52,0.51,0.51,0.6,0.6,0.135,0.175,0.23,0.27,0.28,0.31,0.35,0.35,0.375,0.39,0.395,0.43,0.465,0.46,0.455,0.49,0.475,0.53,0.465,0.505,0.48,0.48,0.525,0.505,0.485,0.515,0.55,0.58,0.545,0.2,0.245,0.26,0.28,0.27,0.31,0.335,0.325,0.325,0.365,0.385,0.405,0.41,0.42,0.415,0.445,0.44,0.45,0.45,0.46,0.46,0.425,0.45,0.46,0.485,0.495,0.495,0.495,0.5,0.47,0.485,0.5,0.5,0.51,0.535,0.56,0.39,0.405,0.465,0.49,0.515,0.49,0.275,0.31,0.3,0.305,0.335,0.335,0.375,0.36,0.395,0.4,0.45,0.43,0.435,0.43,0.385,0.43,0.45,0.465,0.445,0.48,0.51,0.45,0.475,0.47,0.365,0.475,0.5,0.49,0.485,0.53,0.485,0.5,0.5,0.495,0.525,0.52,0.51,0.545,0.545,0.545,0.565,0.59,0.305,0.35,0.365,0.41,0.4,0.42,0.42,0.45,0.465,0.48,0.505,0.525,0.215,0.265,0.35,0.365,0.375,0.385,0.415,0.42,0.445,0.435,0.425,0.45,0.425,0.47,0.45,0.455,0.5,0.495,0.505,0.49,0.495,0.535,0.505,0.525,0.5,0.535,0.525,0.53,0.55,0.605,0.215,0.23,0.25,0.28,0.315,0.33,0.35,0.37,0.36,0.355,0.44,0.475,0.455,0.255,0.31,0.29,0.3,0.365,0.38,0.4,0.385,0.43,0.43,0.45,0.44,0.475,0.485,0.555],\"z\":[0.095,0.09,0.135,0.125,0.08,0.095,0.15,0.125,0.125,0.15,0.14,0.11,0.135,0.145,0.1,0.13,0.085,0.1,0.08,0.1,0.095,0.1,0.155,0.135,0.165,0.14,0.185,0.14,0.18,0.14,0.165,0.165,0.165,0.175,0.2,0.105,0.155,0.105,0.135,0.09,0.105,0.135,0.045,0.055,0.05,0.095,0.12,0.12,0.07,0.16,0.12,0.095,0.13,0.12,0.1,0.14,0.12,0.135,0.06,0.125,0.105,0.11,0.13,0.095,0.12,0.12,0.16,0.185,0.12,0.07,0.13,0.11,0.17,0.175,0.195,0.15,0.14,0.15,0.14,0.17,0.14,0.175,0.165,0.16,0.14,0.18,0.14,0.16,0.13,0.16,0.135,0.15,0.175,0.165,0.19,0.195,0.15,0.13,0.13,0.125,0.095,0.145,0.16,0.14,0.16,0.155,0.165,0.125,0.135,0.105,0.125,0.105,0.08,0.105,0.125,0.115,0.135,0.105,0.15,0.085,0.105,0.085,0.14,0.075,0.08,0.06,0.09,0.085,0.16,0.165,0.165,0.125,0.09,0.095,0.065,0.115,0.08,0.09,0.11,0.095,0.155,0.145,0.19,0.155,0.13,0.125,0.12,0.08,0.055,0.095,0.145,0.185,0.19,0.16,0.135,0.13,0.19,0.215,0.17,0.165,0.165,0.16,0.175,0.21,0.23,0.19,0.175,0.205,0.22,0.175,0.215,0.145,0.155,0.115,0.04,0.09,0.06,0.085,0.045,0.15,0.18,0.175,0.16,0.175,0.2,0.19,0.15,0.185,0.16,0.17,0.18,0.17,0.15,0.085,0.14,0.155,0.15,0.185,0.16,0.185,0.12,0.165,0.145,0.17,0.115,0.14,0.11,0.11,0.17,0.095,0.145,0.09,0.105,0.14,0.16,0.14,0.13,0.12,0.135,0.13,0.125,0.145,0.15,0.15,0.105,0.135,0.125,0.085,0.165,0.16,0.135,0.175,0.215,0.075,0.135,0.08,0.01,0.03,0.03,0.035,0.16,0.07,0.065,0.08,0.085,0.085,0.08,0.085,0.075,0.11,0.105,0.18,0.155,0.185,0.165,0.175,0.185,0.16,0.17,0.16,0.155,0.125,0.165,0.06,0.08,0.13,0.15,0.11,0.15,0.125,0.215,0.2,0.205,0.225,0.155,0.215,0.185,0.24,0.205,0.135,0.185,0.105,0.12,0.14,0.175,0.17,0.155,0.155,0.125,0.16,0.18,0.21,0.165,0.175,0.195,0.085,0.075,0.085,0.14,0.105,0.095,0.175,0.1,0.1,0.13,0.06,0.03,0.24,0.125,0.145,0.19,0.14,0.195,0.2,0.175,0.11,0.19,0.1,0.155,0.095,0.06,0.04,0.1,0.07,0.105,0.09,0.1,0.13,0.105,0.09,0.155,0.12,0.08,0.04,0.195,0.19,0.19,0.185,0.185,0.195,0.145,0.205,0.185,0.18,0.155,0.14,0.16,0.08,0.115,0.15,0.185,0.17,0.14,0.17,0.17,0.205,0.185,0.19,0.215,0.18,0.18,0.15,0.175,0.15,0.175,0.16,0.145,0.12,0.18,0.215,0.165,0.195,0.2,0.17,0.15,0.195,0.19,0.16,0.175,0.185,0.18,0.145,0.135,0.12,0.135,0.105,0.155,0.135,0.125,0.12,0.1,0.125,0.125,0.095,0.095,0.1,0.14,0.145,0.15,0.15,0.12,0.135,0.11,0.14,0.12,0.15,0.115,0.12,0.145,0.095,0.165,0.12,0.12,0.12,0.17,0.14,0.17,0.165,0.155,0.14,0.165,0.12,0.135,0.07,0.07,0.175,0.165,0.16,0.125,0.17,0.175,0.155,0.17,0.14,0.1,0.15,0.095,0.095,0.09,0.165,0.11,0.1,0.14,0.1,0.105,0.19,0.185,0.185,0.175,0.15,0.215,0.16,0.195,0.155,0.175,0.14,0.175,0.105,0.11,0.135,0.1,0.17,0.07,0.055,0.07,0.05,0.19,0.195,0.21,0.2,0.135,0.12,0.12,0.12,0.16,0.175,0.115,0.175,0.225,0.185,0.185,0.155,0.125,0.15,0.145,0.14,0.13,0.15,0.135,0.165,0.145,0.13,0.155,0.175,0.195,0.15,0.175,0.165,0.155,0.175,0.18,0.225,0.225,0.19,0.19,0.175,0.235,0.225,0.18,0.155,0.185,0.14,0.145,0.085,0.07,0.08,0.115,0.08,0.09,0.09,0.05,0.09,0.115,0.055,0.06,0.04,0.04,0.155,0.16,0.095,0.185,0.13,0.12,0.11,0.14,0.13,0.14,0.075,0.07,0.115,0.14,0.115,0.115,0.115,0.105,0.075,0.065,0.045,0.16,0.18,0.16,0.155,0.165,0.12,0.125,0.15,0.15,0.165,0.17,0.145,0.105,0.12,0.115,0.15,0.13,0.065,0.13,0.125,0.08,0.115,0.14,0.135,0.155,0.14,0.15,0.14,0.14,0.175,0.15,0.175,0.175,0.15,0.19,0.14,0.1,0.125,0.17,0.145,0.14,0.12,0.15,0.115,0.175,0.18,0.15,0.18,0.14,0.14,0.145,0.195,0.145,0.11,0.1,0.115,0.14,0.125,0.09,0.13,0.1,0.09,0.17,0.05,0.075,0.125,0.145,0.135,0.14,0.085,0.075,0.055,0.08,0.14,0.115,0.105,0.105,0.16,0.095,0.095,0.145,0.085,0.115,0.12,0.125,0.13,0.1,0.09,0.1,0.085,0.12,0.13,0.085,0.18,0.16,0.095,0.13,0.12,0.075,0.145,0.12,0.125,0.065,0.09,0.13,0.08,0.11,0.075,0.165,0.17,0.195,0.185,0.18,0.17,0.13,0.105,0.12,0.095,0.12,0.15,0.155,0.145,0.145,0.155,0.165,0.15,0.15,0.18,0.145,0.115,0.165,0.1,0.1,0.14,0.115,0.185,0.14,0.185,0.15,0.125,0.17,0.15,0.15,0.075,0.115,0.12,0.02,0.09,0.05,0.1,0.12,0.105,0.105,0.135,0.105,0.115,0.125,0.14,0.09,0.09,0.13,0.09,0.08,0.1,0.055,0.085,0.08,0.065,0.07,0.06,0.035,0.025,0.025,0.16,0.15,0.13,0.08,0.11,0.085,0.105,0.125,0.12,0.13,0.13,0.12,0.13,0.12,0.125,0.115,0.125,0.135,0.09,0.205,0.09,0.15,0.14,0.13,0.13,0.2,0.14,0.13,0.175,0.105,0.12,0.17,0.165,0.175,0.185,0.155,0.19,0.155,0.12,0.15,0.155,0.135,0.19,0.145,0.15,0.13,0.095,0.155,0.17,0.165,0.14,0.115,0.135,0.14,0.165,0.145,0.14,0.14,0.145,0.165,0.15,0.145,0.125,0.06,0.175,0.13,0.135,0.16,0.165,0.16,0.135,0.18,0.165,0.16,0.145,0.155,0.11,0.16,0.11,0.135,0.125,0.13,0.1,0.135,0.12,0.07,0.125,0.13,0.115,0.14,0.13,0.055,0.06,0.085,0.08,0.08,0.09,0.07,0.085,0.135,0.14,0.095,0.095,0.1,0.095,0.095,0.1,0.1,0.11,0.1,0.1,0.115,0.1,0.1,0.13,0.12,0.125,0.135,0.105,0.125,0.125,0.125,0.14,0.13,0.125,0.14,0.135,0.125,0.15,0.15,0.145,0.155,0.15,0.13,0.14,0.165,0.13,0.15,0.16,0.16,0.14,0.175,0.155,0.175,0.175,0.16,0.175,0.15,0.15,0.165,0.16,0.165,0.155,0.2,0.165,0.17,0.15,0.165,0.165,0.175,0.165,0.205,0.17,0.19,0.16,0.17,0.155,0.195,0.16,0.22,0.23,0.05,0.055,0.065,0.05,0.055,0.06,0.075,0.08,0.08,0.095,0.07,0.075,0.07,0.09,0.075,0.085,0.075,0.075,0.075,0.07,0.1,0.095,0.095,0.09,0.08,0.09,0.09,0.09,0.09,0.115,0.1,0.1,0.1,0.1,0.09,0.12,0.115,0.13,0.09,0.11,0.13,0.13,0.105,0.11,0.105,0.125,0.12,0.1,0.105,0.115,0.115,0.11,0.125,0.12,0.12,0.125,0.12,0.115,0.145,0.1,0.12,0.115,0.125,0.135,0.135,0.135,0.12,0.135,0.125,0.13,0.15,0.125,0.125,0.135,0.1,0.135,0.15,0.145,0.14,0.155,0.14,0.14,0.13,0.15,0.125,0.135,0.14,0.14,0.155,0.14,0.16,0.13,0.155,0.155,0.15,0.14,0.17,0.16,0.16,0.15,0.18,0.15,0.145,0.13,0.155,0.16,0.145,0.155,0.15,0.165,0.14,0.15,0.15,0.155,0.165,0.15,0.155,0.16,0.18,0.17,0.175,0.175,0.165,0.2,0.155,0.165,0.15,0.175,0.185,0.155,0.17,0.175,0.155,0.175,0.175,0.165,0.175,0.16,0.15,0.16,0.21,0.185,0.16,0.175,0.185,0.19,0.195,0.18,0.165,0.225,0.195,0.185,0.175,0.2,0.175,0.18,0.205,0.175,0.185,0.22,0.22,0.045,0.045,0.04,0.04,0.055,0.065,0.065,0.055,0.065,0.085,0.065,0.08,0.055,0.085,0.08,0.1,0.08,0.1,0.08,0.095,0.11,0.1,0.1,0.105,0.11,0.095,0.115,0.12,0.11,0.115,0.11,0.105,0.145,0.11,0.125,0.12,0.105,0.1,0.11,0.115,0.105,0.125,0.11,0.1,0.125,0.125,0.14,0.12,0.125,0.125,0.125,0.125,0.125,0.125,0.115,0.125,0.145,0.135,0.125,0.15,0.13,0.14,0.12,0.12,0.125,0.125,0.14,0.135,0.12,0.14,0.135,0.15,0.15,0.145,0.16,0.155,0.145,0.15,0.15,0.175,0.15,0.145,0.15,0.145,0.16,0.14,0.165,0.135,0.13,0.17,0.145,0.15,0.195,0.135,0.14,0.145,0.155,0.145,0.16,0.15,0.16,0.17,0.15,0.155,0.165,0.14,0.17,0.165,0.16,0.145,0.165,0.17,0.15,0.155,0.135,0.2,0.16,0.175,0.185,0.155,0.175,0.015,0.165,0.195,0.17,0.19,0.155,0.16,0.175,0.185,0.16,0.17,0.205,0.215,0.165,0.155,0.21,0.17,0.185,0.18,0.19,0.19,0.17,0.18,0.19,0.19,0.195,0.2,0.145,0.185,0.185,0.185,0.215,0.21,0.21,0.205,0.215,0.12,0.06,0.065,0.065,0.09,0.065,0.07,0.08,0.07,0.075,0.095,0.095,0.09,0.09,0.095,0.085,0.075,0.09,0.085,0.085,0.085,0.085,0.09,0.085,0.095,0.085,0.09,0.095,0.08,0.085,0.11,0.08,0.09,0.085,0.095,0.09,0.095,0.105,0.095,0.1,0.1,0.09,0.11,0.09,0.11,0.1,0.09,0.0,0.095,0.11,0.12,0.105,0.105,0.115,0.1,0.105,0.105,0.125,0.11,0.1,0.18,0.12,0.1,0.12,0.11,0.125,0.115,0.1,0.12,0.13,0.12,0.135,0.135,0.145,0.14,0.125,0.14,0.13,0.12,0.105,0.12,0.135,0.135,0.13,0.125,0.125,0.155,0.13,0.155,0.11,0.13,0.135,0.15,0.13,0.15,0.145,0.14,0.135,0.15,0.15,0.135,0.145,0.125,0.15,0.14,0.135,0.14,0.155,0.14,0.145,0.135,0.145,0.155,0.145,0.175,0.145,0.15,0.125,0.145,0.135,0.135,0.17,0.13,0.125,0.135,0.165,0.155,0.155,0.135,0.15,0.155,0.185,0.16,0.165,0.165,0.15,0.18,0.135,0.18,0.155,0.15,0.155,0.17,0.155,0.15,0.155,0.145,0.155,0.15,0.14,0.13,0.175,0.16,0.15,0.165,0.17,0.15,0.17,0.16,0.155,0.165,0.17,0.165,0.17,0.175,0.155,0.175,0.18,0.15,0.16,0.17,0.175,0.16,0.155,0.17,0.18,0.145,0.145,0.16,0.16,0.165,0.175,0.17,0.155,0.23,0.18,0.16,0.195,0.16,0.165,0.22,0.175,0.19,0.17,0.19,0.205,0.19,0.175,0.21,0.17,0.18,0.225,0.175,0.185,0.205,0.19,0.13,0.515,0.215,0.18,0.17,0.17,0.215,0.2,0.19,0.205,0.215,0.235,0.25,0.035,0.06,0.135,0.08,0.095,0.085,0.09,0.09,0.11,0.09,0.095,0.09,0.105,0.095,0.115,0.105,0.105,0.105,0.12,0.11,0.125,0.135,0.11,0.14,0.125,0.12,0.125,0.115,0.115,0.125,0.12,0.085,0.13,0.12,0.105,0.135,0.125,0.145,0.125,0.125,0.14,0.13,0.125,0.14,0.14,0.16,0.15,0.15,0.15,0.15,0.165,0.175,0.14,0.15,0.15,0.15,0.145,0.16,0.155,0.2,0.165,0.16,0.17,0.17,0.13,0.155,0.155,0.165,0.175,0.18,0.145,0.175,0.15,0.15,0.225,0.145,0.185,0.205,0.175,0.155,0.165,0.175,0.175,0.16,0.14,0.215,0.215,0.165,0.18,0.2,0.175,0.19,0.185,0.17,0.2,0.17,0.2,0.165,0.2,0.24,0.18,0.18,0.045,0.055,0.07,0.085,0.09,0.08,0.075,0.075,0.09,0.095,0.075,0.075,0.085,0.095,0.08,0.095,0.1,0.09,0.095,0.09,0.09,0.1,0.1,0.09,0.09,0.1,0.11,0.08,0.1,0.11,0.095,0.11,0.115,0.11,0.11,0.12,0.11,0.125,0.145,0.1,0.125,0.125,0.12,0.16,0.13,0.115,0.135,0.125,0.105,0.12,0.12,0.14,0.13,0.11,0.125,0.105,0.125,0.125,0.145,0.13,0.145,0.12,0.135,0.14,0.155,0.12,0.135,0.145,0.13,0.13,0.17,0.14,0.14,0.14,0.14,0.13,0.135,0.13,0.12,0.125,0.14,0.15,0.135,0.145,0.15,0.13,0.14,0.145,0.15,0.13,0.135,0.155,0.15,0.125,0.15,0.135,0.14,0.17,0.145,0.155,0.145,0.165,0.135,0.155,0.125,0.185,0.195,0.17,0.135,0.15,0.16,0.16,0.15,0.155,0.13,0.125,0.14,0.165,0.145,0.145,0.15,0.14,0.145,0.15,0.155,0.15,0.165,0.17,0.18,0.165,0.16,0.145,0.145,0.145,0.14,0.155,0.18,0.155,0.16,0.15,0.16,0.16,0.125,0.17,0.18,0.16,0.175,0.18,0.155,0.175,0.165,0.16,0.18,0.14,0.135,0.15,0.175,0.165,0.16,0.17,0.155,0.175,0.15,0.17,0.18,0.17,0.165,0.175,0.165,0.17,0.175,0.17,0.165,0.18,0.185,0.15,0.175,0.19,0.19,0.195,0.16,0.16,0.175,0.19,0.15,0.19,0.155,0.19,0.185,0.16,0.18,0.15,0.19,0.195,0.165,0.175,0.195,0.165,0.175,0.16,0.16,0.175,0.175,0.16,0.165,0.19,0.155,0.195,0.16,0.195,0.195,0.2,0.15,0.175,0.2,0.175,0.175,0.17,0.215,0.195,0.205,0.22,0.2,0.205,0.18,0.21,0.19,0.215,0.205,0.215,0.205,0.195,0.25,0.09,0.1,0.135,0.125,0.12,0.12,0.105,0.135,0.11,0.14,0.115,0.105,0.155,0.16,0.16,0.15,0.155,0.135,0.17,0.125,0.14,0.135,0.18,0.165,0.2,0.15,0.165,0.16,0.175,0.185,0.13,0.17,0.145,0.15,0.175,0.165,0.175,0.15,0.15,0.145,0.145,0.175,0.185,0.195,0.15,0.14,0.16,0.19,0.16,0.2,0.19,0.185,0.175,0.175,0.185,0.19,0.18,0.195,0.18,0.21,0.04,0.055,0.075,0.085,0.08,0.085,0.085,0.075,0.105,0.09,0.095,0.105,0.09,0.1,0.095,0.1,0.1,0.1,0.11,0.105,0.12,0.11,0.11,0.12,0.105,0.13,0.12,0.115,0.135,0.145,0.14,0.11,0.13,0.145,0.12,0.135,0.15,0.11,0.11,0.14,0.125,0.115,0.115,0.12,0.145,0.145,0.14,0.16,0.13,0.12,0.14,0.16,0.135,0.125,0.14,0.14,0.14,0.13,0.14,0.125,0.13,0.175,0.135,0.165,0.125,0.125,0.155,0.145,0.16,0.155,0.155,0.155,0.175,0.13,0.12,0.13,0.155,0.135,0.155,0.145,0.175,0.135,0.135,0.155,0.145,0.195,0.165,0.15,0.145,0.16,0.15,0.135,0.17,0.15,0.16,0.165,0.145,0.18,0.14,0.145,0.155,0.165,0.145,0.15,0.16,0.2,0.16,0.15,0.17,0.195,0.15,0.155,0.155,0.17,0.185,0.16,0.18,0.145,0.155,0.165,0.165,0.155,0.16,0.165,0.165,0.165,0.145,0.165,0.135,0.155,0.185,0.18,0.175,0.21,0.15,0.155,0.185,0.18,0.175,0.17,0.205,0.175,0.15,0.2,0.18,0.205,0.15,0.185,0.19,0.155,0.155,0.18,0.185,0.205,0.175,0.195,0.22,0.18,0.19,0.205,0.195,0.215,0.04,0.025,0.055,0.075,0.065,0.06,0.07,0.06,0.065,0.07,0.07,0.08,0.08,0.07,0.105,0.085,0.085,0.08,0.085,0.095,0.09,0.11,0.095,0.11,0.12,0.105,0.11,0.135,0.105,0.12,0.12,0.135,0.115,0.135,0.14,0.13,0.15,0.13,0.14,0.15,0.16,0.145,0.15,0.16,0.165,0.14,0.14,0.16,0.18,0.195,0.06,0.065,0.08,0.07,0.085,0.07,0.1,0.1,0.16,0.09,0.12,0.115,0.115,0.12,0.13,1.13,0.12,0.11,0.11,0.09,0.14,0.135,0.135,0.11,0.135,0.14,0.13,0.1,0.125,0.13,0.14,0.13,0.16,0.13,0.115,0.135,0.12,0.15,0.15,0.15,0.19,0.14,0.165,0.16,0.15,0.14,0.21,0.2,0.195,0.185,0.15,0.22,0.215,0.18,0.22,0.115,0.13,0.115,0.09,0.1,0.145,0.08,0.1,0.115,0.1,0.155,0.11,0.1,0.125,0.185,0.155,0.18,0.225,0.17,0.055,0.08,0.13,0.09,0.035,0.045,0.05,0.08,0.12,0.125,0.1,0.11,0.12,0.075,0.095,0.115,0.125,0.1,0.175,0.15,0.14,0.08,0.125,0.11,0.115,0.1,0.125,0.175,0.18,0.205,0.125,0.075,0.11,0.105,0.105,0.115,0.12,0.135,0.09,0.07,0.11,0.19,0.115,0.075,0.135,0.165,0.165,0.175,0.195,0.2,0.2,0.24,0.195,0.15,0.09,0.16,0.085,0.085,0.085,0.015,0.075,0.03,0.03,0.125,0.17,0.185,0.17,0.235,0.2,0.25,0.165,0.165,0.16,0.155,0.08,0.12,0.125,0.135,0.135,0.14,0.165,0.185,0.165,0.055,0.11,0.08,0.09,0.105,0.08,0.2,0.195,0.215,0.16,0.19,0.105,0.08,0.075,0.115,0.215,0.18,0.2,0.195,0.235,0.23,0.12,0.14,0.08,0.13,0.15,0.145,0.145,0.175,0.195,0.18,0.145,0.155,0.11,0.075,0.175,0.095,0.165,0.165,0.18,0.17,0.165,0.175,0.185,0.19,0.11,0.115,0.125,0.12,0.135,0.13,0.1,0.14,0.11,0.12,0.09,0.165,0.2,0.175,0.17,0.2,0.18,0.145,0.135,0.165,0.115,0.16,0.175,0.16,0.16,0.15,0.16,0.215,0.175,0.175,0.175,0.16,0.18,0.17,0.21,0.15,0.2,0.185,0.23,0.18,0.13,0.135,0.13,0.14,0.13,0.12,0.105,0.1,0.15,0.105,0.09,0.155,0.1,0.12,0.09,0.09,0.12,0.145,0.135,0.12,0.1,0.125,0.13,0.15,0.13,0.12,0.135,0.135,0.165,0.135,0.13,0.13,0.11,0.11,0.07,0.145,0.135,0.15,0.155,0.14,0.135,0.145,0.1,0.135,0.135,0.105,0.19,0.105,0.115,0.135,0.145,0.145,0.115,0.155,0.135,0.22,0.195,0.15,0.175,0.165,0.195,0.2,0.17,0.09,0.07,0.055,0.17,0.195,0.125,0.13,0.165,0.105,0.17,0.16,0.19,0.175,0.15,0.135,0.15,0.125,0.21,0.2,0.175,0.155,0.205,0.195,0.2,0.165,0.23,0.16,0.225,0.17,0.115,0.05,0.11,0.15,0.11,0.09,0.11,0.155,0.115,0.09,0.04,0.025,0.15,0.135,0.105,0.115,0.14,0.135,0.14,0.125,0.125,0.09,0.09,0.09,0.16,0.17,0.155,0.19,0.155,0.17,0.1,0.155,0.165,0.08,0.17,0.145,0.185,0.175,0.17,0.15,0.115,0.12,0.095,0.145,0.11,0.105,0.125,0.06,0.13,0.12,0.085,0.16,0.13,0.11,0.065,0.17,0.155,0.075,0.125,0.095,0.14,0.18,0.165,0.18,0.18,0.135,0.16,0.095,0.17,0.1,0.125,0.17,0.125,0.14,0.14,0.135,0.17,0.08,0.09,0.105,0.125,0.09,0.105,0.08,0.065,0.065,0.06,0.065,0.05,0.17,0.14,0.13,0.08,0.14,0.14,0.13,0.12,0.14,0.08,0.13,0.17,0.175,0.175,0.175,0.145,0.165,0.155,0.155,0.18,0.155,0.145,0.095,0.165,0.175,0.135,0.09,0.145,0.185,0.145,0.135,0.115,0.165,0.145,0.1,0.13,0.16,0.13,0.155,0.14,0.145,0.125,0.08,0.07,0.075,0.105,0.075,0.075,0.1,0.105,0.09,0.1,0.105,0.11,0.135,0.11,0.12,0.12,0.135,0.13,0.185,0.19,0.12,0.15,0.15,0.18,0.16,0.16,0.185,0.135,0.155,0.165,0.175,0.155,0.185,0.195,0.18,0.165,0.215,0.2,0.205,0.175,0.18,0.2,0.19,0.165,0.065,0.07,0.05,0.07,0.055,0.08,0.07,0.075,0.07,0.07,0.08,0.085,0.1,0.065,0.1,0.11,0.115,0.1,0.12,0.125,0.12,0.12,0.115,0.12,0.115,0.11,0.105,0.11,0.105,0.1,0.145,0.11,0.12,0.12,0.135,0.125,0.17,0.14,0.15,0.14,0.125,0.14,0.15,0.14,0.155,0.145,0.16,0.14,0.155,0.15,0.15,0.145,0.15,0.15,0.15,0.16,0.165,0.155,0.175,0.175,0.16,0.17,0.165,0.175,0.2,0.145,0.165,0.18,0.195,0.16,0.175,0.185,0.19,0.205,0.185,0.155,0.175,0.205,0.205,0.18,0.215,0.05,0.07,0.06,0.075,0.095,0.1,0.1,0.115,0.1,0.1,0.1,0.115,0.11,0.12,0.105,0.1,0.115,0.13,0.125,0.11,0.12,0.125,0.12,0.135,0.155,0.15,0.125,0.135,0.14,0.145,0.12,0.14,0.13,0.135,0.13,0.13,0.18,0.135,0.16,0.15,0.13,0.15,0.14,0.15,0.14,0.16,0.15,0.165,0.14,0.21,0.15,0.17,0.15,0.155,0.175,0.155,0.15,0.185,0.155,0.145,0.15,0.175,0.15,0.16,0.15,0.18,0.125,0.175,0.175,0.155,0.155,0.165,0.165,0.2,0.18,0.19,0.165,0.18,0.175,0.2,0.19,0.2,0.175,0.22,0.215,0.03,0.045,0.06,0.065,0.08,0.085,0.095,0.08,0.08,0.09,0.14,0.095,0.125,0.085,0.1,0.1,0.1,0.11,0.1,0.09,0.1,0.11,0.1,0.115,0.11,0.11,0.11,0.115,0.095,0.115,0.1,0.105,0.115,0.12,0.125,0.14,0.125,0.125,0.135,0.145,0.135,0.14,0.11,0.13,0.15,0.13,0.12,0.155,0.15,0.145,0.145,0.155,0.135,0.15,0.145,0.175,0.14,0.135,0.15,0.155,0.155,0.175,0.145,0.15,0.145,0.165,0.145,0.13,0.145,0.14,0.14,0.09,0.185,0.145,0.185,0.185,0.13,0.15,0.14,0.165,0.14,0.165,0.175,0.155,0.15,0.195,0.155,0.15,0.17,0.17,0.08,0.155,0.175,0.19,0.2,0.17,0.205,0.205,0.2,0.205,0.19,0.05,0.055,0.055,0.09,0.075,0.075,0.09,0.095,0.09,0.09,0.105,0.105,0.115,0.12,0.13,0.12,0.105,0.145,0.135,0.14,0.14,0.15,0.13,0.14,0.16,0.135,0.155,0.15,0.155,0.16,0.175,0.16,0.19,0.17,0.175,0.13,0.16,0.165,0.16,0.185,0.16,0.16,0.19,0.155,0.17,0.19,0.195,0.18,0.18,0.17,0.21,0.19,0.07,0.075,0.08,0.075,0.09,0.085,0.09,0.085,0.09,0.095,0.1,0.095,0.09,0.14,0.11,0.13,0.11,0.12,0.13,0.12,0.125,0.125,0.115,0.145,0.125,0.11,0.15,0.125,0.15,0.125,0.13,0.11,0.13,0.15,0.165,0.13,0.14,0.13,0.13,0.15,0.16,0.165,0.15,0.15,0.17,0.15,0.15,0.125,0.135,0.15,0.125,0.145,0.155,0.17,0.135,0.17,0.195,0.15,0.165,0.17,0.18,0.155,0.155,0.195,0.14,0.16,0.175,0.135,0.15,0.165,0.15,0.195,0.175,0.165,0.16,0.145,0.12,0.165,0.18,0.185,0.17,0.19,0.175,0.18,0.19,0.16,0.18,0.175,0.15,0.17,0.19,0.195,0.2,0.205,0.2,0.16,0.18,0.175,0.175,0.19,0.17,0.195,0.175,0.16,0.17,0.19,0.18,0.175,0.19,0.205,0.2,0.095,0.115,0.1,0.155,0.155,0.115,0.13,0.21,0.135,0.15,0.135,0.175,0.19,0.15,0.135,0.14,0.15,0.165,0.21,0.175,0.17,0.17,0.11,0.17,0.18,0.16,0.165,0.185,0.175,0.17,0.21,0.185,0.225,0.205,0.065,0.08,0.09,0.1,0.09,0.09,0.11,0.105,0.105,0.105,0.115,0.125,0.105,0.11,0.125,0.11,0.1,0.115,0.135,0.125,0.14,0.115,0.11,0.145,0.12,0.19,0.15,0.145,0.145,0.135,0.145,0.14,0.15,0.13,0.14,0.16,0.155,0.175,0.165,0.145,0.15,0.175,0.14,0.16,0.14,0.15,0.16,0.215,0.17,0.16,0.155,0.175,0.18,0.165,0.155,0.18,0.145,0.15,0.17,0.175,0.165,0.16,0.17,0.18,0.155,0.145,0.185,0.195,0.165,0.2,0.22,0.175,0.205,0.2,0.05,0.05,0.06,0.075,0.095,0.085,0.11,0.14,0.12,0.125,0.15,0.13,0.12,0.115,0.145,0.15,0.15,0.125,0.145,0.18,0.18,0.2,0.06,0.065,0.1,0.08,0.085,0.12,0.105,0.115,0.105,0.1,0.12,0.135,0.1,0.145,0.135,0.13,0.14,0.15,0.135,0.135,0.15,0.155,0.155,0.19,0.17,0.165,0.16,0.17,0.1,0.125,0.125,0.125,0.105,0.14,0.09,0.16,0.08,0.055,0.04,0.2,0.17,0.15,0.18,0.195,0.215,0.165,0.175,0.105,0.1,0.13,0.125,0.165,0.09,0.11,0.085,0.065,0.07,0.14,0.125,0.19,0.115,0.175,0.155,0.115,0.155,0.155,0.16,0.18,0.09,0.12,0.12,0.13,0.135,0.1,0.07,0.1,0.135,0.165,0.115,0.175,0.15,0.11,0.135,0.23,0.15,0.025,0.18,0.115,0.185,0.16,0.175,0.075,0.075,0.14,0.155,0.16,0.1,0.22,0.185,0.185,0.095,0.075,0.125,0.08,0.125,0.14,0.165,0.17,0.14,0.16,0.175,0.19,0.12,0.19,0.175,0.145,0.09,0.195,0.175,0.2,0.12,0.13,0.135,0.125,0.19,0.15,0.12,0.15,0.19,0.205,0.155,0.1,0.155,0.15,0.185,0.135,0.19,0.19,0.16,0.205,0.16,0.16,0.19,0.165,0.09,0.125,0.125,0.13,0.105,0.105,0.075,0.15,0.11,0.125,0.165,0.125,0.19,0.145,0.115,0.14,0.135,0.135,0.115,0.125,0.145,0.13,0.155,0.125,0.14,0.14,0.11,0.125,0.14,0.16,0.19,0.185,0.17,0.165,0.155,0.155,0.185,0.175,0.13,0.145,0.16,0.12,0.13,0.15,0.185,0.16,0.12,0.165,0.19,0.175,0.175,0.205,0.19,0.175,0.185,0.14,0.175,0.115,0.135,0.08,0.12,0.165,0.135,0.15,0.11,0.115,0.09,0.14,0.065,0.04,0.2,0.155,0.14,0.13,0.105,0.1,0.09,0.135,0.2,0.17,0.15,0.125,0.18,0.125,0.125,0.105,0.135,0.125,0.18,0.175,0.185,0.145,0.135,0.095,0.11,0.145,0.145,0.16,0.1,0.115,0.105,0.13,0.13,0.145,0.14,0.11,0.11,0.1,0.1,0.075,0.17,0.175,0.095,0.1,0.15,0.085,0.115,0.065,0.195,0.165,0.17,0.125,0.09,0.135,0.155,0.125,0.15,0.09,0.07,0.075,0.08,0.045,0.165,0.12,0.13,0.07,0.115,0.125,0.145,0.185,0.15,0.16,0.125,0.185,0.13,0.16,0.165,0.16,0.15,0.085,0.115,0.135,0.15,0.15,0.11,0.105,0.075,0.075,0.08,0.09,0.095,0.105,0.1,0.115,0.12,0.105,0.16,0.14,0.15,0.18,0.135,0.165,0.15,0.155,0.15,0.17,0.185,0.2,0.2,0.065,0.065,0.075,0.095,0.09,0.105,0.09,0.09,0.095,0.09,0.105,0.125,0.1,0.115,0.13,0.1,0.115,0.145,0.11,0.12,0.12,0.125,0.125,0.155,0.145,0.11,0.165,0.155,0.16,0.175,0.16,0.19,0.165,0.16,0.17,0.17,0.155,0.195,0.17,0.18,0.165,0.23,0.2,0.185,0.05,0.055,0.085,0.085,0.1,0.11,0.11,0.11,0.105,0.105,0.145,0.115,0.16,0.115,0.16,0.13,0.13,0.14,0.16,0.16,0.145,0.15,0.135,0.13,0.145,0.145,0.145,0.165,0.145,0.16,0.175,0.19,0.18,0.18,0.175,0.165,0.175,0.175,0.18,0.18,0.175,0.175,0.18,0.19,0.2,0.175,0.195,0.18,0.185,0.055,0.06,0.07,0.085,0.085,0.085,0.09,0.085,0.075,0.09,0.09,0.09,0.115,0.09,0.1,0.11,0.105,0.11,0.12,0.095,0.11,0.11,0.09,0.125,0.135,0.115,0.125,0.12,0.125,0.115,0.135,0.105,0.13,0.13,0.135,0.13,0.135,0.155,0.175,0.155,0.13,0.16,0.155,0.125,0.16,0.155,0.14,0.14,0.15,0.165,0.165,0.165,0.145,0.17,0.15,0.155,0.23,0.17,0.145,0.165,0.16,0.16,0.175,0.165,0.16,0.15,0.17,0.185,0.18,0.195,0.165,0.16,0.165,0.155,0.2,0.145,0.17,0.18,0.22,0.04,0.095,0.09,0.11,0.11,0.115,0.11,0.14,0.155,0.12,0.16,0.17,0.18,0.17,0.155,0.19,0.2,0.16,0.17,0.17,0.17,0.17,0.165,0.175,0.175,0.195,0.19,0.2,0.225,0.05,0.07,0.085,0.075,0.065,0.085,0.095,0.09,0.1,0.105,0.095,0.12,0.115,0.12,0.12,0.105,0.1,0.125,0.125,0.12,0.13,0.14,0.125,0.14,0.13,0.14,0.125,0.125,0.14,0.155,0.14,0.125,0.15,0.14,0.135,0.15,0.145,0.15,0.155,0.145,0.14,0.135,0.135,0.135,0.155,0.165,0.16,0.16,0.165,0.15,0.19,0.165,0.175,0.18,0.155,0.155,0.165,0.135,0.16,0.17,0.195,0.175,0.19,0.17,0.17,0.16,0.195,0.205,0.175,0.175,0.19,0.17,0.18,0.195,0.155,0.195,0.2,0.185,0.17,0.195,0.19,0.175,0.21,0.17,0.175,0.185,0.21,0.075,0.1,0.115,0.095,0.115,0.13,0.105,0.12,0.15,0.155,0.145,0.15,0.15,0.135,0.115,0.18,0.19,0.16,0.165,0.15,0.18,0.15,0.17,0.165,0.17,0.195,0.205,0.195,0.065,0.07,0.085,0.1,0.1,0.095,0.11,0.115,0.135,0.11,0.14,0.105,0.12,0.14,0.14,0.155,0.13,0.135,0.115,0.15,0.145,0.135,0.14,0.16,0.145,0.145,0.125,0.145,0.12,0.15,0.14,0.155,0.155,0.145,0.125,0.185,0.185,0.13,0.175,0.18,0.155,0.155,0.185,0.16,0.15,0.155,0.175,0.175,0.175,0.18,0.175,0.175,0.21,0.2,0.175,0.17,0.205,0.045,0.075,0.06,0.1,0.11,0.095,0.115,0.13,0.135,0.125,0.13,0.17,0.095,0.095,0.1,0.12,0.12,0.14,0.14,0.145,0.155,0.175,0.135,0.17,0.17,0.185,0.195,0.175,0.17,0.12,0.175,0.115,0.15,0.075,0.1,0.1,0.035,0.095,0.125,0.145,0.125,0.145,0.16,0.155,0.105,0.085,0.125,0.22,0.115,0.11,0.13,0.15,0.155,0.155,0.115,0.085,0.2,0.165,0.19,0.15,0.175,0.125,0.18,0.065,0.165,0.165,0.13,0.135,0.16,0.165,0.11,0.115,0.075,0.15,0.09,0.16,0.225,0.115,0.17,0.1,0.13,0.16,0.12,0.075,0.105,0.12,0.155,0.1,0.2,0.14,0.18,0.15,0.125,0.135,0.18,0.19,0.165,0.15,0.035,0.14,0.125,0.02,0.235,0.165,0.095,0.065,0.15,0.135,0.125,0.135,0.1,0.14,0.145,0.14,0.165,0.16,0.19,0.19,0.135,0.085,0.095,0.14,0.08,0.165,0.115,0.16,0.155,0.22,0.215,0.185,0.165,0.115,0.06,0.08,0.115,0.115,0.11,0.065,0.145,0.105,0.16,0.115,0.175,0.16,0.065,0.165,0.14,0.165,0.15,0.13,0.11,0.08,0.12,0.105,0.12,0.14,0.155,0.18,0.19,0.195,0.205,0.195,0.075,0.06,0.07,0.065,0.07,0.095,0.09,0.09,0.095,0.12,0.1,0.115,0.135,0.135,0.12,0.12,0.115,0.115,0.15,0.15,0.125,0.155,0.185,0.17,0.185,0.165,0.195,0.2,0.18,0.23,0.235,0.045,0.055,0.0,0.09,0.08,0.095,0.135,0.105,0.125,0.125,0.125,0.14,0.15,0.15,0.155,0.16,0.15,0.17,0.14,0.175,0.175,0.145,0.175,0.19,0.155,0.155,0.175,0.195,0.195,0.07,0.065,0.085,0.09,0.09,0.1,0.11,0.1,0.11,0.09,0.125,0.125,0.14,0.14,0.155,0.125,0.155,0.12,0.15,0.165,0.135,0.155,0.16,0.155,0.145,0.16,0.155,0.175,0.175,0.145,0.165,0.18,0.15,0.165,0.185,0.185,0.12,0.13,0.145,0.15,0.16,0.18,0.08,0.085,0.115,0.1,0.105,0.125,0.11,0.12,0.125,0.14,0.15,0.14,0.125,0.18,0.13,0.125,0.145,0.15,0.16,0.17,0.16,0.155,0.155,0.13,0.155,0.205,0.18,0.19,0.18,0.175,0.155,0.175,0.18,0.16,0.18,0.175,0.15,0.185,0.215,0.175,0.18,0.205,0.1,0.1,0.13,0.155,0.14,0.18,0.14,0.15,0.155,0.16,0.175,0.185,0.05,0.09,0.13,0.11,0.115,0.12,0.135,0.145,0.11,0.145,0.14,0.14,0.145,0.17,0.15,0.14,0.17,0.155,0.155,0.155,0.175,0.19,0.165,0.18,0.22,0.19,0.2,0.21,0.195,0.175,0.07,0.08,0.075,0.09,0.115,0.095,0.11,0.11,0.14,0.11,0.135,0.165,0.17,0.1,0.085,0.1,0.085,0.115,0.125,0.125,0.165,0.13,0.155,0.165,0.135,0.205,0.15,0.195],\"type\":\"scatter3d\"}],                        {\"template\":{\"data\":{\"histogram2dcontour\":[{\"type\":\"histogram2dcontour\",\"colorbar\":{\"outlinewidth\":0,\"ticks\":\"\"},\"colorscale\":[[0.0,\"#0d0887\"],[0.1111111111111111,\"#46039f\"],[0.2222222222222222,\"#7201a8\"],[0.3333333333333333,\"#9c179e\"],[0.4444444444444444,\"#bd3786\"],[0.5555555555555556,\"#d8576b\"],[0.6666666666666666,\"#ed7953\"],[0.7777777777777778,\"#fb9f3a\"],[0.8888888888888888,\"#fdca26\"],[1.0,\"#f0f921\"]]}],\"choropleth\":[{\"type\":\"choropleth\",\"colorbar\":{\"outlinewidth\":0,\"ticks\":\"\"}}],\"histogram2d\":[{\"type\":\"histogram2d\",\"colorbar\":{\"outlinewidth\":0,\"ticks\":\"\"},\"colorscale\":[[0.0,\"#0d0887\"],[0.1111111111111111,\"#46039f\"],[0.2222222222222222,\"#7201a8\"],[0.3333333333333333,\"#9c179e\"],[0.4444444444444444,\"#bd3786\"],[0.5555555555555556,\"#d8576b\"],[0.6666666666666666,\"#ed7953\"],[0.7777777777777778,\"#fb9f3a\"],[0.8888888888888888,\"#fdca26\"],[1.0,\"#f0f921\"]]}],\"heatmap\":[{\"type\":\"heatmap\",\"colorbar\":{\"outlinewidth\":0,\"ticks\":\"\"},\"colorscale\":[[0.0,\"#0d0887\"],[0.1111111111111111,\"#46039f\"],[0.2222222222222222,\"#7201a8\"],[0.3333333333333333,\"#9c179e\"],[0.4444444444444444,\"#bd3786\"],[0.5555555555555556,\"#d8576b\"],[0.6666666666666666,\"#ed7953\"],[0.7777777777777778,\"#fb9f3a\"],[0.8888888888888888,\"#fdca26\"],[1.0,\"#f0f921\"]]}],\"heatmapgl\":[{\"type\":\"heatmapgl\",\"colorbar\":{\"outlinewidth\":0,\"ticks\":\"\"},\"colorscale\":[[0.0,\"#0d0887\"],[0.1111111111111111,\"#46039f\"],[0.2222222222222222,\"#7201a8\"],[0.3333333333333333,\"#9c179e\"],[0.4444444444444444,\"#bd3786\"],[0.5555555555555556,\"#d8576b\"],[0.6666666666666666,\"#ed7953\"],[0.7777777777777778,\"#fb9f3a\"],[0.8888888888888888,\"#fdca26\"],[1.0,\"#f0f921\"]]}],\"contourcarpet\":[{\"type\":\"contourcarpet\",\"colorbar\":{\"outlinewidth\":0,\"ticks\":\"\"}}],\"contour\":[{\"type\":\"contour\",\"colorbar\":{\"outlinewidth\":0,\"ticks\":\"\"},\"colorscale\":[[0.0,\"#0d0887\"],[0.1111111111111111,\"#46039f\"],[0.2222222222222222,\"#7201a8\"],[0.3333333333333333,\"#9c179e\"],[0.4444444444444444,\"#bd3786\"],[0.5555555555555556,\"#d8576b\"],[0.6666666666666666,\"#ed7953\"],[0.7777777777777778,\"#fb9f3a\"],[0.8888888888888888,\"#fdca26\"],[1.0,\"#f0f921\"]]}],\"surface\":[{\"type\":\"surface\",\"colorbar\":{\"outlinewidth\":0,\"ticks\":\"\"},\"colorscale\":[[0.0,\"#0d0887\"],[0.1111111111111111,\"#46039f\"],[0.2222222222222222,\"#7201a8\"],[0.3333333333333333,\"#9c179e\"],[0.4444444444444444,\"#bd3786\"],[0.5555555555555556,\"#d8576b\"],[0.6666666666666666,\"#ed7953\"],[0.7777777777777778,\"#fb9f3a\"],[0.8888888888888888,\"#fdca26\"],[1.0,\"#f0f921\"]]}],\"mesh3d\":[{\"type\":\"mesh3d\",\"colorbar\":{\"outlinewidth\":0,\"ticks\":\"\"}}],\"scatter\":[{\"fillpattern\":{\"fillmode\":\"overlay\",\"size\":10,\"solidity\":0.2},\"type\":\"scatter\"}],\"parcoords\":[{\"type\":\"parcoords\",\"line\":{\"colorbar\":{\"outlinewidth\":0,\"ticks\":\"\"}}}],\"scatterpolargl\":[{\"type\":\"scatterpolargl\",\"marker\":{\"colorbar\":{\"outlinewidth\":0,\"ticks\":\"\"}}}],\"bar\":[{\"error_x\":{\"color\":\"#2a3f5f\"},\"error_y\":{\"color\":\"#2a3f5f\"},\"marker\":{\"line\":{\"color\":\"#E5ECF6\",\"width\":0.5},\"pattern\":{\"fillmode\":\"overlay\",\"size\":10,\"solidity\":0.2}},\"type\":\"bar\"}],\"scattergeo\":[{\"type\":\"scattergeo\",\"marker\":{\"colorbar\":{\"outlinewidth\":0,\"ticks\":\"\"}}}],\"scatterpolar\":[{\"type\":\"scatterpolar\",\"marker\":{\"colorbar\":{\"outlinewidth\":0,\"ticks\":\"\"}}}],\"histogram\":[{\"marker\":{\"pattern\":{\"fillmode\":\"overlay\",\"size\":10,\"solidity\":0.2}},\"type\":\"histogram\"}],\"scattergl\":[{\"type\":\"scattergl\",\"marker\":{\"colorbar\":{\"outlinewidth\":0,\"ticks\":\"\"}}}],\"scatter3d\":[{\"type\":\"scatter3d\",\"line\":{\"colorbar\":{\"outlinewidth\":0,\"ticks\":\"\"}},\"marker\":{\"colorbar\":{\"outlinewidth\":0,\"ticks\":\"\"}}}],\"scattermapbox\":[{\"type\":\"scattermapbox\",\"marker\":{\"colorbar\":{\"outlinewidth\":0,\"ticks\":\"\"}}}],\"scatterternary\":[{\"type\":\"scatterternary\",\"marker\":{\"colorbar\":{\"outlinewidth\":0,\"ticks\":\"\"}}}],\"scattercarpet\":[{\"type\":\"scattercarpet\",\"marker\":{\"colorbar\":{\"outlinewidth\":0,\"ticks\":\"\"}}}],\"carpet\":[{\"aaxis\":{\"endlinecolor\":\"#2a3f5f\",\"gridcolor\":\"white\",\"linecolor\":\"white\",\"minorgridcolor\":\"white\",\"startlinecolor\":\"#2a3f5f\"},\"baxis\":{\"endlinecolor\":\"#2a3f5f\",\"gridcolor\":\"white\",\"linecolor\":\"white\",\"minorgridcolor\":\"white\",\"startlinecolor\":\"#2a3f5f\"},\"type\":\"carpet\"}],\"table\":[{\"cells\":{\"fill\":{\"color\":\"#EBF0F8\"},\"line\":{\"color\":\"white\"}},\"header\":{\"fill\":{\"color\":\"#C8D4E3\"},\"line\":{\"color\":\"white\"}},\"type\":\"table\"}],\"barpolar\":[{\"marker\":{\"line\":{\"color\":\"#E5ECF6\",\"width\":0.5},\"pattern\":{\"fillmode\":\"overlay\",\"size\":10,\"solidity\":0.2}},\"type\":\"barpolar\"}],\"pie\":[{\"automargin\":true,\"type\":\"pie\"}]},\"layout\":{\"autotypenumbers\":\"strict\",\"colorway\":[\"#636efa\",\"#EF553B\",\"#00cc96\",\"#ab63fa\",\"#FFA15A\",\"#19d3f3\",\"#FF6692\",\"#B6E880\",\"#FF97FF\",\"#FECB52\"],\"font\":{\"color\":\"#2a3f5f\"},\"hovermode\":\"closest\",\"hoverlabel\":{\"align\":\"left\"},\"paper_bgcolor\":\"white\",\"plot_bgcolor\":\"#E5ECF6\",\"polar\":{\"bgcolor\":\"#E5ECF6\",\"angularaxis\":{\"gridcolor\":\"white\",\"linecolor\":\"white\",\"ticks\":\"\"},\"radialaxis\":{\"gridcolor\":\"white\",\"linecolor\":\"white\",\"ticks\":\"\"}},\"ternary\":{\"bgcolor\":\"#E5ECF6\",\"aaxis\":{\"gridcolor\":\"white\",\"linecolor\":\"white\",\"ticks\":\"\"},\"baxis\":{\"gridcolor\":\"white\",\"linecolor\":\"white\",\"ticks\":\"\"},\"caxis\":{\"gridcolor\":\"white\",\"linecolor\":\"white\",\"ticks\":\"\"}},\"coloraxis\":{\"colorbar\":{\"outlinewidth\":0,\"ticks\":\"\"}},\"colorscale\":{\"sequential\":[[0.0,\"#0d0887\"],[0.1111111111111111,\"#46039f\"],[0.2222222222222222,\"#7201a8\"],[0.3333333333333333,\"#9c179e\"],[0.4444444444444444,\"#bd3786\"],[0.5555555555555556,\"#d8576b\"],[0.6666666666666666,\"#ed7953\"],[0.7777777777777778,\"#fb9f3a\"],[0.8888888888888888,\"#fdca26\"],[1.0,\"#f0f921\"]],\"sequentialminus\":[[0.0,\"#0d0887\"],[0.1111111111111111,\"#46039f\"],[0.2222222222222222,\"#7201a8\"],[0.3333333333333333,\"#9c179e\"],[0.4444444444444444,\"#bd3786\"],[0.5555555555555556,\"#d8576b\"],[0.6666666666666666,\"#ed7953\"],[0.7777777777777778,\"#fb9f3a\"],[0.8888888888888888,\"#fdca26\"],[1.0,\"#f0f921\"]],\"diverging\":[[0,\"#8e0152\"],[0.1,\"#c51b7d\"],[0.2,\"#de77ae\"],[0.3,\"#f1b6da\"],[0.4,\"#fde0ef\"],[0.5,\"#f7f7f7\"],[0.6,\"#e6f5d0\"],[0.7,\"#b8e186\"],[0.8,\"#7fbc41\"],[0.9,\"#4d9221\"],[1,\"#276419\"]]},\"xaxis\":{\"gridcolor\":\"white\",\"linecolor\":\"white\",\"ticks\":\"\",\"title\":{\"standoff\":15},\"zerolinecolor\":\"white\",\"automargin\":true,\"zerolinewidth\":2},\"yaxis\":{\"gridcolor\":\"white\",\"linecolor\":\"white\",\"ticks\":\"\",\"title\":{\"standoff\":15},\"zerolinecolor\":\"white\",\"automargin\":true,\"zerolinewidth\":2},\"scene\":{\"xaxis\":{\"backgroundcolor\":\"#E5ECF6\",\"gridcolor\":\"white\",\"linecolor\":\"white\",\"showbackground\":true,\"ticks\":\"\",\"zerolinecolor\":\"white\",\"gridwidth\":2},\"yaxis\":{\"backgroundcolor\":\"#E5ECF6\",\"gridcolor\":\"white\",\"linecolor\":\"white\",\"showbackground\":true,\"ticks\":\"\",\"zerolinecolor\":\"white\",\"gridwidth\":2},\"zaxis\":{\"backgroundcolor\":\"#E5ECF6\",\"gridcolor\":\"white\",\"linecolor\":\"white\",\"showbackground\":true,\"ticks\":\"\",\"zerolinecolor\":\"white\",\"gridwidth\":2}},\"shapedefaults\":{\"line\":{\"color\":\"#2a3f5f\"}},\"annotationdefaults\":{\"arrowcolor\":\"#2a3f5f\",\"arrowhead\":0,\"arrowwidth\":1},\"geo\":{\"bgcolor\":\"white\",\"landcolor\":\"#E5ECF6\",\"subunitcolor\":\"white\",\"showland\":true,\"showlakes\":true,\"lakecolor\":\"white\"},\"title\":{\"x\":0.05},\"mapbox\":{\"style\":\"light\"}}},\"title\":{\"text\":\"3D Scatter Plot of Abalone Length, Diameter, and Height\"},\"scene\":{\"xaxis\":{\"title\":{\"text\":\"Length (mm)\"}},\"yaxis\":{\"title\":{\"text\":\"Diameter (mm)\"}},\"zaxis\":{\"title\":{\"text\":\"Height (mm)\"}}}},                        {\"responsive\": true}                    ).then(function(){\n",
              "                            \n",
              "var gd = document.getElementById('38dd3414-6487-4910-a9bc-5f1959fd1de7');\n",
              "var x = new MutationObserver(function (mutations, observer) {{\n",
              "        var display = window.getComputedStyle(gd).display;\n",
              "        if (!display || display === 'none') {{\n",
              "            console.log([gd, 'removed!']);\n",
              "            Plotly.purge(gd);\n",
              "            observer.disconnect();\n",
              "        }}\n",
              "}});\n",
              "\n",
              "// Listen for the removal of the full notebook cells\n",
              "var notebookContainer = gd.closest('#notebook-container');\n",
              "if (notebookContainer) {{\n",
              "    x.observe(notebookContainer, {childList: true});\n",
              "}}\n",
              "\n",
              "// Listen for the clearing of the current output cell\n",
              "var outputEl = gd.closest('.output');\n",
              "if (outputEl) {{\n",
              "    x.observe(outputEl, {childList: true});\n",
              "}}\n",
              "\n",
              "                        })                };                            </script>        </div>\n",
              "</body>\n",
              "</html>"
            ]
          },
          "metadata": {}
        }
      ]
    },
    {
      "cell_type": "code",
      "source": [
        "\n",
        "fig = go.Figure(data=[go.Scatter(x=df['Length'], y=df['Diameter'], mode='markers',\n",
        "                                 marker=dict(size=df['Whole weight'], sizemode='diameter', sizeref=0.1, color=df['Whole weight'], colorscale='Viridis', showscale=True))])\n",
        "\n",
        "fig.update_layout(title='Bubble Chart of Abalone Length, Diameter, and Weight',\n",
        "                  xaxis_title='Length (mm)',\n",
        "                  yaxis_title='Diameter (mm)')\n",
        "fig.show()\n"
      ],
      "metadata": {
        "execution": {
          "iopub.status.busy": "2023-03-07T06:57:26.004254Z",
          "iopub.execute_input": "2023-03-07T06:57:26.004898Z",
          "iopub.status.idle": "2023-03-07T06:57:26.035359Z",
          "shell.execute_reply.started": "2023-03-07T06:57:26.004835Z",
          "shell.execute_reply": "2023-03-07T06:57:26.03448Z"
        },
        "trusted": true,
        "id": "uK16E48-R4jR",
        "outputId": "03a7e1e4-e9ef-4394-a46f-f1c1c47608fd",
        "colab": {
          "base_uri": "https://localhost:8080/",
          "height": 542
        }
      },
      "execution_count": 17,
      "outputs": [
        {
          "output_type": "display_data",
          "data": {
            "text/html": [
              "<html>\n",
              "<head><meta charset=\"utf-8\" /></head>\n",
              "<body>\n",
              "    <div>            <script src=\"https://cdnjs.cloudflare.com/ajax/libs/mathjax/2.7.5/MathJax.js?config=TeX-AMS-MML_SVG\"></script><script type=\"text/javascript\">if (window.MathJax && window.MathJax.Hub && window.MathJax.Hub.Config) {window.MathJax.Hub.Config({SVG: {font: \"STIX-Web\"}});}</script>                <script type=\"text/javascript\">window.PlotlyConfig = {MathJaxConfig: 'local'};</script>\n",
              "        <script charset=\"utf-8\" src=\"https://cdn.plot.ly/plotly-2.24.1.min.js\"></script>                <div id=\"08768de6-999e-4d5e-baf3-f3c8c7a7ef88\" class=\"plotly-graph-div\" style=\"height:525px; width:100%;\"></div>            <script type=\"text/javascript\">                                    window.PLOTLYENV=window.PLOTLYENV || {};                                    if (document.getElementById(\"08768de6-999e-4d5e-baf3-f3c8c7a7ef88\")) {                    Plotly.newPlot(                        \"08768de6-999e-4d5e-baf3-f3c8c7a7ef88\",                        [{\"marker\":{\"color\":[0.514,0.2255,0.677,0.516,0.205,0.3515,0.7775,0.768,0.5095,0.8945,0.6065,0.406,0.5415,0.6845,0.4755,0.6645,0.2905,0.451,0.2555,0.381,0.2455,0.2255,0.9395,0.7635,1.1615,0.9285,0.9955,0.931,0.9365,0.8635,0.9975,1.639,1.338,1.798,1.7095,0.4795,1.217,0.5225,0.883,0.3275,0.425,0.8515,0.07,0.042,0.042,0.203,0.5795,0.4605,0.161,0.8355,0.595,0.303,0.5415,0.4775,0.385,0.6615,0.4425,0.5895,0.086,0.583,0.4115,0.625,0.6965,0.3785,0.58,0.48,0.915,1.285,0.5305,0.151,0.7665,0.353,1.247,1.185,1.098,1.0075,0.944,0.922,0.788,1.1025,0.941,1.615,0.9885,1.3175,1.013,1.295,1.195,0.8645,0.517,0.9775,0.8115,0.755,1.115,1.262,1.494,1.606,0.725,0.523,0.5225,0.5785,0.2315,0.843,0.883,0.724,1.1735,0.727,0.802,0.6675,0.6335,0.3635,0.5415,0.431,0.3325,0.393,0.6935,0.5915,0.6125,0.402,0.8825,0.2605,0.4205,0.2535,0.766,0.214,0.1755,0.073,0.238,0.2505,1.7255,1.959,1.262,0.4035,0.1915,0.211,0.0975,0.406,0.156,0.2005,0.3555,0.253,0.826,0.741,1.3445,0.797,0.5175,0.549,0.515,0.127,0.0315,0.03,1.053,1.1185,1.3715,1.0565,0.9885,0.722,0.994,1.514,0.9075,1.124,1.056,1.222,1.2445,2.141,1.752,2.55,2.124,1.842,1.981,1.6185,1.9565,0.775,1.065,0.776,0.048,0.1785,0.125,0.1435,0.0465,0.97,0.9395,1.368,1.0235,1.0165,1.5675,1.218,1.0525,1.383,1.199,0.9325,1.1595,1.0225,0.927,0.22,0.8145,0.772,0.644,1.3035,0.922,0.922,0.4165,0.825,0.63,0.8155,0.369,0.482,0.315,0.3795,0.8325,0.2655,0.6345,0.181,0.38,0.6155,0.66,0.8025,0.46,0.324,0.501,0.32,0.455,0.5175,0.5755,0.485,0.3265,0.45,0.3055,0.205,1.1015,0.783,0.836,0.9025,1.4455,0.1155,0.435,0.124,0.002,0.013,0.008,0.021,0.9425,0.1,0.0645,0.1275,0.1655,0.174,0.1585,0.1975,0.156,0.2135,0.1715,1.1235,1.0605,1.094,1.2415,1.011,1.07,0.8975,1.415,1.1015,0.928,0.865,0.8945,0.095,0.1205,0.639,0.895,0.2925,0.6355,0.4995,1.779,1.187,1.219,1.525,1.259,1.844,1.3485,1.642,1.484,0.712,0.8415,0.2415,0.4495,0.6295,0.9565,0.879,0.699,0.6445,0.4775,0.8105,0.996,1.2765,1.116,1.013,1.0575,0.128,0.1105,0.1065,0.549,0.234,0.3485,0.892,0.252,0.217,0.472,0.037,0.0215,1.5415,0.7605,0.9055,1.2435,0.971,1.3305,1.2255,1.3,0.4585,1.242,0.3675,0.8365,0.172,0.0965,0.038,0.2845,0.1055,0.222,0.251,0.1755,0.6435,0.241,0.2255,0.5955,0.3185,0.121,0.0705,1.974,1.3415,1.0875,1.283,1.325,1.0035,1.165,1.3475,1.274,0.568,0.746,0.707,0.756,0.2,0.2715,1.2,1.153,0.8685,0.9535,0.93,1.275,2.13,1.587,1.8085,2.499,1.768,1.227,0.997,1.4225,1.029,1.186,1.016,0.887,1.0735,1.13,1.719,1.566,1.7605,1.787,1.31,1.343,1.7345,1.1775,1.077,0.995,1.1085,1.1405,0.791,0.663,0.5565,0.8445,0.4925,0.7385,0.482,0.609,0.471,0.3215,0.593,0.5615,0.25,0.1995,0.302,0.7155,0.5865,0.6765,0.987,0.5885,0.7225,0.4335,0.6935,0.365,0.8425,0.479,0.911,0.915,0.827,1.1045,0.945,0.9935,0.8565,1.2385,1.0325,1.3135,1.352,1.005,0.625,1.5015,0.529,0.5785,0.101,0.092,1.068,1.0915,1.015,0.943,1.0475,0.9555,1.036,0.9065,0.7505,0.366,0.662,0.217,0.252,0.3055,0.6885,0.2335,0.192,0.85,0.2715,0.3635,0.714,0.9815,0.9265,1.098,0.8205,1.891,1.41,1.4385,0.9245,1.2915,0.8375,1.221,0.199,0.2965,0.7085,0.2665,0.9915,0.0715,0.0545,0.0735,0.0235,1.3905,1.388,1.7445,1.4385,0.7835,0.646,0.3575,0.627,0.7715,0.7395,0.421,1.347,1.756,1.32,1.8075,0.9325,0.849,0.9955,1.0115,0.908,0.92,1.2415,0.8075,1.0595,1.073,0.921,1.2895,1.2635,1.369,0.953,1.248,1.0105,1.0385,0.874,0.854,1.1835,1.115,1.129,1.1745,1.105,0.8395,1.055,0.889,0.8735,1.1095,0.5185,0.6725,0.146,0.08,0.1,0.2795,0.0915,0.147,0.203,0.0385,0.1885,0.218,0.035,0.0545,0.024,0.0155,0.733,0.9715,0.24,0.752,0.458,0.4705,0.38,0.4985,0.454,0.5775,0.1165,0.094,0.2705,0.604,0.415,0.2885,0.3615,0.257,0.1555,0.08,0.0425,0.795,0.875,1.1625,0.9885,0.8,0.514,0.591,0.6265,0.795,1.1905,1.326,0.66,0.364,0.659,0.452,0.7335,0.5465,0.179,0.581,0.406,0.1085,0.387,0.474,0.443,1.066,0.9535,0.9665,1.133,0.9175,0.982,0.8865,1.3675,1.233,0.806,1.4635,0.4935,0.363,0.6655,0.6805,0.8285,0.4625,0.3095,0.745,0.25,0.874,1.514,0.6995,0.8525,0.7135,0.939,1.054,0.981,0.926,0.286,0.265,0.4885,0.5555,0.425,0.195,0.458,0.228,0.1775,0.4085,0.032,0.155,0.4775,0.525,0.3865,0.433,0.17,0.1295,0.0515,0.169,0.673,0.6785,0.498,0.498,0.658,0.322,0.2815,0.944,0.1835,0.49,0.391,0.467,0.5225,0.2105,0.168,0.258,0.1905,0.487,0.5735,0.173,1.1785,0.9,0.1875,0.3715,0.347,0.1145,0.777,0.4885,0.447,0.079,0.1665,0.466,0.1345,0.2305,0.129,0.97,1.14,1.3165,0.9585,1.626,0.781,0.3675,0.281,0.412,0.2245,0.4835,0.605,0.9175,0.5425,0.6175,0.655,0.8115,0.573,0.7865,0.64,0.74,0.5945,0.8165,0.2225,0.2295,0.5725,0.3915,0.8345,0.6515,0.909,0.8045,0.927,0.7305,0.9555,0.636,0.0865,0.3865,0.283,0.019,0.1285,0.0175,0.1165,0.444,0.3515,0.2905,0.536,0.4525,0.316,0.417,0.417,0.203,0.207,0.2765,0.1105,0.176,0.2465,0.1135,0.201,0.1915,0.1035,0.0975,0.0765,0.0265,0.015,0.018,1.0575,1.092,0.99,0.488,0.5005,0.297,0.525,0.77,0.6515,0.8295,0.879,0.823,0.656,0.8665,0.6565,0.669,0.6435,0.862,0.3795,0.835,0.2065,0.7365,0.8175,0.8425,1.001,1.676,0.6595,0.8055,1.5165,0.612,0.547,1.122,1.1365,1.4805,1.5275,1.1375,1.437,1.116,1.0615,1.2565,0.946,0.959,1.613,1.153,0.978,1.1325,0.197,0.785,0.949,0.9805,0.521,0.2685,0.462,0.7605,0.732,0.6775,0.6385,0.5755,0.537,0.93,0.6415,0.8815,0.244,0.0525,1.042,0.5755,0.709,0.644,0.8875,0.8935,0.556,0.51,0.9215,1.0345,0.695,0.7155,0.394,0.745,0.3665,0.495,0.349,0.4405,0.22,0.6615,0.3185,0.1015,0.759,0.4195,0.807,0.875,0.6835,0.067,0.088,0.1715,0.1735,0.183,0.2055,0.18,0.27,0.24,0.2215,0.1375,0.312,0.2895,0.319,0.304,0.306,0.394,0.3735,0.325,0.398,0.501,0.4895,0.378,0.547,0.5805,0.5465,0.6395,0.498,0.609,0.7555,0.5975,0.8275,0.7635,0.891,0.805,0.9185,0.923,1.0145,0.875,0.9685,1.0595,0.952,0.7535,0.958,1.077,1.102,1.11,1.2095,1.1405,1.113,1.3445,1.21,1.29,1.382,1.1035,1.377,1.3435,1.296,1.34,1.3725,1.307,1.2085,1.3825,1.26,1.3555,1.376,1.2945,1.486,1.4715,1.4095,2.0805,1.3905,1.558,1.309,1.8095,1.4785,1.7775,1.6675,1.834,2.8255,0.046,0.0705,0.0665,0.083,0.083,0.092,0.117,0.1625,0.131,0.1385,0.141,0.1485,0.144,0.1575,0.187,0.196,0.1825,0.186,0.1785,0.2225,0.2455,0.249,0.2865,0.215,0.251,0.339,0.3535,0.3335,0.3595,0.376,0.3435,0.382,0.377,0.3645,0.425,0.3995,0.3925,0.4495,0.35,0.4355,0.4195,0.478,0.4445,0.47,0.447,0.5325,0.497,0.4635,0.449,0.467,0.534,0.4415,0.482,0.612,0.582,0.537,0.5915,0.6765,0.64,0.439,0.6015,0.4785,0.649,0.6335,0.61,0.6595,0.56,0.6425,0.6725,0.674,0.685,0.642,0.601,0.769,0.5785,0.769,0.7035,0.796,0.834,0.7125,0.724,0.7325,0.7585,0.8495,0.6515,0.8215,0.7165,0.874,0.9905,0.8105,0.967,0.6975,1.195,1.1935,1.107,1.0635,0.9035,1.114,1.103,1.1155,1.0515,1.012,1.137,1.1335,1.136,1.206,1.063,1.121,1.114,1.213,1.0045,1.044,1.1345,1.161,1.2315,1.1625,1.168,1.2525,1.3315,1.3525,1.3325,1.1435,1.288,1.38,1.278,1.3075,1.1785,1.375,1.4065,1.4025,1.5175,1.394,1.2205,1.636,1.561,1.4325,1.3385,1.2465,1.212,1.304,1.6785,1.622,1.494,1.6525,1.528,1.5905,1.6275,1.3695,1.6085,1.587,1.8375,1.607,1.7005,1.872,1.8385,1.685,2.198,1.9525,1.56,2.555,2.302,0.029,0.0375,0.0325,0.0435,0.059,0.071,0.0685,0.084,0.106,0.1075,0.096,0.1255,0.151,0.1415,0.2015,0.221,0.2345,0.2325,0.2485,0.348,0.32,0.282,0.3245,0.316,0.3625,0.279,0.3685,0.397,0.413,0.418,0.3705,0.409,0.434,0.411,0.462,0.4925,0.3715,0.411,0.3685,0.4155,0.544,0.4845,0.4565,0.4545,0.6245,0.5225,0.5495,0.542,0.519,0.5215,0.5445,0.6795,0.545,0.5575,0.5155,0.6115,0.7765,0.5395,0.5545,1.019,0.6455,0.601,0.7555,0.608,0.617,0.599,0.6665,0.7835,0.793,0.82,0.8145,0.84,0.8315,0.8995,0.8965,0.6405,0.852,0.9595,0.99,1.0095,1.0375,0.8775,0.755,0.9945,1.068,0.8455,0.869,0.907,0.805,1.0225,0.847,1.114,1.859,0.814,0.9615,1.0025,0.93,0.9335,0.9555,0.9955,1.0265,1.1915,1.1025,1.0165,1.1775,1.1175,1.1835,1.056,1.0145,1.3305,1.052,1.0565,0.923,1.027,1.0195,0.858,1.1125,1.3745,1.2065,1.1325,1.2645,1.1565,1.369,1.39,1.1345,1.464,1.202,1.31,1.415,1.346,1.363,1.2975,1.3645,1.7025,1.519,1.454,1.583,1.5535,1.74,1.751,2.273,1.6465,1.219,1.652,2.0045,1.6755,2.103,1.9965,1.187,1.978,1.8795,2.124,1.931,2.236,2.505,2.0065,2.657,0.4645,0.0765,0.0685,0.0835,0.1125,0.1075,0.1055,0.1375,0.1145,0.139,0.2085,0.1595,0.2015,0.179,0.1945,0.2005,0.215,0.1785,0.196,0.1875,0.196,0.213,0.2445,0.217,0.213,0.2385,0.218,0.2465,0.2025,0.218,0.256,0.2105,0.2615,0.2175,0.302,0.228,0.3265,0.284,0.2725,0.2985,0.2675,0.2645,0.33,0.328,0.3335,0.3055,0.301,0.428,0.378,0.3685,0.438,0.448,0.4005,0.4305,0.372,0.466,0.3705,0.4785,0.346,0.411,0.48,0.393,0.5035,0.441,0.492,0.5435,0.4725,0.461,0.4965,0.5125,0.553,0.594,0.6765,0.5795,0.6615,0.5695,0.6215,0.6015,0.594,0.551,0.625,0.711,0.6965,0.5825,0.663,0.6965,0.842,0.694,0.81,0.5745,0.7675,0.6025,0.5765,0.7145,0.717,0.8655,0.7265,0.7715,0.8,0.7285,0.5945,0.7895,0.651,0.8745,0.7535,0.7305,0.8705,0.7395,0.7665,0.7905,0.8205,0.688,1.224,0.974,0.8735,0.8495,0.796,0.744,0.751,0.794,0.9795,0.873,0.7665,0.8965,0.857,1.078,0.892,1.4395,0.7955,0.858,0.9145,1.171,1.0505,1.1135,1.409,1.065,0.7995,0.7715,1.187,0.8855,0.98,1.026,1.1315,1.014,1.12,1.04,0.8895,0.9595,1.238,0.9755,0.9025,1.076,1.0835,0.871,1.244,1.0265,0.9605,1.137,1.0,1.004,1.128,1.054,1.023,1.129,1.118,1.115,1.2815,1.2555,1.293,1.1295,1.082,1.15,1.264,1.2035,1.3205,1.272,1.062,1.0605,1.093,1.101,1.4595,1.211,1.1935,0.986,1.521,1.3135,1.1835,1.401,1.5075,1.16,1.662,1.5365,1.542,1.567,1.3595,1.6445,1.4545,1.3585,1.548,1.337,1.491,1.5615,1.0145,1.7375,1.7925,1.7635,1.556,2.21,2.141,1.5345,1.614,1.9335,2.173,1.737,1.7375,2.1275,2.25,2.5085,2.255,0.014,0.0515,0.2215,0.1985,0.232,0.3155,0.247,0.3025,0.329,0.2815,0.3425,0.2825,0.304,0.2905,0.3895,0.389,0.4405,0.369,0.4565,0.4465,0.4475,0.501,0.436,0.4615,0.4315,0.3685,0.649,0.459,0.566,0.542,0.4725,0.6435,0.526,0.573,0.5525,0.6855,0.556,0.9365,0.5625,0.559,0.7205,0.7045,0.7575,0.7405,0.84,0.793,0.8745,0.8715,0.9875,1.08,0.9155,1.165,0.953,0.906,0.8725,1.151,0.9905,1.04,0.945,1.259,0.9515,1.201,1.289,1.1005,0.8425,1.049,1.012,1.0725,1.4105,1.136,1.1005,1.1105,1.1315,1.271,1.336,1.1345,1.308,1.5335,1.546,1.539,1.318,1.5245,1.466,1.3825,1.175,1.5555,1.7835,1.374,1.389,1.7025,1.5265,1.519,1.741,1.6115,1.7825,1.684,1.858,1.675,2.1055,2.21,1.8725,1.893,0.0475,0.101,0.121,0.117,0.1465,0.168,0.18,0.1775,0.1985,0.2,0.2205,0.1845,0.2225,0.2175,0.2165,0.243,0.237,0.2365,0.257,0.308,0.252,0.281,0.2225,0.304,0.28,0.313,0.317,0.303,0.3295,0.367,0.3245,0.4195,0.457,0.4,0.4255,0.4365,0.393,0.499,0.6325,0.4285,0.4905,0.474,0.536,0.464,0.6025,0.4615,0.624,0.4715,0.602,0.616,0.5955,0.559,0.6025,0.6065,0.4725,0.4745,0.6635,0.5705,0.646,0.5545,0.845,0.664,0.615,0.654,0.707,0.5965,0.6255,0.555,0.8365,0.657,0.836,0.742,0.8195,0.972,0.6275,0.7205,0.686,0.686,0.543,0.717,0.7625,0.639,0.816,0.7815,0.7665,0.5585,0.765,0.9005,0.8225,0.7235,0.849,0.743,0.863,0.802,0.831,0.7805,0.795,0.848,0.833,0.867,0.7405,0.867,0.7965,1.116,0.78,0.985,0.9965,0.8015,0.807,1.0305,0.839,0.9615,0.834,1.0335,0.798,0.7095,0.913,1.207,1.022,0.9015,0.9,0.838,0.959,0.8335,0.9735,1.13,0.9165,0.9175,1.0645,1.059,1.194,0.9775,0.884,0.8025,0.991,0.974,1.434,0.983,1.0725,1.2405,1.022,1.1155,0.9225,1.1185,1.2795,1.0175,1.224,1.154,1.3255,1.221,1.139,1.066,1.2215,0.8565,0.924,1.266,1.0405,1.1165,1.0845,1.0985,1.1955,1.362,1.044,1.0915,1.1965,1.1745,1.233,1.2695,1.489,1.4345,1.2435,1.2615,1.2235,1.247,1.707,1.1605,1.286,1.5595,1.4745,1.226,1.33,1.2415,1.3375,1.363,1.2215,1.371,1.337,1.274,1.488,1.3835,1.274,1.043,1.3485,1.4405,1.3195,1.5175,1.5505,1.6375,1.443,1.289,1.2915,1.3725,1.2975,1.2585,1.39,1.32,1.566,1.619,1.2835,1.382,1.4535,1.6075,1.3735,1.638,1.569,1.8565,1.773,1.58,2.009,1.9805,1.5805,2.015,1.8275,2.125,1.445,2.1425,1.9425,1.747,2.119,1.938,2.2205,2.5155,2.7795,0.2315,0.394,0.597,0.564,0.5965,0.414,0.422,0.82,0.434,0.7615,0.5795,0.5205,0.968,0.869,0.8795,1.0615,0.9225,1.007,0.9605,0.65,0.7545,0.771,1.0835,0.8935,1.358,1.1185,1.205,1.3405,1.02,1.025,0.8145,1.48,0.953,0.8915,1.3005,1.038,1.2525,1.15,1.1135,1.1155,1.0865,1.254,1.169,1.172,1.1845,1.0725,1.3815,1.6125,1.7395,1.5475,1.4245,1.3405,1.4465,1.5845,1.679,1.726,1.5395,2.073,1.5865,2.069,0.027,0.0555,0.1275,0.1885,0.2,0.197,0.223,0.2215,0.2665,0.269,0.2805,0.3305,0.2815,0.2805,0.311,0.368,0.3405,0.3245,0.38,0.335,0.3215,0.358,0.445,0.487,0.4535,0.568,0.5155,0.457,0.5095,0.5,0.494,0.5605,0.599,0.7045,0.7005,0.7125,0.6725,0.5785,0.5185,0.6375,0.5805,0.6645,0.581,0.596,0.6965,0.6095,0.677,0.7245,0.575,0.632,1.0015,0.9455,0.6555,0.6255,0.8145,0.687,0.7995,0.804,0.7495,0.599,0.7075,0.738,0.837,0.832,0.8305,0.667,0.9355,0.8445,0.895,0.8715,1.0005,0.832,0.9415,0.88,0.803,0.785,0.9765,0.992,1.013,0.876,1.099,0.8715,0.8245,0.7955,0.857,0.8265,0.925,1.0465,0.7905,0.8295,0.886,0.97,1.1805,0.99,1.133,1.071,0.862,1.1155,1.031,1.1185,0.957,1.1785,1.0285,1.0875,1.255,1.219,1.035,1.195,1.062,1.5145,1.309,1.0295,1.0485,1.331,1.1565,1.09,1.354,0.984,1.2525,1.2695,1.3405,1.2895,1.195,1.273,1.229,1.1895,1.1145,1.3115,1.1,1.1285,1.4195,1.6195,1.32,1.5535,1.238,1.189,1.375,1.412,1.348,1.1445,1.4415,1.218,1.2475,1.2695,1.429,1.4015,1.312,1.473,1.623,1.534,1.3845,1.6915,1.5715,1.773,1.4405,1.6245,1.866,1.6705,2.081,1.6195,1.8325,2.173,0.029,0.0195,0.0465,0.1195,0.0895,0.0935,0.1115,0.1195,0.097,0.133,0.1745,0.1695,0.17,0.1605,0.271,0.2185,0.196,0.226,0.22,0.3,0.2875,0.316,0.3675,0.3675,0.346,0.4955,0.4675,0.522,0.441,0.5185,0.653,0.5915,0.4825,0.6855,0.6335,0.6875,0.741,0.6355,0.8395,0.9205,0.8215,0.9255,0.8295,1.063,1.115,0.837,0.982,1.112,1.3485,1.5655,0.086,0.1065,0.132,0.1075,0.1745,0.152,0.2755,0.293,0.368,0.312,0.336,0.355,0.379,0.378,0.4655,0.594,0.4935,0.4595,0.4955,0.4325,0.689,0.5465,0.617,0.538,0.7815,0.6355,0.6435,0.5115,0.738,0.699,0.7655,0.7505,0.844,0.8705,0.668,0.83,0.8685,0.839,1.079,0.919,1.1345,0.909,1.2435,1.056,1.2095,1.238,1.644,1.7725,1.2525,1.761,1.3165,1.914,2.1,1.6895,2.032,0.66,0.7455,0.616,0.2825,0.3355,0.651,0.361,0.4775,0.3465,0.25,0.66,0.315,0.276,0.5395,1.04,1.041,1.6885,2.1835,1.2105,0.166,0.452,0.7185,0.232,0.0105,0.0275,0.1445,0.282,0.608,0.433,0.3295,0.4555,0.4585,0.275,0.335,0.4265,0.5765,0.127,1.1505,0.8915,0.97,0.18,0.6985,0.4585,0.4005,0.7145,0.932,0.966,0.9995,1.496,0.5065,0.1735,0.3945,0.4665,0.401,0.3455,0.5205,0.4935,0.3245,0.106,0.4415,1.966,0.3025,0.1225,0.879,1.2275,1.2715,1.806,0.8085,1.3905,1.8465,2.1995,1.817,0.897,0.3245,1.136,0.2735,0.2405,0.1545,0.0145,0.1185,0.0295,0.0385,0.799,1.1845,0.925,1.098,1.071,0.975,1.283,1.0595,0.9195,0.9295,0.8085,0.1485,0.4475,0.6865,0.6335,0.547,0.585,0.927,1.4935,1.0405,0.0605,0.3675,0.099,0.233,0.3625,0.081,1.596,1.4005,1.406,0.9245,1.36,0.43,0.1365,0.14,0.4215,1.5765,1.2125,1.6305,1.142,1.366,1.539,0.445,0.5725,0.19,0.764,0.853,0.5885,0.7875,1.035,1.352,0.958,0.797,0.857,0.2235,0.086,0.692,0.2225,0.7575,0.729,0.903,1.0965,0.903,1.229,1.106,1.171,0.444,0.4755,0.388,0.3785,0.486,0.5265,0.2275,0.5105,0.3105,0.543,0.2225,0.998,1.5455,1.2675,1.1,1.4285,1.793,0.6185,0.5825,0.7485,0.406,1.1005,0.869,0.955,0.9215,1.456,0.893,2.226,1.2125,1.0675,0.8525,0.8615,1.162,0.8705,1.598,1.406,2.033,1.259,1.0935,1.1805,0.7175,0.7575,0.487,0.5705,0.6905,0.4475,0.347,0.352,0.7145,0.3315,0.18,0.974,0.185,0.563,0.3215,0.179,0.702,0.8045,0.8075,0.578,0.385,0.585,0.6375,0.813,0.5735,0.94,1.008,0.775,1.1445,0.6,0.515,0.5795,0.384,0.2965,0.137,0.991,0.925,0.805,0.8915,0.769,0.6185,0.6515,0.2875,0.5545,0.7365,0.306,1.496,0.3605,0.3045,0.592,0.7995,0.5825,0.3435,0.906,0.6295,1.5515,2.526,1.103,0.957,0.86,1.62,1.407,0.9,0.1455,0.075,0.0235,1.247,1.7265,0.8025,0.764,0.8645,0.4715,0.631,0.9455,1.3185,1.7265,1.081,0.9025,1.1415,1.027,1.3445,1.449,0.7745,0.7895,1.3665,1.0295,1.031,1.065,1.885,1.2425,1.969,0.9445,0.354,0.023,0.3575,0.5965,0.383,0.2065,0.382,0.6315,0.3285,0.2165,0.0305,0.024,0.7365,0.6005,0.4285,0.496,0.6195,0.567,0.6505,0.4495,0.4485,0.241,0.197,0.1425,1.2395,1.0385,0.972,1.3315,0.762,0.775,0.437,0.6985,0.435,0.1295,0.8435,1.25,1.017,1.411,1.208,1.0705,0.5895,0.537,0.15,0.651,0.28,0.287,0.3525,0.12,0.494,0.4765,0.2145,0.595,0.4805,0.321,0.096,0.9315,0.782,0.0945,0.6695,0.213,0.525,1.312,1.087,1.523,1.319,0.579,0.8175,0.17,0.796,0.197,0.5255,0.879,0.4625,0.4565,0.528,0.5835,0.884,0.096,0.1855,0.27,0.463,0.198,0.282,0.0995,0.092,0.0625,0.073,0.071,0.036,1.099,0.5905,0.768,0.413,0.8505,0.6915,0.709,0.3755,0.8185,0.227,0.8245,1.1825,1.122,1.6115,1.2985,1.3,1.161,1.489,1.008,0.441,0.742,0.7,0.271,0.8565,0.8975,0.6105,0.1925,0.6635,1.235,0.7615,0.592,0.39,0.7565,0.57,0.2865,0.2935,0.567,0.6245,0.8415,0.7775,0.989,0.6905,0.2,0.109,0.127,0.2885,0.18,0.144,0.4665,0.33,0.3625,0.34,0.365,0.5,0.6265,0.5555,0.6015,0.53,0.6315,0.7715,0.6125,0.872,0.8115,0.8795,0.983,1.145,1.09,1.262,1.185,1.4405,1.332,1.1405,1.201,1.33,1.362,1.647,1.4995,1.6225,1.786,1.791,1.925,1.689,1.659,2.0475,1.6015,2.0165,0.04,0.0565,0.064,0.0875,0.106,0.1315,0.126,0.155,0.149,0.185,0.2545,0.237,0.279,0.3205,0.3335,0.3885,0.545,0.4165,0.495,0.4775,0.468,0.4555,0.46,0.4155,0.4215,0.474,0.486,0.5735,0.468,0.5135,0.6215,0.494,0.6005,0.646,0.7945,0.812,0.828,0.681,0.889,0.7345,0.964,0.963,0.995,0.8585,0.948,0.888,0.9045,1.046,1.1775,1.0765,1.0255,0.9325,1.235,1.247,1.1495,1.1575,1.327,1.2,1.2705,1.2155,1.3245,1.3555,1.127,1.1075,1.4255,1.147,1.286,1.596,1.297,1.251,1.5105,1.4415,1.6385,1.933,1.71,1.8495,1.742,1.7975,2.381,2.398,2.1945,0.049,0.1055,0.1045,0.163,0.2275,0.219,0.3645,0.3265,0.3515,0.3465,0.407,0.4215,0.3755,0.5335,0.442,0.1315,0.5205,0.5535,0.5445,0.554,0.512,0.583,0.5765,0.723,0.5395,0.625,0.5925,0.633,0.832,0.778,0.7865,0.778,0.636,0.8435,0.648,0.784,0.908,1.02,0.811,0.897,0.852,0.938,0.6955,0.861,1.004,1.0115,1.1005,1.108,0.852,1.9875,1.079,1.055,1.198,1.084,1.103,1.1,1.1015,1.3835,1.115,1.085,1.3165,1.3415,1.027,1.1845,1.192,1.285,1.1805,1.2655,1.2895,1.407,1.122,1.4465,1.349,1.269,1.68,1.551,1.4775,1.529,1.7585,1.523,1.7315,1.51,1.88,2.012,2.201,0.0315,0.04,0.0635,0.0985,0.167,0.2015,0.183,0.187,0.1795,0.2065,0.3,0.2295,0.343,0.244,0.3075,0.3415,0.271,0.91,0.268,0.2885,0.3,0.326,0.358,0.314,0.4025,0.3645,0.4235,0.4305,0.3505,0.486,0.471,0.415,0.5195,0.5895,0.5215,0.4475,0.5585,0.596,0.5385,0.7665,0.516,0.7355,0.531,0.607,0.7055,0.6445,0.6315,0.7845,0.9475,0.712,0.89,0.912,0.656,0.936,0.6975,1.1465,0.825,0.72,0.8215,1.017,0.8975,1.2255,0.9865,0.844,0.8465,0.885,0.6735,0.8755,0.9235,0.977,1.0305,1.05,1.1145,0.877,1.285,1.3065,0.8725,1.0265,1.1605,1.0125,1.096,1.205,1.221,1.0005,1.1355,1.3135,1.1955,1.098,1.139,1.2265,1.042,1.368,1.446,1.4045,1.463,1.711,1.74,1.757,1.601,2.165,2.3305,0.0545,0.0725,0.0925,0.183,0.1525,0.187,0.232,0.196,0.2545,0.2625,0.362,0.4445,0.511,0.589,0.5945,0.529,0.872,0.77,0.8435,0.818,0.8035,0.8115,0.782,0.8745,0.984,0.95,1.1735,0.976,1.0785,1.057,1.11,1.142,1.1255,1.1045,1.3405,1.082,1.254,1.2005,1.243,1.286,1.1665,1.144,1.385,1.309,1.527,1.6385,1.691,1.719,1.52,1.613,2.2355,2.3235,0.1245,0.1285,0.181,0.1585,0.1965,0.198,0.1855,0.2145,0.3245,0.2625,0.371,0.298,0.336,0.447,0.4085,0.587,0.494,0.614,0.5075,0.5445,0.6115,0.5605,0.521,0.5775,0.5935,0.597,0.9505,0.616,0.8315,0.8725,0.8155,0.619,0.7595,0.742,0.804,0.664,0.745,0.728,0.777,0.8765,0.9895,0.9655,0.9065,1.049,0.9705,0.92,0.9525,0.7855,0.855,1.142,0.755,0.9745,1.2015,1.1295,0.9205,1.056,1.34,0.9625,1.0475,1.0915,1.167,0.9995,1.0485,1.2735,1.0625,1.1545,1.194,1.1215,0.9335,1.198,0.9545,1.3585,1.2075,1.217,1.217,0.92,0.8765,1.2615,1.2795,1.167,1.1885,1.3765,1.292,1.1795,1.29,1.2075,1.297,1.4585,1.151,1.197,1.539,1.676,1.6645,1.528,1.494,1.277,1.5965,1.3805,1.2565,1.527,1.4005,1.4405,1.482,1.2345,1.3435,1.533,1.8445,1.825,2.0885,2.087,1.884,0.305,0.4295,0.449,1.029,0.981,0.5745,0.693,1.183,0.7905,1.224,0.775,1.2705,1.406,0.873,0.9415,1.007,1.0835,0.9845,1.5245,1.024,1.281,1.148,1.136,1.2235,1.3695,1.006,1.307,1.463,1.2905,1.4265,1.7885,1.6135,2.2305,2.2635,0.074,0.2075,0.237,0.2665,0.215,0.253,0.309,0.3535,0.335,0.3875,0.365,0.4045,0.372,0.3965,0.5225,0.456,0.44,0.507,0.5285,0.572,0.6625,0.6445,0.6275,0.6885,0.6835,0.6855,0.6755,0.783,0.894,0.768,0.95,0.871,0.9785,0.7425,0.737,0.9175,0.8785,1.1275,0.9765,0.974,0.853,0.991,0.9125,0.921,0.869,0.8665,1.089,0.9615,1.145,0.907,1.1635,1.1955,1.31,1.251,1.145,1.154,1.1335,1.2015,1.5595,1.3165,1.403,1.204,1.2895,1.5175,1.3575,1.3645,1.494,1.664,1.545,1.5855,1.666,1.724,1.908,2.073,0.0515,0.057,0.0925,0.204,0.3075,0.262,0.458,0.491,0.474,0.5805,0.728,0.622,0.706,0.5685,0.9385,0.655,0.9465,0.9115,0.942,1.193,1.461,1.489,0.1115,0.1235,0.2815,0.226,0.2285,0.2995,0.361,0.3045,0.3975,0.379,0.4995,0.7775,0.4705,0.751,0.714,0.6995,0.952,0.8755,0.9215,0.8285,1.206,1.2865,1.1945,1.1655,1.2155,1.1735,1.532,1.5105,0.5565,0.547,0.5165,0.764,0.488,0.6905,0.1835,0.97,0.033,0.059,0.046,1.3235,0.8465,1.047,1.2785,1.8745,1.978,1.367,1.742,0.513,0.4085,0.56,0.635,0.875,0.397,0.806,0.204,0.1165,0.17,1.194,0.765,1.151,0.6765,1.571,1.153,1.114,0.9125,0.872,0.792,0.606,0.2265,0.3955,0.61,0.539,0.657,0.2505,0.102,0.2685,0.551,1.307,0.9185,1.707,0.8805,0.4965,0.632,2.2695,0.9235,0.0345,1.3315,0.72,1.032,1.017,0.98,0.1495,0.1515,0.478,0.578,0.6835,0.2725,1.511,1.3035,1.3955,0.1975,0.116,0.523,0.1565,0.384,1.0055,1.1345,1.0835,0.868,1.0915,1.271,1.4985,0.388,1.2355,1.402,0.6025,0.2775,0.973,0.753,1.3765,0.375,0.4135,0.56,0.3915,1.2765,0.96,0.3745,0.696,1.2955,1.2315,1.383,0.2225,1.156,1.477,1.5715,0.858,1.4995,1.467,1.092,1.8165,1.6365,0.906,1.213,1.06,0.161,0.459,0.533,0.6175,0.366,0.4195,0.15,0.8745,0.655,0.484,1.4435,0.8775,1.3105,1.2515,0.9085,1.1705,0.528,0.6625,0.4335,0.3595,1.107,0.8595,0.7735,0.4365,0.501,0.6735,0.415,0.4775,0.5555,0.6445,1.428,1.6195,0.81,1.0385,0.9715,0.868,1.522,1.1255,0.7085,1.0185,0.72,0.6175,0.738,0.597,1.156,1.22,0.7485,1.0735,1.229,1.146,1.145,1.1055,1.67,1.555,0.9285,0.8085,1.057,0.2595,0.438,0.099,0.5085,1.166,0.507,0.6345,0.314,0.4385,0.195,0.451,0.084,0.0245,1.4685,0.7765,0.5425,0.5885,0.3375,0.2565,0.163,0.8095,1.3655,0.967,0.6855,0.314,0.7005,0.4895,0.45,0.259,0.382,0.4435,1.6935,1.71,0.8575,0.97,0.59,0.34,0.385,0.515,0.59,0.51,0.3005,0.683,0.468,0.4075,0.584,0.829,0.4545,0.4385,0.407,0.3085,0.239,0.106,1.178,1.073,0.306,0.301,0.7585,0.171,0.3625,0.0905,1.0885,1.097,1.278,0.44,0.163,0.522,0.9715,0.588,0.5325,0.127,0.0815,0.1635,0.1,0.0265,0.9955,0.6605,0.721,0.1485,0.487,0.955,0.873,1.65,1.1285,1.1115,0.9745,1.4605,1.0105,1.0765,1.2225,1.616,0.559,0.2205,0.44,0.879,0.6815,0.5795,0.209,0.224,0.1765,0.196,0.192,0.3095,0.313,0.3595,0.3855,0.5785,0.674,0.5265,1.0315,0.9,1.0165,1.2495,1.1685,1.148,1.089,1.0325,1.172,1.3715,1.5055,1.9045,2.4925,0.0805,0.111,0.152,0.199,0.219,0.2155,0.2565,0.257,0.2505,0.279,0.378,0.456,0.5055,0.4705,0.643,0.513,0.569,0.578,0.596,0.5725,0.6435,0.8115,0.7115,0.9155,0.8815,0.931,1.065,1.1385,1.234,1.2635,1.0745,1.403,1.1325,1.1115,1.255,1.437,1.3635,1.1435,1.4545,1.478,1.6885,2.0725,1.787,1.523,0.021,0.0455,0.2435,0.2675,0.258,0.2985,0.411,0.38,0.4385,0.4015,0.4485,0.4155,0.7095,0.637,1.1155,0.599,0.5345,0.627,0.7465,0.985,0.85,0.838,0.812,0.7615,0.87,0.9835,0.929,1.0155,0.939,1.164,1.214,1.1345,1.233,1.0815,1.179,1.1635,1.1545,1.3345,1.469,1.492,1.5585,1.3275,1.6615,1.492,1.7365,1.6605,1.348,1.7405,1.7185,0.041,0.0655,0.097,0.131,0.1695,0.192,0.1765,0.1735,0.1785,0.2055,0.2345,0.2305,0.314,0.33,0.2775,0.405,0.309,0.4385,0.396,0.3615,0.514,0.4265,0.384,0.4865,0.4355,0.498,0.494,0.594,0.528,0.5585,0.636,0.567,0.6615,0.658,0.78,0.6075,0.7025,0.8725,1.2365,1.186,0.7745,0.8875,0.8725,0.8515,0.895,0.886,0.9265,0.8295,0.907,1.041,0.9355,1.058,0.7955,1.0805,0.928,1.059,1.157,1.088,0.776,1.043,1.1415,1.3335,1.273,1.1835,1.2135,1.0315,1.3695,1.3745,1.463,1.6275,1.3875,1.46,1.2835,1.3765,1.6465,1.265,1.56,1.6,2.333,0.028,0.226,0.2855,0.325,0.514,0.5755,0.5805,0.678,0.8035,0.913,0.8675,1.0425,1.14,1.3475,1.0735,1.4335,1.304,0.9505,1.385,1.12,1.2645,1.275,1.27,1.583,1.4355,1.42,1.5955,1.89,2.037,0.084,0.1005,0.1285,0.1345,0.1195,0.1895,0.257,0.2745,0.342,0.344,0.3275,0.4035,0.4075,0.4975,0.3685,0.4175,0.4425,0.4225,0.426,0.511,0.573,0.6385,0.657,0.8735,0.781,0.6765,0.769,0.6235,0.7315,0.8075,0.737,0.654,0.7915,0.753,0.717,0.783,0.872,0.983,1.034,0.9855,0.7635,0.9895,0.9365,0.964,1.0455,1.081,1.012,1.122,1.1245,1.1345,1.0805,1.0835,1.242,1.3915,1.085,0.966,1.0855,1.3025,1.15,1.217,1.306,1.273,1.4865,1.3655,1.276,1.2075,1.281,1.4275,1.155,1.35,1.3685,1.431,1.261,1.764,1.278,1.217,1.46,1.5575,1.527,1.4985,1.885,1.432,1.4385,1.564,2.14,1.792,2.548,0.1585,0.4015,0.465,0.2885,0.6475,0.6485,0.452,0.4915,0.9145,0.976,0.7865,0.775,0.8415,0.681,0.6145,1.1655,1.764,1.1215,1.167,1.0375,1.223,1.124,1.2635,1.238,1.4045,1.37,1.8185,1.7525,0.101,0.106,0.1865,0.2575,0.3225,0.32,0.4155,0.3935,0.4775,0.452,0.5065,0.5525,0.565,0.699,0.6055,0.7905,0.702,0.675,0.475,0.612,0.705,0.728,0.846,0.86,0.8875,0.898,0.6545,0.795,1.0535,0.927,0.701,0.8275,0.9845,0.9565,0.86,1.1785,1.2205,0.9685,1.107,1.1305,1.2555,1.177,1.2425,1.09,1.072,1.129,1.2075,1.227,1.472,1.5785,1.4755,1.5545,1.593,1.8995,1.361,1.4575,2.381,0.0495,0.1455,0.129,0.2255,0.359,0.3505,0.5885,0.623,0.5375,0.5655,0.8625,1.137,0.221,0.2425,0.386,0.5315,0.562,0.836,0.9275,0.8815,1.03,1.1685,1.059,1.127,1.1665,1.541,1.7825,1.543,1.47,0.6335,0.754,0.4485,0.8105,0.22,0.4425,0.3555,0.034,0.185,0.79,0.8255,0.62,0.9525,0.955,0.91,0.416,0.2045,0.515,1.604,0.3435,0.3005,0.8255,0.785,0.9685,0.731,0.4405,0.1785,1.373,0.9765,1.018,1.082,1.423,0.655,1.4155,0.1385,0.782,0.717,0.6355,0.3975,0.656,0.744,0.447,0.578,0.1405,0.708,0.1385,0.8615,1.626,0.478,1.1775,0.286,1.058,1.5415,0.817,0.152,0.335,0.4915,0.9705,0.9315,1.221,0.7365,0.97,0.8085,0.4075,0.6295,1.053,1.829,1.1765,0.8765,0.0145,0.476,0.813,0.018,1.064,0.853,0.219,0.0635,0.6275,0.441,0.458,0.4745,0.216,0.6765,0.757,0.7325,1.0285,0.712,1.066,1.3065,0.8545,0.125,0.2225,0.6955,0.266,0.7105,0.487,0.728,0.6675,2.0495,1.498,1.597,0.8605,0.541,0.058,0.0645,0.77,0.541,0.739,0.205,0.8695,0.6555,1.0905,0.6295,1.0985,0.991,0.0615,0.8005,0.6175,0.772,0.7155,0.717,0.6355,0.18,0.5805,0.556,0.591,0.686,1.016,1.438,1.807,1.777,2.173,2.1505,0.118,0.099,0.1365,0.1295,0.164,0.2875,0.277,0.248,0.252,0.4015,0.3905,0.409,0.4095,0.494,0.4905,0.599,0.6245,0.7745,0.9795,0.8915,0.874,1.262,1.21,1.37,1.759,1.3855,1.8065,1.5945,1.4545,2.003,2.2385,0.032,0.0785,0.134,0.2075,0.2235,0.34,0.5365,0.635,0.562,0.597,0.5815,0.7545,0.98,1.0035,1.133,1.146,1.142,1.12,1.011,1.131,1.065,1.181,1.382,1.4385,1.2275,1.4415,1.473,1.658,1.7475,0.096,0.1445,0.1965,0.196,0.2155,0.2805,0.334,0.366,0.4965,0.651,0.5125,0.6925,0.5995,0.74,0.702,0.672,0.811,0.9585,0.858,0.9575,0.926,0.873,0.998,0.6655,1.003,1.234,1.025,1.2935,1.0565,1.7855,1.2255,1.2565,1.159,1.403,1.826,1.7715,0.6125,0.658,0.911,1.1955,1.336,1.36,0.2325,0.317,0.318,0.2645,0.4055,0.524,0.464,0.439,0.5805,0.622,0.7805,0.772,0.741,0.8265,0.7275,0.7005,0.9355,1.1815,1.0145,1.1,1.218,0.874,0.984,1.0105,1.0765,1.337,1.3705,1.7015,1.2435,1.4135,1.073,1.477,1.2915,1.3105,1.4915,1.494,1.1965,1.672,1.9125,1.907,1.79,1.7495,0.3415,0.519,0.5305,1.2825,0.7165,1.6645,0.837,0.9645,1.1,1.2415,1.3185,1.3455,0.1185,0.197,0.4725,0.4495,0.557,0.516,0.709,0.7385,0.7935,0.9205,0.7655,0.824,0.83,0.985,0.997,0.914,1.13,1.0805,1.105,1.229,1.2355,1.2395,1.357,1.402,1.359,1.669,1.7405,1.51,1.6645,2.0505,0.124,0.14,0.1695,0.218,0.384,0.393,0.3805,0.4895,0.5135,0.4495,0.8025,1.053,0.9945,0.3175,0.344,0.2845,0.3035,0.499,0.577,0.615,0.791,0.8395,0.8675,0.887,0.966,1.176,1.0945,1.9485],\"colorscale\":[[0.0,\"#440154\"],[0.1111111111111111,\"#482878\"],[0.2222222222222222,\"#3e4989\"],[0.3333333333333333,\"#31688e\"],[0.4444444444444444,\"#26828e\"],[0.5555555555555556,\"#1f9e89\"],[0.6666666666666666,\"#35b779\"],[0.7777777777777778,\"#6ece58\"],[0.8888888888888888,\"#b5de2b\"],[1.0,\"#fde725\"]],\"showscale\":true,\"size\":[0.514,0.2255,0.677,0.516,0.205,0.3515,0.7775,0.768,0.5095,0.8945,0.6065,0.406,0.5415,0.6845,0.4755,0.6645,0.2905,0.451,0.2555,0.381,0.2455,0.2255,0.9395,0.7635,1.1615,0.9285,0.9955,0.931,0.9365,0.8635,0.9975,1.639,1.338,1.798,1.7095,0.4795,1.217,0.5225,0.883,0.3275,0.425,0.8515,0.07,0.042,0.042,0.203,0.5795,0.4605,0.161,0.8355,0.595,0.303,0.5415,0.4775,0.385,0.6615,0.4425,0.5895,0.086,0.583,0.4115,0.625,0.6965,0.3785,0.58,0.48,0.915,1.285,0.5305,0.151,0.7665,0.353,1.247,1.185,1.098,1.0075,0.944,0.922,0.788,1.1025,0.941,1.615,0.9885,1.3175,1.013,1.295,1.195,0.8645,0.517,0.9775,0.8115,0.755,1.115,1.262,1.494,1.606,0.725,0.523,0.5225,0.5785,0.2315,0.843,0.883,0.724,1.1735,0.727,0.802,0.6675,0.6335,0.3635,0.5415,0.431,0.3325,0.393,0.6935,0.5915,0.6125,0.402,0.8825,0.2605,0.4205,0.2535,0.766,0.214,0.1755,0.073,0.238,0.2505,1.7255,1.959,1.262,0.4035,0.1915,0.211,0.0975,0.406,0.156,0.2005,0.3555,0.253,0.826,0.741,1.3445,0.797,0.5175,0.549,0.515,0.127,0.0315,0.03,1.053,1.1185,1.3715,1.0565,0.9885,0.722,0.994,1.514,0.9075,1.124,1.056,1.222,1.2445,2.141,1.752,2.55,2.124,1.842,1.981,1.6185,1.9565,0.775,1.065,0.776,0.048,0.1785,0.125,0.1435,0.0465,0.97,0.9395,1.368,1.0235,1.0165,1.5675,1.218,1.0525,1.383,1.199,0.9325,1.1595,1.0225,0.927,0.22,0.8145,0.772,0.644,1.3035,0.922,0.922,0.4165,0.825,0.63,0.8155,0.369,0.482,0.315,0.3795,0.8325,0.2655,0.6345,0.181,0.38,0.6155,0.66,0.8025,0.46,0.324,0.501,0.32,0.455,0.5175,0.5755,0.485,0.3265,0.45,0.3055,0.205,1.1015,0.783,0.836,0.9025,1.4455,0.1155,0.435,0.124,0.002,0.013,0.008,0.021,0.9425,0.1,0.0645,0.1275,0.1655,0.174,0.1585,0.1975,0.156,0.2135,0.1715,1.1235,1.0605,1.094,1.2415,1.011,1.07,0.8975,1.415,1.1015,0.928,0.865,0.8945,0.095,0.1205,0.639,0.895,0.2925,0.6355,0.4995,1.779,1.187,1.219,1.525,1.259,1.844,1.3485,1.642,1.484,0.712,0.8415,0.2415,0.4495,0.6295,0.9565,0.879,0.699,0.6445,0.4775,0.8105,0.996,1.2765,1.116,1.013,1.0575,0.128,0.1105,0.1065,0.549,0.234,0.3485,0.892,0.252,0.217,0.472,0.037,0.0215,1.5415,0.7605,0.9055,1.2435,0.971,1.3305,1.2255,1.3,0.4585,1.242,0.3675,0.8365,0.172,0.0965,0.038,0.2845,0.1055,0.222,0.251,0.1755,0.6435,0.241,0.2255,0.5955,0.3185,0.121,0.0705,1.974,1.3415,1.0875,1.283,1.325,1.0035,1.165,1.3475,1.274,0.568,0.746,0.707,0.756,0.2,0.2715,1.2,1.153,0.8685,0.9535,0.93,1.275,2.13,1.587,1.8085,2.499,1.768,1.227,0.997,1.4225,1.029,1.186,1.016,0.887,1.0735,1.13,1.719,1.566,1.7605,1.787,1.31,1.343,1.7345,1.1775,1.077,0.995,1.1085,1.1405,0.791,0.663,0.5565,0.8445,0.4925,0.7385,0.482,0.609,0.471,0.3215,0.593,0.5615,0.25,0.1995,0.302,0.7155,0.5865,0.6765,0.987,0.5885,0.7225,0.4335,0.6935,0.365,0.8425,0.479,0.911,0.915,0.827,1.1045,0.945,0.9935,0.8565,1.2385,1.0325,1.3135,1.352,1.005,0.625,1.5015,0.529,0.5785,0.101,0.092,1.068,1.0915,1.015,0.943,1.0475,0.9555,1.036,0.9065,0.7505,0.366,0.662,0.217,0.252,0.3055,0.6885,0.2335,0.192,0.85,0.2715,0.3635,0.714,0.9815,0.9265,1.098,0.8205,1.891,1.41,1.4385,0.9245,1.2915,0.8375,1.221,0.199,0.2965,0.7085,0.2665,0.9915,0.0715,0.0545,0.0735,0.0235,1.3905,1.388,1.7445,1.4385,0.7835,0.646,0.3575,0.627,0.7715,0.7395,0.421,1.347,1.756,1.32,1.8075,0.9325,0.849,0.9955,1.0115,0.908,0.92,1.2415,0.8075,1.0595,1.073,0.921,1.2895,1.2635,1.369,0.953,1.248,1.0105,1.0385,0.874,0.854,1.1835,1.115,1.129,1.1745,1.105,0.8395,1.055,0.889,0.8735,1.1095,0.5185,0.6725,0.146,0.08,0.1,0.2795,0.0915,0.147,0.203,0.0385,0.1885,0.218,0.035,0.0545,0.024,0.0155,0.733,0.9715,0.24,0.752,0.458,0.4705,0.38,0.4985,0.454,0.5775,0.1165,0.094,0.2705,0.604,0.415,0.2885,0.3615,0.257,0.1555,0.08,0.0425,0.795,0.875,1.1625,0.9885,0.8,0.514,0.591,0.6265,0.795,1.1905,1.326,0.66,0.364,0.659,0.452,0.7335,0.5465,0.179,0.581,0.406,0.1085,0.387,0.474,0.443,1.066,0.9535,0.9665,1.133,0.9175,0.982,0.8865,1.3675,1.233,0.806,1.4635,0.4935,0.363,0.6655,0.6805,0.8285,0.4625,0.3095,0.745,0.25,0.874,1.514,0.6995,0.8525,0.7135,0.939,1.054,0.981,0.926,0.286,0.265,0.4885,0.5555,0.425,0.195,0.458,0.228,0.1775,0.4085,0.032,0.155,0.4775,0.525,0.3865,0.433,0.17,0.1295,0.0515,0.169,0.673,0.6785,0.498,0.498,0.658,0.322,0.2815,0.944,0.1835,0.49,0.391,0.467,0.5225,0.2105,0.168,0.258,0.1905,0.487,0.5735,0.173,1.1785,0.9,0.1875,0.3715,0.347,0.1145,0.777,0.4885,0.447,0.079,0.1665,0.466,0.1345,0.2305,0.129,0.97,1.14,1.3165,0.9585,1.626,0.781,0.3675,0.281,0.412,0.2245,0.4835,0.605,0.9175,0.5425,0.6175,0.655,0.8115,0.573,0.7865,0.64,0.74,0.5945,0.8165,0.2225,0.2295,0.5725,0.3915,0.8345,0.6515,0.909,0.8045,0.927,0.7305,0.9555,0.636,0.0865,0.3865,0.283,0.019,0.1285,0.0175,0.1165,0.444,0.3515,0.2905,0.536,0.4525,0.316,0.417,0.417,0.203,0.207,0.2765,0.1105,0.176,0.2465,0.1135,0.201,0.1915,0.1035,0.0975,0.0765,0.0265,0.015,0.018,1.0575,1.092,0.99,0.488,0.5005,0.297,0.525,0.77,0.6515,0.8295,0.879,0.823,0.656,0.8665,0.6565,0.669,0.6435,0.862,0.3795,0.835,0.2065,0.7365,0.8175,0.8425,1.001,1.676,0.6595,0.8055,1.5165,0.612,0.547,1.122,1.1365,1.4805,1.5275,1.1375,1.437,1.116,1.0615,1.2565,0.946,0.959,1.613,1.153,0.978,1.1325,0.197,0.785,0.949,0.9805,0.521,0.2685,0.462,0.7605,0.732,0.6775,0.6385,0.5755,0.537,0.93,0.6415,0.8815,0.244,0.0525,1.042,0.5755,0.709,0.644,0.8875,0.8935,0.556,0.51,0.9215,1.0345,0.695,0.7155,0.394,0.745,0.3665,0.495,0.349,0.4405,0.22,0.6615,0.3185,0.1015,0.759,0.4195,0.807,0.875,0.6835,0.067,0.088,0.1715,0.1735,0.183,0.2055,0.18,0.27,0.24,0.2215,0.1375,0.312,0.2895,0.319,0.304,0.306,0.394,0.3735,0.325,0.398,0.501,0.4895,0.378,0.547,0.5805,0.5465,0.6395,0.498,0.609,0.7555,0.5975,0.8275,0.7635,0.891,0.805,0.9185,0.923,1.0145,0.875,0.9685,1.0595,0.952,0.7535,0.958,1.077,1.102,1.11,1.2095,1.1405,1.113,1.3445,1.21,1.29,1.382,1.1035,1.377,1.3435,1.296,1.34,1.3725,1.307,1.2085,1.3825,1.26,1.3555,1.376,1.2945,1.486,1.4715,1.4095,2.0805,1.3905,1.558,1.309,1.8095,1.4785,1.7775,1.6675,1.834,2.8255,0.046,0.0705,0.0665,0.083,0.083,0.092,0.117,0.1625,0.131,0.1385,0.141,0.1485,0.144,0.1575,0.187,0.196,0.1825,0.186,0.1785,0.2225,0.2455,0.249,0.2865,0.215,0.251,0.339,0.3535,0.3335,0.3595,0.376,0.3435,0.382,0.377,0.3645,0.425,0.3995,0.3925,0.4495,0.35,0.4355,0.4195,0.478,0.4445,0.47,0.447,0.5325,0.497,0.4635,0.449,0.467,0.534,0.4415,0.482,0.612,0.582,0.537,0.5915,0.6765,0.64,0.439,0.6015,0.4785,0.649,0.6335,0.61,0.6595,0.56,0.6425,0.6725,0.674,0.685,0.642,0.601,0.769,0.5785,0.769,0.7035,0.796,0.834,0.7125,0.724,0.7325,0.7585,0.8495,0.6515,0.8215,0.7165,0.874,0.9905,0.8105,0.967,0.6975,1.195,1.1935,1.107,1.0635,0.9035,1.114,1.103,1.1155,1.0515,1.012,1.137,1.1335,1.136,1.206,1.063,1.121,1.114,1.213,1.0045,1.044,1.1345,1.161,1.2315,1.1625,1.168,1.2525,1.3315,1.3525,1.3325,1.1435,1.288,1.38,1.278,1.3075,1.1785,1.375,1.4065,1.4025,1.5175,1.394,1.2205,1.636,1.561,1.4325,1.3385,1.2465,1.212,1.304,1.6785,1.622,1.494,1.6525,1.528,1.5905,1.6275,1.3695,1.6085,1.587,1.8375,1.607,1.7005,1.872,1.8385,1.685,2.198,1.9525,1.56,2.555,2.302,0.029,0.0375,0.0325,0.0435,0.059,0.071,0.0685,0.084,0.106,0.1075,0.096,0.1255,0.151,0.1415,0.2015,0.221,0.2345,0.2325,0.2485,0.348,0.32,0.282,0.3245,0.316,0.3625,0.279,0.3685,0.397,0.413,0.418,0.3705,0.409,0.434,0.411,0.462,0.4925,0.3715,0.411,0.3685,0.4155,0.544,0.4845,0.4565,0.4545,0.6245,0.5225,0.5495,0.542,0.519,0.5215,0.5445,0.6795,0.545,0.5575,0.5155,0.6115,0.7765,0.5395,0.5545,1.019,0.6455,0.601,0.7555,0.608,0.617,0.599,0.6665,0.7835,0.793,0.82,0.8145,0.84,0.8315,0.8995,0.8965,0.6405,0.852,0.9595,0.99,1.0095,1.0375,0.8775,0.755,0.9945,1.068,0.8455,0.869,0.907,0.805,1.0225,0.847,1.114,1.859,0.814,0.9615,1.0025,0.93,0.9335,0.9555,0.9955,1.0265,1.1915,1.1025,1.0165,1.1775,1.1175,1.1835,1.056,1.0145,1.3305,1.052,1.0565,0.923,1.027,1.0195,0.858,1.1125,1.3745,1.2065,1.1325,1.2645,1.1565,1.369,1.39,1.1345,1.464,1.202,1.31,1.415,1.346,1.363,1.2975,1.3645,1.7025,1.519,1.454,1.583,1.5535,1.74,1.751,2.273,1.6465,1.219,1.652,2.0045,1.6755,2.103,1.9965,1.187,1.978,1.8795,2.124,1.931,2.236,2.505,2.0065,2.657,0.4645,0.0765,0.0685,0.0835,0.1125,0.1075,0.1055,0.1375,0.1145,0.139,0.2085,0.1595,0.2015,0.179,0.1945,0.2005,0.215,0.1785,0.196,0.1875,0.196,0.213,0.2445,0.217,0.213,0.2385,0.218,0.2465,0.2025,0.218,0.256,0.2105,0.2615,0.2175,0.302,0.228,0.3265,0.284,0.2725,0.2985,0.2675,0.2645,0.33,0.328,0.3335,0.3055,0.301,0.428,0.378,0.3685,0.438,0.448,0.4005,0.4305,0.372,0.466,0.3705,0.4785,0.346,0.411,0.48,0.393,0.5035,0.441,0.492,0.5435,0.4725,0.461,0.4965,0.5125,0.553,0.594,0.6765,0.5795,0.6615,0.5695,0.6215,0.6015,0.594,0.551,0.625,0.711,0.6965,0.5825,0.663,0.6965,0.842,0.694,0.81,0.5745,0.7675,0.6025,0.5765,0.7145,0.717,0.8655,0.7265,0.7715,0.8,0.7285,0.5945,0.7895,0.651,0.8745,0.7535,0.7305,0.8705,0.7395,0.7665,0.7905,0.8205,0.688,1.224,0.974,0.8735,0.8495,0.796,0.744,0.751,0.794,0.9795,0.873,0.7665,0.8965,0.857,1.078,0.892,1.4395,0.7955,0.858,0.9145,1.171,1.0505,1.1135,1.409,1.065,0.7995,0.7715,1.187,0.8855,0.98,1.026,1.1315,1.014,1.12,1.04,0.8895,0.9595,1.238,0.9755,0.9025,1.076,1.0835,0.871,1.244,1.0265,0.9605,1.137,1.0,1.004,1.128,1.054,1.023,1.129,1.118,1.115,1.2815,1.2555,1.293,1.1295,1.082,1.15,1.264,1.2035,1.3205,1.272,1.062,1.0605,1.093,1.101,1.4595,1.211,1.1935,0.986,1.521,1.3135,1.1835,1.401,1.5075,1.16,1.662,1.5365,1.542,1.567,1.3595,1.6445,1.4545,1.3585,1.548,1.337,1.491,1.5615,1.0145,1.7375,1.7925,1.7635,1.556,2.21,2.141,1.5345,1.614,1.9335,2.173,1.737,1.7375,2.1275,2.25,2.5085,2.255,0.014,0.0515,0.2215,0.1985,0.232,0.3155,0.247,0.3025,0.329,0.2815,0.3425,0.2825,0.304,0.2905,0.3895,0.389,0.4405,0.369,0.4565,0.4465,0.4475,0.501,0.436,0.4615,0.4315,0.3685,0.649,0.459,0.566,0.542,0.4725,0.6435,0.526,0.573,0.5525,0.6855,0.556,0.9365,0.5625,0.559,0.7205,0.7045,0.7575,0.7405,0.84,0.793,0.8745,0.8715,0.9875,1.08,0.9155,1.165,0.953,0.906,0.8725,1.151,0.9905,1.04,0.945,1.259,0.9515,1.201,1.289,1.1005,0.8425,1.049,1.012,1.0725,1.4105,1.136,1.1005,1.1105,1.1315,1.271,1.336,1.1345,1.308,1.5335,1.546,1.539,1.318,1.5245,1.466,1.3825,1.175,1.5555,1.7835,1.374,1.389,1.7025,1.5265,1.519,1.741,1.6115,1.7825,1.684,1.858,1.675,2.1055,2.21,1.8725,1.893,0.0475,0.101,0.121,0.117,0.1465,0.168,0.18,0.1775,0.1985,0.2,0.2205,0.1845,0.2225,0.2175,0.2165,0.243,0.237,0.2365,0.257,0.308,0.252,0.281,0.2225,0.304,0.28,0.313,0.317,0.303,0.3295,0.367,0.3245,0.4195,0.457,0.4,0.4255,0.4365,0.393,0.499,0.6325,0.4285,0.4905,0.474,0.536,0.464,0.6025,0.4615,0.624,0.4715,0.602,0.616,0.5955,0.559,0.6025,0.6065,0.4725,0.4745,0.6635,0.5705,0.646,0.5545,0.845,0.664,0.615,0.654,0.707,0.5965,0.6255,0.555,0.8365,0.657,0.836,0.742,0.8195,0.972,0.6275,0.7205,0.686,0.686,0.543,0.717,0.7625,0.639,0.816,0.7815,0.7665,0.5585,0.765,0.9005,0.8225,0.7235,0.849,0.743,0.863,0.802,0.831,0.7805,0.795,0.848,0.833,0.867,0.7405,0.867,0.7965,1.116,0.78,0.985,0.9965,0.8015,0.807,1.0305,0.839,0.9615,0.834,1.0335,0.798,0.7095,0.913,1.207,1.022,0.9015,0.9,0.838,0.959,0.8335,0.9735,1.13,0.9165,0.9175,1.0645,1.059,1.194,0.9775,0.884,0.8025,0.991,0.974,1.434,0.983,1.0725,1.2405,1.022,1.1155,0.9225,1.1185,1.2795,1.0175,1.224,1.154,1.3255,1.221,1.139,1.066,1.2215,0.8565,0.924,1.266,1.0405,1.1165,1.0845,1.0985,1.1955,1.362,1.044,1.0915,1.1965,1.1745,1.233,1.2695,1.489,1.4345,1.2435,1.2615,1.2235,1.247,1.707,1.1605,1.286,1.5595,1.4745,1.226,1.33,1.2415,1.3375,1.363,1.2215,1.371,1.337,1.274,1.488,1.3835,1.274,1.043,1.3485,1.4405,1.3195,1.5175,1.5505,1.6375,1.443,1.289,1.2915,1.3725,1.2975,1.2585,1.39,1.32,1.566,1.619,1.2835,1.382,1.4535,1.6075,1.3735,1.638,1.569,1.8565,1.773,1.58,2.009,1.9805,1.5805,2.015,1.8275,2.125,1.445,2.1425,1.9425,1.747,2.119,1.938,2.2205,2.5155,2.7795,0.2315,0.394,0.597,0.564,0.5965,0.414,0.422,0.82,0.434,0.7615,0.5795,0.5205,0.968,0.869,0.8795,1.0615,0.9225,1.007,0.9605,0.65,0.7545,0.771,1.0835,0.8935,1.358,1.1185,1.205,1.3405,1.02,1.025,0.8145,1.48,0.953,0.8915,1.3005,1.038,1.2525,1.15,1.1135,1.1155,1.0865,1.254,1.169,1.172,1.1845,1.0725,1.3815,1.6125,1.7395,1.5475,1.4245,1.3405,1.4465,1.5845,1.679,1.726,1.5395,2.073,1.5865,2.069,0.027,0.0555,0.1275,0.1885,0.2,0.197,0.223,0.2215,0.2665,0.269,0.2805,0.3305,0.2815,0.2805,0.311,0.368,0.3405,0.3245,0.38,0.335,0.3215,0.358,0.445,0.487,0.4535,0.568,0.5155,0.457,0.5095,0.5,0.494,0.5605,0.599,0.7045,0.7005,0.7125,0.6725,0.5785,0.5185,0.6375,0.5805,0.6645,0.581,0.596,0.6965,0.6095,0.677,0.7245,0.575,0.632,1.0015,0.9455,0.6555,0.6255,0.8145,0.687,0.7995,0.804,0.7495,0.599,0.7075,0.738,0.837,0.832,0.8305,0.667,0.9355,0.8445,0.895,0.8715,1.0005,0.832,0.9415,0.88,0.803,0.785,0.9765,0.992,1.013,0.876,1.099,0.8715,0.8245,0.7955,0.857,0.8265,0.925,1.0465,0.7905,0.8295,0.886,0.97,1.1805,0.99,1.133,1.071,0.862,1.1155,1.031,1.1185,0.957,1.1785,1.0285,1.0875,1.255,1.219,1.035,1.195,1.062,1.5145,1.309,1.0295,1.0485,1.331,1.1565,1.09,1.354,0.984,1.2525,1.2695,1.3405,1.2895,1.195,1.273,1.229,1.1895,1.1145,1.3115,1.1,1.1285,1.4195,1.6195,1.32,1.5535,1.238,1.189,1.375,1.412,1.348,1.1445,1.4415,1.218,1.2475,1.2695,1.429,1.4015,1.312,1.473,1.623,1.534,1.3845,1.6915,1.5715,1.773,1.4405,1.6245,1.866,1.6705,2.081,1.6195,1.8325,2.173,0.029,0.0195,0.0465,0.1195,0.0895,0.0935,0.1115,0.1195,0.097,0.133,0.1745,0.1695,0.17,0.1605,0.271,0.2185,0.196,0.226,0.22,0.3,0.2875,0.316,0.3675,0.3675,0.346,0.4955,0.4675,0.522,0.441,0.5185,0.653,0.5915,0.4825,0.6855,0.6335,0.6875,0.741,0.6355,0.8395,0.9205,0.8215,0.9255,0.8295,1.063,1.115,0.837,0.982,1.112,1.3485,1.5655,0.086,0.1065,0.132,0.1075,0.1745,0.152,0.2755,0.293,0.368,0.312,0.336,0.355,0.379,0.378,0.4655,0.594,0.4935,0.4595,0.4955,0.4325,0.689,0.5465,0.617,0.538,0.7815,0.6355,0.6435,0.5115,0.738,0.699,0.7655,0.7505,0.844,0.8705,0.668,0.83,0.8685,0.839,1.079,0.919,1.1345,0.909,1.2435,1.056,1.2095,1.238,1.644,1.7725,1.2525,1.761,1.3165,1.914,2.1,1.6895,2.032,0.66,0.7455,0.616,0.2825,0.3355,0.651,0.361,0.4775,0.3465,0.25,0.66,0.315,0.276,0.5395,1.04,1.041,1.6885,2.1835,1.2105,0.166,0.452,0.7185,0.232,0.0105,0.0275,0.1445,0.282,0.608,0.433,0.3295,0.4555,0.4585,0.275,0.335,0.4265,0.5765,0.127,1.1505,0.8915,0.97,0.18,0.6985,0.4585,0.4005,0.7145,0.932,0.966,0.9995,1.496,0.5065,0.1735,0.3945,0.4665,0.401,0.3455,0.5205,0.4935,0.3245,0.106,0.4415,1.966,0.3025,0.1225,0.879,1.2275,1.2715,1.806,0.8085,1.3905,1.8465,2.1995,1.817,0.897,0.3245,1.136,0.2735,0.2405,0.1545,0.0145,0.1185,0.0295,0.0385,0.799,1.1845,0.925,1.098,1.071,0.975,1.283,1.0595,0.9195,0.9295,0.8085,0.1485,0.4475,0.6865,0.6335,0.547,0.585,0.927,1.4935,1.0405,0.0605,0.3675,0.099,0.233,0.3625,0.081,1.596,1.4005,1.406,0.9245,1.36,0.43,0.1365,0.14,0.4215,1.5765,1.2125,1.6305,1.142,1.366,1.539,0.445,0.5725,0.19,0.764,0.853,0.5885,0.7875,1.035,1.352,0.958,0.797,0.857,0.2235,0.086,0.692,0.2225,0.7575,0.729,0.903,1.0965,0.903,1.229,1.106,1.171,0.444,0.4755,0.388,0.3785,0.486,0.5265,0.2275,0.5105,0.3105,0.543,0.2225,0.998,1.5455,1.2675,1.1,1.4285,1.793,0.6185,0.5825,0.7485,0.406,1.1005,0.869,0.955,0.9215,1.456,0.893,2.226,1.2125,1.0675,0.8525,0.8615,1.162,0.8705,1.598,1.406,2.033,1.259,1.0935,1.1805,0.7175,0.7575,0.487,0.5705,0.6905,0.4475,0.347,0.352,0.7145,0.3315,0.18,0.974,0.185,0.563,0.3215,0.179,0.702,0.8045,0.8075,0.578,0.385,0.585,0.6375,0.813,0.5735,0.94,1.008,0.775,1.1445,0.6,0.515,0.5795,0.384,0.2965,0.137,0.991,0.925,0.805,0.8915,0.769,0.6185,0.6515,0.2875,0.5545,0.7365,0.306,1.496,0.3605,0.3045,0.592,0.7995,0.5825,0.3435,0.906,0.6295,1.5515,2.526,1.103,0.957,0.86,1.62,1.407,0.9,0.1455,0.075,0.0235,1.247,1.7265,0.8025,0.764,0.8645,0.4715,0.631,0.9455,1.3185,1.7265,1.081,0.9025,1.1415,1.027,1.3445,1.449,0.7745,0.7895,1.3665,1.0295,1.031,1.065,1.885,1.2425,1.969,0.9445,0.354,0.023,0.3575,0.5965,0.383,0.2065,0.382,0.6315,0.3285,0.2165,0.0305,0.024,0.7365,0.6005,0.4285,0.496,0.6195,0.567,0.6505,0.4495,0.4485,0.241,0.197,0.1425,1.2395,1.0385,0.972,1.3315,0.762,0.775,0.437,0.6985,0.435,0.1295,0.8435,1.25,1.017,1.411,1.208,1.0705,0.5895,0.537,0.15,0.651,0.28,0.287,0.3525,0.12,0.494,0.4765,0.2145,0.595,0.4805,0.321,0.096,0.9315,0.782,0.0945,0.6695,0.213,0.525,1.312,1.087,1.523,1.319,0.579,0.8175,0.17,0.796,0.197,0.5255,0.879,0.4625,0.4565,0.528,0.5835,0.884,0.096,0.1855,0.27,0.463,0.198,0.282,0.0995,0.092,0.0625,0.073,0.071,0.036,1.099,0.5905,0.768,0.413,0.8505,0.6915,0.709,0.3755,0.8185,0.227,0.8245,1.1825,1.122,1.6115,1.2985,1.3,1.161,1.489,1.008,0.441,0.742,0.7,0.271,0.8565,0.8975,0.6105,0.1925,0.6635,1.235,0.7615,0.592,0.39,0.7565,0.57,0.2865,0.2935,0.567,0.6245,0.8415,0.7775,0.989,0.6905,0.2,0.109,0.127,0.2885,0.18,0.144,0.4665,0.33,0.3625,0.34,0.365,0.5,0.6265,0.5555,0.6015,0.53,0.6315,0.7715,0.6125,0.872,0.8115,0.8795,0.983,1.145,1.09,1.262,1.185,1.4405,1.332,1.1405,1.201,1.33,1.362,1.647,1.4995,1.6225,1.786,1.791,1.925,1.689,1.659,2.0475,1.6015,2.0165,0.04,0.0565,0.064,0.0875,0.106,0.1315,0.126,0.155,0.149,0.185,0.2545,0.237,0.279,0.3205,0.3335,0.3885,0.545,0.4165,0.495,0.4775,0.468,0.4555,0.46,0.4155,0.4215,0.474,0.486,0.5735,0.468,0.5135,0.6215,0.494,0.6005,0.646,0.7945,0.812,0.828,0.681,0.889,0.7345,0.964,0.963,0.995,0.8585,0.948,0.888,0.9045,1.046,1.1775,1.0765,1.0255,0.9325,1.235,1.247,1.1495,1.1575,1.327,1.2,1.2705,1.2155,1.3245,1.3555,1.127,1.1075,1.4255,1.147,1.286,1.596,1.297,1.251,1.5105,1.4415,1.6385,1.933,1.71,1.8495,1.742,1.7975,2.381,2.398,2.1945,0.049,0.1055,0.1045,0.163,0.2275,0.219,0.3645,0.3265,0.3515,0.3465,0.407,0.4215,0.3755,0.5335,0.442,0.1315,0.5205,0.5535,0.5445,0.554,0.512,0.583,0.5765,0.723,0.5395,0.625,0.5925,0.633,0.832,0.778,0.7865,0.778,0.636,0.8435,0.648,0.784,0.908,1.02,0.811,0.897,0.852,0.938,0.6955,0.861,1.004,1.0115,1.1005,1.108,0.852,1.9875,1.079,1.055,1.198,1.084,1.103,1.1,1.1015,1.3835,1.115,1.085,1.3165,1.3415,1.027,1.1845,1.192,1.285,1.1805,1.2655,1.2895,1.407,1.122,1.4465,1.349,1.269,1.68,1.551,1.4775,1.529,1.7585,1.523,1.7315,1.51,1.88,2.012,2.201,0.0315,0.04,0.0635,0.0985,0.167,0.2015,0.183,0.187,0.1795,0.2065,0.3,0.2295,0.343,0.244,0.3075,0.3415,0.271,0.91,0.268,0.2885,0.3,0.326,0.358,0.314,0.4025,0.3645,0.4235,0.4305,0.3505,0.486,0.471,0.415,0.5195,0.5895,0.5215,0.4475,0.5585,0.596,0.5385,0.7665,0.516,0.7355,0.531,0.607,0.7055,0.6445,0.6315,0.7845,0.9475,0.712,0.89,0.912,0.656,0.936,0.6975,1.1465,0.825,0.72,0.8215,1.017,0.8975,1.2255,0.9865,0.844,0.8465,0.885,0.6735,0.8755,0.9235,0.977,1.0305,1.05,1.1145,0.877,1.285,1.3065,0.8725,1.0265,1.1605,1.0125,1.096,1.205,1.221,1.0005,1.1355,1.3135,1.1955,1.098,1.139,1.2265,1.042,1.368,1.446,1.4045,1.463,1.711,1.74,1.757,1.601,2.165,2.3305,0.0545,0.0725,0.0925,0.183,0.1525,0.187,0.232,0.196,0.2545,0.2625,0.362,0.4445,0.511,0.589,0.5945,0.529,0.872,0.77,0.8435,0.818,0.8035,0.8115,0.782,0.8745,0.984,0.95,1.1735,0.976,1.0785,1.057,1.11,1.142,1.1255,1.1045,1.3405,1.082,1.254,1.2005,1.243,1.286,1.1665,1.144,1.385,1.309,1.527,1.6385,1.691,1.719,1.52,1.613,2.2355,2.3235,0.1245,0.1285,0.181,0.1585,0.1965,0.198,0.1855,0.2145,0.3245,0.2625,0.371,0.298,0.336,0.447,0.4085,0.587,0.494,0.614,0.5075,0.5445,0.6115,0.5605,0.521,0.5775,0.5935,0.597,0.9505,0.616,0.8315,0.8725,0.8155,0.619,0.7595,0.742,0.804,0.664,0.745,0.728,0.777,0.8765,0.9895,0.9655,0.9065,1.049,0.9705,0.92,0.9525,0.7855,0.855,1.142,0.755,0.9745,1.2015,1.1295,0.9205,1.056,1.34,0.9625,1.0475,1.0915,1.167,0.9995,1.0485,1.2735,1.0625,1.1545,1.194,1.1215,0.9335,1.198,0.9545,1.3585,1.2075,1.217,1.217,0.92,0.8765,1.2615,1.2795,1.167,1.1885,1.3765,1.292,1.1795,1.29,1.2075,1.297,1.4585,1.151,1.197,1.539,1.676,1.6645,1.528,1.494,1.277,1.5965,1.3805,1.2565,1.527,1.4005,1.4405,1.482,1.2345,1.3435,1.533,1.8445,1.825,2.0885,2.087,1.884,0.305,0.4295,0.449,1.029,0.981,0.5745,0.693,1.183,0.7905,1.224,0.775,1.2705,1.406,0.873,0.9415,1.007,1.0835,0.9845,1.5245,1.024,1.281,1.148,1.136,1.2235,1.3695,1.006,1.307,1.463,1.2905,1.4265,1.7885,1.6135,2.2305,2.2635,0.074,0.2075,0.237,0.2665,0.215,0.253,0.309,0.3535,0.335,0.3875,0.365,0.4045,0.372,0.3965,0.5225,0.456,0.44,0.507,0.5285,0.572,0.6625,0.6445,0.6275,0.6885,0.6835,0.6855,0.6755,0.783,0.894,0.768,0.95,0.871,0.9785,0.7425,0.737,0.9175,0.8785,1.1275,0.9765,0.974,0.853,0.991,0.9125,0.921,0.869,0.8665,1.089,0.9615,1.145,0.907,1.1635,1.1955,1.31,1.251,1.145,1.154,1.1335,1.2015,1.5595,1.3165,1.403,1.204,1.2895,1.5175,1.3575,1.3645,1.494,1.664,1.545,1.5855,1.666,1.724,1.908,2.073,0.0515,0.057,0.0925,0.204,0.3075,0.262,0.458,0.491,0.474,0.5805,0.728,0.622,0.706,0.5685,0.9385,0.655,0.9465,0.9115,0.942,1.193,1.461,1.489,0.1115,0.1235,0.2815,0.226,0.2285,0.2995,0.361,0.3045,0.3975,0.379,0.4995,0.7775,0.4705,0.751,0.714,0.6995,0.952,0.8755,0.9215,0.8285,1.206,1.2865,1.1945,1.1655,1.2155,1.1735,1.532,1.5105,0.5565,0.547,0.5165,0.764,0.488,0.6905,0.1835,0.97,0.033,0.059,0.046,1.3235,0.8465,1.047,1.2785,1.8745,1.978,1.367,1.742,0.513,0.4085,0.56,0.635,0.875,0.397,0.806,0.204,0.1165,0.17,1.194,0.765,1.151,0.6765,1.571,1.153,1.114,0.9125,0.872,0.792,0.606,0.2265,0.3955,0.61,0.539,0.657,0.2505,0.102,0.2685,0.551,1.307,0.9185,1.707,0.8805,0.4965,0.632,2.2695,0.9235,0.0345,1.3315,0.72,1.032,1.017,0.98,0.1495,0.1515,0.478,0.578,0.6835,0.2725,1.511,1.3035,1.3955,0.1975,0.116,0.523,0.1565,0.384,1.0055,1.1345,1.0835,0.868,1.0915,1.271,1.4985,0.388,1.2355,1.402,0.6025,0.2775,0.973,0.753,1.3765,0.375,0.4135,0.56,0.3915,1.2765,0.96,0.3745,0.696,1.2955,1.2315,1.383,0.2225,1.156,1.477,1.5715,0.858,1.4995,1.467,1.092,1.8165,1.6365,0.906,1.213,1.06,0.161,0.459,0.533,0.6175,0.366,0.4195,0.15,0.8745,0.655,0.484,1.4435,0.8775,1.3105,1.2515,0.9085,1.1705,0.528,0.6625,0.4335,0.3595,1.107,0.8595,0.7735,0.4365,0.501,0.6735,0.415,0.4775,0.5555,0.6445,1.428,1.6195,0.81,1.0385,0.9715,0.868,1.522,1.1255,0.7085,1.0185,0.72,0.6175,0.738,0.597,1.156,1.22,0.7485,1.0735,1.229,1.146,1.145,1.1055,1.67,1.555,0.9285,0.8085,1.057,0.2595,0.438,0.099,0.5085,1.166,0.507,0.6345,0.314,0.4385,0.195,0.451,0.084,0.0245,1.4685,0.7765,0.5425,0.5885,0.3375,0.2565,0.163,0.8095,1.3655,0.967,0.6855,0.314,0.7005,0.4895,0.45,0.259,0.382,0.4435,1.6935,1.71,0.8575,0.97,0.59,0.34,0.385,0.515,0.59,0.51,0.3005,0.683,0.468,0.4075,0.584,0.829,0.4545,0.4385,0.407,0.3085,0.239,0.106,1.178,1.073,0.306,0.301,0.7585,0.171,0.3625,0.0905,1.0885,1.097,1.278,0.44,0.163,0.522,0.9715,0.588,0.5325,0.127,0.0815,0.1635,0.1,0.0265,0.9955,0.6605,0.721,0.1485,0.487,0.955,0.873,1.65,1.1285,1.1115,0.9745,1.4605,1.0105,1.0765,1.2225,1.616,0.559,0.2205,0.44,0.879,0.6815,0.5795,0.209,0.224,0.1765,0.196,0.192,0.3095,0.313,0.3595,0.3855,0.5785,0.674,0.5265,1.0315,0.9,1.0165,1.2495,1.1685,1.148,1.089,1.0325,1.172,1.3715,1.5055,1.9045,2.4925,0.0805,0.111,0.152,0.199,0.219,0.2155,0.2565,0.257,0.2505,0.279,0.378,0.456,0.5055,0.4705,0.643,0.513,0.569,0.578,0.596,0.5725,0.6435,0.8115,0.7115,0.9155,0.8815,0.931,1.065,1.1385,1.234,1.2635,1.0745,1.403,1.1325,1.1115,1.255,1.437,1.3635,1.1435,1.4545,1.478,1.6885,2.0725,1.787,1.523,0.021,0.0455,0.2435,0.2675,0.258,0.2985,0.411,0.38,0.4385,0.4015,0.4485,0.4155,0.7095,0.637,1.1155,0.599,0.5345,0.627,0.7465,0.985,0.85,0.838,0.812,0.7615,0.87,0.9835,0.929,1.0155,0.939,1.164,1.214,1.1345,1.233,1.0815,1.179,1.1635,1.1545,1.3345,1.469,1.492,1.5585,1.3275,1.6615,1.492,1.7365,1.6605,1.348,1.7405,1.7185,0.041,0.0655,0.097,0.131,0.1695,0.192,0.1765,0.1735,0.1785,0.2055,0.2345,0.2305,0.314,0.33,0.2775,0.405,0.309,0.4385,0.396,0.3615,0.514,0.4265,0.384,0.4865,0.4355,0.498,0.494,0.594,0.528,0.5585,0.636,0.567,0.6615,0.658,0.78,0.6075,0.7025,0.8725,1.2365,1.186,0.7745,0.8875,0.8725,0.8515,0.895,0.886,0.9265,0.8295,0.907,1.041,0.9355,1.058,0.7955,1.0805,0.928,1.059,1.157,1.088,0.776,1.043,1.1415,1.3335,1.273,1.1835,1.2135,1.0315,1.3695,1.3745,1.463,1.6275,1.3875,1.46,1.2835,1.3765,1.6465,1.265,1.56,1.6,2.333,0.028,0.226,0.2855,0.325,0.514,0.5755,0.5805,0.678,0.8035,0.913,0.8675,1.0425,1.14,1.3475,1.0735,1.4335,1.304,0.9505,1.385,1.12,1.2645,1.275,1.27,1.583,1.4355,1.42,1.5955,1.89,2.037,0.084,0.1005,0.1285,0.1345,0.1195,0.1895,0.257,0.2745,0.342,0.344,0.3275,0.4035,0.4075,0.4975,0.3685,0.4175,0.4425,0.4225,0.426,0.511,0.573,0.6385,0.657,0.8735,0.781,0.6765,0.769,0.6235,0.7315,0.8075,0.737,0.654,0.7915,0.753,0.717,0.783,0.872,0.983,1.034,0.9855,0.7635,0.9895,0.9365,0.964,1.0455,1.081,1.012,1.122,1.1245,1.1345,1.0805,1.0835,1.242,1.3915,1.085,0.966,1.0855,1.3025,1.15,1.217,1.306,1.273,1.4865,1.3655,1.276,1.2075,1.281,1.4275,1.155,1.35,1.3685,1.431,1.261,1.764,1.278,1.217,1.46,1.5575,1.527,1.4985,1.885,1.432,1.4385,1.564,2.14,1.792,2.548,0.1585,0.4015,0.465,0.2885,0.6475,0.6485,0.452,0.4915,0.9145,0.976,0.7865,0.775,0.8415,0.681,0.6145,1.1655,1.764,1.1215,1.167,1.0375,1.223,1.124,1.2635,1.238,1.4045,1.37,1.8185,1.7525,0.101,0.106,0.1865,0.2575,0.3225,0.32,0.4155,0.3935,0.4775,0.452,0.5065,0.5525,0.565,0.699,0.6055,0.7905,0.702,0.675,0.475,0.612,0.705,0.728,0.846,0.86,0.8875,0.898,0.6545,0.795,1.0535,0.927,0.701,0.8275,0.9845,0.9565,0.86,1.1785,1.2205,0.9685,1.107,1.1305,1.2555,1.177,1.2425,1.09,1.072,1.129,1.2075,1.227,1.472,1.5785,1.4755,1.5545,1.593,1.8995,1.361,1.4575,2.381,0.0495,0.1455,0.129,0.2255,0.359,0.3505,0.5885,0.623,0.5375,0.5655,0.8625,1.137,0.221,0.2425,0.386,0.5315,0.562,0.836,0.9275,0.8815,1.03,1.1685,1.059,1.127,1.1665,1.541,1.7825,1.543,1.47,0.6335,0.754,0.4485,0.8105,0.22,0.4425,0.3555,0.034,0.185,0.79,0.8255,0.62,0.9525,0.955,0.91,0.416,0.2045,0.515,1.604,0.3435,0.3005,0.8255,0.785,0.9685,0.731,0.4405,0.1785,1.373,0.9765,1.018,1.082,1.423,0.655,1.4155,0.1385,0.782,0.717,0.6355,0.3975,0.656,0.744,0.447,0.578,0.1405,0.708,0.1385,0.8615,1.626,0.478,1.1775,0.286,1.058,1.5415,0.817,0.152,0.335,0.4915,0.9705,0.9315,1.221,0.7365,0.97,0.8085,0.4075,0.6295,1.053,1.829,1.1765,0.8765,0.0145,0.476,0.813,0.018,1.064,0.853,0.219,0.0635,0.6275,0.441,0.458,0.4745,0.216,0.6765,0.757,0.7325,1.0285,0.712,1.066,1.3065,0.8545,0.125,0.2225,0.6955,0.266,0.7105,0.487,0.728,0.6675,2.0495,1.498,1.597,0.8605,0.541,0.058,0.0645,0.77,0.541,0.739,0.205,0.8695,0.6555,1.0905,0.6295,1.0985,0.991,0.0615,0.8005,0.6175,0.772,0.7155,0.717,0.6355,0.18,0.5805,0.556,0.591,0.686,1.016,1.438,1.807,1.777,2.173,2.1505,0.118,0.099,0.1365,0.1295,0.164,0.2875,0.277,0.248,0.252,0.4015,0.3905,0.409,0.4095,0.494,0.4905,0.599,0.6245,0.7745,0.9795,0.8915,0.874,1.262,1.21,1.37,1.759,1.3855,1.8065,1.5945,1.4545,2.003,2.2385,0.032,0.0785,0.134,0.2075,0.2235,0.34,0.5365,0.635,0.562,0.597,0.5815,0.7545,0.98,1.0035,1.133,1.146,1.142,1.12,1.011,1.131,1.065,1.181,1.382,1.4385,1.2275,1.4415,1.473,1.658,1.7475,0.096,0.1445,0.1965,0.196,0.2155,0.2805,0.334,0.366,0.4965,0.651,0.5125,0.6925,0.5995,0.74,0.702,0.672,0.811,0.9585,0.858,0.9575,0.926,0.873,0.998,0.6655,1.003,1.234,1.025,1.2935,1.0565,1.7855,1.2255,1.2565,1.159,1.403,1.826,1.7715,0.6125,0.658,0.911,1.1955,1.336,1.36,0.2325,0.317,0.318,0.2645,0.4055,0.524,0.464,0.439,0.5805,0.622,0.7805,0.772,0.741,0.8265,0.7275,0.7005,0.9355,1.1815,1.0145,1.1,1.218,0.874,0.984,1.0105,1.0765,1.337,1.3705,1.7015,1.2435,1.4135,1.073,1.477,1.2915,1.3105,1.4915,1.494,1.1965,1.672,1.9125,1.907,1.79,1.7495,0.3415,0.519,0.5305,1.2825,0.7165,1.6645,0.837,0.9645,1.1,1.2415,1.3185,1.3455,0.1185,0.197,0.4725,0.4495,0.557,0.516,0.709,0.7385,0.7935,0.9205,0.7655,0.824,0.83,0.985,0.997,0.914,1.13,1.0805,1.105,1.229,1.2355,1.2395,1.357,1.402,1.359,1.669,1.7405,1.51,1.6645,2.0505,0.124,0.14,0.1695,0.218,0.384,0.393,0.3805,0.4895,0.5135,0.4495,0.8025,1.053,0.9945,0.3175,0.344,0.2845,0.3035,0.499,0.577,0.615,0.791,0.8395,0.8675,0.887,0.966,1.176,1.0945,1.9485],\"sizemode\":\"diameter\",\"sizeref\":0.1},\"mode\":\"markers\",\"x\":[0.455,0.35,0.53,0.44,0.33,0.425,0.53,0.545,0.475,0.55,0.525,0.43,0.49,0.535,0.47,0.5,0.355,0.44,0.365,0.45,0.355,0.38,0.565,0.55,0.615,0.56,0.58,0.59,0.605,0.575,0.58,0.68,0.665,0.68,0.705,0.465,0.54,0.45,0.575,0.355,0.45,0.55,0.24,0.205,0.21,0.39,0.47,0.46,0.325,0.525,0.52,0.4,0.485,0.47,0.405,0.5,0.445,0.47,0.245,0.505,0.45,0.505,0.53,0.425,0.52,0.475,0.565,0.595,0.475,0.31,0.555,0.4,0.595,0.57,0.605,0.6,0.595,0.6,0.555,0.615,0.575,0.62,0.52,0.595,0.58,0.57,0.625,0.56,0.46,0.575,0.565,0.555,0.595,0.625,0.695,0.665,0.535,0.47,0.47,0.475,0.36,0.55,0.53,0.53,0.605,0.52,0.545,0.5,0.51,0.435,0.495,0.465,0.435,0.425,0.545,0.53,0.49,0.44,0.56,0.405,0.47,0.385,0.515,0.37,0.36,0.27,0.375,0.385,0.7,0.71,0.595,0.44,0.325,0.35,0.265,0.425,0.305,0.345,0.405,0.375,0.565,0.55,0.65,0.56,0.475,0.49,0.46,0.28,0.175,0.17,0.59,0.605,0.635,0.605,0.565,0.515,0.575,0.645,0.58,0.575,0.605,0.605,0.61,0.725,0.65,0.725,0.725,0.68,0.705,0.68,0.695,0.53,0.525,0.52,0.235,0.36,0.315,0.315,0.225,0.58,0.57,0.64,0.56,0.62,0.645,0.62,0.63,0.63,0.63,0.585,0.615,0.61,0.58,0.355,0.51,0.5,0.505,0.64,0.56,0.585,0.45,0.5,0.5,0.53,0.42,0.44,0.4,0.435,0.525,0.37,0.49,0.335,0.415,0.5,0.485,0.55,0.45,0.405,0.47,0.415,0.445,0.47,0.49,0.445,0.425,0.5,0.39,0.365,0.58,0.53,0.555,0.565,0.625,0.275,0.44,0.295,0.075,0.13,0.11,0.16,0.565,0.27,0.23,0.3,0.33,0.35,0.32,0.36,0.305,0.345,0.33,0.59,0.595,0.575,0.6,0.56,0.56,0.545,0.635,0.59,0.54,0.57,0.53,0.245,0.27,0.46,0.52,0.35,0.47,0.45,0.64,0.59,0.62,0.63,0.63,0.655,0.66,0.61,0.635,0.515,0.535,0.36,0.455,0.485,0.515,0.535,0.53,0.495,0.44,0.535,0.54,0.565,0.61,0.565,0.6,0.295,0.275,0.28,0.49,0.37,0.405,0.54,0.37,0.36,0.47,0.2,0.165,0.645,0.55,0.57,0.63,0.56,0.595,0.62,0.63,0.45,0.635,0.45,0.58,0.33,0.265,0.19,0.385,0.265,0.335,0.355,0.32,0.51,0.36,0.36,0.5,0.4,0.3,0.235,0.74,0.62,0.6,0.59,0.62,0.565,0.575,0.62,0.62,0.505,0.46,0.49,0.525,0.34,0.375,0.61,0.61,0.585,0.57,0.58,0.635,0.7,0.675,0.645,0.745,0.685,0.605,0.59,0.65,0.6,0.62,0.63,0.58,0.58,0.63,0.69,0.65,0.66,0.68,0.7,0.685,0.675,0.63,0.585,0.565,0.61,0.605,0.535,0.485,0.47,0.545,0.455,0.54,0.46,0.49,0.465,0.415,0.475,0.47,0.365,0.345,0.39,0.5,0.47,0.535,0.585,0.485,0.515,0.435,0.515,0.44,0.525,0.45,0.59,0.555,0.57,0.59,0.585,0.58,0.545,0.605,0.62,0.63,0.63,0.63,0.545,0.67,0.49,0.49,0.29,0.26,0.58,0.61,0.6,0.56,0.575,0.57,0.6,0.565,0.545,0.44,0.5,0.36,0.385,0.39,0.5,0.36,0.335,0.505,0.395,0.41,0.56,0.565,0.565,0.605,0.565,0.725,0.675,0.665,0.565,0.645,0.575,0.64,0.36,0.415,0.525,0.38,0.585,0.24,0.22,0.255,0.175,0.67,0.655,0.68,0.675,0.53,0.515,0.43,0.52,0.545,0.53,0.465,0.665,0.735,0.66,0.7,0.575,0.57,0.58,0.63,0.585,0.55,0.625,0.54,0.57,0.59,0.58,0.655,0.655,0.625,0.625,0.64,0.605,0.615,0.555,0.58,0.62,0.62,0.6,0.625,0.6,0.56,0.585,0.56,0.56,0.68,0.455,0.49,0.31,0.275,0.27,0.4,0.28,0.325,0.345,0.21,0.36,0.365,0.2,0.235,0.175,0.155,0.57,0.57,0.385,0.53,0.46,0.47,0.435,0.47,0.465,0.52,0.29,0.275,0.375,0.5,0.44,0.42,0.445,0.38,0.32,0.255,0.205,0.565,0.555,0.65,0.615,0.56,0.48,0.485,0.5,0.525,0.66,0.66,0.52,0.44,0.515,0.475,0.545,0.47,0.35,0.485,0.435,0.28,0.41,0.45,0.45,0.59,0.57,0.61,0.61,0.56,0.585,0.58,0.63,0.625,0.55,0.645,0.46,0.41,0.495,0.52,0.55,0.45,0.405,0.51,0.37,0.525,0.66,0.535,0.575,0.55,0.605,0.605,0.56,0.535,0.385,0.39,0.47,0.515,0.425,0.345,0.485,0.37,0.35,0.44,0.195,0.325,0.495,0.45,0.415,0.47,0.32,0.31,0.235,0.345,0.485,0.5,0.5,0.465,0.525,0.425,0.38,0.53,0.34,0.475,0.43,0.46,0.47,0.36,0.355,0.38,0.355,0.44,0.51,0.325,0.62,0.59,0.33,0.45,0.445,0.33,0.48,0.46,0.475,0.255,0.335,0.47,0.31,0.37,0.295,0.555,0.615,0.58,0.585,0.65,0.535,0.415,0.38,0.45,0.395,0.455,0.485,0.55,0.45,0.475,0.5,0.53,0.49,0.49,0.52,0.54,0.5,0.45,0.37,0.37,0.485,0.435,0.535,0.51,0.565,0.535,0.535,0.525,0.59,0.5,0.255,0.43,0.38,0.165,0.315,0.155,0.28,0.43,0.395,0.385,0.48,0.445,0.395,0.4,0.415,0.315,0.345,0.36,0.295,0.325,0.375,0.28,0.355,0.35,0.275,0.29,0.25,0.18,0.15,0.16,0.555,0.555,0.525,0.465,0.49,0.4,0.48,0.505,0.52,0.525,0.545,0.52,0.505,0.525,0.51,0.52,0.52,0.535,0.445,0.53,0.36,0.535,0.52,0.53,0.53,0.66,0.52,0.535,0.695,0.51,0.485,0.605,0.58,0.65,0.62,0.615,0.605,0.57,0.57,0.585,0.55,0.54,0.64,0.61,0.545,0.59,0.345,0.55,0.53,0.53,0.485,0.385,0.455,0.49,0.53,0.505,0.49,0.465,0.47,0.56,0.505,0.515,0.385,0.215,0.55,0.515,0.495,0.505,0.6,0.57,0.485,0.47,0.575,0.58,0.515,0.53,0.44,0.52,0.425,0.46,0.45,0.425,0.37,0.515,0.405,0.28,0.48,0.44,0.52,0.505,0.49,0.235,0.255,0.315,0.325,0.335,0.35,0.35,0.36,0.365,0.37,0.38,0.385,0.385,0.395,0.395,0.4,0.41,0.415,0.415,0.425,0.44,0.445,0.445,0.45,0.47,0.475,0.48,0.485,0.49,0.495,0.5,0.505,0.525,0.54,0.54,0.545,0.55,0.55,0.55,0.555,0.565,0.57,0.57,0.575,0.59,0.59,0.595,0.595,0.595,0.595,0.6,0.6,0.6,0.605,0.605,0.615,0.615,0.615,0.615,0.62,0.62,0.625,0.625,0.63,0.635,0.635,0.635,0.64,0.65,0.655,0.655,0.66,0.66,0.67,0.675,0.675,0.68,0.685,0.695,0.73,0.205,0.24,0.24,0.255,0.255,0.265,0.28,0.295,0.3,0.3,0.305,0.315,0.315,0.32,0.325,0.33,0.335,0.335,0.34,0.34,0.345,0.37,0.37,0.375,0.385,0.41,0.41,0.41,0.415,0.42,0.42,0.425,0.425,0.43,0.43,0.435,0.435,0.44,0.44,0.445,0.445,0.45,0.45,0.45,0.45,0.455,0.455,0.46,0.46,0.465,0.465,0.465,0.465,0.47,0.47,0.475,0.475,0.48,0.48,0.48,0.48,0.485,0.49,0.495,0.495,0.5,0.5,0.5,0.5,0.505,0.505,0.505,0.505,0.51,0.51,0.51,0.51,0.51,0.515,0.515,0.525,0.525,0.53,0.53,0.53,0.535,0.535,0.535,0.55,0.55,0.56,0.565,0.57,0.57,0.57,0.57,0.57,0.575,0.575,0.58,0.58,0.58,0.58,0.58,0.59,0.59,0.59,0.595,0.595,0.595,0.595,0.595,0.605,0.605,0.605,0.61,0.61,0.615,0.62,0.625,0.625,0.625,0.625,0.625,0.63,0.63,0.63,0.635,0.635,0.64,0.64,0.64,0.645,0.645,0.645,0.645,0.645,0.645,0.645,0.65,0.65,0.65,0.655,0.655,0.66,0.66,0.66,0.66,0.67,0.675,0.675,0.68,0.69,0.69,0.695,0.705,0.71,0.715,0.715,0.735,0.765,0.185,0.195,0.195,0.2,0.225,0.245,0.25,0.265,0.275,0.28,0.285,0.3,0.315,0.32,0.34,0.37,0.375,0.375,0.385,0.4,0.405,0.41,0.41,0.42,0.42,0.42,0.425,0.43,0.435,0.435,0.44,0.445,0.445,0.445,0.45,0.45,0.45,0.45,0.45,0.46,0.47,0.47,0.475,0.475,0.48,0.49,0.5,0.5,0.5,0.5,0.505,0.51,0.51,0.51,0.51,0.515,0.52,0.52,0.52,0.52,0.525,0.525,0.525,0.525,0.53,0.535,0.54,0.545,0.545,0.545,0.55,0.55,0.55,0.56,0.56,0.56,0.56,0.565,0.565,0.565,0.57,0.57,0.57,0.575,0.575,0.575,0.575,0.575,0.575,0.575,0.575,0.58,0.58,0.58,0.58,0.58,0.58,0.585,0.585,0.59,0.6,0.6,0.6,0.6,0.605,0.605,0.605,0.605,0.61,0.61,0.61,0.615,0.615,0.615,0.62,0.62,0.62,0.625,0.625,0.63,0.63,0.635,0.64,0.645,0.645,0.65,0.65,0.655,0.655,0.66,0.665,0.665,0.67,0.685,0.685,0.69,0.69,0.69,0.695,0.7,0.7,0.7,0.705,0.71,0.715,0.715,0.72,0.72,0.72,0.725,0.73,0.735,0.745,0.75,0.755,0.755,0.78,0.185,0.245,0.25,0.25,0.275,0.305,0.31,0.315,0.315,0.325,0.33,0.33,0.335,0.34,0.345,0.345,0.35,0.35,0.36,0.365,0.365,0.365,0.37,0.37,0.375,0.375,0.375,0.375,0.375,0.375,0.38,0.38,0.385,0.385,0.385,0.385,0.39,0.395,0.395,0.395,0.4,0.405,0.41,0.42,0.425,0.425,0.425,0.43,0.43,0.435,0.44,0.45,0.455,0.455,0.455,0.46,0.46,0.46,0.465,0.47,0.47,0.47,0.475,0.475,0.475,0.48,0.48,0.48,0.495,0.495,0.495,0.5,0.5,0.5,0.5,0.5,0.5,0.505,0.505,0.505,0.515,0.515,0.515,0.52,0.52,0.525,0.525,0.53,0.53,0.53,0.53,0.535,0.535,0.535,0.535,0.54,0.54,0.545,0.545,0.545,0.545,0.55,0.55,0.55,0.55,0.55,0.555,0.555,0.555,0.555,0.56,0.56,0.56,0.56,0.565,0.565,0.565,0.565,0.57,0.57,0.57,0.57,0.57,0.57,0.575,0.575,0.575,0.58,0.58,0.58,0.585,0.585,0.585,0.585,0.585,0.585,0.585,0.59,0.59,0.59,0.595,0.595,0.6,0.6,0.6,0.6,0.6,0.6,0.605,0.605,0.605,0.605,0.605,0.61,0.61,0.61,0.61,0.61,0.61,0.615,0.615,0.615,0.615,0.615,0.615,0.615,0.62,0.62,0.62,0.62,0.625,0.625,0.625,0.625,0.63,0.63,0.63,0.63,0.63,0.635,0.635,0.635,0.635,0.635,0.64,0.64,0.645,0.645,0.645,0.65,0.65,0.65,0.65,0.65,0.655,0.655,0.655,0.655,0.66,0.66,0.665,0.67,0.67,0.675,0.685,0.695,0.7,0.705,0.705,0.705,0.71,0.72,0.72,0.725,0.73,0.735,0.745,0.75,0.815,0.14,0.23,0.365,0.365,0.37,0.375,0.385,0.395,0.4,0.4,0.405,0.405,0.405,0.41,0.415,0.425,0.43,0.44,0.44,0.44,0.45,0.455,0.46,0.47,0.47,0.47,0.475,0.475,0.475,0.48,0.485,0.485,0.485,0.495,0.505,0.505,0.515,0.515,0.515,0.52,0.525,0.53,0.53,0.545,0.55,0.55,0.56,0.56,0.57,0.575,0.575,0.58,0.58,0.585,0.59,0.59,0.59,0.595,0.6,0.6,0.605,0.605,0.605,0.61,0.615,0.62,0.62,0.62,0.625,0.625,0.63,0.63,0.63,0.63,0.63,0.635,0.635,0.64,0.645,0.645,0.645,0.65,0.65,0.65,0.65,0.655,0.655,0.66,0.665,0.67,0.67,0.67,0.68,0.68,0.69,0.7,0.7,0.705,0.72,0.725,0.74,0.75,0.21,0.285,0.295,0.3,0.305,0.335,0.35,0.355,0.355,0.36,0.36,0.36,0.365,0.37,0.375,0.38,0.38,0.385,0.385,0.385,0.39,0.39,0.39,0.41,0.41,0.415,0.425,0.425,0.435,0.435,0.45,0.45,0.455,0.46,0.46,0.465,0.465,0.47,0.475,0.475,0.475,0.48,0.48,0.48,0.485,0.49,0.49,0.495,0.495,0.5,0.5,0.5,0.51,0.515,0.515,0.515,0.515,0.515,0.52,0.52,0.525,0.525,0.525,0.525,0.525,0.53,0.53,0.53,0.53,0.535,0.54,0.54,0.54,0.54,0.54,0.54,0.54,0.545,0.545,0.545,0.55,0.55,0.55,0.55,0.55,0.555,0.555,0.555,0.56,0.56,0.56,0.565,0.565,0.565,0.565,0.57,0.57,0.57,0.57,0.57,0.57,0.575,0.575,0.575,0.575,0.575,0.575,0.575,0.575,0.575,0.575,0.575,0.58,0.58,0.58,0.58,0.585,0.59,0.59,0.59,0.595,0.595,0.595,0.595,0.6,0.6,0.6,0.6,0.6,0.6,0.6,0.605,0.605,0.605,0.605,0.605,0.605,0.61,0.61,0.61,0.61,0.61,0.61,0.61,0.61,0.615,0.615,0.62,0.62,0.62,0.62,0.62,0.62,0.62,0.62,0.62,0.62,0.625,0.625,0.625,0.625,0.625,0.625,0.63,0.63,0.63,0.63,0.63,0.635,0.635,0.635,0.635,0.64,0.64,0.64,0.645,0.645,0.645,0.645,0.645,0.645,0.645,0.645,0.645,0.645,0.645,0.65,0.65,0.65,0.65,0.655,0.655,0.655,0.655,0.66,0.66,0.66,0.66,0.665,0.665,0.665,0.665,0.665,0.67,0.67,0.67,0.67,0.67,0.675,0.675,0.68,0.68,0.685,0.685,0.69,0.7,0.7,0.705,0.71,0.71,0.71,0.71,0.72,0.72,0.72,0.725,0.73,0.735,0.74,0.75,0.75,0.77,0.775,0.275,0.375,0.375,0.39,0.435,0.445,0.455,0.455,0.455,0.465,0.465,0.485,0.485,0.485,0.49,0.5,0.515,0.515,0.525,0.525,0.53,0.535,0.535,0.545,0.545,0.545,0.55,0.55,0.57,0.575,0.575,0.58,0.585,0.585,0.6,0.6,0.605,0.605,0.61,0.615,0.62,0.625,0.625,0.635,0.635,0.64,0.645,0.65,0.65,0.655,0.655,0.665,0.675,0.685,0.695,0.695,0.705,0.72,0.72,0.73,0.185,0.24,0.31,0.34,0.35,0.365,0.365,0.365,0.39,0.405,0.41,0.41,0.415,0.415,0.415,0.42,0.43,0.435,0.435,0.435,0.435,0.445,0.465,0.47,0.475,0.485,0.485,0.485,0.495,0.495,0.495,0.5,0.505,0.505,0.51,0.515,0.515,0.515,0.52,0.52,0.52,0.52,0.52,0.525,0.525,0.525,0.53,0.53,0.53,0.53,0.535,0.54,0.54,0.54,0.545,0.545,0.55,0.55,0.555,0.555,0.555,0.555,0.555,0.56,0.565,0.565,0.565,0.565,0.565,0.565,0.57,0.57,0.57,0.57,0.57,0.575,0.575,0.575,0.575,0.575,0.575,0.575,0.575,0.575,0.575,0.58,0.58,0.58,0.58,0.58,0.595,0.6,0.6,0.6,0.6,0.605,0.605,0.605,0.61,0.61,0.61,0.61,0.615,0.615,0.615,0.615,0.62,0.62,0.62,0.62,0.62,0.62,0.625,0.625,0.625,0.625,0.625,0.625,0.63,0.635,0.635,0.635,0.635,0.635,0.635,0.64,0.64,0.64,0.64,0.64,0.64,0.645,0.645,0.645,0.65,0.65,0.65,0.655,0.655,0.655,0.66,0.66,0.665,0.665,0.665,0.67,0.675,0.675,0.68,0.68,0.685,0.69,0.695,0.7,0.7,0.7,0.705,0.72,0.72,0.725,0.75,0.76,0.135,0.16,0.21,0.28,0.28,0.285,0.29,0.29,0.29,0.32,0.325,0.335,0.35,0.35,0.355,0.36,0.36,0.375,0.375,0.395,0.405,0.415,0.425,0.43,0.435,0.45,0.46,0.47,0.47,0.475,0.505,0.505,0.505,0.51,0.515,0.525,0.53,0.53,0.545,0.55,0.56,0.565,0.57,0.58,0.59,0.6,0.605,0.61,0.625,0.66,0.255,0.27,0.28,0.285,0.32,0.325,0.385,0.395,0.4,0.405,0.415,0.42,0.44,0.445,0.45,0.455,0.46,0.46,0.465,0.465,0.475,0.48,0.485,0.49,0.5,0.5,0.505,0.525,0.535,0.535,0.54,0.54,0.545,0.55,0.55,0.565,0.58,0.58,0.585,0.595,0.6,0.61,0.61,0.62,0.645,0.65,0.665,0.685,0.69,0.705,0.71,0.72,0.72,0.73,0.775,0.505,0.53,0.505,0.405,0.415,0.5,0.425,0.47,0.4,0.37,0.5,0.41,0.375,0.49,0.585,0.595,0.675,0.665,0.62,0.325,0.455,0.525,0.385,0.13,0.18,0.31,0.375,0.48,0.455,0.425,0.475,0.435,0.29,0.385,0.47,0.5,0.4,0.62,0.595,0.585,0.32,0.52,0.44,0.44,0.565,0.56,0.59,0.57,0.68,0.45,0.32,0.46,0.47,0.455,0.415,0.465,0.46,0.415,0.27,0.445,0.745,0.4,0.28,0.55,0.58,0.61,0.62,0.56,0.64,0.69,0.715,0.71,0.55,0.375,0.61,0.38,0.37,0.335,0.165,0.285,0.19,0.215,0.595,0.645,0.575,0.57,0.58,0.595,0.595,0.625,0.535,0.55,0.495,0.32,0.445,0.52,0.495,0.47,0.49,0.58,0.645,0.575,0.215,0.43,0.26,0.37,0.405,0.27,0.68,0.65,0.645,0.57,0.615,0.42,0.275,0.29,0.42,0.625,0.55,0.66,0.565,0.595,0.63,0.43,0.455,0.33,0.515,0.495,0.485,0.535,0.58,0.625,0.555,0.55,0.59,0.355,0.275,0.505,0.37,0.555,0.505,0.56,0.595,0.57,0.6,0.56,0.585,0.46,0.46,0.415,0.435,0.475,0.465,0.355,0.46,0.38,0.47,0.36,0.585,0.655,0.6,0.57,0.645,0.65,0.51,0.52,0.495,0.43,0.59,0.55,0.585,0.58,0.62,0.59,0.72,0.635,0.61,0.545,0.57,0.6,0.52,0.635,0.67,0.695,0.655,0.62,0.6,0.51,0.525,0.44,0.485,0.495,0.435,0.405,0.42,0.5,0.385,0.33,0.58,0.325,0.475,0.38,0.34,0.525,0.52,0.535,0.475,0.415,0.495,0.48,0.52,0.46,0.58,0.59,0.55,0.65,0.465,0.455,0.47,0.435,0.35,0.315,0.595,0.58,0.575,0.535,0.515,0.505,0.505,0.4,0.49,0.53,0.395,0.665,0.415,0.43,0.475,0.525,0.48,0.42,0.59,0.515,0.695,0.8,0.61,0.565,0.56,0.655,0.64,0.59,0.31,0.255,0.17,0.67,0.71,0.56,0.505,0.525,0.45,0.515,0.59,0.7,0.72,0.635,0.555,0.575,0.585,0.61,0.645,0.545,0.55,0.66,0.57,0.6,0.63,0.695,0.65,0.72,0.56,0.42,0.18,0.405,0.5,0.435,0.34,0.43,0.535,0.415,0.36,0.175,0.155,0.525,0.525,0.44,0.45,0.485,0.47,0.515,0.42,0.455,0.37,0.33,0.3,0.625,0.61,0.625,0.635,0.5,0.53,0.445,0.585,0.44,0.29,0.555,0.655,0.58,0.625,0.62,0.64,0.505,0.5,0.31,0.505,0.42,0.4,0.425,0.31,0.465,0.465,0.35,0.52,0.475,0.41,0.26,0.575,0.565,0.26,0.53,0.34,0.52,0.635,0.61,0.66,0.635,0.465,0.515,0.335,0.515,0.345,0.465,0.54,0.475,0.445,0.5,0.5,0.55,0.275,0.35,0.37,0.42,0.35,0.395,0.325,0.275,0.235,0.25,0.25,0.2,0.585,0.445,0.5,0.44,0.515,0.52,0.5,0.425,0.51,0.37,0.54,0.615,0.565,0.645,0.615,0.605,0.59,0.645,0.57,0.47,0.5,0.52,0.39,0.52,0.54,0.46,0.355,0.49,0.63,0.5,0.49,0.44,0.515,0.475,0.42,0.4,0.45,0.52,0.505,0.495,0.54,0.48,0.33,0.285,0.3,0.31,0.34,0.375,0.415,0.415,0.415,0.42,0.425,0.465,0.465,0.47,0.47,0.475,0.48,0.5,0.505,0.525,0.54,0.545,0.565,0.58,0.59,0.59,0.595,0.6,0.6,0.6,0.605,0.625,0.63,0.64,0.64,0.655,0.66,0.66,0.675,0.675,0.69,0.695,0.7,0.73,0.205,0.225,0.23,0.275,0.28,0.28,0.295,0.31,0.315,0.34,0.37,0.38,0.39,0.405,0.415,0.44,0.44,0.44,0.44,0.45,0.45,0.455,0.46,0.46,0.46,0.465,0.465,0.475,0.475,0.48,0.5,0.5,0.505,0.515,0.525,0.525,0.53,0.53,0.53,0.54,0.55,0.555,0.57,0.57,0.575,0.58,0.585,0.59,0.595,0.595,0.595,0.6,0.6,0.6,0.61,0.615,0.615,0.615,0.62,0.62,0.62,0.625,0.625,0.625,0.63,0.63,0.63,0.635,0.635,0.645,0.645,0.65,0.67,0.69,0.69,0.695,0.695,0.7,0.705,0.765,0.77,0.22,0.275,0.29,0.33,0.355,0.375,0.415,0.425,0.425,0.43,0.44,0.44,0.46,0.46,0.465,0.475,0.475,0.485,0.49,0.49,0.495,0.5,0.5,0.505,0.51,0.51,0.515,0.52,0.545,0.545,0.545,0.545,0.55,0.55,0.555,0.565,0.57,0.57,0.57,0.575,0.58,0.585,0.585,0.59,0.59,0.59,0.595,0.595,0.595,0.6,0.605,0.615,0.615,0.615,0.615,0.62,0.62,0.625,0.625,0.625,0.63,0.63,0.63,0.645,0.645,0.645,0.65,0.65,0.65,0.65,0.65,0.66,0.665,0.67,0.67,0.675,0.68,0.68,0.7,0.7,0.725,0.725,0.735,0.74,0.75,0.19,0.21,0.25,0.29,0.335,0.34,0.345,0.355,0.36,0.37,0.375,0.375,0.385,0.385,0.395,0.4,0.405,0.405,0.405,0.405,0.41,0.41,0.415,0.42,0.42,0.43,0.445,0.45,0.45,0.455,0.46,0.46,0.475,0.48,0.485,0.485,0.49,0.505,0.505,0.51,0.515,0.515,0.515,0.525,0.525,0.525,0.525,0.535,0.545,0.55,0.55,0.55,0.55,0.55,0.555,0.555,0.56,0.56,0.565,0.57,0.575,0.58,0.58,0.58,0.585,0.585,0.585,0.585,0.59,0.59,0.595,0.6,0.6,0.6,0.6,0.61,0.61,0.615,0.62,0.62,0.625,0.625,0.63,0.63,0.63,0.63,0.64,0.64,0.64,0.64,0.64,0.65,0.65,0.66,0.66,0.675,0.7,0.705,0.71,0.72,0.725,0.24,0.255,0.275,0.32,0.325,0.33,0.36,0.375,0.375,0.39,0.45,0.455,0.46,0.495,0.5,0.5,0.52,0.52,0.525,0.535,0.54,0.54,0.57,0.57,0.58,0.58,0.59,0.59,0.59,0.595,0.6,0.6,0.605,0.62,0.625,0.625,0.625,0.63,0.63,0.635,0.645,0.645,0.65,0.655,0.655,0.665,0.695,0.72,0.72,0.72,0.735,0.74,0.31,0.315,0.32,0.325,0.335,0.37,0.37,0.375,0.4,0.41,0.425,0.435,0.445,0.46,0.465,0.47,0.475,0.495,0.5,0.5,0.505,0.505,0.505,0.51,0.51,0.52,0.52,0.53,0.53,0.535,0.54,0.54,0.545,0.545,0.55,0.55,0.55,0.56,0.56,0.575,0.575,0.575,0.58,0.58,0.58,0.58,0.58,0.58,0.585,0.59,0.59,0.59,0.595,0.595,0.6,0.6,0.6,0.6,0.6,0.605,0.605,0.605,0.61,0.61,0.61,0.61,0.615,0.615,0.615,0.615,0.62,0.62,0.625,0.625,0.625,0.625,0.625,0.63,0.63,0.63,0.63,0.635,0.635,0.635,0.635,0.635,0.64,0.64,0.645,0.645,0.645,0.65,0.65,0.655,0.655,0.66,0.66,0.665,0.67,0.67,0.67,0.67,0.67,0.68,0.68,0.685,0.69,0.715,0.72,0.735,0.745,0.32,0.43,0.43,0.485,0.49,0.5,0.505,0.51,0.525,0.535,0.535,0.535,0.555,0.555,0.56,0.59,0.595,0.595,0.595,0.61,0.61,0.62,0.625,0.635,0.635,0.64,0.64,0.645,0.655,0.67,0.68,0.7,0.73,0.75,0.255,0.375,0.375,0.39,0.39,0.395,0.42,0.435,0.435,0.44,0.45,0.45,0.455,0.46,0.47,0.475,0.495,0.495,0.5,0.515,0.52,0.52,0.525,0.535,0.535,0.54,0.55,0.55,0.56,0.565,0.57,0.57,0.575,0.575,0.575,0.575,0.58,0.585,0.59,0.59,0.59,0.595,0.595,0.595,0.6,0.6,0.61,0.615,0.615,0.62,0.625,0.63,0.63,0.635,0.635,0.635,0.64,0.64,0.65,0.65,0.655,0.655,0.655,0.66,0.665,0.675,0.68,0.68,0.685,0.695,0.7,0.71,0.73,0.755,0.225,0.23,0.255,0.355,0.425,0.425,0.455,0.46,0.495,0.51,0.52,0.525,0.53,0.53,0.545,0.55,0.575,0.58,0.595,0.6,0.645,0.66,0.29,0.3,0.37,0.375,0.38,0.395,0.41,0.415,0.425,0.44,0.44,0.465,0.47,0.51,0.525,0.525,0.55,0.56,0.575,0.575,0.585,0.615,0.62,0.63,0.63,0.67,0.675,0.685,0.485,0.46,0.46,0.535,0.465,0.51,0.335,0.55,0.18,0.215,0.2,0.625,0.55,0.585,0.645,0.71,0.7,0.655,0.665,0.47,0.425,0.54,0.505,0.535,0.43,0.55,0.34,0.275,0.335,0.64,0.55,0.64,0.545,0.64,0.605,0.605,0.56,0.57,0.525,0.505,0.35,0.45,0.51,0.49,0.505,0.38,0.27,0.37,0.5,0.645,0.565,0.67,0.59,0.47,0.51,0.72,0.55,0.2,0.65,0.525,0.565,0.61,0.545,0.325,0.31,0.45,0.49,0.505,0.385,0.62,0.635,0.665,0.335,0.295,0.48,0.32,0.43,0.565,0.6,0.585,0.555,0.57,0.62,0.63,0.425,0.64,0.675,0.5,0.385,0.52,0.52,0.64,0.44,0.42,0.45,0.42,0.64,0.57,0.41,0.485,0.61,0.59,0.665,0.345,0.635,0.695,0.69,0.555,0.65,0.635,0.655,0.69,0.695,0.55,0.61,0.595,0.3,0.435,0.455,0.48,0.43,0.435,0.3,0.575,0.505,0.455,0.64,0.56,0.645,0.595,0.565,0.655,0.48,0.495,0.4,0.41,0.595,0.625,0.52,0.465,0.475,0.5,0.46,0.485,0.465,0.525,0.655,0.69,0.55,0.58,0.59,0.565,0.665,0.62,0.55,0.605,0.535,0.51,0.53,0.495,0.575,0.63,0.59,0.605,0.645,0.62,0.605,0.615,0.66,0.71,0.565,0.57,0.6,0.41,0.45,0.275,0.485,0.62,0.48,0.505,0.4,0.45,0.35,0.44,0.265,0.165,0.705,0.535,0.49,0.48,0.395,0.375,0.345,0.55,0.635,0.575,0.545,0.385,0.51,0.44,0.45,0.39,0.425,0.45,0.66,0.685,0.585,0.54,0.49,0.43,0.455,0.495,0.48,0.47,0.415,0.49,0.47,0.445,0.51,0.52,0.475,0.455,0.435,0.39,0.375,0.285,0.58,0.58,0.41,0.41,0.54,0.33,0.44,0.28,0.59,0.61,0.61,0.455,0.33,0.44,0.54,0.475,0.46,0.31,0.255,0.335,0.295,0.19,0.545,0.495,0.5,0.305,0.475,0.515,0.545,0.74,0.565,0.56,0.545,0.645,0.575,0.62,0.605,0.605,0.475,0.365,0.46,0.53,0.48,0.455,0.35,0.37,0.34,0.35,0.35,0.39,0.395,0.415,0.43,0.48,0.49,0.49,0.56,0.56,0.58,0.58,0.59,0.595,0.6,0.61,0.63,0.64,0.65,0.71,0.74,0.25,0.28,0.325,0.35,0.36,0.365,0.37,0.375,0.38,0.395,0.43,0.44,0.465,0.465,0.48,0.485,0.49,0.495,0.5,0.505,0.52,0.52,0.525,0.55,0.555,0.555,0.575,0.6,0.61,0.61,0.61,0.615,0.62,0.625,0.625,0.625,0.635,0.64,0.64,0.66,0.665,0.715,0.72,0.725,0.165,0.21,0.355,0.4,0.4,0.4,0.435,0.44,0.45,0.465,0.47,0.47,0.475,0.485,0.505,0.51,0.52,0.53,0.535,0.55,0.555,0.555,0.555,0.56,0.575,0.585,0.59,0.595,0.6,0.6,0.61,0.615,0.62,0.625,0.625,0.64,0.64,0.645,0.65,0.655,0.655,0.66,0.67,0.69,0.7,0.7,0.71,0.715,0.72,0.215,0.24,0.26,0.32,0.33,0.335,0.35,0.35,0.36,0.36,0.365,0.38,0.4,0.4,0.4,0.425,0.43,0.435,0.435,0.445,0.45,0.455,0.46,0.475,0.475,0.475,0.48,0.495,0.5,0.505,0.515,0.525,0.53,0.53,0.535,0.535,0.54,0.55,0.565,0.57,0.57,0.57,0.575,0.575,0.575,0.575,0.58,0.58,0.58,0.58,0.585,0.585,0.595,0.6,0.6,0.6,0.6,0.6,0.6,0.62,0.625,0.625,0.625,0.625,0.625,0.63,0.635,0.65,0.65,0.65,0.65,0.655,0.655,0.66,0.66,0.675,0.685,0.715,0.735,0.175,0.37,0.395,0.42,0.455,0.495,0.51,0.515,0.545,0.555,0.58,0.59,0.6,0.61,0.615,0.615,0.615,0.62,0.63,0.64,0.64,0.655,0.655,0.66,0.665,0.67,0.69,0.715,0.735,0.27,0.285,0.295,0.3,0.3,0.36,0.37,0.39,0.435,0.44,0.44,0.445,0.465,0.465,0.47,0.475,0.475,0.475,0.485,0.49,0.515,0.52,0.525,0.525,0.53,0.53,0.53,0.53,0.535,0.535,0.545,0.545,0.55,0.55,0.55,0.555,0.575,0.575,0.585,0.585,0.585,0.59,0.595,0.595,0.595,0.595,0.6,0.6,0.605,0.605,0.61,0.61,0.615,0.62,0.62,0.62,0.62,0.625,0.625,0.63,0.63,0.64,0.645,0.65,0.65,0.65,0.65,0.65,0.65,0.65,0.65,0.66,0.66,0.665,0.67,0.67,0.67,0.675,0.675,0.675,0.685,0.685,0.705,0.705,0.71,0.725,0.78,0.235,0.35,0.36,0.38,0.38,0.43,0.465,0.47,0.485,0.495,0.5,0.505,0.51,0.51,0.515,0.55,0.575,0.605,0.615,0.615,0.625,0.625,0.635,0.65,0.65,0.67,0.695,0.705,0.275,0.285,0.36,0.385,0.4,0.43,0.435,0.45,0.475,0.475,0.485,0.51,0.515,0.52,0.525,0.53,0.53,0.53,0.53,0.53,0.535,0.535,0.555,0.555,0.56,0.56,0.565,0.575,0.575,0.575,0.58,0.58,0.585,0.585,0.59,0.595,0.615,0.615,0.62,0.62,0.62,0.625,0.625,0.63,0.63,0.645,0.65,0.65,0.655,0.665,0.67,0.675,0.675,0.695,0.695,0.705,0.74,0.205,0.305,0.32,0.355,0.425,0.425,0.45,0.515,0.52,0.525,0.555,0.61,0.35,0.38,0.46,0.465,0.475,0.565,0.57,0.57,0.595,0.605,0.615,0.62,0.625,0.68,0.68,0.68,0.71,0.5,0.545,0.46,0.535,0.335,0.425,0.41,0.17,0.335,0.52,0.53,0.5,0.615,0.575,0.57,0.455,0.37,0.445,0.675,0.385,0.375,0.56,0.55,0.57,0.485,0.41,0.335,0.655,0.565,0.57,0.55,0.63,0.475,0.655,0.32,0.525,0.525,0.5,0.44,0.49,0.545,0.45,0.515,0.33,0.525,0.295,0.545,0.645,0.45,0.61,0.38,0.565,0.67,0.54,0.29,0.41,0.46,0.56,0.575,0.62,0.515,0.56,0.5,0.435,0.495,0.595,0.76,0.615,0.565,0.14,0.445,0.525,0.16,0.635,0.575,0.38,0.245,0.48,0.455,0.455,0.455,0.355,0.52,0.54,0.52,0.56,0.52,0.615,0.645,0.565,0.295,0.375,0.525,0.395,0.5,0.47,0.58,0.5,0.725,0.65,0.67,0.55,0.49,0.235,0.235,0.52,0.475,0.53,0.35,0.555,0.505,0.54,0.525,0.55,0.55,0.235,0.525,0.475,0.53,0.525,0.53,0.465,0.315,0.465,0.485,0.49,0.515,0.555,0.61,0.68,0.69,0.695,0.72,0.27,0.27,0.295,0.295,0.315,0.375,0.38,0.385,0.4,0.415,0.415,0.42,0.44,0.45,0.475,0.485,0.495,0.525,0.565,0.58,0.585,0.6,0.63,0.645,0.655,0.665,0.67,0.67,0.685,0.7,0.72,0.185,0.245,0.315,0.36,0.375,0.415,0.455,0.48,0.485,0.51,0.52,0.555,0.585,0.585,0.585,0.61,0.61,0.615,0.62,0.625,0.625,0.635,0.64,0.66,0.66,0.66,0.68,0.69,0.72,0.275,0.33,0.33,0.365,0.365,0.42,0.435,0.435,0.44,0.485,0.495,0.51,0.52,0.54,0.54,0.55,0.56,0.575,0.575,0.575,0.58,0.58,0.59,0.6,0.62,0.625,0.625,0.625,0.625,0.625,0.625,0.635,0.645,0.645,0.69,0.695,0.515,0.545,0.62,0.63,0.63,0.64,0.37,0.395,0.4,0.41,0.455,0.48,0.485,0.5,0.515,0.52,0.545,0.545,0.55,0.55,0.55,0.555,0.56,0.565,0.57,0.575,0.585,0.59,0.595,0.6,0.61,0.615,0.625,0.625,0.63,0.63,0.635,0.635,0.635,0.65,0.67,0.675,0.675,0.68,0.7,0.71,0.715,0.72,0.42,0.48,0.48,0.51,0.515,0.56,0.56,0.57,0.605,0.625,0.64,0.65,0.3,0.35,0.455,0.46,0.49,0.5,0.54,0.55,0.55,0.555,0.57,0.58,0.58,0.585,0.585,0.595,0.6,0.615,0.63,0.63,0.635,0.645,0.65,0.655,0.655,0.67,0.67,0.695,0.695,0.77,0.28,0.33,0.35,0.37,0.43,0.435,0.44,0.475,0.475,0.48,0.56,0.585,0.585,0.385,0.39,0.39,0.405,0.475,0.5,0.515,0.52,0.55,0.56,0.565,0.59,0.6,0.625,0.71],\"y\":[0.365,0.265,0.42,0.365,0.255,0.3,0.415,0.425,0.37,0.44,0.38,0.35,0.38,0.405,0.355,0.4,0.28,0.34,0.295,0.32,0.28,0.275,0.44,0.415,0.48,0.44,0.45,0.445,0.475,0.425,0.47,0.56,0.525,0.55,0.55,0.355,0.475,0.355,0.445,0.29,0.335,0.425,0.175,0.15,0.15,0.295,0.37,0.375,0.245,0.425,0.41,0.32,0.36,0.36,0.31,0.4,0.35,0.385,0.19,0.4,0.345,0.405,0.41,0.325,0.4,0.355,0.44,0.495,0.39,0.235,0.425,0.32,0.475,0.48,0.45,0.475,0.475,0.47,0.425,0.475,0.445,0.51,0.425,0.475,0.45,0.465,0.465,0.44,0.355,0.45,0.425,0.44,0.465,0.495,0.56,0.535,0.435,0.375,0.37,0.375,0.265,0.435,0.435,0.415,0.47,0.41,0.43,0.4,0.39,0.395,0.395,0.36,0.32,0.35,0.41,0.415,0.375,0.34,0.43,0.305,0.365,0.295,0.425,0.265,0.28,0.195,0.275,0.29,0.535,0.54,0.48,0.35,0.26,0.26,0.2,0.33,0.23,0.255,0.325,0.285,0.445,0.45,0.52,0.455,0.375,0.38,0.35,0.205,0.13,0.13,0.475,0.5,0.515,0.485,0.45,0.405,0.46,0.485,0.455,0.46,0.465,0.485,0.485,0.56,0.545,0.57,0.575,0.57,0.56,0.515,0.55,0.395,0.435,0.405,0.16,0.26,0.21,0.245,0.16,0.475,0.48,0.51,0.45,0.475,0.51,0.49,0.48,0.5,0.48,0.46,0.48,0.485,0.45,0.275,0.4,0.405,0.41,0.5,0.45,0.46,0.345,0.4,0.4,0.435,0.335,0.34,0.3,0.34,0.415,0.28,0.365,0.25,0.325,0.405,0.395,0.405,0.35,0.3,0.36,0.305,0.325,0.35,0.375,0.355,0.38,0.37,0.29,0.27,0.465,0.415,0.445,0.44,0.505,0.215,0.35,0.225,0.055,0.1,0.09,0.12,0.425,0.2,0.175,0.23,0.255,0.26,0.245,0.275,0.245,0.27,0.25,0.47,0.455,0.46,0.495,0.45,0.45,0.46,0.505,0.475,0.475,0.44,0.42,0.195,0.2,0.38,0.45,0.275,0.39,0.36,0.525,0.5,0.485,0.505,0.515,0.54,0.53,0.5,0.525,0.425,0.415,0.285,0.355,0.395,0.38,0.415,0.435,0.4,0.355,0.435,0.435,0.505,0.475,0.455,0.495,0.215,0.205,0.21,0.395,0.28,0.305,0.435,0.28,0.27,0.36,0.145,0.12,0.515,0.41,0.435,0.485,0.44,0.455,0.47,0.485,0.355,0.535,0.35,0.455,0.255,0.21,0.145,0.31,0.205,0.265,0.275,0.255,0.4,0.295,0.28,0.38,0.325,0.22,0.175,0.6,0.465,0.475,0.45,0.475,0.45,0.455,0.51,0.465,0.375,0.425,0.39,0.42,0.26,0.305,0.48,0.495,0.45,0.46,0.455,0.515,0.58,0.525,0.525,0.585,0.545,0.49,0.465,0.525,0.48,0.5,0.515,0.465,0.455,0.49,0.56,0.545,0.565,0.58,0.575,0.52,0.545,0.49,0.45,0.465,0.495,0.47,0.42,0.4,0.375,0.425,0.37,0.42,0.38,0.42,0.375,0.325,0.375,0.375,0.295,0.275,0.31,0.395,0.38,0.44,0.455,0.365,0.455,0.325,0.415,0.345,0.44,0.355,0.485,0.45,0.44,0.5,0.475,0.46,0.44,0.495,0.47,0.5,0.515,0.5,0.41,0.54,0.38,0.39,0.225,0.2,0.45,0.485,0.5,0.455,0.45,0.45,0.47,0.455,0.42,0.345,0.41,0.275,0.305,0.3,0.415,0.275,0.26,0.425,0.295,0.325,0.455,0.435,0.455,0.5,0.455,0.565,0.535,0.555,0.49,0.55,0.47,0.54,0.28,0.31,0.41,0.285,0.465,0.185,0.165,0.195,0.125,0.55,0.53,0.55,0.555,0.44,0.405,0.34,0.405,0.415,0.415,0.35,0.54,0.59,0.545,0.585,0.4,0.465,0.46,0.48,0.465,0.45,0.515,0.42,0.455,0.455,0.46,0.51,0.53,0.5,0.5,0.52,0.485,0.525,0.45,0.44,0.52,0.47,0.505,0.485,0.47,0.46,0.455,0.435,0.445,0.53,0.35,0.38,0.22,0.195,0.195,0.29,0.2,0.23,0.25,0.15,0.27,0.26,0.14,0.16,0.125,0.11,0.445,0.45,0.3,0.42,0.355,0.37,0.335,0.37,0.38,0.405,0.23,0.205,0.29,0.375,0.355,0.325,0.35,0.29,0.245,0.195,0.155,0.45,0.425,0.515,0.49,0.44,0.37,0.39,0.385,0.405,0.5,0.53,0.4,0.34,0.4,0.35,0.415,0.355,0.255,0.355,0.33,0.21,0.32,0.35,0.345,0.455,0.44,0.475,0.475,0.425,0.435,0.445,0.48,0.49,0.425,0.525,0.355,0.305,0.39,0.425,0.41,0.335,0.31,0.4,0.29,0.41,0.52,0.42,0.455,0.43,0.47,0.495,0.445,0.42,0.315,0.3,0.345,0.39,0.345,0.27,0.37,0.285,0.265,0.345,0.145,0.24,0.37,0.35,0.345,0.355,0.24,0.225,0.17,0.255,0.38,0.385,0.385,0.36,0.405,0.335,0.305,0.415,0.265,0.365,0.34,0.365,0.36,0.295,0.265,0.235,0.26,0.345,0.4,0.24,0.485,0.45,0.255,0.34,0.33,0.215,0.375,0.35,0.36,0.18,0.245,0.35,0.225,0.28,0.215,0.435,0.515,0.49,0.475,0.525,0.45,0.34,0.305,0.355,0.295,0.35,0.38,0.425,0.35,0.385,0.38,0.41,0.39,0.385,0.395,0.415,0.375,0.38,0.275,0.275,0.37,0.325,0.405,0.4,0.44,0.4,0.405,0.4,0.44,0.375,0.19,0.325,0.29,0.11,0.23,0.105,0.205,0.335,0.315,0.285,0.385,0.33,0.295,0.3,0.325,0.25,0.26,0.295,0.225,0.25,0.3,0.205,0.265,0.255,0.2,0.205,0.19,0.125,0.1,0.11,0.455,0.44,0.41,0.36,0.36,0.305,0.375,0.4,0.4,0.4,0.42,0.4,0.38,0.425,0.39,0.385,0.405,0.41,0.345,0.44,0.265,0.42,0.405,0.415,0.42,0.52,0.385,0.42,0.515,0.39,0.355,0.46,0.455,0.515,0.505,0.525,0.495,0.44,0.43,0.405,0.44,0.44,0.51,0.47,0.45,0.445,0.27,0.43,0.425,0.455,0.375,0.275,0.34,0.38,0.41,0.385,0.38,0.35,0.36,0.41,0.385,0.435,0.28,0.155,0.415,0.39,0.385,0.39,0.465,0.465,0.375,0.37,0.45,0.465,0.405,0.41,0.335,0.42,0.345,0.34,0.335,0.33,0.275,0.38,0.305,0.205,0.4,0.34,0.41,0.405,0.365,0.175,0.185,0.24,0.25,0.25,0.27,0.25,0.3,0.275,0.275,0.275,0.29,0.3,0.29,0.29,0.31,0.325,0.32,0.305,0.325,0.365,0.335,0.325,0.35,0.375,0.365,0.365,0.355,0.385,0.41,0.4,0.44,0.395,0.405,0.42,0.44,0.43,0.45,0.45,0.435,0.45,0.455,0.435,0.465,0.475,0.46,0.48,0.48,0.475,0.465,0.475,0.475,0.495,0.475,0.455,0.5,0.52,0.51,0.505,0.505,0.5,0.49,0.49,0.505,0.51,0.5,0.485,0.51,0.525,0.52,0.58,0.53,0.52,0.585,0.525,0.525,0.56,0.54,0.56,0.595,0.14,0.175,0.175,0.19,0.18,0.195,0.12,0.23,0.235,0.23,0.22,0.235,0.23,0.24,0.24,0.265,0.25,0.25,0.25,0.25,0.265,0.29,0.28,0.28,0.265,0.31,0.305,0.31,0.33,0.32,0.315,0.34,0.315,0.325,0.325,0.325,0.34,0.345,0.325,0.335,0.35,0.36,0.355,0.345,0.335,0.355,0.375,0.36,0.345,0.365,0.37,0.345,0.35,0.365,0.365,0.37,0.36,0.375,0.385,0.36,0.365,0.37,0.385,0.395,0.4,0.39,0.385,0.385,0.4,0.39,0.39,0.41,0.355,0.39,0.375,0.405,0.405,0.41,0.43,0.39,0.415,0.4,0.425,0.425,0.405,0.4,0.43,0.435,0.445,0.43,0.455,0.4,0.45,0.45,0.455,0.445,0.46,0.475,0.46,0.46,0.46,0.455,0.45,0.49,0.465,0.47,0.455,0.47,0.45,0.475,0.46,0.455,0.49,0.475,0.47,0.47,0.475,0.48,0.51,0.48,0.49,0.475,0.5,0.485,0.485,0.495,0.48,0.49,0.525,0.505,0.5,0.5,0.5,0.52,0.52,0.505,0.5,0.5,0.515,0.495,0.52,0.525,0.46,0.51,0.505,0.535,0.495,0.475,0.525,0.57,0.565,0.535,0.525,0.505,0.535,0.535,0.565,0.565,0.525,0.6,0.6,0.13,0.15,0.135,0.155,0.165,0.18,0.18,0.195,0.195,0.21,0.22,0.22,0.235,0.225,0.265,0.28,0.28,0.275,0.29,0.32,0.3,0.3,0.325,0.3,0.32,0.31,0.325,0.335,0.33,0.345,0.33,0.345,0.34,0.335,0.365,0.34,0.33,0.33,0.33,0.35,0.36,0.38,0.35,0.35,0.38,0.465,0.375,0.375,0.38,0.39,0.39,0.405,0.4,0.4,0.38,0.385,0.4,0.38,0.38,0.46,0.4,0.4,0.405,0.395,0.4,0.39,0.42,0.39,0.41,0.415,0.415,0.43,0.425,0.43,0.445,0.44,0.415,0.455,0.435,0.45,0.46,0.445,0.44,0.46,0.45,0.435,0.47,0.455,0.435,0.445,0.445,0.455,0.455,0.445,0.45,0.45,0.45,0.46,0.465,0.47,0.475,0.455,0.465,0.465,0.47,0.475,0.48,0.475,0.485,0.485,0.47,0.46,0.465,0.475,0.47,0.45,0.48,0.485,0.48,0.47,0.5,0.495,0.515,0.53,0.48,0.5,0.5,0.515,0.51,0.53,0.525,0.5,0.505,0.54,0.52,0.54,0.53,0.53,0.56,0.565,0.575,0.525,0.55,0.56,0.55,0.535,0.58,0.55,0.565,0.505,0.575,0.585,0.565,0.57,0.625,0.58,0.63,0.375,0.205,0.185,0.19,0.195,0.215,0.225,0.23,0.23,0.225,0.25,0.205,0.245,0.25,0.255,0.255,0.27,0.255,0.27,0.27,0.27,0.265,0.29,0.28,0.29,0.29,0.275,0.275,0.28,0.27,0.275,0.27,0.29,0.28,0.3,0.28,0.3,0.305,0.295,0.27,0.29,0.285,0.335,0.305,0.325,0.32,0.31,0.34,0.315,0.315,0.34,0.33,0.345,0.365,0.33,0.36,0.35,0.365,0.34,0.365,0.355,0.355,0.355,0.38,0.36,0.37,0.355,0.365,0.355,0.38,0.395,0.38,0.42,0.375,0.41,0.375,0.395,0.405,0.38,0.395,0.38,0.42,0.4,0.4,0.395,0.4,0.42,0.415,0.42,0.415,0.425,0.4,0.415,0.41,0.435,0.42,0.42,0.435,0.445,0.43,0.405,0.43,0.405,0.43,0.435,0.425,0.44,0.43,0.43,0.425,0.425,0.425,0.445,0.455,0.44,0.45,0.445,0.39,0.45,0.45,0.46,0.435,0.44,0.435,0.42,0.48,0.46,0.46,0.455,0.445,0.465,0.49,0.475,0.46,0.47,0.475,0.45,0.445,0.47,0.455,0.465,0.465,0.475,0.48,0.475,0.465,0.455,0.46,0.485,0.49,0.435,0.475,0.47,0.45,0.48,0.475,0.465,0.48,0.46,0.475,0.47,0.5,0.475,0.475,0.48,0.475,0.51,0.495,0.5,0.475,0.455,0.505,0.515,0.48,0.485,0.505,0.485,0.475,0.495,0.49,0.5,0.495,0.475,0.51,0.565,0.525,0.51,0.5,0.525,0.505,0.59,0.525,0.51,0.51,0.525,0.535,0.52,0.49,0.495,0.515,0.53,0.53,0.505,0.545,0.545,0.565,0.545,0.565,0.555,0.57,0.55,0.575,0.575,0.6,0.58,0.565,0.57,0.61,0.65,0.105,0.165,0.265,0.255,0.27,0.28,0.3,0.295,0.29,0.3,0.31,0.29,0.3,0.32,0.315,0.34,0.34,0.34,0.32,0.365,0.335,0.335,0.355,0.345,0.35,0.355,0.37,0.365,0.365,0.36,0.38,0.39,0.37,0.38,0.385,0.38,0.395,0.425,0.4,0.4,0.4,0.43,0.4,0.41,0.43,0.425,0.43,0.435,0.445,0.465,0.46,0.46,0.435,0.455,0.44,0.465,0.46,0.455,0.455,0.465,0.485,0.485,0.515,0.485,0.475,0.485,0.435,0.48,0.52,0.47,0.47,0.5,0.455,0.48,0.49,0.505,0.51,0.515,0.515,0.51,0.505,0.545,0.515,0.5,0.485,0.54,0.51,0.505,0.515,0.545,0.51,0.5,0.5,0.515,0.525,0.55,0.555,0.56,0.565,0.575,0.57,0.55,0.17,0.21,0.215,0.23,0.225,0.255,0.26,0.27,0.26,0.27,0.275,0.265,0.27,0.27,0.28,0.285,0.29,0.29,0.28,0.3,0.3,0.285,0.29,0.3,0.3,0.325,0.325,0.315,0.335,0.325,0.34,0.335,0.36,0.35,0.355,0.37,0.345,0.355,0.36,0.36,0.36,0.37,0.37,0.355,0.375,0.375,0.4,0.37,0.4,0.4,0.39,0.375,0.395,0.375,0.36,0.35,0.395,0.39,0.41,0.39,0.415,0.39,0.38,0.4,0.4,0.42,0.43,0.4,0.42,0.4,0.43,0.425,0.43,0.455,0.42,0.425,0.425,0.4,0.375,0.42,0.435,0.425,0.42,0.415,0.425,0.395,0.435,0.46,0.445,0.44,0.425,0.42,0.44,0.44,0.43,0.45,0.45,0.435,0.43,0.445,0.445,0.455,0.425,0.47,0.45,0.47,0.465,0.445,0.45,0.435,0.445,0.44,0.435,0.46,0.43,0.445,0.445,0.49,0.45,0.46,0.435,0.45,0.45,0.46,0.46,0.475,0.48,0.48,0.48,0.47,0.47,0.455,0.475,0.47,0.48,0.47,0.505,0.475,0.465,0.485,0.47,0.475,0.465,0.47,0.485,0.47,0.475,0.485,0.515,0.515,0.54,0.49,0.48,0.47,0.45,0.48,0.48,0.49,0.475,0.5,0.47,0.485,0.485,0.505,0.5,0.49,0.485,0.495,0.5,0.5,0.49,0.49,0.505,0.515,0.525,0.505,0.5,0.5,0.51,0.51,0.51,0.51,0.5,0.51,0.485,0.48,0.495,0.505,0.525,0.51,0.55,0.51,0.505,0.505,0.5,0.535,0.53,0.51,0.525,0.505,0.505,0.52,0.5,0.505,0.52,0.52,0.55,0.54,0.525,0.51,0.52,0.51,0.52,0.565,0.55,0.565,0.535,0.545,0.575,0.57,0.54,0.56,0.57,0.55,0.525,0.565,0.56,0.59,0.565,0.565,0.595,0.62,0.63,0.175,0.245,0.27,0.28,0.3,0.32,0.335,0.325,0.345,0.325,0.36,0.365,0.37,0.345,0.355,0.37,0.35,0.395,0.365,0.38,0.41,0.425,0.385,0.42,0.415,0.385,0.38,0.42,0.455,0.44,0.45,0.43,0.455,0.45,0.495,0.465,0.475,0.475,0.475,0.455,0.47,0.495,0.49,0.495,0.475,0.475,0.5,0.525,0.485,0.52,0.545,0.515,0.53,0.535,0.55,0.53,0.545,0.55,0.56,0.575,0.135,0.18,0.215,0.26,0.265,0.27,0.275,0.27,0.31,0.3,0.315,0.335,0.31,0.31,0.31,0.325,0.34,0.335,0.33,0.33,0.345,0.33,0.37,0.375,0.34,0.385,0.36,0.37,0.38,0.38,0.375,0.38,0.405,0.4,0.4,0.415,0.42,0.385,0.41,0.415,0.395,0.38,0.385,0.415,0.405,0.4,0.43,0.43,0.395,0.405,0.455,0.425,0.395,0.39,0.425,0.43,0.435,0.45,0.435,0.41,0.4,0.45,0.455,0.445,0.445,0.415,0.455,0.435,0.45,0.46,0.46,0.455,0.44,0.415,0.44,0.45,0.45,0.435,0.455,0.445,0.465,0.45,0.45,0.43,0.475,0.45,0.5,0.44,0.44,0.44,0.455,0.47,0.46,0.475,0.465,0.49,0.455,0.47,0.48,0.46,0.46,0.47,0.47,0.47,0.495,0.495,0.49,0.49,0.495,0.495,0.47,0.485,0.495,0.515,0.505,0.445,0.52,0.47,0.49,0.485,0.52,0.505,0.525,0.5,0.515,0.53,0.48,0.515,0.49,0.49,0.485,0.51,0.49,0.52,0.52,0.51,0.51,0.515,0.525,0.52,0.535,0.51,0.5,0.515,0.525,0.53,0.515,0.51,0.54,0.54,0.535,0.55,0.545,0.575,0.55,0.55,0.535,0.575,0.565,0.57,0.55,0.605,0.13,0.11,0.15,0.21,0.2,0.215,0.21,0.21,0.21,0.24,0.25,0.25,0.235,0.25,0.27,0.27,0.27,0.28,0.275,0.29,0.25,0.325,0.315,0.32,0.325,0.33,0.35,0.365,0.375,0.365,0.39,0.395,0.385,0.455,0.4,0.41,0.43,0.405,0.44,0.47,0.41,0.445,0.435,0.46,0.465,0.45,0.445,0.49,0.515,0.515,0.19,0.195,0.215,0.215,0.255,0.24,0.28,0.295,0.305,0.31,0.305,0.315,0.305,0.32,0.35,0.355,0.345,0.345,0.36,0.355,0.38,0.35,0.39,0.37,0.39,0.38,0.385,0.385,0.42,0.42,0.385,0.42,0.43,0.41,0.42,0.44,0.45,0.435,0.485,0.465,0.47,0.43,0.48,0.49,0.495,0.5,0.525,0.55,0.54,0.57,0.5,0.585,0.575,0.555,0.57,0.39,0.425,0.385,0.305,0.3,0.39,0.33,0.35,0.31,0.29,0.38,0.31,0.29,0.385,0.48,0.455,0.55,0.535,0.49,0.25,0.355,0.405,0.29,0.095,0.13,0.225,0.29,0.38,0.37,0.325,0.36,0.35,0.21,0.295,0.375,0.4,0.31,0.51,0.47,0.455,0.24,0.41,0.35,0.33,0.425,0.425,0.455,0.465,0.53,0.36,0.24,0.35,0.37,0.35,0.325,0.35,0.375,0.31,0.195,0.355,0.585,0.3,0.2,0.44,0.46,0.5,0.495,0.42,0.51,0.55,0.565,0.565,0.47,0.305,0.45,0.28,0.275,0.235,0.115,0.21,0.13,0.15,0.465,0.5,0.45,0.45,0.45,0.48,0.47,0.42,0.42,0.43,0.4,0.235,0.34,0.4,0.385,0.37,0.37,0.47,0.495,0.485,0.17,0.325,0.215,0.28,0.305,0.19,0.55,0.515,0.49,0.405,0.48,0.345,0.22,0.225,0.34,0.525,0.465,0.505,0.47,0.495,0.51,0.325,0.35,0.26,0.415,0.39,0.375,0.46,0.465,0.525,0.455,0.425,0.475,0.28,0.2,0.39,0.28,0.43,0.4,0.445,0.475,0.45,0.48,0.435,0.465,0.335,0.36,0.315,0.32,0.38,0.36,0.28,0.375,0.325,0.365,0.27,0.455,0.59,0.485,0.46,0.5,0.495,0.395,0.38,0.415,0.335,0.465,0.46,0.43,0.455,0.51,0.45,0.575,0.51,0.48,0.445,0.45,0.475,0.41,0.51,0.52,0.57,0.525,0.48,0.475,0.405,0.405,0.375,0.415,0.385,0.345,0.315,0.33,0.395,0.305,0.265,0.475,0.27,0.375,0.3,0.26,0.425,0.415,0.45,0.36,0.325,0.385,0.405,0.425,0.375,0.455,0.49,0.415,0.5,0.375,0.355,0.375,0.35,0.265,0.24,0.47,0.475,0.435,0.435,0.42,0.385,0.395,0.31,0.395,0.435,0.325,0.535,0.305,0.345,0.395,0.425,0.39,0.345,0.46,0.42,0.55,0.63,0.49,0.48,0.455,0.485,0.52,0.47,0.24,0.185,0.125,0.55,0.565,0.43,0.4,0.43,0.36,0.435,0.475,0.53,0.56,0.495,0.44,0.47,0.455,0.485,0.525,0.44,0.45,0.525,0.475,0.47,0.505,0.57,0.545,0.595,0.44,0.325,0.125,0.325,0.405,0.335,0.275,0.34,0.41,0.325,0.265,0.135,0.115,0.43,0.39,0.345,0.345,0.365,0.35,0.375,0.34,0.35,0.29,0.25,0.22,0.46,0.475,0.465,0.505,0.385,0.43,0.33,0.415,0.355,0.225,0.455,0.515,0.46,0.43,0.485,0.5,0.375,0.395,0.245,0.38,0.305,0.315,0.315,0.235,0.35,0.36,0.255,0.415,0.365,0.315,0.2,0.45,0.435,0.19,0.385,0.255,0.38,0.5,0.485,0.515,0.5,0.38,0.4,0.24,0.4,0.255,0.355,0.415,0.355,0.335,0.355,0.38,0.435,0.205,0.265,0.285,0.33,0.26,0.305,0.2,0.2,0.17,0.18,0.185,0.145,0.47,0.35,0.385,0.325,0.405,0.405,0.39,0.325,0.415,0.275,0.415,0.475,0.44,0.515,0.47,0.49,0.455,0.485,0.42,0.355,0.44,0.425,0.285,0.4,0.415,0.36,0.26,0.4,0.51,0.385,0.39,0.325,0.395,0.38,0.31,0.305,0.36,0.4,0.4,0.4,0.41,0.39,0.26,0.21,0.23,0.24,0.255,0.3,0.325,0.315,0.315,0.32,0.31,0.375,0.35,0.37,0.375,0.365,0.37,0.4,0.39,0.425,0.42,0.45,0.44,0.46,0.455,0.48,0.49,0.475,0.5,0.485,0.475,0.49,0.5,0.585,0.5,0.545,0.525,0.535,0.555,0.55,0.55,0.53,0.525,0.57,0.15,0.17,0.18,0.195,0.21,0.22,0.22,0.225,0.235,0.265,0.29,0.285,0.295,0.31,0.325,0.335,0.345,0.325,0.355,0.35,0.35,0.35,0.35,0.345,0.345,0.355,0.34,0.385,0.355,0.37,0.375,0.38,0.385,0.395,0.415,0.425,0.42,0.41,0.405,0.435,0.425,0.425,0.445,0.435,0.45,0.445,0.45,0.465,0.47,0.465,0.465,0.46,0.46,0.46,0.48,0.485,0.5,0.47,0.51,0.485,0.475,0.48,0.49,0.49,0.495,0.495,0.48,0.495,0.495,0.49,0.5,0.5,0.52,0.545,0.54,0.55,0.525,0.575,0.56,0.585,0.6,0.16,0.205,0.21,0.24,0.285,0.29,0.315,0.33,0.34,0.32,0.34,0.335,0.345,0.37,0.355,0.365,0.375,0.375,0.375,0.38,0.38,0.39,0.38,0.4,0.395,0.385,0.4,0.395,0.43,0.42,0.42,0.4,0.42,0.44,0.425,0.43,0.45,0.45,0.43,0.48,0.455,0.45,0.435,0.47,0.46,0.46,0.465,0.47,0.46,0.49,0.48,0.475,0.45,0.47,0.475,0.49,0.48,0.495,0.49,0.48,0.505,0.51,0.465,0.515,0.48,0.52,0.515,0.52,0.535,0.51,0.49,0.515,0.505,0.5,0.51,0.55,0.52,0.53,0.525,0.55,0.53,0.55,0.57,0.575,0.555,0.14,0.15,0.175,0.215,0.25,0.245,0.255,0.255,0.26,0.275,0.29,0.275,0.3,0.285,0.32,0.305,0.305,0.31,0.305,0.3,0.315,0.325,0.335,0.325,0.315,0.34,0.36,0.325,0.335,0.34,0.35,0.345,0.355,0.375,0.38,0.365,0.365,0.385,0.38,0.385,0.395,0.41,0.39,0.385,0.415,0.4,0.375,0.43,0.44,0.43,0.425,0.42,0.425,0.465,0.435,0.445,0.44,0.435,0.43,0.445,0.435,0.44,0.465,0.425,0.46,0.465,0.42,0.455,0.47,0.475,0.475,0.48,0.495,0.45,0.51,0.48,0.45,0.46,0.465,0.48,0.5,0.49,0.505,0.475,0.47,0.525,0.505,0.485,0.495,0.495,0.515,0.52,0.51,0.505,0.525,0.525,0.54,0.54,0.565,0.55,0.57,0.17,0.195,0.2,0.235,0.24,0.225,0.27,0.265,0.285,0.29,0.335,0.35,0.365,0.375,0.365,0.375,0.4,0.395,0.43,0.405,0.42,0.415,0.425,0.42,0.445,0.445,0.47,0.455,0.485,0.435,0.475,0.45,0.475,0.48,0.475,0.5,0.485,0.49,0.485,0.51,0.49,0.49,0.525,0.515,0.515,0.515,0.54,0.565,0.55,0.565,0.57,0.595,0.23,0.235,0.205,0.25,0.26,0.28,0.27,0.28,0.315,0.305,0.34,0.335,0.31,0.36,0.35,0.385,0.375,0.375,0.39,0.37,0.425,0.4,0.365,0.4,0.4,0.4,0.465,0.38,0.405,0.445,0.425,0.415,0.43,0.43,0.435,0.425,0.435,0.43,0.435,0.425,0.455,0.45,0.465,0.46,0.45,0.45,0.445,0.44,0.45,0.5,0.46,0.475,0.47,0.46,0.445,0.48,0.45,0.45,0.465,0.495,0.49,0.48,0.425,0.47,0.48,0.49,0.475,0.515,0.455,0.495,0.475,0.475,0.495,0.515,0.5,0.49,0.49,0.48,0.53,0.485,0.51,0.485,0.52,0.485,0.5,0.515,0.505,0.575,0.485,0.52,0.495,0.52,0.565,0.5,0.515,0.525,0.525,0.51,0.485,0.525,0.525,0.525,0.54,0.515,0.505,0.505,0.515,0.55,0.58,0.59,0.575,0.215,0.345,0.33,0.365,0.355,0.37,0.38,0.37,0.41,0.4,0.4,0.405,0.405,0.425,0.425,0.44,0.485,0.43,0.43,0.475,0.485,0.5,0.49,0.51,0.525,0.485,0.495,0.505,0.505,0.515,0.54,0.545,0.585,0.615,0.185,0.26,0.285,0.3,0.28,0.3,0.32,0.335,0.325,0.32,0.33,0.34,0.355,0.37,0.375,0.375,0.33,0.375,0.38,0.385,0.41,0.395,0.4,0.42,0.41,0.42,0.405,0.445,0.45,0.44,0.45,0.47,0.47,0.43,0.445,0.445,0.435,0.45,0.435,0.47,0.405,0.47,0.48,0.46,0.45,0.45,0.495,0.485,0.49,0.475,0.515,0.515,0.495,0.505,0.49,0.5,0.485,0.5,0.505,0.51,0.54,0.49,0.455,0.53,0.525,0.52,0.52,0.56,0.51,0.535,0.555,0.56,0.55,0.575,0.17,0.17,0.185,0.27,0.31,0.32,0.35,0.355,0.38,0.395,0.43,0.4,0.415,0.395,0.435,0.43,0.48,0.43,0.455,0.465,0.5,0.525,0.215,0.22,0.275,0.285,0.29,0.3,0.325,0.32,0.325,0.34,0.34,0.405,0.36,0.415,0.4,0.4,0.425,0.42,0.45,0.45,0.46,0.495,0.485,0.495,0.49,0.515,0.505,0.53,0.39,0.36,0.35,0.42,0.36,0.4,0.26,0.425,0.135,0.165,0.15,0.48,0.42,0.45,0.5,0.53,0.54,0.505,0.5,0.375,0.335,0.41,0.395,0.44,0.35,0.435,0.255,0.2,0.22,0.49,0.44,0.475,0.41,0.54,0.49,0.47,0.45,0.465,0.405,0.405,0.265,0.355,0.405,0.38,0.41,0.3,0.195,0.295,0.385,0.505,0.44,0.545,0.415,0.36,0.385,0.575,0.405,0.145,0.515,0.405,0.435,0.47,0.405,0.245,0.235,0.335,0.38,0.405,0.3,0.485,0.505,0.53,0.265,0.215,0.38,0.25,0.34,0.45,0.48,0.46,0.42,0.495,0.485,0.51,0.34,0.505,0.525,0.4,0.305,0.435,0.415,0.525,0.35,0.32,0.35,0.325,0.505,0.455,0.325,0.41,0.48,0.485,0.535,0.285,0.51,0.53,0.54,0.435,0.525,0.48,0.51,0.555,0.55,0.435,0.495,0.5,0.24,0.35,0.375,0.38,0.35,0.35,0.23,0.48,0.385,0.375,0.505,0.435,0.52,0.485,0.45,0.5,0.38,0.385,0.335,0.31,0.465,0.475,0.425,0.36,0.375,0.405,0.355,0.385,0.39,0.415,0.53,0.54,0.45,0.475,0.475,0.44,0.57,0.51,0.46,0.475,0.42,0.395,0.405,0.375,0.455,0.5,0.45,0.485,0.5,0.5,0.485,0.5,0.525,0.575,0.45,0.435,0.445,0.3,0.325,0.2,0.355,0.485,0.38,0.41,0.31,0.355,0.26,0.35,0.2,0.125,0.555,0.425,0.385,0.37,0.3,0.28,0.265,0.415,0.48,0.475,0.435,0.305,0.34,0.34,0.36,0.3,0.325,0.35,0.525,0.525,0.475,0.435,0.39,0.33,0.365,0.38,0.38,0.4,0.32,0.385,0.375,0.345,0.38,0.405,0.365,0.36,0.34,0.3,0.285,0.215,0.445,0.44,0.315,0.3,0.405,0.245,0.31,0.21,0.465,0.48,0.46,0.345,0.235,0.33,0.405,0.375,0.33,0.235,0.19,0.255,0.21,0.13,0.435,0.4,0.375,0.225,0.35,0.4,0.41,0.535,0.465,0.44,0.42,0.515,0.435,0.48,0.45,0.475,0.375,0.285,0.35,0.43,0.395,0.345,0.265,0.28,0.25,0.28,0.265,0.315,0.31,0.31,0.32,0.355,0.395,0.37,0.465,0.45,0.46,0.48,0.47,0.475,0.475,0.47,0.475,0.51,0.545,0.55,0.605,0.18,0.21,0.24,0.265,0.27,0.27,0.28,0.285,0.275,0.3,0.335,0.35,0.37,0.355,0.37,0.37,0.4,0.4,0.385,0.39,0.39,0.395,0.44,0.44,0.44,0.42,0.46,0.475,0.48,0.495,0.47,0.505,0.485,0.495,0.47,0.485,0.495,0.48,0.5,0.525,0.52,0.585,0.565,0.58,0.12,0.15,0.265,0.315,0.29,0.3,0.335,0.33,0.34,0.345,0.355,0.355,0.42,0.37,0.475,0.405,0.38,0.42,0.42,0.44,0.44,0.44,0.43,0.415,0.44,0.45,0.46,0.47,0.41,0.475,0.47,0.49,0.51,0.495,0.47,0.5,0.475,0.52,0.505,0.52,0.54,0.5,0.525,0.525,0.575,0.56,0.57,0.545,0.545,0.15,0.185,0.205,0.24,0.23,0.26,0.26,0.265,0.265,0.265,0.275,0.285,0.31,0.315,0.265,0.325,0.325,0.335,0.34,0.355,0.35,0.435,0.34,0.355,0.36,0.35,0.355,0.37,0.365,0.39,0.4,0.39,0.405,0.42,0.415,0.41,0.41,0.425,0.45,0.47,0.42,0.42,0.455,0.44,0.475,0.45,0.46,0.46,0.47,0.47,0.465,0.46,0.465,0.47,0.47,0.475,0.475,0.475,0.485,0.48,0.48,0.475,0.5,0.49,0.485,0.465,0.495,0.515,0.515,0.52,0.475,0.525,0.53,0.5,0.515,0.515,0.53,0.52,0.555,0.125,0.285,0.3,0.325,0.37,0.375,0.375,0.39,0.43,0.405,0.45,0.465,0.46,0.49,0.475,0.475,0.495,0.46,0.515,0.5,0.5,0.455,0.505,0.53,0.5,0.525,0.53,0.525,0.565,0.205,0.225,0.22,0.225,0.22,0.265,0.275,0.29,0.325,0.34,0.32,0.345,0.37,0.355,0.345,0.365,0.335,0.35,0.365,0.39,0.405,0.415,0.405,0.425,0.425,0.42,0.41,0.395,0.405,0.45,0.41,0.41,0.415,0.45,0.4,0.43,0.45,0.44,0.42,0.465,0.46,0.465,0.47,0.44,0.46,0.45,0.47,0.5,0.49,0.49,0.45,0.495,0.47,0.5,0.525,0.47,0.48,0.485,0.485,0.49,0.505,0.5,0.51,0.52,0.495,0.495,0.52,0.525,0.51,0.51,0.525,0.53,0.51,0.54,0.51,0.54,0.54,0.535,0.51,0.53,0.55,0.535,0.55,0.53,0.555,0.56,0.6,0.13,0.25,0.25,0.28,0.32,0.31,0.36,0.355,0.365,0.375,0.395,0.4,0.375,0.38,0.37,0.415,0.42,0.455,0.505,0.475,0.48,0.47,0.505,0.525,0.5,0.525,0.525,0.555,0.205,0.205,0.265,0.29,0.315,0.33,0.375,0.335,0.355,0.36,0.37,0.395,0.39,0.41,0.4,0.425,0.425,0.42,0.395,0.41,0.4,0.45,0.44,0.46,0.465,0.43,0.43,0.45,0.465,0.46,0.42,0.45,0.42,0.47,0.45,0.48,0.48,0.455,0.5,0.48,0.48,0.495,0.5,0.49,0.475,0.51,0.505,0.495,0.52,0.525,0.52,0.54,0.54,0.58,0.535,0.56,0.58,0.155,0.23,0.23,0.27,0.305,0.31,0.365,0.385,0.375,0.4,0.445,0.49,0.26,0.275,0.34,0.355,0.385,0.445,0.45,0.44,0.46,0.48,0.455,0.46,0.47,0.52,0.54,0.52,0.555,0.385,0.42,0.365,0.41,0.26,0.35,0.325,0.105,0.25,0.425,0.41,0.42,0.475,0.45,0.45,0.35,0.275,0.37,0.535,0.3,0.295,0.44,0.41,0.465,0.4,0.335,0.255,0.515,0.45,0.44,0.465,0.475,0.37,0.5,0.235,0.395,0.43,0.39,0.34,0.385,0.44,0.36,0.4,0.25,0.41,0.225,0.45,0.5,0.355,0.49,0.3,0.455,0.545,0.425,0.225,0.33,0.375,0.44,0.45,0.5,0.4,0.46,0.4,0.355,0.38,0.5,0.575,0.5,0.46,0.105,0.345,0.43,0.12,0.48,0.47,0.27,0.18,0.39,0.365,0.375,0.355,0.27,0.405,0.4,0.39,0.445,0.41,0.46,0.49,0.43,0.23,0.28,0.4,0.28,0.4,0.35,0.42,0.38,0.55,0.515,0.535,0.44,0.37,0.18,0.175,0.41,0.4,0.425,0.275,0.42,0.39,0.44,0.4,0.45,0.44,0.175,0.41,0.365,0.4,0.415,0.425,0.39,0.235,0.355,0.385,0.385,0.395,0.44,0.5,0.55,0.55,0.55,0.575,0.205,0.19,0.22,0.22,0.23,0.29,0.3,0.285,0.295,0.315,0.33,0.32,0.33,0.35,0.35,0.39,0.375,0.41,0.455,0.435,0.45,0.465,0.48,0.525,0.545,0.515,0.52,0.51,0.51,0.6,0.6,0.135,0.175,0.23,0.27,0.28,0.31,0.35,0.35,0.375,0.39,0.395,0.43,0.465,0.46,0.455,0.49,0.475,0.53,0.465,0.505,0.48,0.48,0.525,0.505,0.485,0.515,0.55,0.58,0.545,0.2,0.245,0.26,0.28,0.27,0.31,0.335,0.325,0.325,0.365,0.385,0.405,0.41,0.42,0.415,0.445,0.44,0.45,0.45,0.46,0.46,0.425,0.45,0.46,0.485,0.495,0.495,0.495,0.5,0.47,0.485,0.5,0.5,0.51,0.535,0.56,0.39,0.405,0.465,0.49,0.515,0.49,0.275,0.31,0.3,0.305,0.335,0.335,0.375,0.36,0.395,0.4,0.45,0.43,0.435,0.43,0.385,0.43,0.45,0.465,0.445,0.48,0.51,0.45,0.475,0.47,0.365,0.475,0.5,0.49,0.485,0.53,0.485,0.5,0.5,0.495,0.525,0.52,0.51,0.545,0.545,0.545,0.565,0.59,0.305,0.35,0.365,0.41,0.4,0.42,0.42,0.45,0.465,0.48,0.505,0.525,0.215,0.265,0.35,0.365,0.375,0.385,0.415,0.42,0.445,0.435,0.425,0.45,0.425,0.47,0.45,0.455,0.5,0.495,0.505,0.49,0.495,0.535,0.505,0.525,0.5,0.535,0.525,0.53,0.55,0.605,0.215,0.23,0.25,0.28,0.315,0.33,0.35,0.37,0.36,0.355,0.44,0.475,0.455,0.255,0.31,0.29,0.3,0.365,0.38,0.4,0.385,0.43,0.43,0.45,0.44,0.475,0.485,0.555],\"type\":\"scatter\"}],                        {\"template\":{\"data\":{\"histogram2dcontour\":[{\"type\":\"histogram2dcontour\",\"colorbar\":{\"outlinewidth\":0,\"ticks\":\"\"},\"colorscale\":[[0.0,\"#0d0887\"],[0.1111111111111111,\"#46039f\"],[0.2222222222222222,\"#7201a8\"],[0.3333333333333333,\"#9c179e\"],[0.4444444444444444,\"#bd3786\"],[0.5555555555555556,\"#d8576b\"],[0.6666666666666666,\"#ed7953\"],[0.7777777777777778,\"#fb9f3a\"],[0.8888888888888888,\"#fdca26\"],[1.0,\"#f0f921\"]]}],\"choropleth\":[{\"type\":\"choropleth\",\"colorbar\":{\"outlinewidth\":0,\"ticks\":\"\"}}],\"histogram2d\":[{\"type\":\"histogram2d\",\"colorbar\":{\"outlinewidth\":0,\"ticks\":\"\"},\"colorscale\":[[0.0,\"#0d0887\"],[0.1111111111111111,\"#46039f\"],[0.2222222222222222,\"#7201a8\"],[0.3333333333333333,\"#9c179e\"],[0.4444444444444444,\"#bd3786\"],[0.5555555555555556,\"#d8576b\"],[0.6666666666666666,\"#ed7953\"],[0.7777777777777778,\"#fb9f3a\"],[0.8888888888888888,\"#fdca26\"],[1.0,\"#f0f921\"]]}],\"heatmap\":[{\"type\":\"heatmap\",\"colorbar\":{\"outlinewidth\":0,\"ticks\":\"\"},\"colorscale\":[[0.0,\"#0d0887\"],[0.1111111111111111,\"#46039f\"],[0.2222222222222222,\"#7201a8\"],[0.3333333333333333,\"#9c179e\"],[0.4444444444444444,\"#bd3786\"],[0.5555555555555556,\"#d8576b\"],[0.6666666666666666,\"#ed7953\"],[0.7777777777777778,\"#fb9f3a\"],[0.8888888888888888,\"#fdca26\"],[1.0,\"#f0f921\"]]}],\"heatmapgl\":[{\"type\":\"heatmapgl\",\"colorbar\":{\"outlinewidth\":0,\"ticks\":\"\"},\"colorscale\":[[0.0,\"#0d0887\"],[0.1111111111111111,\"#46039f\"],[0.2222222222222222,\"#7201a8\"],[0.3333333333333333,\"#9c179e\"],[0.4444444444444444,\"#bd3786\"],[0.5555555555555556,\"#d8576b\"],[0.6666666666666666,\"#ed7953\"],[0.7777777777777778,\"#fb9f3a\"],[0.8888888888888888,\"#fdca26\"],[1.0,\"#f0f921\"]]}],\"contourcarpet\":[{\"type\":\"contourcarpet\",\"colorbar\":{\"outlinewidth\":0,\"ticks\":\"\"}}],\"contour\":[{\"type\":\"contour\",\"colorbar\":{\"outlinewidth\":0,\"ticks\":\"\"},\"colorscale\":[[0.0,\"#0d0887\"],[0.1111111111111111,\"#46039f\"],[0.2222222222222222,\"#7201a8\"],[0.3333333333333333,\"#9c179e\"],[0.4444444444444444,\"#bd3786\"],[0.5555555555555556,\"#d8576b\"],[0.6666666666666666,\"#ed7953\"],[0.7777777777777778,\"#fb9f3a\"],[0.8888888888888888,\"#fdca26\"],[1.0,\"#f0f921\"]]}],\"surface\":[{\"type\":\"surface\",\"colorbar\":{\"outlinewidth\":0,\"ticks\":\"\"},\"colorscale\":[[0.0,\"#0d0887\"],[0.1111111111111111,\"#46039f\"],[0.2222222222222222,\"#7201a8\"],[0.3333333333333333,\"#9c179e\"],[0.4444444444444444,\"#bd3786\"],[0.5555555555555556,\"#d8576b\"],[0.6666666666666666,\"#ed7953\"],[0.7777777777777778,\"#fb9f3a\"],[0.8888888888888888,\"#fdca26\"],[1.0,\"#f0f921\"]]}],\"mesh3d\":[{\"type\":\"mesh3d\",\"colorbar\":{\"outlinewidth\":0,\"ticks\":\"\"}}],\"scatter\":[{\"fillpattern\":{\"fillmode\":\"overlay\",\"size\":10,\"solidity\":0.2},\"type\":\"scatter\"}],\"parcoords\":[{\"type\":\"parcoords\",\"line\":{\"colorbar\":{\"outlinewidth\":0,\"ticks\":\"\"}}}],\"scatterpolargl\":[{\"type\":\"scatterpolargl\",\"marker\":{\"colorbar\":{\"outlinewidth\":0,\"ticks\":\"\"}}}],\"bar\":[{\"error_x\":{\"color\":\"#2a3f5f\"},\"error_y\":{\"color\":\"#2a3f5f\"},\"marker\":{\"line\":{\"color\":\"#E5ECF6\",\"width\":0.5},\"pattern\":{\"fillmode\":\"overlay\",\"size\":10,\"solidity\":0.2}},\"type\":\"bar\"}],\"scattergeo\":[{\"type\":\"scattergeo\",\"marker\":{\"colorbar\":{\"outlinewidth\":0,\"ticks\":\"\"}}}],\"scatterpolar\":[{\"type\":\"scatterpolar\",\"marker\":{\"colorbar\":{\"outlinewidth\":0,\"ticks\":\"\"}}}],\"histogram\":[{\"marker\":{\"pattern\":{\"fillmode\":\"overlay\",\"size\":10,\"solidity\":0.2}},\"type\":\"histogram\"}],\"scattergl\":[{\"type\":\"scattergl\",\"marker\":{\"colorbar\":{\"outlinewidth\":0,\"ticks\":\"\"}}}],\"scatter3d\":[{\"type\":\"scatter3d\",\"line\":{\"colorbar\":{\"outlinewidth\":0,\"ticks\":\"\"}},\"marker\":{\"colorbar\":{\"outlinewidth\":0,\"ticks\":\"\"}}}],\"scattermapbox\":[{\"type\":\"scattermapbox\",\"marker\":{\"colorbar\":{\"outlinewidth\":0,\"ticks\":\"\"}}}],\"scatterternary\":[{\"type\":\"scatterternary\",\"marker\":{\"colorbar\":{\"outlinewidth\":0,\"ticks\":\"\"}}}],\"scattercarpet\":[{\"type\":\"scattercarpet\",\"marker\":{\"colorbar\":{\"outlinewidth\":0,\"ticks\":\"\"}}}],\"carpet\":[{\"aaxis\":{\"endlinecolor\":\"#2a3f5f\",\"gridcolor\":\"white\",\"linecolor\":\"white\",\"minorgridcolor\":\"white\",\"startlinecolor\":\"#2a3f5f\"},\"baxis\":{\"endlinecolor\":\"#2a3f5f\",\"gridcolor\":\"white\",\"linecolor\":\"white\",\"minorgridcolor\":\"white\",\"startlinecolor\":\"#2a3f5f\"},\"type\":\"carpet\"}],\"table\":[{\"cells\":{\"fill\":{\"color\":\"#EBF0F8\"},\"line\":{\"color\":\"white\"}},\"header\":{\"fill\":{\"color\":\"#C8D4E3\"},\"line\":{\"color\":\"white\"}},\"type\":\"table\"}],\"barpolar\":[{\"marker\":{\"line\":{\"color\":\"#E5ECF6\",\"width\":0.5},\"pattern\":{\"fillmode\":\"overlay\",\"size\":10,\"solidity\":0.2}},\"type\":\"barpolar\"}],\"pie\":[{\"automargin\":true,\"type\":\"pie\"}]},\"layout\":{\"autotypenumbers\":\"strict\",\"colorway\":[\"#636efa\",\"#EF553B\",\"#00cc96\",\"#ab63fa\",\"#FFA15A\",\"#19d3f3\",\"#FF6692\",\"#B6E880\",\"#FF97FF\",\"#FECB52\"],\"font\":{\"color\":\"#2a3f5f\"},\"hovermode\":\"closest\",\"hoverlabel\":{\"align\":\"left\"},\"paper_bgcolor\":\"white\",\"plot_bgcolor\":\"#E5ECF6\",\"polar\":{\"bgcolor\":\"#E5ECF6\",\"angularaxis\":{\"gridcolor\":\"white\",\"linecolor\":\"white\",\"ticks\":\"\"},\"radialaxis\":{\"gridcolor\":\"white\",\"linecolor\":\"white\",\"ticks\":\"\"}},\"ternary\":{\"bgcolor\":\"#E5ECF6\",\"aaxis\":{\"gridcolor\":\"white\",\"linecolor\":\"white\",\"ticks\":\"\"},\"baxis\":{\"gridcolor\":\"white\",\"linecolor\":\"white\",\"ticks\":\"\"},\"caxis\":{\"gridcolor\":\"white\",\"linecolor\":\"white\",\"ticks\":\"\"}},\"coloraxis\":{\"colorbar\":{\"outlinewidth\":0,\"ticks\":\"\"}},\"colorscale\":{\"sequential\":[[0.0,\"#0d0887\"],[0.1111111111111111,\"#46039f\"],[0.2222222222222222,\"#7201a8\"],[0.3333333333333333,\"#9c179e\"],[0.4444444444444444,\"#bd3786\"],[0.5555555555555556,\"#d8576b\"],[0.6666666666666666,\"#ed7953\"],[0.7777777777777778,\"#fb9f3a\"],[0.8888888888888888,\"#fdca26\"],[1.0,\"#f0f921\"]],\"sequentialminus\":[[0.0,\"#0d0887\"],[0.1111111111111111,\"#46039f\"],[0.2222222222222222,\"#7201a8\"],[0.3333333333333333,\"#9c179e\"],[0.4444444444444444,\"#bd3786\"],[0.5555555555555556,\"#d8576b\"],[0.6666666666666666,\"#ed7953\"],[0.7777777777777778,\"#fb9f3a\"],[0.8888888888888888,\"#fdca26\"],[1.0,\"#f0f921\"]],\"diverging\":[[0,\"#8e0152\"],[0.1,\"#c51b7d\"],[0.2,\"#de77ae\"],[0.3,\"#f1b6da\"],[0.4,\"#fde0ef\"],[0.5,\"#f7f7f7\"],[0.6,\"#e6f5d0\"],[0.7,\"#b8e186\"],[0.8,\"#7fbc41\"],[0.9,\"#4d9221\"],[1,\"#276419\"]]},\"xaxis\":{\"gridcolor\":\"white\",\"linecolor\":\"white\",\"ticks\":\"\",\"title\":{\"standoff\":15},\"zerolinecolor\":\"white\",\"automargin\":true,\"zerolinewidth\":2},\"yaxis\":{\"gridcolor\":\"white\",\"linecolor\":\"white\",\"ticks\":\"\",\"title\":{\"standoff\":15},\"zerolinecolor\":\"white\",\"automargin\":true,\"zerolinewidth\":2},\"scene\":{\"xaxis\":{\"backgroundcolor\":\"#E5ECF6\",\"gridcolor\":\"white\",\"linecolor\":\"white\",\"showbackground\":true,\"ticks\":\"\",\"zerolinecolor\":\"white\",\"gridwidth\":2},\"yaxis\":{\"backgroundcolor\":\"#E5ECF6\",\"gridcolor\":\"white\",\"linecolor\":\"white\",\"showbackground\":true,\"ticks\":\"\",\"zerolinecolor\":\"white\",\"gridwidth\":2},\"zaxis\":{\"backgroundcolor\":\"#E5ECF6\",\"gridcolor\":\"white\",\"linecolor\":\"white\",\"showbackground\":true,\"ticks\":\"\",\"zerolinecolor\":\"white\",\"gridwidth\":2}},\"shapedefaults\":{\"line\":{\"color\":\"#2a3f5f\"}},\"annotationdefaults\":{\"arrowcolor\":\"#2a3f5f\",\"arrowhead\":0,\"arrowwidth\":1},\"geo\":{\"bgcolor\":\"white\",\"landcolor\":\"#E5ECF6\",\"subunitcolor\":\"white\",\"showland\":true,\"showlakes\":true,\"lakecolor\":\"white\"},\"title\":{\"x\":0.05},\"mapbox\":{\"style\":\"light\"}}},\"title\":{\"text\":\"Bubble Chart of Abalone Length, Diameter, and Weight\"},\"xaxis\":{\"title\":{\"text\":\"Length (mm)\"}},\"yaxis\":{\"title\":{\"text\":\"Diameter (mm)\"}}},                        {\"responsive\": true}                    ).then(function(){\n",
              "                            \n",
              "var gd = document.getElementById('08768de6-999e-4d5e-baf3-f3c8c7a7ef88');\n",
              "var x = new MutationObserver(function (mutations, observer) {{\n",
              "        var display = window.getComputedStyle(gd).display;\n",
              "        if (!display || display === 'none') {{\n",
              "            console.log([gd, 'removed!']);\n",
              "            Plotly.purge(gd);\n",
              "            observer.disconnect();\n",
              "        }}\n",
              "}});\n",
              "\n",
              "// Listen for the removal of the full notebook cells\n",
              "var notebookContainer = gd.closest('#notebook-container');\n",
              "if (notebookContainer) {{\n",
              "    x.observe(notebookContainer, {childList: true});\n",
              "}}\n",
              "\n",
              "// Listen for the clearing of the current output cell\n",
              "var outputEl = gd.closest('.output');\n",
              "if (outputEl) {{\n",
              "    x.observe(outputEl, {childList: true});\n",
              "}}\n",
              "\n",
              "                        })                };                            </script>        </div>\n",
              "</body>\n",
              "</html>"
            ]
          },
          "metadata": {}
        }
      ]
    },
    {
      "cell_type": "code",
      "source": [
        "fig = go.Figure(data=[go.Violin(x=df['Sex'], y=df['Rings'], box_visible=True, points='all', jitter=0.05, marker=dict(size=1), line=dict(width=1), fillcolor='lightblue', opacity=0.6)])\n",
        "fig.update_layout(title='Violin Plot of Abalone Age by Sex',\n",
        "                  xaxis_title='Sex',\n",
        "                  yaxis_title='Age (rings)')\n",
        "fig.show()"
      ],
      "metadata": {
        "execution": {
          "iopub.status.busy": "2023-03-07T06:59:16.806706Z",
          "iopub.execute_input": "2023-03-07T06:59:16.806996Z",
          "iopub.status.idle": "2023-03-07T06:59:16.853836Z",
          "shell.execute_reply.started": "2023-03-07T06:59:16.806966Z",
          "shell.execute_reply": "2023-03-07T06:59:16.852913Z"
        },
        "trusted": true,
        "id": "saOL6lL-R4jR",
        "outputId": "fb36367f-5136-4bc8-a0e9-5d018c98da50",
        "colab": {
          "base_uri": "https://localhost:8080/",
          "height": 542
        }
      },
      "execution_count": 18,
      "outputs": [
        {
          "output_type": "display_data",
          "data": {
            "text/html": [
              "<html>\n",
              "<head><meta charset=\"utf-8\" /></head>\n",
              "<body>\n",
              "    <div>            <script src=\"https://cdnjs.cloudflare.com/ajax/libs/mathjax/2.7.5/MathJax.js?config=TeX-AMS-MML_SVG\"></script><script type=\"text/javascript\">if (window.MathJax && window.MathJax.Hub && window.MathJax.Hub.Config) {window.MathJax.Hub.Config({SVG: {font: \"STIX-Web\"}});}</script>                <script type=\"text/javascript\">window.PlotlyConfig = {MathJaxConfig: 'local'};</script>\n",
              "        <script charset=\"utf-8\" src=\"https://cdn.plot.ly/plotly-2.24.1.min.js\"></script>                <div id=\"d1686908-23e2-4d7d-b886-25227e88627d\" class=\"plotly-graph-div\" style=\"height:525px; width:100%;\"></div>            <script type=\"text/javascript\">                                    window.PLOTLYENV=window.PLOTLYENV || {};                                    if (document.getElementById(\"d1686908-23e2-4d7d-b886-25227e88627d\")) {                    Plotly.newPlot(                        \"d1686908-23e2-4d7d-b886-25227e88627d\",                        [{\"box\":{\"visible\":true},\"fillcolor\":\"lightblue\",\"jitter\":0.05,\"line\":{\"width\":1},\"marker\":{\"size\":1},\"opacity\":0.6,\"points\":\"all\",\"x\":[2.0,2.0,0.0,2.0,1.0,1.0,0.0,0.0,2.0,0.0,0.0,2.0,2.0,0.0,0.0,2.0,1.0,0.0,2.0,2.0,2.0,1.0,0.0,0.0,0.0,0.0,0.0,2.0,2.0,2.0,2.0,0.0,2.0,0.0,0.0,2.0,0.0,0.0,0.0,2.0,0.0,0.0,1.0,1.0,1.0,1.0,2.0,0.0,1.0,0.0,1.0,2.0,2.0,0.0,2.0,0.0,2.0,2.0,1.0,0.0,2.0,2.0,0.0,2.0,2.0,2.0,0.0,0.0,0.0,1.0,2.0,0.0,0.0,2.0,0.0,0.0,2.0,0.0,0.0,0.0,0.0,2.0,0.0,2.0,2.0,0.0,2.0,2.0,0.0,0.0,2.0,2.0,2.0,0.0,2.0,2.0,2.0,2.0,2.0,0.0,1.0,2.0,2.0,2.0,2.0,0.0,0.0,0.0,0.0,0.0,2.0,2.0,1.0,2.0,0.0,0.0,0.0,2.0,0.0,2.0,0.0,1.0,0.0,2.0,1.0,1.0,1.0,1.0,2.0,2.0,2.0,0.0,0.0,1.0,1.0,0.0,0.0,2.0,0.0,2.0,0.0,0.0,2.0,2.0,2.0,0.0,2.0,1.0,1.0,1.0,2.0,0.0,0.0,0.0,0.0,2.0,0.0,2.0,0.0,0.0,2.0,0.0,2.0,0.0,0.0,2.0,0.0,0.0,2.0,0.0,2.0,0.0,2.0,0.0,1.0,1.0,1.0,1.0,1.0,2.0,2.0,2.0,0.0,0.0,0.0,2.0,0.0,0.0,0.0,0.0,2.0,2.0,2.0,1.0,0.0,2.0,0.0,2.0,2.0,2.0,0.0,2.0,0.0,0.0,2.0,0.0,1.0,1.0,0.0,1.0,0.0,2.0,0.0,2.0,0.0,2.0,2.0,1.0,2.0,0.0,0.0,0.0,0.0,0.0,1.0,0.0,0.0,1.0,0.0,0.0,2.0,2.0,2.0,1.0,1.0,1.0,1.0,1.0,1.0,1.0,2.0,1.0,1.0,1.0,1.0,1.0,1.0,1.0,1.0,1.0,1.0,2.0,0.0,0.0,2.0,2.0,2.0,2.0,0.0,0.0,0.0,0.0,2.0,1.0,2.0,0.0,2.0,2.0,2.0,0.0,0.0,2.0,2.0,2.0,2.0,2.0,0.0,2.0,2.0,0.0,0.0,1.0,0.0,2.0,2.0,0.0,2.0,0.0,2.0,0.0,2.0,0.0,2.0,0.0,2.0,1.0,1.0,1.0,2.0,2.0,0.0,0.0,2.0,2.0,0.0,1.0,1.0,2.0,2.0,2.0,0.0,2.0,2.0,0.0,2.0,1.0,0.0,2.0,0.0,1.0,1.0,1.0,2.0,1.0,2.0,1.0,1.0,2.0,2.0,1.0,2.0,0.0,1.0,1.0,0.0,2.0,2.0,2.0,2.0,0.0,2.0,0.0,2.0,0.0,0.0,2.0,0.0,1.0,1.0,2.0,0.0,0.0,2.0,2.0,2.0,2.0,2.0,0.0,2.0,0.0,2.0,0.0,0.0,0.0,0.0,2.0,2.0,0.0,2.0,0.0,0.0,0.0,0.0,0.0,2.0,0.0,2.0,0.0,2.0,0.0,2.0,2.0,2.0,2.0,2.0,0.0,2.0,2.0,2.0,1.0,1.0,2.0,0.0,1.0,1.0,1.0,0.0,2.0,2.0,2.0,0.0,2.0,0.0,0.0,1.0,0.0,2.0,2.0,2.0,2.0,2.0,2.0,0.0,2.0,0.0,0.0,0.0,2.0,0.0,2.0,0.0,1.0,0.0,1.0,1.0,2.0,0.0,2.0,0.0,0.0,0.0,2.0,2.0,2.0,1.0,2.0,1.0,1.0,2.0,2.0,1.0,1.0,0.0,1.0,0.0,0.0,2.0,2.0,2.0,0.0,2.0,0.0,0.0,0.0,0.0,2.0,0.0,1.0,1.0,0.0,2.0,0.0,1.0,1.0,1.0,1.0,0.0,2.0,0.0,2.0,0.0,0.0,1.0,0.0,0.0,2.0,0.0,2.0,2.0,2.0,0.0,2.0,2.0,0.0,2.0,0.0,2.0,0.0,2.0,0.0,2.0,2.0,0.0,2.0,2.0,0.0,0.0,0.0,0.0,2.0,0.0,0.0,0.0,0.0,0.0,2.0,2.0,2.0,2.0,1.0,1.0,0.0,0.0,2.0,0.0,2.0,2.0,2.0,2.0,0.0,2.0,0.0,1.0,2.0,2.0,2.0,2.0,0.0,0.0,2.0,1.0,0.0,1.0,0.0,1.0,1.0,1.0,2.0,2.0,0.0,0.0,0.0,2.0,2.0,0.0,2.0,2.0,2.0,0.0,1.0,1.0,1.0,1.0,1.0,1.0,1.0,1.0,0.0,0.0,1.0,0.0,1.0,0.0,0.0,0.0,2.0,1.0,1.0,2.0,0.0,1.0,1.0,0.0,0.0,1.0,0.0,1.0,0.0,1.0,0.0,0.0,1.0,0.0,1.0,0.0,1.0,1.0,0.0,2.0,0.0,1.0,0.0,1.0,0.0,2.0,1.0,0.0,1.0,1.0,0.0,1.0,0.0,0.0,1.0,1.0,1.0,2.0,1.0,2.0,2.0,0.0,2.0,2.0,1.0,1.0,2.0,0.0,2.0,2.0,2.0,2.0,1.0,0.0,0.0,1.0,0.0,0.0,0.0,1.0,2.0,1.0,0.0,2.0,1.0,2.0,2.0,2.0,2.0,1.0,0.0,2.0,1.0,0.0,2.0,2.0,1.0,2.0,2.0,1.0,0.0,2.0,1.0,1.0,2.0,0.0,2.0,0.0,0.0,1.0,0.0,1.0,1.0,0.0,0.0,1.0,0.0,2.0,0.0,2.0,0.0,2.0,0.0,0.0,2.0,0.0,0.0,2.0,0.0,0.0,0.0,1.0,2.0,0.0,2.0,2.0,2.0,0.0,0.0,2.0,2.0,2.0,1.0,0.0,2.0,1.0,1.0,1.0,2.0,0.0,0.0,2.0,0.0,0.0,2.0,2.0,2.0,2.0,0.0,2.0,1.0,1.0,2.0,1.0,2.0,2.0,1.0,1.0,1.0,1.0,1.0,1.0,2.0,2.0,2.0,2.0,0.0,2.0,0.0,2.0,0.0,2.0,2.0,2.0,2.0,2.0,2.0,2.0,0.0,2.0,2.0,2.0,0.0,0.0,0.0,2.0,0.0,0.0,2.0,2.0,2.0,0.0,2.0,0.0,0.0,2.0,2.0,2.0,0.0,2.0,2.0,2.0,0.0,0.0,2.0,0.0,2.0,0.0,2.0,0.0,0.0,0.0,1.0,2.0,2.0,2.0,2.0,2.0,2.0,2.0,0.0,2.0,2.0,2.0,1.0,1.0,2.0,0.0,2.0,0.0,0.0,0.0,0.0,2.0,2.0,2.0,2.0,2.0,2.0,2.0,0.0,2.0,2.0,2.0,1.0,2.0,2.0,1.0,0.0,0.0,0.0,2.0,0.0,1.0,1.0,1.0,1.0,1.0,1.0,1.0,1.0,1.0,1.0,1.0,1.0,1.0,1.0,1.0,1.0,1.0,1.0,2.0,1.0,1.0,1.0,1.0,1.0,2.0,1.0,0.0,1.0,2.0,0.0,2.0,2.0,2.0,2.0,0.0,0.0,0.0,2.0,0.0,2.0,2.0,2.0,2.0,0.0,2.0,2.0,0.0,0.0,0.0,0.0,2.0,0.0,2.0,0.0,2.0,0.0,0.0,2.0,2.0,0.0,2.0,0.0,0.0,2.0,2.0,0.0,0.0,0.0,2.0,2.0,2.0,2.0,2.0,0.0,0.0,0.0,0.0,0.0,0.0,2.0,1.0,1.0,1.0,1.0,1.0,1.0,1.0,1.0,1.0,1.0,1.0,1.0,1.0,1.0,1.0,1.0,1.0,1.0,1.0,1.0,1.0,1.0,1.0,1.0,1.0,1.0,1.0,1.0,1.0,1.0,1.0,1.0,1.0,1.0,1.0,1.0,1.0,1.0,1.0,0.0,1.0,1.0,1.0,1.0,1.0,1.0,1.0,1.0,1.0,1.0,1.0,1.0,0.0,2.0,0.0,2.0,0.0,2.0,2.0,2.0,2.0,0.0,2.0,2.0,2.0,2.0,1.0,2.0,2.0,0.0,1.0,2.0,1.0,2.0,1.0,1.0,2.0,2.0,0.0,2.0,0.0,2.0,0.0,0.0,2.0,0.0,2.0,2.0,0.0,0.0,0.0,0.0,2.0,2.0,0.0,2.0,2.0,2.0,0.0,0.0,0.0,2.0,0.0,2.0,2.0,2.0,0.0,0.0,0.0,2.0,0.0,2.0,0.0,2.0,2.0,2.0,2.0,0.0,0.0,0.0,2.0,0.0,0.0,0.0,2.0,0.0,2.0,2.0,2.0,2.0,0.0,0.0,0.0,2.0,2.0,0.0,2.0,0.0,0.0,2.0,2.0,2.0,0.0,0.0,0.0,2.0,2.0,0.0,2.0,0.0,0.0,2.0,2.0,2.0,0.0,0.0,2.0,2.0,0.0,0.0,2.0,1.0,1.0,1.0,1.0,1.0,1.0,1.0,1.0,1.0,1.0,1.0,1.0,1.0,1.0,1.0,1.0,1.0,1.0,1.0,1.0,1.0,1.0,1.0,1.0,1.0,1.0,1.0,2.0,1.0,1.0,1.0,1.0,1.0,1.0,1.0,1.0,1.0,1.0,1.0,1.0,2.0,1.0,1.0,1.0,1.0,2.0,1.0,1.0,1.0,2.0,0.0,1.0,0.0,1.0,1.0,1.0,2.0,1.0,1.0,0.0,1.0,1.0,2.0,1.0,1.0,1.0,1.0,2.0,2.0,2.0,0.0,0.0,2.0,2.0,2.0,0.0,2.0,2.0,2.0,0.0,2.0,0.0,1.0,0.0,0.0,2.0,0.0,2.0,1.0,2.0,2.0,2.0,2.0,2.0,2.0,2.0,0.0,2.0,2.0,2.0,0.0,2.0,0.0,2.0,0.0,2.0,2.0,0.0,2.0,2.0,2.0,2.0,0.0,0.0,2.0,2.0,0.0,0.0,2.0,2.0,2.0,0.0,2.0,2.0,0.0,0.0,2.0,2.0,0.0,0.0,2.0,1.0,0.0,0.0,2.0,0.0,2.0,0.0,2.0,2.0,2.0,0.0,0.0,0.0,2.0,2.0,0.0,0.0,2.0,2.0,0.0,2.0,2.0,0.0,0.0,2.0,0.0,1.0,1.0,1.0,1.0,1.0,1.0,1.0,1.0,1.0,1.0,1.0,1.0,1.0,1.0,1.0,1.0,1.0,1.0,1.0,1.0,1.0,1.0,1.0,1.0,1.0,1.0,1.0,1.0,1.0,1.0,1.0,1.0,1.0,1.0,1.0,1.0,1.0,1.0,1.0,1.0,1.0,1.0,1.0,1.0,1.0,1.0,1.0,1.0,1.0,1.0,1.0,1.0,1.0,0.0,1.0,1.0,1.0,0.0,1.0,1.0,1.0,1.0,1.0,1.0,1.0,1.0,1.0,1.0,1.0,1.0,2.0,1.0,2.0,1.0,1.0,1.0,1.0,1.0,1.0,1.0,1.0,1.0,1.0,1.0,1.0,1.0,2.0,1.0,1.0,1.0,1.0,1.0,1.0,0.0,2.0,0.0,1.0,1.0,0.0,1.0,1.0,1.0,0.0,2.0,1.0,1.0,2.0,1.0,1.0,1.0,1.0,1.0,0.0,1.0,1.0,0.0,2.0,2.0,1.0,1.0,0.0,2.0,1.0,2.0,0.0,0.0,2.0,2.0,2.0,0.0,2.0,2.0,1.0,2.0,2.0,2.0,2.0,1.0,2.0,2.0,0.0,0.0,2.0,2.0,1.0,0.0,0.0,2.0,1.0,2.0,1.0,0.0,0.0,2.0,2.0,2.0,1.0,2.0,2.0,0.0,2.0,2.0,0.0,2.0,2.0,0.0,2.0,2.0,0.0,0.0,2.0,0.0,0.0,0.0,0.0,1.0,2.0,1.0,2.0,2.0,0.0,0.0,2.0,2.0,2.0,2.0,2.0,2.0,2.0,0.0,0.0,2.0,2.0,0.0,0.0,2.0,0.0,2.0,0.0,0.0,0.0,0.0,0.0,2.0,2.0,0.0,0.0,2.0,2.0,0.0,0.0,0.0,2.0,0.0,0.0,0.0,0.0,0.0,0.0,1.0,1.0,1.0,1.0,1.0,1.0,1.0,1.0,1.0,1.0,1.0,1.0,1.0,1.0,2.0,1.0,1.0,1.0,2.0,1.0,2.0,1.0,1.0,1.0,1.0,1.0,2.0,1.0,0.0,1.0,1.0,2.0,2.0,0.0,2.0,0.0,1.0,2.0,1.0,2.0,2.0,1.0,2.0,0.0,0.0,2.0,0.0,0.0,2.0,2.0,2.0,0.0,0.0,2.0,2.0,0.0,0.0,0.0,2.0,2.0,0.0,0.0,0.0,0.0,1.0,2.0,0.0,2.0,2.0,2.0,2.0,0.0,2.0,2.0,0.0,0.0,2.0,0.0,0.0,2.0,0.0,0.0,2.0,0.0,2.0,0.0,2.0,2.0,0.0,2.0,2.0,2.0,0.0,2.0,2.0,0.0,2.0,2.0,2.0,2.0,2.0,2.0,1.0,1.0,1.0,1.0,1.0,1.0,1.0,1.0,1.0,1.0,1.0,1.0,1.0,1.0,1.0,1.0,1.0,1.0,1.0,1.0,1.0,1.0,1.0,1.0,1.0,1.0,1.0,1.0,1.0,1.0,1.0,1.0,1.0,1.0,1.0,1.0,1.0,1.0,1.0,2.0,1.0,1.0,1.0,2.0,1.0,1.0,1.0,1.0,1.0,1.0,1.0,1.0,1.0,0.0,1.0,1.0,1.0,1.0,1.0,1.0,2.0,1.0,1.0,1.0,2.0,1.0,1.0,1.0,1.0,1.0,1.0,1.0,1.0,2.0,1.0,1.0,1.0,1.0,1.0,1.0,2.0,1.0,1.0,1.0,1.0,1.0,1.0,1.0,1.0,1.0,2.0,1.0,0.0,2.0,2.0,0.0,2.0,1.0,1.0,1.0,1.0,2.0,1.0,0.0,1.0,2.0,0.0,1.0,1.0,0.0,2.0,2.0,0.0,2.0,2.0,1.0,0.0,2.0,1.0,1.0,0.0,2.0,2.0,1.0,0.0,0.0,2.0,1.0,0.0,2.0,2.0,0.0,2.0,1.0,0.0,0.0,0.0,2.0,0.0,0.0,2.0,0.0,1.0,2.0,0.0,2.0,2.0,1.0,0.0,2.0,0.0,1.0,0.0,1.0,1.0,2.0,0.0,2.0,2.0,2.0,1.0,0.0,1.0,2.0,0.0,2.0,2.0,2.0,1.0,2.0,0.0,0.0,0.0,2.0,2.0,2.0,2.0,2.0,2.0,2.0,2.0,0.0,2.0,0.0,2.0,0.0,0.0,2.0,2.0,2.0,2.0,0.0,0.0,0.0,2.0,0.0,2.0,2.0,2.0,2.0,0.0,2.0,2.0,2.0,2.0,0.0,0.0,0.0,2.0,0.0,2.0,0.0,2.0,0.0,0.0,2.0,0.0,0.0,2.0,0.0,0.0,2.0,2.0,2.0,0.0,0.0,0.0,2.0,0.0,0.0,2.0,2.0,2.0,1.0,1.0,0.0,2.0,1.0,2.0,1.0,1.0,1.0,1.0,2.0,1.0,2.0,1.0,0.0,2.0,2.0,2.0,2.0,2.0,2.0,0.0,1.0,1.0,0.0,0.0,0.0,2.0,2.0,2.0,1.0,0.0,2.0,1.0,2.0,2.0,2.0,2.0,0.0,0.0,2.0,2.0,2.0,2.0,0.0,0.0,2.0,2.0,2.0,0.0,2.0,0.0,0.0,0.0,0.0,2.0,0.0,0.0,2.0,2.0,1.0,1.0,1.0,1.0,1.0,1.0,1.0,1.0,1.0,1.0,1.0,1.0,1.0,1.0,1.0,1.0,1.0,1.0,1.0,1.0,1.0,1.0,1.0,1.0,1.0,1.0,1.0,1.0,1.0,1.0,1.0,1.0,1.0,1.0,0.0,1.0,1.0,2.0,1.0,1.0,1.0,1.0,1.0,1.0,1.0,1.0,1.0,1.0,1.0,1.0,1.0,0.0,1.0,1.0,1.0,1.0,1.0,1.0,2.0,2.0,2.0,1.0,2.0,1.0,0.0,2.0,2.0,1.0,2.0,1.0,2.0,2.0,2.0,2.0,0.0,2.0,2.0,2.0,2.0,2.0,0.0,1.0,1.0,0.0,2.0,0.0,0.0,2.0,1.0,2.0,2.0,0.0,2.0,2.0,0.0,1.0,0.0,2.0,2.0,0.0,0.0,0.0,2.0,2.0,0.0,2.0,2.0,2.0,0.0,2.0,2.0,2.0,2.0,2.0,2.0,0.0,0.0,0.0,2.0,0.0,0.0,0.0,2.0,2.0,2.0,2.0,0.0,0.0,1.0,2.0,0.0,0.0,2.0,0.0,1.0,0.0,0.0,0.0,0.0,2.0,0.0,2.0,0.0,2.0,2.0,0.0,2.0,0.0,2.0,2.0,2.0,2.0,2.0,0.0,2.0,2.0,0.0,0.0,2.0,0.0,0.0,2.0,1.0,1.0,1.0,1.0,1.0,1.0,1.0,1.0,1.0,1.0,1.0,1.0,1.0,1.0,1.0,1.0,1.0,1.0,1.0,1.0,1.0,1.0,1.0,1.0,1.0,2.0,1.0,2.0,1.0,1.0,2.0,2.0,2.0,1.0,2.0,2.0,0.0,0.0,2.0,0.0,0.0,2.0,0.0,2.0,2.0,0.0,2.0,2.0,0.0,2.0,1.0,1.0,1.0,1.0,1.0,1.0,1.0,1.0,0.0,1.0,1.0,1.0,1.0,1.0,2.0,0.0,2.0,2.0,2.0,1.0,0.0,1.0,2.0,1.0,2.0,0.0,2.0,2.0,2.0,0.0,0.0,0.0,0.0,2.0,1.0,0.0,2.0,0.0,0.0,2.0,0.0,0.0,2.0,0.0,2.0,2.0,0.0,2.0,0.0,0.0,0.0,2.0,0.0,0.0,2.0,0.0,2.0,0.0,1.0,2.0,2.0,2.0,2.0,0.0,1.0,2.0,1.0,2.0,0.0,2.0,2.0,0.0,2.0,2.0,1.0,1.0,2.0,1.0,1.0,1.0,1.0,0.0,0.0,1.0,2.0,1.0,0.0,0.0,2.0,2.0,0.0,1.0,2.0,2.0,2.0,2.0,0.0,2.0,0.0,2.0,0.0,0.0,0.0,2.0,0.0,1.0,1.0,2.0,2.0,0.0,2.0,2.0,2.0,2.0,2.0,0.0,0.0,1.0,2.0,2.0,2.0,2.0,2.0,0.0,2.0,0.0,0.0,0.0,2.0,0.0,1.0,0.0,2.0,1.0,2.0,1.0,1.0,2.0,0.0,2.0,0.0,0.0,0.0,0.0,0.0,2.0,2.0,2.0,1.0,2.0,0.0,2.0,2.0,0.0,2.0,2.0,0.0,1.0,1.0,1.0,1.0,1.0,1.0,0.0,0.0,0.0,2.0,2.0,2.0,1.0,0.0,2.0,0.0,0.0,2.0,2.0,0.0,2.0,0.0,0.0,1.0,0.0,2.0,0.0,0.0,2.0,0.0,0.0,0.0,2.0,1.0,1.0,0.0,2.0,2.0,0.0,0.0,2.0,0.0,2.0,0.0,2.0,1.0,0.0,2.0,0.0,0.0,2.0,1.0,2.0,0.0,0.0,2.0,0.0,2.0,2.0,0.0,0.0,2.0,2.0,2.0,2.0,2.0,0.0,2.0,2.0,0.0,0.0,1.0,0.0,0.0,0.0,0.0,2.0,0.0,0.0,2.0,0.0,2.0,2.0,0.0,0.0,2.0,2.0,2.0,1.0,0.0,1.0,1.0,1.0,0.0,0.0,1.0,0.0,1.0,2.0,0.0,1.0,2.0,0.0,0.0,2.0,1.0,1.0,0.0,0.0,2.0,0.0,2.0,0.0,0.0,0.0,2.0,2.0,0.0,2.0,1.0,2.0,0.0,2.0,2.0,2.0,0.0,0.0,1.0,2.0,2.0,1.0,0.0,0.0,2.0,2.0,0.0,1.0,1.0,2.0,0.0,2.0,0.0,2.0,0.0,2.0,2.0,2.0,0.0,1.0,1.0,1.0,2.0,0.0,0.0,2.0,2.0,0.0,0.0,2.0,2.0,0.0,2.0,2.0,2.0,2.0,0.0,0.0,0.0,2.0,0.0,2.0,0.0,0.0,2.0,2.0,0.0,1.0,1.0,2.0,0.0,0.0,1.0,2.0,0.0,1.0,1.0,0.0,2.0,2.0,1.0,0.0,0.0,0.0,0.0,1.0,1.0,2.0,0.0,2.0,2.0,1.0,1.0,1.0,1.0,1.0,1.0,0.0,1.0,0.0,1.0,2.0,1.0,1.0,0.0,1.0,1.0,0.0,0.0,1.0,2.0,0.0,1.0,2.0,2.0,2.0,0.0,0.0,2.0,1.0,0.0,0.0,2.0,1.0,1.0,2.0,0.0,2.0,1.0,0.0,0.0,0.0,1.0,0.0,2.0,1.0,0.0,0.0,2.0,2.0,2.0,0.0,2.0,2.0,0.0,1.0,0.0,0.0,0.0,2.0,2.0,1.0,1.0,1.0,1.0,1.0,1.0,0.0,2.0,0.0,2.0,2.0,0.0,2.0,2.0,2.0,0.0,2.0,2.0,2.0,2.0,0.0,2.0,0.0,2.0,2.0,0.0,0.0,0.0,2.0,2.0,0.0,2.0,1.0,0.0,0.0,2.0,2.0,2.0,0.0,0.0,1.0,2.0,2.0,0.0,2.0,2.0,2.0,0.0,0.0,1.0,1.0,1.0,1.0,1.0,1.0,1.0,1.0,1.0,1.0,2.0,0.0,1.0,0.0,1.0,2.0,2.0,1.0,2.0,2.0,2.0,0.0,2.0,2.0,2.0,2.0,0.0,0.0,0.0,2.0,0.0,2.0,2.0,0.0,0.0,1.0,2.0,0.0,0.0,0.0,0.0,0.0,0.0,1.0,1.0,1.0,1.0,1.0,1.0,1.0,1.0,1.0,1.0,1.0,1.0,1.0,1.0,1.0,1.0,1.0,1.0,1.0,1.0,1.0,0.0,0.0,1.0,1.0,1.0,2.0,1.0,1.0,2.0,2.0,1.0,1.0,2.0,2.0,2.0,0.0,2.0,0.0,2.0,0.0,0.0,0.0,0.0,2.0,0.0,0.0,2.0,0.0,0.0,0.0,0.0,0.0,2.0,2.0,0.0,0.0,2.0,0.0,0.0,0.0,2.0,0.0,0.0,0.0,0.0,2.0,0.0,0.0,2.0,2.0,0.0,2.0,0.0,2.0,0.0,2.0,0.0,0.0,2.0,2.0,1.0,1.0,1.0,1.0,1.0,1.0,1.0,1.0,1.0,1.0,1.0,1.0,1.0,1.0,1.0,1.0,1.0,1.0,1.0,2.0,1.0,1.0,2.0,2.0,1.0,1.0,1.0,1.0,0.0,2.0,2.0,0.0,1.0,0.0,1.0,2.0,0.0,2.0,0.0,0.0,2.0,0.0,0.0,2.0,2.0,0.0,0.0,2.0,2.0,2.0,0.0,0.0,2.0,0.0,2.0,2.0,2.0,2.0,0.0,2.0,2.0,2.0,2.0,2.0,2.0,0.0,2.0,2.0,0.0,2.0,0.0,2.0,0.0,2.0,2.0,0.0,2.0,2.0,2.0,2.0,0.0,2.0,2.0,0.0,2.0,1.0,1.0,1.0,1.0,1.0,1.0,1.0,1.0,1.0,1.0,1.0,1.0,1.0,1.0,1.0,1.0,1.0,1.0,1.0,1.0,1.0,1.0,1.0,1.0,1.0,1.0,1.0,2.0,1.0,1.0,1.0,1.0,1.0,2.0,1.0,1.0,1.0,1.0,1.0,1.0,0.0,2.0,1.0,1.0,0.0,1.0,1.0,2.0,0.0,1.0,1.0,1.0,1.0,1.0,1.0,0.0,1.0,1.0,1.0,0.0,0.0,2.0,0.0,0.0,1.0,2.0,1.0,0.0,2.0,2.0,2.0,2.0,2.0,2.0,2.0,2.0,0.0,0.0,0.0,0.0,2.0,2.0,2.0,0.0,2.0,2.0,2.0,2.0,2.0,0.0,2.0,2.0,2.0,0.0,0.0,0.0,2.0,0.0,2.0,2.0,2.0,1.0,1.0,1.0,1.0,1.0,1.0,1.0,1.0,1.0,1.0,1.0,1.0,1.0,1.0,2.0,1.0,2.0,1.0,0.0,2.0,0.0,0.0,0.0,2.0,2.0,0.0,2.0,0.0,2.0,2.0,2.0,2.0,2.0,0.0,2.0,2.0,0.0,2.0,2.0,0.0,0.0,0.0,0.0,0.0,0.0,2.0,2.0,0.0,0.0,0.0,2.0,2.0,1.0,1.0,1.0,1.0,1.0,1.0,1.0,1.0,1.0,1.0,1.0,1.0,1.0,1.0,0.0,1.0,1.0,1.0,1.0,1.0,1.0,1.0,2.0,1.0,1.0,1.0,2.0,1.0,2.0,0.0,1.0,1.0,1.0,1.0,1.0,1.0,0.0,1.0,1.0,0.0,1.0,2.0,2.0,2.0,0.0,0.0,2.0,0.0,1.0,2.0,1.0,1.0,2.0,2.0,1.0,0.0,2.0,0.0,2.0,0.0,2.0,1.0,1.0,0.0,2.0,1.0,0.0,0.0,2.0,0.0,0.0,2.0,2.0,2.0,0.0,0.0,2.0,0.0,2.0,0.0,2.0,0.0,2.0,2.0,0.0,2.0,2.0,2.0,0.0,0.0,2.0,2.0,0.0,0.0,0.0,0.0,0.0,0.0,1.0,0.0,2.0,2.0,2.0,2.0,0.0,2.0,2.0,2.0,2.0,2.0,2.0,1.0,1.0,1.0,2.0,2.0,1.0,0.0,0.0,0.0,0.0,1.0,2.0,2.0,2.0,2.0,0.0,2.0,1.0,0.0,2.0,2.0,0.0,0.0,0.0,0.0,2.0,2.0,2.0,0.0,0.0,2.0,2.0,2.0,0.0,1.0,1.0,1.0,1.0,1.0,1.0,1.0,1.0,1.0,1.0,1.0,1.0,1.0,1.0,1.0,1.0,1.0,1.0,1.0,1.0,1.0,1.0,1.0,1.0,2.0,2.0,1.0,1.0,2.0,1.0,2.0,0.0,2.0,1.0,2.0,1.0,0.0,2.0,2.0,1.0,2.0,2.0,2.0,0.0,0.0,2.0,0.0,2.0,2.0,1.0,0.0,2.0,2.0,0.0,0.0,2.0,0.0,0.0,2.0,2.0,2.0,0.0,0.0,0.0,2.0,2.0,0.0,0.0,2.0,0.0,0.0,2.0,0.0,0.0,1.0,1.0,1.0,1.0,1.0,1.0,2.0,2.0,2.0,2.0,0.0,2.0,2.0,0.0,2.0,0.0,2.0,2.0,2.0,2.0,2.0,2.0,1.0,1.0,1.0,1.0,1.0,1.0,1.0,1.0,1.0,1.0,1.0,2.0,0.0,2.0,0.0,0.0,0.0,2.0,2.0,0.0,2.0,2.0,0.0,0.0,0.0,2.0,2.0,0.0,0.0,2.0,2.0,2.0,2.0,2.0,1.0,2.0,1.0,1.0,1.0,0.0,2.0,2.0,0.0,0.0,0.0,0.0,0.0,0.0,2.0,2.0,2.0,2.0,0.0,2.0,0.0,1.0,0.0,2.0,0.0,0.0,0.0,0.0,2.0,2.0,2.0,0.0,2.0,0.0,2.0,2.0,1.0,0.0,0.0,2.0,1.0,0.0,2.0,2.0,2.0,0.0,0.0,0.0,0.0,2.0,2.0,1.0,2.0,0.0,2.0,0.0,0.0,1.0,1.0,2.0,0.0,0.0,0.0,0.0,0.0,0.0,2.0,1.0,1.0,1.0,1.0,2.0,0.0,0.0,0.0,0.0,0.0,2.0,2.0,0.0,2.0,2.0,2.0,2.0,2.0,2.0,1.0,0.0,0.0,1.0,0.0,2.0,2.0,2.0,0.0,0.0,2.0,1.0,2.0,2.0,0.0,2.0,2.0,2.0,0.0,0.0,0.0,2.0,0.0,2.0,2.0,0.0,1.0,2.0,1.0,0.0,1.0,0.0,2.0,2.0,2.0,0.0,0.0,0.0,2.0,0.0,2.0,0.0,0.0,2.0,0.0,0.0,2.0,2.0,0.0,0.0,2.0,2.0,0.0,2.0,0.0,2.0,2.0,0.0,0.0,2.0,0.0,0.0,2.0,0.0,2.0,0.0,2.0,0.0,2.0,0.0,2.0,0.0,2.0,0.0,2.0,0.0,0.0,0.0,0.0,0.0,1.0,1.0,0.0,2.0,1.0,0.0,0.0,0.0,2.0,1.0,2.0,2.0,2.0,2.0,0.0,0.0,1.0,0.0,0.0,1.0,2.0,1.0,1.0,1.0,0.0,0.0,0.0,1.0,1.0,1.0,0.0,0.0,1.0,0.0,0.0,1.0,0.0,2.0,0.0,1.0,0.0,1.0,2.0,1.0,1.0,1.0,0.0,0.0,1.0,0.0,1.0,1.0,1.0,2.0,1.0,0.0,2.0,2.0,1.0,2.0,1.0,2.0,1.0,1.0,1.0,2.0,2.0,1.0,2.0,0.0,0.0,1.0,1.0,2.0,1.0,1.0,2.0,2.0,2.0,0.0,0.0,2.0,2.0,2.0,2.0,2.0,2.0,2.0,2.0,2.0,0.0,2.0,0.0,2.0,0.0,2.0,2.0,2.0,1.0,2.0,1.0,1.0,1.0,1.0,1.0,1.0,1.0,1.0,2.0,0.0,0.0,2.0,2.0,0.0,2.0,0.0,2.0,2.0,0.0,2.0,0.0,2.0,2.0,1.0,1.0,1.0,1.0,1.0,1.0,1.0,1.0,1.0,1.0,1.0,1.0,1.0,0.0,2.0,1.0,0.0,1.0,1.0,0.0,2.0,2.0,0.0,2.0,0.0,0.0,0.0,2.0,0.0,0.0,0.0,2.0,2.0,0.0,0.0,2.0,2.0,0.0,2.0,2.0,0.0,0.0,2.0,0.0,1.0,1.0,1.0,1.0,1.0,1.0,1.0,1.0,1.0,1.0,1.0,1.0,1.0,1.0,0.0,1.0,1.0,0.0,2.0,2.0,2.0,2.0,0.0,2.0,2.0,0.0,2.0,0.0,2.0,2.0,2.0,0.0,0.0,2.0,2.0,0.0,0.0,0.0,2.0,2.0,0.0,0.0,2.0,0.0,0.0,0.0,2.0,2.0,0.0,1.0,1.0,1.0,1.0,1.0,1.0,1.0,1.0,1.0,1.0,1.0,1.0,1.0,1.0,1.0,1.0,1.0,2.0,1.0,1.0,1.0,1.0,1.0,1.0,1.0,1.0,1.0,0.0,1.0,2.0,1.0,1.0,1.0,1.0,2.0,1.0,1.0,1.0,0.0,2.0,1.0,0.0,1.0,1.0,0.0,2.0,1.0,1.0,1.0,2.0,0.0,0.0,0.0,0.0,2.0,0.0,2.0,0.0,0.0,0.0,2.0,0.0,0.0,2.0,2.0,1.0,2.0,2.0,2.0,0.0,0.0,2.0,0.0,0.0,2.0,2.0,2.0,2.0,2.0,1.0,1.0,1.0,1.0,1.0,1.0,0.0,2.0,2.0,0.0,2.0,0.0,2.0,0.0,2.0,2.0,2.0,2.0,2.0,0.0,0.0,0.0,2.0,2.0,0.0,0.0,2.0,2.0,0.0,1.0,1.0,1.0,1.0,1.0,1.0,1.0,1.0,1.0,1.0,1.0,1.0,1.0,1.0,1.0,1.0,1.0,1.0,1.0,1.0,1.0,1.0,1.0,0.0,1.0,1.0,2.0,1.0,2.0,1.0,2.0,0.0,1.0,1.0,1.0,1.0,1.0,1.0,0.0,0.0,1.0,2.0,1.0,0.0,0.0,0.0,2.0,0.0,2.0,0.0,2.0,0.0,2.0,2.0,2.0,1.0,2.0,0.0,1.0,1.0,0.0,2.0,2.0,2.0,2.0,2.0,0.0,2.0,2.0,0.0,2.0,0.0,2.0,0.0,0.0,2.0,0.0,0.0,2.0,0.0,2.0,2.0,2.0,0.0,2.0,0.0,2.0,1.0,1.0,1.0,1.0,0.0,2.0,1.0,1.0,0.0,2.0,1.0,2.0,1.0,2.0,2.0,0.0,0.0,2.0,2.0,2.0,2.0,2.0,0.0,0.0,0.0,0.0,0.0,0.0,1.0,1.0,1.0,1.0,1.0,1.0,1.0,1.0,1.0,1.0,1.0,1.0,1.0,1.0,1.0,2.0,2.0,2.0,1.0,1.0,1.0,1.0,0.0,2.0,2.0,0.0,1.0,1.0,2.0,0.0,1.0,2.0,0.0,2.0,1.0,2.0,2.0,2.0,0.0,1.0,2.0,2.0,2.0,2.0,0.0,0.0,0.0,0.0,0.0,0.0,2.0,2.0,0.0,2.0,0.0,0.0,2.0,1.0,1.0,1.0,1.0,2.0,1.0,0.0,2.0,0.0,1.0,2.0,0.0,1.0,1.0,1.0,2.0,2.0,2.0,2.0,2.0,2.0,0.0,0.0,2.0,2.0,0.0,2.0,2.0,0.0,2.0,0.0,0.0,2.0,2.0,0.0,2.0,1.0,1.0,2.0,0.0,2.0,0.0,2.0,2.0,2.0,1.0,2.0,0.0,2.0,0.0,2.0,2.0,0.0,0.0,2.0,1.0,2.0,0.0,0.0,0.0,0.0,2.0,0.0,1.0,2.0,0.0,0.0,0.0,0.0,2.0,0.0,0.0,1.0,0.0,2.0,2.0,0.0,2.0,0.0,1.0,0.0,0.0,2.0,1.0,1.0,0.0,0.0,0.0,2.0,2.0,0.0,0.0,1.0,2.0,0.0,2.0,0.0,0.0,1.0,2.0,0.0,1.0,2.0,2.0,2.0,2.0,1.0,1.0,0.0,2.0,1.0,1.0,1.0,1.0,1.0,0.0,1.0,0.0,1.0,2.0,2.0,1.0,2.0,0.0,0.0,1.0,1.0,1.0,0.0,0.0,1.0,0.0,1.0,1.0,2.0,0.0,2.0,0.0,2.0,2.0,0.0,0.0,2.0,2.0,1.0,2.0,2.0,0.0,0.0,0.0,0.0,1.0,1.0,2.0,1.0,0.0,0.0,0.0,0.0,2.0,2.0,0.0,1.0,1.0,1.0,1.0,1.0,1.0,1.0,1.0,1.0,2.0,1.0,1.0,1.0,1.0,1.0,2.0,2.0,0.0,2.0,1.0,0.0,2.0,2.0,0.0,0.0,2.0,0.0,2.0,2.0,2.0,2.0,1.0,1.0,1.0,1.0,1.0,1.0,1.0,1.0,1.0,1.0,2.0,0.0,2.0,0.0,2.0,2.0,2.0,2.0,0.0,2.0,2.0,2.0,0.0,2.0,2.0,2.0,0.0,0.0,2.0,1.0,1.0,1.0,1.0,1.0,1.0,1.0,1.0,1.0,1.0,1.0,2.0,1.0,1.0,1.0,1.0,1.0,0.0,1.0,0.0,0.0,0.0,2.0,2.0,2.0,0.0,2.0,2.0,2.0,2.0,0.0,0.0,0.0,2.0,0.0,0.0,2.0,1.0,2.0,2.0,0.0,0.0,1.0,1.0,1.0,1.0,1.0,1.0,1.0,1.0,1.0,1.0,2.0,1.0,1.0,2.0,2.0,1.0,2.0,1.0,2.0,0.0,2.0,2.0,1.0,2.0,2.0,2.0,2.0,0.0,2.0,2.0,0.0,0.0,2.0,0.0,2.0,0.0,0.0,2.0,2.0,0.0,0.0,0.0,1.0,1.0,2.0,2.0,1.0,0.0,1.0,0.0,0.0,2.0,0.0,2.0,1.0,2.0,1.0,1.0,1.0,1.0,1.0,2.0,1.0,2.0,1.0,2.0,1.0,1.0,2.0,0.0,0.0,0.0,2.0,2.0,0.0,0.0,0.0,2.0,0.0,2.0,2.0,2.0,2.0,2.0,1.0,1.0,1.0,1.0,1.0,1.0,1.0,2.0,2.0,1.0,0.0,0.0,0.0,2.0,1.0,1.0,1.0,1.0,2.0,0.0,2.0,2.0,2.0,0.0,2.0,2.0,0.0,2.0],\"y\":[15,7,9,10,7,8,20,16,9,19,14,10,11,10,10,12,7,10,7,9,11,10,12,9,10,11,11,12,15,11,10,15,18,19,13,8,16,8,11,9,9,14,5,5,4,7,9,7,6,9,8,7,10,10,7,8,8,8,4,7,7,9,10,7,8,8,12,13,10,6,13,8,20,11,13,15,9,10,11,14,9,12,16,21,14,12,13,10,9,12,15,12,13,10,15,14,9,8,7,10,7,15,15,10,12,12,11,10,9,9,9,9,9,9,11,11,11,10,9,8,9,7,14,6,6,5,6,8,19,18,17,9,7,7,7,8,7,9,9,9,10,10,16,11,10,10,10,9,5,4,15,9,10,10,12,10,13,16,13,13,13,13,12,18,16,14,20,20,14,12,14,7,8,8,5,7,5,8,4,11,14,21,10,10,12,13,12,10,11,9,13,12,14,8,10,12,11,16,15,10,9,13,12,13,8,9,9,8,13,7,10,7,12,9,14,10,8,7,10,8,9,11,9,11,10,9,7,7,11,15,13,14,22,7,12,9,1,3,3,5,17,5,5,8,8,10,13,9,7,7,7,13,12,15,15,15,19,10,15,13,11,12,11,4,6,11,14,8,9,13,22,16,14,15,13,22,12,18,20,11,15,7,9,14,14,10,10,17,9,10,17,12,15,19,26,6,6,4,11,9,9,13,8,6,10,4,3,13,14,10,21,14,19,23,23,8,14,10,18,6,5,4,11,5,7,7,7,12,8,8,12,8,5,5,16,11,14,16,13,15,14,14,12,12,8,13,9,6,8,14,8,22,12,9,16,20,13,18,17,16,18,12,20,16,12,19,11,10,12,17,16,16,19,14,13,20,11,10,15,12,15,10,10,12,10,9,12,10,14,9,10,10,10,9,6,11,10,8,12,11,9,9,7,10,7,12,8,16,11,8,15,14,11,12,14,15,20,20,16,13,14,11,13,8,6,13,18,19,21,18,18,20,18,22,13,11,7,14,9,13,10,8,19,10,10,9,13,16,12,18,16,16,17,11,14,11,15,9,10,11,11,12,6,5,6,5,12,13,17,21,9,10,9,11,10,17,9,17,21,16,29,17,15,19,12,13,11,15,11,14,14,13,11,15,17,15,12,19,11,10,12,23,15,13,17,15,12,15,11,16,10,10,10,6,5,6,9,5,4,6,3,5,9,5,4,4,3,14,12,9,20,13,12,9,10,11,11,7,5,10,15,11,15,8,10,11,8,7,12,11,17,13,12,13,9,10,14,12,13,13,8,13,11,11,14,10,12,12,7,11,16,14,20,17,10,11,10,10,11,17,11,14,19,13,11,11,10,13,14,13,13,9,18,19,12,13,9,13,12,16,17,10,13,11,12,13,9,10,10,12,12,4,9,18,15,13,12,7,9,7,10,18,12,17,15,12,10,8,21,10,9,7,10,9,9,8,7,6,14,13,7,13,19,7,9,11,6,9,11,9,5,6,11,7,10,7,17,16,18,11,18,11,10,12,19,10,11,15,13,13,14,17,19,21,23,22,12,11,23,8,7,10,7,16,10,15,13,16,11,11,10,5,11,9,4,7,4,5,13,16,12,14,9,12,9,10,11,10,10,7,7,11,7,8,9,7,8,6,4,2,3,13,15,15,11,17,10,12,13,15,11,13,15,13,18,10,12,12,14,10,14,8,14,17,20,17,17,9,14,15,13,10,13,13,20,13,20,15,13,15,15,16,17,14,14,11,13,9,11,17,11,8,8,9,10,11,15,13,15,15,13,12,10,6,5,15,9,12,9,12,10,10,9,12,12,15,11,9,11,11,10,10,9,7,10,7,6,15,10,12,12,21,6,5,7,7,6,6,6,7,7,6,7,6,7,7,6,6,6,7,6,6,9,7,7,8,8,9,8,9,8,9,9,8,8,9,11,10,8,10,10,9,10,9,10,9,9,12,10,8,6,12,11,10,11,10,9,12,10,9,12,11,9,11,11,14,9,10,9,8,11,9,17,15,10,10,12,9,11,11,11,17,6,5,3,6,4,6,4,5,4,6,5,6,8,5,6,6,7,7,5,7,7,6,7,6,6,7,7,6,6,5,6,6,6,7,7,8,6,6,7,6,7,7,8,7,7,7,6,7,7,7,7,7,6,8,8,9,6,6,6,8,7,7,8,8,7,6,8,7,7,9,8,9,8,8,7,7,8,8,8,7,8,11,8,8,7,8,8,8,9,9,9,8,10,10,8,8,7,9,9,7,8,10,8,9,11,8,8,11,11,9,9,9,9,9,11,11,10,8,11,10,10,10,9,9,8,11,8,11,10,10,11,10,10,11,8,8,11,10,10,9,11,10,9,10,11,9,10,6,11,10,12,12,8,10,10,12,11,10,11,11,12,4,3,4,4,4,4,5,7,6,5,5,6,6,6,5,6,6,6,7,6,7,7,6,7,7,6,7,7,6,7,7,7,7,8,8,6,7,6,6,7,7,6,6,7,8,7,7,9,8,6,7,8,6,9,8,8,9,8,8,7,8,9,9,8,8,9,10,7,9,9,8,8,10,9,8,8,8,9,8,9,9,8,8,7,10,9,9,9,10,9,9,8,9,9,9,8,9,9,7,8,9,8,8,10,9,9,10,9,8,9,9,10,9,9,8,8,8,9,8,8,10,9,10,10,10,9,11,11,10,11,8,9,9,14,10,9,12,9,10,9,12,9,9,11,12,10,10,10,8,12,12,11,11,11,11,10,11,6,4,5,5,6,5,5,5,5,6,7,5,7,6,6,5,6,8,4,6,7,7,7,6,5,7,6,6,8,7,6,8,9,8,7,5,7,8,8,5,5,6,7,6,7,7,7,8,8,7,9,9,8,8,8,7,9,8,11,8,8,8,8,8,8,9,8,8,8,7,8,9,9,9,9,7,9,8,7,8,7,13,9,10,9,9,9,9,10,9,9,9,8,9,9,10,9,8,9,10,8,11,9,9,10,9,9,10,9,9,9,9,10,9,11,8,8,11,10,8,9,10,10,9,10,9,10,10,10,8,9,10,10,10,10,10,8,9,9,10,10,12,10,11,10,11,10,11,11,10,11,9,12,10,12,10,9,10,10,10,10,10,12,10,9,10,10,12,10,10,9,11,9,12,9,11,12,10,12,10,9,9,10,10,15,10,11,10,11,11,11,11,9,10,10,13,10,10,10,10,10,11,10,13,9,11,12,10,11,12,11,13,12,11,11,12,9,14,14,3,4,7,5,6,7,5,5,6,7,8,7,6,5,9,6,6,5,8,9,6,7,8,9,6,6,8,7,7,7,6,8,6,7,9,9,8,8,7,8,8,9,8,9,8,9,8,9,8,9,8,9,9,8,8,9,8,9,8,9,11,9,9,11,8,10,8,9,10,11,9,10,9,11,10,10,8,9,10,11,11,10,10,9,8,11,11,10,10,11,10,10,12,11,12,11,11,10,12,13,10,11,5,5,6,6,6,5,5,6,7,8,7,7,7,6,7,7,6,8,7,8,7,7,7,8,8,7,8,7,7,6,8,7,10,7,7,9,8,8,8,7,8,9,8,8,7,8,8,8,8,8,8,9,7,6,9,10,8,8,9,7,8,9,8,7,9,7,10,9,11,7,9,9,9,10,9,10,8,9,8,8,10,9,12,8,8,9,8,11,10,8,10,9,9,9,10,8,9,9,10,9,12,8,10,10,9,10,8,9,10,8,9,13,8,10,10,9,10,10,10,11,8,10,10,8,8,9,9,8,10,9,10,9,8,9,8,9,11,10,10,12,9,10,9,9,7,10,9,12,12,13,11,11,12,9,10,12,9,11,10,9,12,10,9,9,8,11,10,11,13,12,10,9,10,10,11,10,12,14,9,10,9,9,10,10,9,12,9,11,11,9,10,9,12,11,9,12,10,14,11,11,11,12,9,12,11,13,10,11,13,10,10,11,11,11,12,10,15,11,11,12,10,11,10,13,7,14,11,11,12,11,12,12,12,5,6,7,7,8,7,6,8,8,10,7,8,9,9,8,9,9,8,10,7,8,8,8,8,10,9,10,10,9,10,10,10,10,8,11,9,9,10,11,10,10,9,11,11,10,8,9,11,10,9,10,11,10,9,10,11,13,9,11,11,5,4,7,6,7,6,7,6,8,6,7,7,6,6,8,11,8,7,7,8,7,8,7,8,9,7,8,9,8,8,8,9,11,8,10,10,10,8,8,9,9,7,10,9,8,9,8,9,9,9,9,9,9,8,10,9,10,6,8,8,7,9,9,9,11,7,11,9,9,10,11,11,9,13,9,9,9,10,11,10,9,10,11,9,9,9,10,10,10,9,10,11,11,10,11,10,9,10,8,10,8,11,11,9,12,10,11,9,11,15,9,12,11,9,10,11,11,11,9,11,11,11,12,12,10,11,10,10,10,9,11,12,11,16,10,13,10,11,10,9,10,11,10,12,12,12,11,11,12,10,10,11,13,13,12,13,10,12,11,11,11,13,4,4,5,6,7,6,5,6,6,6,7,6,7,6,9,6,7,6,7,7,7,8,7,8,7,8,7,10,10,8,9,12,10,9,9,9,9,9,11,10,9,9,10,9,10,10,12,10,14,9,5,5,5,6,8,8,8,7,7,8,7,6,9,8,8,8,8,7,7,9,7,8,8,8,9,8,7,8,8,8,10,9,9,9,11,9,8,7,11,9,10,8,8,9,9,8,10,11,12,10,10,11,12,10,17,8,10,11,7,7,11,7,8,10,10,19,9,9,11,10,14,15,27,13,5,9,8,7,4,3,6,7,8,9,7,9,11,6,7,8,10,7,12,12,9,6,10,9,8,12,9,10,16,14,10,7,9,10,9,9,11,12,8,7,10,18,8,5,10,16,12,17,14,12,19,17,11,9,5,9,6,5,6,4,7,6,5,10,13,12,20,14,15,14,21,16,13,6,6,9,9,14,12,10,11,15,14,6,13,5,11,10,6,21,13,25,19,18,7,6,5,8,16,27,18,17,13,17,8,10,7,13,14,13,8,17,13,14,9,13,7,7,12,7,13,9,9,17,14,13,15,17,8,8,12,11,7,10,11,9,10,9,6,12,11,13,14,11,14,12,8,13,8,13,10,11,17,13,14,13,14,15,13,12,18,14,15,13,15,20,14,19,9,10,9,8,10,7,9,9,9,7,6,10,6,10,9,6,12,10,13,8,7,8,10,10,9,11,11,23,12,16,11,13,13,7,8,16,14,17,13,13,12,15,10,14,12,8,17,10,11,13,15,15,9,15,9,13,23,23,18,11,17,17,11,7,6,6,21,17,13,11,16,9,12,19,18,17,11,13,13,17,20,13,11,12,18,18,15,12,19,15,16,12,8,3,12,12,12,10,8,12,12,10,5,5,11,16,11,12,14,11,10,11,16,10,10,7,14,14,14,17,14,17,13,12,16,10,15,15,10,12,15,8,10,9,7,12,9,10,18,11,18,10,13,15,12,10,6,13,14,6,10,9,11,18,11,16,16,14,23,9,16,9,13,10,9,11,9,12,14,6,7,9,10,10,9,8,5,6,5,5,4,20,14,13,8,17,11,11,9,16,8,13,11,20,14,14,14,12,18,13,8,14,13,8,12,14,14,8,13,11,14,15,7,10,11,8,9,12,15,12,15,19,12,9,5,6,6,6,7,7,6,6,8,6,8,8,8,8,10,7,8,7,9,9,11,9,11,9,9,10,9,8,9,10,10,10,12,11,12,11,15,13,13,9,14,10,10,4,4,5,4,5,5,6,6,7,7,6,6,7,6,7,7,6,6,7,6,8,7,6,7,6,7,9,7,8,8,7,7,7,9,7,8,6,6,8,9,8,7,9,8,7,8,8,7,9,9,11,8,8,9,8,10,10,8,9,10,9,10,9,8,11,9,8,11,11,9,12,9,9,13,8,10,12,13,10,12,10,4,5,5,6,6,6,8,6,7,7,7,7,7,6,7,7,7,8,8,8,7,8,9,7,8,8,9,9,9,7,7,9,8,8,8,9,9,9,9,8,8,7,8,8,9,8,8,9,9,10,10,9,7,9,10,9,10,11,9,10,11,10,8,9,9,9,9,9,10,9,9,10,9,11,13,13,11,11,10,13,11,9,11,12,11,3,4,4,5,6,6,6,7,5,7,8,7,7,8,8,7,7,8,7,6,8,8,7,8,8,7,9,8,7,8,8,8,7,11,8,8,10,9,9,8,9,7,8,8,10,8,9,10,8,10,10,9,10,9,11,8,10,11,11,10,9,10,11,9,10,10,9,8,9,10,10,8,11,9,9,10,11,10,9,10,10,10,12,10,12,10,11,10,10,11,10,9,12,9,11,9,13,9,11,10,9,5,4,4,7,6,7,8,5,6,7,7,7,7,8,9,8,9,7,9,7,9,9,8,8,9,8,9,10,9,9,9,10,10,10,10,8,9,10,10,12,9,8,11,11,11,11,11,11,10,12,10,11,6,4,5,6,7,5,7,7,8,6,8,7,7,9,8,8,8,8,9,8,9,8,8,9,8,8,8,8,10,8,11,10,8,10,8,8,9,8,9,8,9,8,8,10,9,9,11,11,9,9,9,10,10,10,9,10,10,9,11,13,9,10,11,12,11,11,11,9,10,10,9,10,11,10,11,10,10,10,9,10,7,11,11,10,8,11,11,11,12,11,12,15,12,11,12,13,10,10,9,12,9,9,10,11,12,10,13,11,13,12,12,6,8,6,8,8,7,8,9,8,10,8,13,10,9,9,9,8,8,11,9,9,10,9,9,11,9,11,10,10,11,13,11,14,12,4,6,8,7,8,6,6,7,8,9,8,8,9,8,8,9,7,8,8,7,11,11,8,9,8,10,10,11,9,9,10,10,9,8,10,9,10,11,9,8,9,12,9,9,11,12,11,11,13,11,11,11,10,11,9,9,11,9,11,12,11,9,11,10,10,11,11,11,10,11,11,13,14,11,4,5,6,7,7,8,8,10,10,11,11,9,9,9,11,8,9,10,11,8,11,10,5,5,5,7,7,8,8,7,7,7,6,10,8,8,10,9,7,8,9,10,10,11,9,10,10,11,11,10,9,8,9,11,10,10,11,20,5,5,4,9,13,14,13,12,24,10,21,11,9,7,9,10,9,9,6,7,6,15,9,13,9,18,15,15,10,14,13,11,6,9,11,12,15,8,8,7,11,10,11,13,11,6,8,16,7,5,13,14,20,12,18,5,7,11,9,10,6,17,17,15,9,8,15,9,14,12,10,14,13,14,11,16,10,14,16,11,9,18,8,16,9,10,13,9,12,11,12,13,12,13,14,8,18,14,15,15,14,15,14,19,13,13,15,11,6,9,8,12,6,7,5,12,9,7,18,13,12,14,17,12,14,11,10,11,12,13,17,11,13,18,12,12,15,12,18,24,11,13,11,11,13,14,12,15,15,12,9,11,13,14,14,14,17,13,16,16,11,15,12,16,16,10,9,5,9,13,12,17,11,11,9,16,7,4,19,16,11,15,12,12,10,12,16,13,10,10,11,13,12,8,12,11,15,16,12,17,12,14,13,13,12,14,11,13,10,11,13,15,8,10,10,6,8,5,20,19,9,9,10,11,11,5,17,13,17,12,10,16,19,10,10,6,5,8,8,5,19,15,14,7,13,13,18,13,16,10,13,19,10,13,13,18,12,9,8,10,18,13,9,8,7,8,6,7,7,6,7,8,9,7,9,7,9,8,8,10,11,9,11,10,10,13,13,4,6,6,5,6,6,6,7,6,8,6,8,7,7,8,7,9,8,8,8,7,7,7,8,8,8,8,9,12,10,8,8,9,11,10,11,10,9,9,10,11,10,11,9,3,4,6,6,7,6,7,7,8,6,7,7,8,7,8,8,8,8,10,8,8,8,9,8,8,9,10,9,8,12,10,11,10,10,9,11,9,10,9,11,11,9,10,12,11,11,11,10,11,3,4,4,6,6,6,7,6,6,7,7,7,6,6,9,8,6,7,8,8,8,8,8,9,8,7,9,7,9,8,9,8,9,8,8,9,8,10,10,10,9,8,8,9,9,9,10,10,11,9,9,9,10,9,8,11,11,10,9,10,9,10,9,11,9,11,10,12,11,11,9,11,8,12,11,10,11,12,12,4,8,5,7,8,8,7,8,7,9,9,10,10,11,11,9,14,9,11,12,9,8,10,10,9,10,10,10,13,6,7,5,5,5,6,6,8,6,8,8,7,9,8,8,7,9,9,8,9,9,8,10,10,9,9,9,11,7,10,9,10,10,8,9,9,9,8,11,10,9,8,10,10,10,12,10,10,11,10,10,9,11,11,10,11,10,14,11,11,9,13,12,11,11,10,10,13,12,10,11,10,10,11,11,11,9,11,11,9,10,11,11,10,11,11,11,5,7,7,7,7,9,9,9,7,9,8,7,10,9,9,9,10,10,10,9,10,9,9,9,11,12,13,12,5,5,7,6,6,7,8,7,8,8,8,8,9,10,9,9,9,10,8,11,10,9,10,10,9,9,9,10,9,9,9,8,13,9,9,10,10,10,11,12,11,9,10,12,8,10,10,11,13,14,10,12,11,13,10,11,12,3,6,7,7,9,8,8,10,8,8,9,12,8,6,8,8,8,9,8,10,10,9,9,7,11,10,11,11,12,14,10,14,11,6,7,9,4,8,8,9,11,9,16,14,11,6,9,14,6,7,10,12,9,11,8,9,16,12,9,14,14,10,18,5,19,10,15,8,9,15,12,9,5,12,9,16,15,10,15,7,10,15,10,9,7,7,9,12,12,16,12,13,9,12,13,14,17,10,4,15,12,4,16,16,6,4,13,9,10,13,10,15,11,19,11,10,13,18,11,8,10,10,12,20,8,14,12,10,16,21,17,11,6,5,11,13,13,10,14,11,15,11,14,20,6,13,16,12,13,13,13,5,8,7,9,12,10,9,11,11,10,10,4,5,6,6,6,6,6,6,6,8,7,8,6,7,7,8,6,7,8,6,6,10,11,10,11,8,11,10,9,10,12,4,5,6,6,6,6,7,6,8,8,10,9,9,11,12,8,9,9,8,8,10,10,9,11,8,10,11,10,11,6,6,7,7,6,8,7,7,8,8,10,7,11,8,10,11,11,12,10,10,8,10,9,11,11,13,9,9,10,13,10,10,9,11,11,10,8,8,10,9,11,9,6,7,6,7,8,7,8,8,9,8,8,8,9,10,8,8,11,9,10,10,11,8,10,9,9,11,12,11,11,13,11,12,9,9,9,9,11,11,10,11,9,11,7,7,8,9,8,9,8,9,10,9,9,9,4,7,9,8,8,8,9,11,10,8,10,10,11,10,11,9,11,9,11,11,10,10,11,13,13,11,11,10,11,11,6,7,6,7,8,6,6,8,8,8,9,11,11,8,7,7,7,10,9,8,10,10,8,11,10,9,10,12],\"type\":\"violin\"}],                        {\"template\":{\"data\":{\"histogram2dcontour\":[{\"type\":\"histogram2dcontour\",\"colorbar\":{\"outlinewidth\":0,\"ticks\":\"\"},\"colorscale\":[[0.0,\"#0d0887\"],[0.1111111111111111,\"#46039f\"],[0.2222222222222222,\"#7201a8\"],[0.3333333333333333,\"#9c179e\"],[0.4444444444444444,\"#bd3786\"],[0.5555555555555556,\"#d8576b\"],[0.6666666666666666,\"#ed7953\"],[0.7777777777777778,\"#fb9f3a\"],[0.8888888888888888,\"#fdca26\"],[1.0,\"#f0f921\"]]}],\"choropleth\":[{\"type\":\"choropleth\",\"colorbar\":{\"outlinewidth\":0,\"ticks\":\"\"}}],\"histogram2d\":[{\"type\":\"histogram2d\",\"colorbar\":{\"outlinewidth\":0,\"ticks\":\"\"},\"colorscale\":[[0.0,\"#0d0887\"],[0.1111111111111111,\"#46039f\"],[0.2222222222222222,\"#7201a8\"],[0.3333333333333333,\"#9c179e\"],[0.4444444444444444,\"#bd3786\"],[0.5555555555555556,\"#d8576b\"],[0.6666666666666666,\"#ed7953\"],[0.7777777777777778,\"#fb9f3a\"],[0.8888888888888888,\"#fdca26\"],[1.0,\"#f0f921\"]]}],\"heatmap\":[{\"type\":\"heatmap\",\"colorbar\":{\"outlinewidth\":0,\"ticks\":\"\"},\"colorscale\":[[0.0,\"#0d0887\"],[0.1111111111111111,\"#46039f\"],[0.2222222222222222,\"#7201a8\"],[0.3333333333333333,\"#9c179e\"],[0.4444444444444444,\"#bd3786\"],[0.5555555555555556,\"#d8576b\"],[0.6666666666666666,\"#ed7953\"],[0.7777777777777778,\"#fb9f3a\"],[0.8888888888888888,\"#fdca26\"],[1.0,\"#f0f921\"]]}],\"heatmapgl\":[{\"type\":\"heatmapgl\",\"colorbar\":{\"outlinewidth\":0,\"ticks\":\"\"},\"colorscale\":[[0.0,\"#0d0887\"],[0.1111111111111111,\"#46039f\"],[0.2222222222222222,\"#7201a8\"],[0.3333333333333333,\"#9c179e\"],[0.4444444444444444,\"#bd3786\"],[0.5555555555555556,\"#d8576b\"],[0.6666666666666666,\"#ed7953\"],[0.7777777777777778,\"#fb9f3a\"],[0.8888888888888888,\"#fdca26\"],[1.0,\"#f0f921\"]]}],\"contourcarpet\":[{\"type\":\"contourcarpet\",\"colorbar\":{\"outlinewidth\":0,\"ticks\":\"\"}}],\"contour\":[{\"type\":\"contour\",\"colorbar\":{\"outlinewidth\":0,\"ticks\":\"\"},\"colorscale\":[[0.0,\"#0d0887\"],[0.1111111111111111,\"#46039f\"],[0.2222222222222222,\"#7201a8\"],[0.3333333333333333,\"#9c179e\"],[0.4444444444444444,\"#bd3786\"],[0.5555555555555556,\"#d8576b\"],[0.6666666666666666,\"#ed7953\"],[0.7777777777777778,\"#fb9f3a\"],[0.8888888888888888,\"#fdca26\"],[1.0,\"#f0f921\"]]}],\"surface\":[{\"type\":\"surface\",\"colorbar\":{\"outlinewidth\":0,\"ticks\":\"\"},\"colorscale\":[[0.0,\"#0d0887\"],[0.1111111111111111,\"#46039f\"],[0.2222222222222222,\"#7201a8\"],[0.3333333333333333,\"#9c179e\"],[0.4444444444444444,\"#bd3786\"],[0.5555555555555556,\"#d8576b\"],[0.6666666666666666,\"#ed7953\"],[0.7777777777777778,\"#fb9f3a\"],[0.8888888888888888,\"#fdca26\"],[1.0,\"#f0f921\"]]}],\"mesh3d\":[{\"type\":\"mesh3d\",\"colorbar\":{\"outlinewidth\":0,\"ticks\":\"\"}}],\"scatter\":[{\"fillpattern\":{\"fillmode\":\"overlay\",\"size\":10,\"solidity\":0.2},\"type\":\"scatter\"}],\"parcoords\":[{\"type\":\"parcoords\",\"line\":{\"colorbar\":{\"outlinewidth\":0,\"ticks\":\"\"}}}],\"scatterpolargl\":[{\"type\":\"scatterpolargl\",\"marker\":{\"colorbar\":{\"outlinewidth\":0,\"ticks\":\"\"}}}],\"bar\":[{\"error_x\":{\"color\":\"#2a3f5f\"},\"error_y\":{\"color\":\"#2a3f5f\"},\"marker\":{\"line\":{\"color\":\"#E5ECF6\",\"width\":0.5},\"pattern\":{\"fillmode\":\"overlay\",\"size\":10,\"solidity\":0.2}},\"type\":\"bar\"}],\"scattergeo\":[{\"type\":\"scattergeo\",\"marker\":{\"colorbar\":{\"outlinewidth\":0,\"ticks\":\"\"}}}],\"scatterpolar\":[{\"type\":\"scatterpolar\",\"marker\":{\"colorbar\":{\"outlinewidth\":0,\"ticks\":\"\"}}}],\"histogram\":[{\"marker\":{\"pattern\":{\"fillmode\":\"overlay\",\"size\":10,\"solidity\":0.2}},\"type\":\"histogram\"}],\"scattergl\":[{\"type\":\"scattergl\",\"marker\":{\"colorbar\":{\"outlinewidth\":0,\"ticks\":\"\"}}}],\"scatter3d\":[{\"type\":\"scatter3d\",\"line\":{\"colorbar\":{\"outlinewidth\":0,\"ticks\":\"\"}},\"marker\":{\"colorbar\":{\"outlinewidth\":0,\"ticks\":\"\"}}}],\"scattermapbox\":[{\"type\":\"scattermapbox\",\"marker\":{\"colorbar\":{\"outlinewidth\":0,\"ticks\":\"\"}}}],\"scatterternary\":[{\"type\":\"scatterternary\",\"marker\":{\"colorbar\":{\"outlinewidth\":0,\"ticks\":\"\"}}}],\"scattercarpet\":[{\"type\":\"scattercarpet\",\"marker\":{\"colorbar\":{\"outlinewidth\":0,\"ticks\":\"\"}}}],\"carpet\":[{\"aaxis\":{\"endlinecolor\":\"#2a3f5f\",\"gridcolor\":\"white\",\"linecolor\":\"white\",\"minorgridcolor\":\"white\",\"startlinecolor\":\"#2a3f5f\"},\"baxis\":{\"endlinecolor\":\"#2a3f5f\",\"gridcolor\":\"white\",\"linecolor\":\"white\",\"minorgridcolor\":\"white\",\"startlinecolor\":\"#2a3f5f\"},\"type\":\"carpet\"}],\"table\":[{\"cells\":{\"fill\":{\"color\":\"#EBF0F8\"},\"line\":{\"color\":\"white\"}},\"header\":{\"fill\":{\"color\":\"#C8D4E3\"},\"line\":{\"color\":\"white\"}},\"type\":\"table\"}],\"barpolar\":[{\"marker\":{\"line\":{\"color\":\"#E5ECF6\",\"width\":0.5},\"pattern\":{\"fillmode\":\"overlay\",\"size\":10,\"solidity\":0.2}},\"type\":\"barpolar\"}],\"pie\":[{\"automargin\":true,\"type\":\"pie\"}]},\"layout\":{\"autotypenumbers\":\"strict\",\"colorway\":[\"#636efa\",\"#EF553B\",\"#00cc96\",\"#ab63fa\",\"#FFA15A\",\"#19d3f3\",\"#FF6692\",\"#B6E880\",\"#FF97FF\",\"#FECB52\"],\"font\":{\"color\":\"#2a3f5f\"},\"hovermode\":\"closest\",\"hoverlabel\":{\"align\":\"left\"},\"paper_bgcolor\":\"white\",\"plot_bgcolor\":\"#E5ECF6\",\"polar\":{\"bgcolor\":\"#E5ECF6\",\"angularaxis\":{\"gridcolor\":\"white\",\"linecolor\":\"white\",\"ticks\":\"\"},\"radialaxis\":{\"gridcolor\":\"white\",\"linecolor\":\"white\",\"ticks\":\"\"}},\"ternary\":{\"bgcolor\":\"#E5ECF6\",\"aaxis\":{\"gridcolor\":\"white\",\"linecolor\":\"white\",\"ticks\":\"\"},\"baxis\":{\"gridcolor\":\"white\",\"linecolor\":\"white\",\"ticks\":\"\"},\"caxis\":{\"gridcolor\":\"white\",\"linecolor\":\"white\",\"ticks\":\"\"}},\"coloraxis\":{\"colorbar\":{\"outlinewidth\":0,\"ticks\":\"\"}},\"colorscale\":{\"sequential\":[[0.0,\"#0d0887\"],[0.1111111111111111,\"#46039f\"],[0.2222222222222222,\"#7201a8\"],[0.3333333333333333,\"#9c179e\"],[0.4444444444444444,\"#bd3786\"],[0.5555555555555556,\"#d8576b\"],[0.6666666666666666,\"#ed7953\"],[0.7777777777777778,\"#fb9f3a\"],[0.8888888888888888,\"#fdca26\"],[1.0,\"#f0f921\"]],\"sequentialminus\":[[0.0,\"#0d0887\"],[0.1111111111111111,\"#46039f\"],[0.2222222222222222,\"#7201a8\"],[0.3333333333333333,\"#9c179e\"],[0.4444444444444444,\"#bd3786\"],[0.5555555555555556,\"#d8576b\"],[0.6666666666666666,\"#ed7953\"],[0.7777777777777778,\"#fb9f3a\"],[0.8888888888888888,\"#fdca26\"],[1.0,\"#f0f921\"]],\"diverging\":[[0,\"#8e0152\"],[0.1,\"#c51b7d\"],[0.2,\"#de77ae\"],[0.3,\"#f1b6da\"],[0.4,\"#fde0ef\"],[0.5,\"#f7f7f7\"],[0.6,\"#e6f5d0\"],[0.7,\"#b8e186\"],[0.8,\"#7fbc41\"],[0.9,\"#4d9221\"],[1,\"#276419\"]]},\"xaxis\":{\"gridcolor\":\"white\",\"linecolor\":\"white\",\"ticks\":\"\",\"title\":{\"standoff\":15},\"zerolinecolor\":\"white\",\"automargin\":true,\"zerolinewidth\":2},\"yaxis\":{\"gridcolor\":\"white\",\"linecolor\":\"white\",\"ticks\":\"\",\"title\":{\"standoff\":15},\"zerolinecolor\":\"white\",\"automargin\":true,\"zerolinewidth\":2},\"scene\":{\"xaxis\":{\"backgroundcolor\":\"#E5ECF6\",\"gridcolor\":\"white\",\"linecolor\":\"white\",\"showbackground\":true,\"ticks\":\"\",\"zerolinecolor\":\"white\",\"gridwidth\":2},\"yaxis\":{\"backgroundcolor\":\"#E5ECF6\",\"gridcolor\":\"white\",\"linecolor\":\"white\",\"showbackground\":true,\"ticks\":\"\",\"zerolinecolor\":\"white\",\"gridwidth\":2},\"zaxis\":{\"backgroundcolor\":\"#E5ECF6\",\"gridcolor\":\"white\",\"linecolor\":\"white\",\"showbackground\":true,\"ticks\":\"\",\"zerolinecolor\":\"white\",\"gridwidth\":2}},\"shapedefaults\":{\"line\":{\"color\":\"#2a3f5f\"}},\"annotationdefaults\":{\"arrowcolor\":\"#2a3f5f\",\"arrowhead\":0,\"arrowwidth\":1},\"geo\":{\"bgcolor\":\"white\",\"landcolor\":\"#E5ECF6\",\"subunitcolor\":\"white\",\"showland\":true,\"showlakes\":true,\"lakecolor\":\"white\"},\"title\":{\"x\":0.05},\"mapbox\":{\"style\":\"light\"}}},\"title\":{\"text\":\"Violin Plot of Abalone Age by Sex\"},\"xaxis\":{\"title\":{\"text\":\"Sex\"}},\"yaxis\":{\"title\":{\"text\":\"Age (rings)\"}}},                        {\"responsive\": true}                    ).then(function(){\n",
              "                            \n",
              "var gd = document.getElementById('d1686908-23e2-4d7d-b886-25227e88627d');\n",
              "var x = new MutationObserver(function (mutations, observer) {{\n",
              "        var display = window.getComputedStyle(gd).display;\n",
              "        if (!display || display === 'none') {{\n",
              "            console.log([gd, 'removed!']);\n",
              "            Plotly.purge(gd);\n",
              "            observer.disconnect();\n",
              "        }}\n",
              "}});\n",
              "\n",
              "// Listen for the removal of the full notebook cells\n",
              "var notebookContainer = gd.closest('#notebook-container');\n",
              "if (notebookContainer) {{\n",
              "    x.observe(notebookContainer, {childList: true});\n",
              "}}\n",
              "\n",
              "// Listen for the clearing of the current output cell\n",
              "var outputEl = gd.closest('.output');\n",
              "if (outputEl) {{\n",
              "    x.observe(outputEl, {childList: true});\n",
              "}}\n",
              "\n",
              "                        })                };                            </script>        </div>\n",
              "</body>\n",
              "</html>"
            ]
          },
          "metadata": {}
        }
      ]
    },
    {
      "cell_type": "code",
      "source": [
        "corr_matrix = df.corr()\n",
        "fig = go.Figure(data=go.Heatmap(z=corr_matrix.values, x=corr_matrix.index.values, y=corr_matrix.columns.values, colorscale='Viridis'))\n",
        "fig.update_layout(title='Heatmap of Correlation Matrix for Abalone Dataset',\n",
        "                  xaxis_title='Variable',\n",
        "                  yaxis_title='Variable')\n",
        "\n",
        "# Show the plot\n",
        "fig.show()"
      ],
      "metadata": {
        "execution": {
          "iopub.status.busy": "2023-03-07T07:00:59.946243Z",
          "iopub.execute_input": "2023-03-07T07:00:59.947318Z",
          "iopub.status.idle": "2023-03-07T07:00:59.970988Z",
          "shell.execute_reply.started": "2023-03-07T07:00:59.947259Z",
          "shell.execute_reply": "2023-03-07T07:00:59.969855Z"
        },
        "trusted": true,
        "id": "fruQdn5DR4jR",
        "outputId": "9e19d324-2b99-4fa3-ed08-ad2d6c57af8d",
        "colab": {
          "base_uri": "https://localhost:8080/",
          "height": 542
        }
      },
      "execution_count": 19,
      "outputs": [
        {
          "output_type": "display_data",
          "data": {
            "text/html": [
              "<html>\n",
              "<head><meta charset=\"utf-8\" /></head>\n",
              "<body>\n",
              "    <div>            <script src=\"https://cdnjs.cloudflare.com/ajax/libs/mathjax/2.7.5/MathJax.js?config=TeX-AMS-MML_SVG\"></script><script type=\"text/javascript\">if (window.MathJax && window.MathJax.Hub && window.MathJax.Hub.Config) {window.MathJax.Hub.Config({SVG: {font: \"STIX-Web\"}});}</script>                <script type=\"text/javascript\">window.PlotlyConfig = {MathJaxConfig: 'local'};</script>\n",
              "        <script charset=\"utf-8\" src=\"https://cdn.plot.ly/plotly-2.24.1.min.js\"></script>                <div id=\"bb4f73ef-be11-462d-bb2b-afabc28cfd85\" class=\"plotly-graph-div\" style=\"height:525px; width:100%;\"></div>            <script type=\"text/javascript\">                                    window.PLOTLYENV=window.PLOTLYENV || {};                                    if (document.getElementById(\"bb4f73ef-be11-462d-bb2b-afabc28cfd85\")) {                    Plotly.newPlot(                        \"bb4f73ef-be11-462d-bb2b-afabc28cfd85\",                        [{\"colorscale\":[[0.0,\"#440154\"],[0.1111111111111111,\"#482878\"],[0.2222222222222222,\"#3e4989\"],[0.3333333333333333,\"#31688e\"],[0.4444444444444444,\"#26828e\"],[0.5555555555555556,\"#1f9e89\"],[0.6666666666666666,\"#35b779\"],[0.7777777777777778,\"#6ece58\"],[0.8888888888888888,\"#b5de2b\"],[1.0,\"#fde725\"]],\"x\":[\"Sex\",\"Length\",\"Diameter\",\"Height\",\"Whole weight\",\"Shucked weight\",\"Viscera weight\",\"Shell weight\",\"Rings\"],\"y\":[\"Sex\",\"Length\",\"Diameter\",\"Height\",\"Whole weight\",\"Shucked weight\",\"Viscera weight\",\"Shell weight\",\"Rings\"],\"z\":[[1.0,-0.03606617677382196,-0.038874435726919884,-0.04207701376615057,-0.02139133268693968,-0.001372717407463586,-0.03206651040853545,-0.034854448558414144,-0.034626760241362846],[-0.03606617677382196,1.0,0.9868115846025,0.8275536093192142,0.9252611721489467,0.8979136582496655,0.9030176990077563,0.8977055691879205,0.5567195769296182],[-0.038874435726919884,0.9868115846025,1.0,0.8336836879586538,0.9254521015071313,0.8931624751432796,0.8997244291071196,0.905329781213082,0.5746598513059198],[-0.04207701376615057,0.8275536093192142,0.8336836879586538,1.0,0.8192207728553582,0.7749722929028299,0.79831929752753,0.8173380147032083,0.5574673244580344],[-0.02139133268693968,0.9252611721489467,0.9254521015071313,0.8192207728553582,1.0,0.969405456703434,0.9663750782730317,0.9553554421763288,0.5403896769238992],[-0.001372717407463586,0.8979136582496655,0.8931624751432796,0.7749722929028299,0.969405456703434,1.0,0.9319613217425567,0.88261706017464,0.4208836579452148],[-0.03206651040853545,0.9030176990077563,0.8997244291071196,0.79831929752753,0.9663750782730317,0.9319613217425567,1.0,0.9076563206965705,0.5038192487597698],[-0.034854448558414144,0.8977055691879205,0.905329781213082,0.8173380147032083,0.9553554421763288,0.88261706017464,0.9076563206965705,1.0,0.6275740445103175],[-0.034626760241362846,0.5567195769296182,0.5746598513059198,0.5574673244580344,0.5403896769238992,0.4208836579452148,0.5038192487597698,0.6275740445103175,1.0]],\"type\":\"heatmap\"}],                        {\"template\":{\"data\":{\"histogram2dcontour\":[{\"type\":\"histogram2dcontour\",\"colorbar\":{\"outlinewidth\":0,\"ticks\":\"\"},\"colorscale\":[[0.0,\"#0d0887\"],[0.1111111111111111,\"#46039f\"],[0.2222222222222222,\"#7201a8\"],[0.3333333333333333,\"#9c179e\"],[0.4444444444444444,\"#bd3786\"],[0.5555555555555556,\"#d8576b\"],[0.6666666666666666,\"#ed7953\"],[0.7777777777777778,\"#fb9f3a\"],[0.8888888888888888,\"#fdca26\"],[1.0,\"#f0f921\"]]}],\"choropleth\":[{\"type\":\"choropleth\",\"colorbar\":{\"outlinewidth\":0,\"ticks\":\"\"}}],\"histogram2d\":[{\"type\":\"histogram2d\",\"colorbar\":{\"outlinewidth\":0,\"ticks\":\"\"},\"colorscale\":[[0.0,\"#0d0887\"],[0.1111111111111111,\"#46039f\"],[0.2222222222222222,\"#7201a8\"],[0.3333333333333333,\"#9c179e\"],[0.4444444444444444,\"#bd3786\"],[0.5555555555555556,\"#d8576b\"],[0.6666666666666666,\"#ed7953\"],[0.7777777777777778,\"#fb9f3a\"],[0.8888888888888888,\"#fdca26\"],[1.0,\"#f0f921\"]]}],\"heatmap\":[{\"type\":\"heatmap\",\"colorbar\":{\"outlinewidth\":0,\"ticks\":\"\"},\"colorscale\":[[0.0,\"#0d0887\"],[0.1111111111111111,\"#46039f\"],[0.2222222222222222,\"#7201a8\"],[0.3333333333333333,\"#9c179e\"],[0.4444444444444444,\"#bd3786\"],[0.5555555555555556,\"#d8576b\"],[0.6666666666666666,\"#ed7953\"],[0.7777777777777778,\"#fb9f3a\"],[0.8888888888888888,\"#fdca26\"],[1.0,\"#f0f921\"]]}],\"heatmapgl\":[{\"type\":\"heatmapgl\",\"colorbar\":{\"outlinewidth\":0,\"ticks\":\"\"},\"colorscale\":[[0.0,\"#0d0887\"],[0.1111111111111111,\"#46039f\"],[0.2222222222222222,\"#7201a8\"],[0.3333333333333333,\"#9c179e\"],[0.4444444444444444,\"#bd3786\"],[0.5555555555555556,\"#d8576b\"],[0.6666666666666666,\"#ed7953\"],[0.7777777777777778,\"#fb9f3a\"],[0.8888888888888888,\"#fdca26\"],[1.0,\"#f0f921\"]]}],\"contourcarpet\":[{\"type\":\"contourcarpet\",\"colorbar\":{\"outlinewidth\":0,\"ticks\":\"\"}}],\"contour\":[{\"type\":\"contour\",\"colorbar\":{\"outlinewidth\":0,\"ticks\":\"\"},\"colorscale\":[[0.0,\"#0d0887\"],[0.1111111111111111,\"#46039f\"],[0.2222222222222222,\"#7201a8\"],[0.3333333333333333,\"#9c179e\"],[0.4444444444444444,\"#bd3786\"],[0.5555555555555556,\"#d8576b\"],[0.6666666666666666,\"#ed7953\"],[0.7777777777777778,\"#fb9f3a\"],[0.8888888888888888,\"#fdca26\"],[1.0,\"#f0f921\"]]}],\"surface\":[{\"type\":\"surface\",\"colorbar\":{\"outlinewidth\":0,\"ticks\":\"\"},\"colorscale\":[[0.0,\"#0d0887\"],[0.1111111111111111,\"#46039f\"],[0.2222222222222222,\"#7201a8\"],[0.3333333333333333,\"#9c179e\"],[0.4444444444444444,\"#bd3786\"],[0.5555555555555556,\"#d8576b\"],[0.6666666666666666,\"#ed7953\"],[0.7777777777777778,\"#fb9f3a\"],[0.8888888888888888,\"#fdca26\"],[1.0,\"#f0f921\"]]}],\"mesh3d\":[{\"type\":\"mesh3d\",\"colorbar\":{\"outlinewidth\":0,\"ticks\":\"\"}}],\"scatter\":[{\"fillpattern\":{\"fillmode\":\"overlay\",\"size\":10,\"solidity\":0.2},\"type\":\"scatter\"}],\"parcoords\":[{\"type\":\"parcoords\",\"line\":{\"colorbar\":{\"outlinewidth\":0,\"ticks\":\"\"}}}],\"scatterpolargl\":[{\"type\":\"scatterpolargl\",\"marker\":{\"colorbar\":{\"outlinewidth\":0,\"ticks\":\"\"}}}],\"bar\":[{\"error_x\":{\"color\":\"#2a3f5f\"},\"error_y\":{\"color\":\"#2a3f5f\"},\"marker\":{\"line\":{\"color\":\"#E5ECF6\",\"width\":0.5},\"pattern\":{\"fillmode\":\"overlay\",\"size\":10,\"solidity\":0.2}},\"type\":\"bar\"}],\"scattergeo\":[{\"type\":\"scattergeo\",\"marker\":{\"colorbar\":{\"outlinewidth\":0,\"ticks\":\"\"}}}],\"scatterpolar\":[{\"type\":\"scatterpolar\",\"marker\":{\"colorbar\":{\"outlinewidth\":0,\"ticks\":\"\"}}}],\"histogram\":[{\"marker\":{\"pattern\":{\"fillmode\":\"overlay\",\"size\":10,\"solidity\":0.2}},\"type\":\"histogram\"}],\"scattergl\":[{\"type\":\"scattergl\",\"marker\":{\"colorbar\":{\"outlinewidth\":0,\"ticks\":\"\"}}}],\"scatter3d\":[{\"type\":\"scatter3d\",\"line\":{\"colorbar\":{\"outlinewidth\":0,\"ticks\":\"\"}},\"marker\":{\"colorbar\":{\"outlinewidth\":0,\"ticks\":\"\"}}}],\"scattermapbox\":[{\"type\":\"scattermapbox\",\"marker\":{\"colorbar\":{\"outlinewidth\":0,\"ticks\":\"\"}}}],\"scatterternary\":[{\"type\":\"scatterternary\",\"marker\":{\"colorbar\":{\"outlinewidth\":0,\"ticks\":\"\"}}}],\"scattercarpet\":[{\"type\":\"scattercarpet\",\"marker\":{\"colorbar\":{\"outlinewidth\":0,\"ticks\":\"\"}}}],\"carpet\":[{\"aaxis\":{\"endlinecolor\":\"#2a3f5f\",\"gridcolor\":\"white\",\"linecolor\":\"white\",\"minorgridcolor\":\"white\",\"startlinecolor\":\"#2a3f5f\"},\"baxis\":{\"endlinecolor\":\"#2a3f5f\",\"gridcolor\":\"white\",\"linecolor\":\"white\",\"minorgridcolor\":\"white\",\"startlinecolor\":\"#2a3f5f\"},\"type\":\"carpet\"}],\"table\":[{\"cells\":{\"fill\":{\"color\":\"#EBF0F8\"},\"line\":{\"color\":\"white\"}},\"header\":{\"fill\":{\"color\":\"#C8D4E3\"},\"line\":{\"color\":\"white\"}},\"type\":\"table\"}],\"barpolar\":[{\"marker\":{\"line\":{\"color\":\"#E5ECF6\",\"width\":0.5},\"pattern\":{\"fillmode\":\"overlay\",\"size\":10,\"solidity\":0.2}},\"type\":\"barpolar\"}],\"pie\":[{\"automargin\":true,\"type\":\"pie\"}]},\"layout\":{\"autotypenumbers\":\"strict\",\"colorway\":[\"#636efa\",\"#EF553B\",\"#00cc96\",\"#ab63fa\",\"#FFA15A\",\"#19d3f3\",\"#FF6692\",\"#B6E880\",\"#FF97FF\",\"#FECB52\"],\"font\":{\"color\":\"#2a3f5f\"},\"hovermode\":\"closest\",\"hoverlabel\":{\"align\":\"left\"},\"paper_bgcolor\":\"white\",\"plot_bgcolor\":\"#E5ECF6\",\"polar\":{\"bgcolor\":\"#E5ECF6\",\"angularaxis\":{\"gridcolor\":\"white\",\"linecolor\":\"white\",\"ticks\":\"\"},\"radialaxis\":{\"gridcolor\":\"white\",\"linecolor\":\"white\",\"ticks\":\"\"}},\"ternary\":{\"bgcolor\":\"#E5ECF6\",\"aaxis\":{\"gridcolor\":\"white\",\"linecolor\":\"white\",\"ticks\":\"\"},\"baxis\":{\"gridcolor\":\"white\",\"linecolor\":\"white\",\"ticks\":\"\"},\"caxis\":{\"gridcolor\":\"white\",\"linecolor\":\"white\",\"ticks\":\"\"}},\"coloraxis\":{\"colorbar\":{\"outlinewidth\":0,\"ticks\":\"\"}},\"colorscale\":{\"sequential\":[[0.0,\"#0d0887\"],[0.1111111111111111,\"#46039f\"],[0.2222222222222222,\"#7201a8\"],[0.3333333333333333,\"#9c179e\"],[0.4444444444444444,\"#bd3786\"],[0.5555555555555556,\"#d8576b\"],[0.6666666666666666,\"#ed7953\"],[0.7777777777777778,\"#fb9f3a\"],[0.8888888888888888,\"#fdca26\"],[1.0,\"#f0f921\"]],\"sequentialminus\":[[0.0,\"#0d0887\"],[0.1111111111111111,\"#46039f\"],[0.2222222222222222,\"#7201a8\"],[0.3333333333333333,\"#9c179e\"],[0.4444444444444444,\"#bd3786\"],[0.5555555555555556,\"#d8576b\"],[0.6666666666666666,\"#ed7953\"],[0.7777777777777778,\"#fb9f3a\"],[0.8888888888888888,\"#fdca26\"],[1.0,\"#f0f921\"]],\"diverging\":[[0,\"#8e0152\"],[0.1,\"#c51b7d\"],[0.2,\"#de77ae\"],[0.3,\"#f1b6da\"],[0.4,\"#fde0ef\"],[0.5,\"#f7f7f7\"],[0.6,\"#e6f5d0\"],[0.7,\"#b8e186\"],[0.8,\"#7fbc41\"],[0.9,\"#4d9221\"],[1,\"#276419\"]]},\"xaxis\":{\"gridcolor\":\"white\",\"linecolor\":\"white\",\"ticks\":\"\",\"title\":{\"standoff\":15},\"zerolinecolor\":\"white\",\"automargin\":true,\"zerolinewidth\":2},\"yaxis\":{\"gridcolor\":\"white\",\"linecolor\":\"white\",\"ticks\":\"\",\"title\":{\"standoff\":15},\"zerolinecolor\":\"white\",\"automargin\":true,\"zerolinewidth\":2},\"scene\":{\"xaxis\":{\"backgroundcolor\":\"#E5ECF6\",\"gridcolor\":\"white\",\"linecolor\":\"white\",\"showbackground\":true,\"ticks\":\"\",\"zerolinecolor\":\"white\",\"gridwidth\":2},\"yaxis\":{\"backgroundcolor\":\"#E5ECF6\",\"gridcolor\":\"white\",\"linecolor\":\"white\",\"showbackground\":true,\"ticks\":\"\",\"zerolinecolor\":\"white\",\"gridwidth\":2},\"zaxis\":{\"backgroundcolor\":\"#E5ECF6\",\"gridcolor\":\"white\",\"linecolor\":\"white\",\"showbackground\":true,\"ticks\":\"\",\"zerolinecolor\":\"white\",\"gridwidth\":2}},\"shapedefaults\":{\"line\":{\"color\":\"#2a3f5f\"}},\"annotationdefaults\":{\"arrowcolor\":\"#2a3f5f\",\"arrowhead\":0,\"arrowwidth\":1},\"geo\":{\"bgcolor\":\"white\",\"landcolor\":\"#E5ECF6\",\"subunitcolor\":\"white\",\"showland\":true,\"showlakes\":true,\"lakecolor\":\"white\"},\"title\":{\"x\":0.05},\"mapbox\":{\"style\":\"light\"}}},\"title\":{\"text\":\"Heatmap of Correlation Matrix for Abalone Dataset\"},\"xaxis\":{\"title\":{\"text\":\"Variable\"}},\"yaxis\":{\"title\":{\"text\":\"Variable\"}}},                        {\"responsive\": true}                    ).then(function(){\n",
              "                            \n",
              "var gd = document.getElementById('bb4f73ef-be11-462d-bb2b-afabc28cfd85');\n",
              "var x = new MutationObserver(function (mutations, observer) {{\n",
              "        var display = window.getComputedStyle(gd).display;\n",
              "        if (!display || display === 'none') {{\n",
              "            console.log([gd, 'removed!']);\n",
              "            Plotly.purge(gd);\n",
              "            observer.disconnect();\n",
              "        }}\n",
              "}});\n",
              "\n",
              "// Listen for the removal of the full notebook cells\n",
              "var notebookContainer = gd.closest('#notebook-container');\n",
              "if (notebookContainer) {{\n",
              "    x.observe(notebookContainer, {childList: true});\n",
              "}}\n",
              "\n",
              "// Listen for the clearing of the current output cell\n",
              "var outputEl = gd.closest('.output');\n",
              "if (outputEl) {{\n",
              "    x.observe(outputEl, {childList: true});\n",
              "}}\n",
              "\n",
              "                        })                };                            </script>        </div>\n",
              "</body>\n",
              "</html>"
            ]
          },
          "metadata": {}
        }
      ]
    },
    {
      "cell_type": "markdown",
      "source": [
        "**EDA Findings:**\n",
        "- The majority of abalones in the dataset are of the male sex.\n",
        "- The length and diameter of abalones are highly correlated, indicating that they have a strong linear relationship.\n",
        "- The age of abalones increases with their length, diameter, and height, suggesting that these physical measurements can be used to predict the age of abalones.\n",
        "- The weight of abalones is also strongly correlated with their length, diameter, and height, indicating that weight can also be used as a predictor of abalone age.\n",
        "- The distribution of abalone age varies across different sex categories, with females generally having a higher age than males and infants.\n",
        "- There is a positive correlation between the number of rings and abalone age, indicating that the ring count method is a reliable way to determine the age of abalones.\n",
        "- The correlation matrix heatmap shows that there are strong positive correlations between the physical measurements of abalones (length, diameter, height, and weight), but only weak correlations between these measurements and the number of rings. This suggests that predicting the age of abalones from their physical measurements may require additional information, such as weather patterns and location (hence food availability)."
      ],
      "metadata": {
        "id": "TNQn5iaRR4jR"
      }
    },
    {
      "cell_type": "markdown",
      "source": [
        "## Model Preparation"
      ],
      "metadata": {
        "id": "u7xYE-EGR4jR"
      }
    },
    {
      "cell_type": "markdown",
      "source": [
        "**Separate Predictors and Target**"
      ],
      "metadata": {
        "id": "ovE8VVyQR4jR"
      }
    },
    {
      "cell_type": "code",
      "source": [
        "X = df.iloc[:, :-1].values\n",
        "y = df.iloc[:, -1].values"
      ],
      "metadata": {
        "execution": {
          "iopub.status.busy": "2023-03-07T06:53:05.478417Z",
          "iopub.execute_input": "2023-03-07T06:53:05.479276Z",
          "iopub.status.idle": "2023-03-07T06:53:05.485879Z",
          "shell.execute_reply.started": "2023-03-07T06:53:05.47923Z",
          "shell.execute_reply": "2023-03-07T06:53:05.484958Z"
        },
        "trusted": true,
        "id": "8GSw4kZ8R4jR"
      },
      "execution_count": 20,
      "outputs": []
    },
    {
      "cell_type": "code",
      "source": [
        "X"
      ],
      "metadata": {
        "execution": {
          "iopub.status.busy": "2023-03-07T06:53:05.487319Z",
          "iopub.execute_input": "2023-03-07T06:53:05.487708Z",
          "iopub.status.idle": "2023-03-07T06:53:05.500622Z",
          "shell.execute_reply.started": "2023-03-07T06:53:05.487665Z",
          "shell.execute_reply": "2023-03-07T06:53:05.499724Z"
        },
        "trusted": true,
        "id": "ZLAJue2UR4jR",
        "outputId": "96ab2eb9-cbc1-4531-deba-f0fbaeaf71a6",
        "colab": {
          "base_uri": "https://localhost:8080/"
        }
      },
      "execution_count": 21,
      "outputs": [
        {
          "output_type": "execute_result",
          "data": {
            "text/plain": [
              "array([[2.    , 0.455 , 0.365 , ..., 0.2245, 0.101 , 0.15  ],\n",
              "       [2.    , 0.35  , 0.265 , ..., 0.0995, 0.0485, 0.07  ],\n",
              "       [0.    , 0.53  , 0.42  , ..., 0.2565, 0.1415, 0.21  ],\n",
              "       ...,\n",
              "       [2.    , 0.6   , 0.475 , ..., 0.5255, 0.2875, 0.308 ],\n",
              "       [0.    , 0.625 , 0.485 , ..., 0.531 , 0.261 , 0.296 ],\n",
              "       [2.    , 0.71  , 0.555 , ..., 0.9455, 0.3765, 0.495 ]])"
            ]
          },
          "metadata": {},
          "execution_count": 21
        }
      ]
    },
    {
      "cell_type": "code",
      "source": [
        "y"
      ],
      "metadata": {
        "execution": {
          "iopub.status.busy": "2023-03-07T06:53:05.502124Z",
          "iopub.execute_input": "2023-03-07T06:53:05.502549Z",
          "iopub.status.idle": "2023-03-07T06:53:05.510769Z",
          "shell.execute_reply.started": "2023-03-07T06:53:05.502506Z",
          "shell.execute_reply": "2023-03-07T06:53:05.510199Z"
        },
        "trusted": true,
        "id": "t3RS3IiUR4jR",
        "outputId": "3d91b01c-e5e6-41e5-a08b-8ffd4ced8545",
        "colab": {
          "base_uri": "https://localhost:8080/"
        }
      },
      "execution_count": 22,
      "outputs": [
        {
          "output_type": "execute_result",
          "data": {
            "text/plain": [
              "array([15,  7,  9, ...,  9, 10, 12])"
            ]
          },
          "metadata": {},
          "execution_count": 22
        }
      ]
    },
    {
      "cell_type": "markdown",
      "source": [
        "**Split Data into Training and Testing**"
      ],
      "metadata": {
        "id": "NO9EHGRcR4jS"
      }
    },
    {
      "cell_type": "code",
      "source": [
        "X_train, X_test, y_train, y_test = train_test_split(X, y, test_size = 0.2, random_state = 0)"
      ],
      "metadata": {
        "execution": {
          "iopub.status.busy": "2023-03-07T06:53:05.511829Z",
          "iopub.execute_input": "2023-03-07T06:53:05.512115Z",
          "iopub.status.idle": "2023-03-07T06:53:05.524129Z",
          "shell.execute_reply.started": "2023-03-07T06:53:05.512084Z",
          "shell.execute_reply": "2023-03-07T06:53:05.523519Z"
        },
        "trusted": true,
        "id": "8Xa8tHRAR4jS"
      },
      "execution_count": 23,
      "outputs": []
    },
    {
      "cell_type": "markdown",
      "source": [
        "**Make Pipeline**"
      ],
      "metadata": {
        "id": "o5yMLSF0R4jS"
      }
    },
    {
      "cell_type": "code",
      "source": [
        "from sklearn.pipeline import make_pipeline\n",
        "from sklearn.linear_model import Ridge, Lasso, ElasticNet\n",
        "from sklearn.ensemble import GradientBoostingRegressor\n",
        "pipelines={\n",
        "'rf':make_pipeline(RandomForestRegressor(random_state=1234)),\n",
        "'gb':make_pipeline(GradientBoostingRegressor(random_state=1234)),\n",
        "'ridge':make_pipeline(Ridge(random_state=1234)),\n",
        "'lasso':make_pipeline(Lasso(random_state=1234)),\n",
        "'enet':make_pipeline(ElasticNet(random_state=1234)),\n",
        "}"
      ],
      "metadata": {
        "execution": {
          "iopub.status.busy": "2023-03-07T06:53:05.52504Z",
          "iopub.execute_input": "2023-03-07T06:53:05.525305Z",
          "iopub.status.idle": "2023-03-07T06:53:05.537204Z",
          "shell.execute_reply.started": "2023-03-07T06:53:05.525259Z",
          "shell.execute_reply": "2023-03-07T06:53:05.536577Z"
        },
        "trusted": true,
        "id": "IxJYN4z-R4jS"
      },
      "execution_count": 24,
      "outputs": []
    },
    {
      "cell_type": "code",
      "source": [
        "hyperparagrid={\n",
        "'rf':{\n",
        "'randomforestregressor__min_samples_split':[2,4,6],\n",
        "'randomforestregressor__min_samples_leaf':[1,2,3]\n",
        "},\n",
        "\n",
        "'gb':{\n",
        "    'gradientboostingregressor__alpha':[0.001,0.005,0.01,0.05,0.1,0.5,0.99]\n",
        "},\n",
        "\n",
        "'ridge':{\n",
        "    'ridge__alpha':[0.001,0.005,0.01,0.05,0.1,0.5,0.99]\n",
        "},\n",
        "'lasso':{\n",
        "    'lasso__alpha':[0.001,0.005,0.01,0.05,0.1,0.5,0.99]\n",
        "},\n",
        "'enet':{\n",
        "    'elasticnet__alpha':[0.001,0.005,0.01,0.05,0.1,0.5,0.99]\n",
        "}\n",
        "\n",
        "}"
      ],
      "metadata": {
        "execution": {
          "iopub.status.busy": "2023-03-07T06:53:05.538369Z",
          "iopub.execute_input": "2023-03-07T06:53:05.538584Z",
          "iopub.status.idle": "2023-03-07T06:53:05.554963Z",
          "shell.execute_reply.started": "2023-03-07T06:53:05.538557Z",
          "shell.execute_reply": "2023-03-07T06:53:05.554118Z"
        },
        "trusted": true,
        "id": "CmBENdOTR4jS"
      },
      "execution_count": 25,
      "outputs": []
    },
    {
      "cell_type": "code",
      "source": [
        "from sklearn.model_selection import GridSearchCV\n",
        "from sklearn.exceptions import NotFittedError\n",
        "from sklearn.metrics import r2_score,mean_absolute_error"
      ],
      "metadata": {
        "execution": {
          "iopub.status.busy": "2023-03-07T06:53:05.555969Z",
          "iopub.execute_input": "2023-03-07T06:53:05.556257Z",
          "iopub.status.idle": "2023-03-07T06:53:05.566062Z",
          "shell.execute_reply.started": "2023-03-07T06:53:05.556225Z",
          "shell.execute_reply": "2023-03-07T06:53:05.565171Z"
        },
        "trusted": true,
        "id": "7Ve5djnAR4jS"
      },
      "execution_count": 27,
      "outputs": []
    },
    {
      "cell_type": "markdown",
      "source": [
        "**Fit Models**"
      ],
      "metadata": {
        "id": "Um9AvYLGR4jW"
      }
    },
    {
      "cell_type": "code",
      "source": [
        "# Split original training data\n",
        "#X_train_5fold, X_test_5fold, y_train_5fold, y_test_5fold = train_test_split(X_train, y_train, test_size=0.2, random_state=42)\n",
        "\n",
        "fit_models={}\n",
        "for algo,pipeline in pipelines.items():\n",
        "  for cv in [5, 10]:\n",
        "    model=GridSearchCV(pipeline,hyperparagrid[algo],cv=cv,n_jobs=-1)\n",
        "    try:\n",
        "        #print('Start training for {}'.format(algo))\n",
        "        print(f\"Started training for {algo} with {cv} fold cross validation\")\n",
        "        model.fit(X_train,y_train)\n",
        "        fit_models[f\"{algo}_{cv}fold\"]=model\n",
        "    except NotFittedError as e:\n",
        "        print(repr(e))\n"
      ],
      "metadata": {
        "execution": {
          "iopub.status.busy": "2023-03-07T06:53:05.567941Z",
          "iopub.execute_input": "2023-03-07T06:53:05.568355Z",
          "iopub.status.idle": "2023-03-07T06:54:06.200262Z",
          "shell.execute_reply.started": "2023-03-07T06:53:05.568308Z",
          "shell.execute_reply": "2023-03-07T06:54:06.199023Z"
        },
        "trusted": true,
        "id": "h9EzZNTdR4jW",
        "outputId": "cbbb8923-b8ce-4818-990f-9d57fe082cc4",
        "colab": {
          "base_uri": "https://localhost:8080/"
        }
      },
      "execution_count": 28,
      "outputs": [
        {
          "output_type": "stream",
          "name": "stdout",
          "text": [
            "Started training for rf with 5 fold cross validation\n",
            "Started training for rf with 10 fold cross validation\n",
            "Started training for gb with 5 fold cross validation\n",
            "Started training for gb with 10 fold cross validation\n",
            "Started training for ridge with 5 fold cross validation\n",
            "Started training for ridge with 10 fold cross validation\n",
            "Started training for lasso with 5 fold cross validation\n",
            "Started training for lasso with 10 fold cross validation\n",
            "Started training for enet with 5 fold cross validation\n",
            "Started training for enet with 10 fold cross validation\n"
          ]
        }
      ]
    },
    {
      "cell_type": "markdown",
      "source": [
        "## Model Evaluation"
      ],
      "metadata": {
        "id": "aJtDNitvR4jW"
      }
    },
    {
      "cell_type": "markdown",
      "source": [
        "**Predict our Target value**"
      ],
      "metadata": {
        "id": "0-Aj4kxLR4jW"
      }
    },
    {
      "cell_type": "code",
      "source": [
        "for algo,model in fit_models.items():\n",
        "    ya=model.predict(X_test)\n",
        "    print('{} scores-R2:{} MAE:{}'.format(algo,r2_score(y_test,ya), mean_absolute_error(y_test,ya)))"
      ],
      "metadata": {
        "execution": {
          "iopub.status.busy": "2023-03-07T06:54:06.207629Z",
          "iopub.execute_input": "2023-03-07T06:54:06.208384Z",
          "iopub.status.idle": "2023-03-07T06:54:06.269585Z",
          "shell.execute_reply.started": "2023-03-07T06:54:06.208316Z",
          "shell.execute_reply": "2023-03-07T06:54:06.268711Z"
        },
        "trusted": true,
        "id": "eTkukXS8R4jW",
        "outputId": "1f472469-e38f-4f7d-b2c6-07c3c6a0c78a",
        "colab": {
          "base_uri": "https://localhost:8080/"
        }
      },
      "execution_count": 29,
      "outputs": [
        {
          "output_type": "stream",
          "name": "stdout",
          "text": [
            "rf_5fold scores-R2:0.5750197480126906 MAE:1.52702656577208\n",
            "rf_10fold scores-R2:0.5718176064832873 MAE:1.53317381676338\n",
            "gb_5fold scores-R2:0.5679242680278109 MAE:1.5236838865014883\n",
            "gb_10fold scores-R2:0.5679242680278109 MAE:1.5236838865014883\n",
            "ridge_5fold scores-R2:0.5275022255520712 MAE:1.6200109002341283\n",
            "ridge_10fold scores-R2:0.5275022255520712 MAE:1.6200109002341283\n",
            "lasso_5fold scores-R2:0.528090136172511 MAE:1.6169991592422972\n",
            "lasso_10fold scores-R2:0.528090136172511 MAE:1.6169991592422972\n",
            "enet_5fold scores-R2:0.5196433416161733 MAE:1.6370721768084187\n",
            "enet_10fold scores-R2:0.5196433416161733 MAE:1.6370721768084187\n"
          ]
        }
      ]
    },
    {
      "cell_type": "markdown",
      "source": [
        "**Best Model: Random Forest**"
      ],
      "metadata": {
        "id": "pPe61GQzR4jW"
      }
    },
    {
      "cell_type": "code",
      "source": [
        "#best_model=fit_models['rf']\n",
        "\n",
        "best_model = None\n",
        "best_score = -float('inf')  # Initialize with a very low score\n",
        "best_model_name = \"\"\n",
        "\n",
        "for model_name, model in fit_models.items():\n",
        "    # Access the best score for the model (assuming we're interested in the highest R² score)\n",
        "    best_r2_score = model.best_score_\n",
        "\n",
        "    if best_r2_score > best_score:\n",
        "        best_score = best_r2_score\n",
        "        best_model = model\n",
        "        best_model_name = model_name\n",
        "\n",
        "print(f\"The best model is {best_model_name} with an R2 score of {best_score:.4f}\")"
      ],
      "metadata": {
        "execution": {
          "iopub.status.busy": "2023-03-07T06:54:06.271272Z",
          "iopub.execute_input": "2023-03-07T06:54:06.271838Z",
          "iopub.status.idle": "2023-03-07T06:54:06.276603Z",
          "shell.execute_reply.started": "2023-03-07T06:54:06.271795Z",
          "shell.execute_reply": "2023-03-07T06:54:06.275768Z"
        },
        "trusted": true,
        "id": "Qa4NvZfWR4jW",
        "outputId": "a429a289-9fda-4269-e114-11b1e92ad30a",
        "colab": {
          "base_uri": "https://localhost:8080/"
        }
      },
      "execution_count": 31,
      "outputs": [
        {
          "output_type": "stream",
          "name": "stdout",
          "text": [
            "The best model is gb_10fold with an R2 score of 0.5456\n"
          ]
        }
      ]
    },
    {
      "cell_type": "code",
      "source": [
        "best_model"
      ],
      "metadata": {
        "execution": {
          "iopub.status.busy": "2023-03-07T06:54:06.278661Z",
          "iopub.execute_input": "2023-03-07T06:54:06.280118Z",
          "iopub.status.idle": "2023-03-07T06:54:06.31085Z",
          "shell.execute_reply.started": "2023-03-07T06:54:06.280071Z",
          "shell.execute_reply": "2023-03-07T06:54:06.309978Z"
        },
        "trusted": true,
        "id": "4yu33qbrR4jW",
        "outputId": "09c2cbb7-ed90-4b3b-ad1f-cfcc553c9def",
        "colab": {
          "base_uri": "https://localhost:8080/",
          "height": 116
        }
      },
      "execution_count": 32,
      "outputs": [
        {
          "output_type": "execute_result",
          "data": {
            "text/plain": [
              "GridSearchCV(cv=10,\n",
              "             estimator=Pipeline(steps=[('gradientboostingregressor',\n",
              "                                        GradientBoostingRegressor(random_state=1234))]),\n",
              "             n_jobs=-1,\n",
              "             param_grid={'gradientboostingregressor__alpha': [0.001, 0.005,\n",
              "                                                              0.01, 0.05, 0.1,\n",
              "                                                              0.5, 0.99]})"
            ],
            "text/html": [
              "<style>#sk-container-id-1 {color: black;}#sk-container-id-1 pre{padding: 0;}#sk-container-id-1 div.sk-toggleable {background-color: white;}#sk-container-id-1 label.sk-toggleable__label {cursor: pointer;display: block;width: 100%;margin-bottom: 0;padding: 0.3em;box-sizing: border-box;text-align: center;}#sk-container-id-1 label.sk-toggleable__label-arrow:before {content: \"▸\";float: left;margin-right: 0.25em;color: #696969;}#sk-container-id-1 label.sk-toggleable__label-arrow:hover:before {color: black;}#sk-container-id-1 div.sk-estimator:hover label.sk-toggleable__label-arrow:before {color: black;}#sk-container-id-1 div.sk-toggleable__content {max-height: 0;max-width: 0;overflow: hidden;text-align: left;background-color: #f0f8ff;}#sk-container-id-1 div.sk-toggleable__content pre {margin: 0.2em;color: black;border-radius: 0.25em;background-color: #f0f8ff;}#sk-container-id-1 input.sk-toggleable__control:checked~div.sk-toggleable__content {max-height: 200px;max-width: 100%;overflow: auto;}#sk-container-id-1 input.sk-toggleable__control:checked~label.sk-toggleable__label-arrow:before {content: \"▾\";}#sk-container-id-1 div.sk-estimator input.sk-toggleable__control:checked~label.sk-toggleable__label {background-color: #d4ebff;}#sk-container-id-1 div.sk-label input.sk-toggleable__control:checked~label.sk-toggleable__label {background-color: #d4ebff;}#sk-container-id-1 input.sk-hidden--visually {border: 0;clip: rect(1px 1px 1px 1px);clip: rect(1px, 1px, 1px, 1px);height: 1px;margin: -1px;overflow: hidden;padding: 0;position: absolute;width: 1px;}#sk-container-id-1 div.sk-estimator {font-family: monospace;background-color: #f0f8ff;border: 1px dotted black;border-radius: 0.25em;box-sizing: border-box;margin-bottom: 0.5em;}#sk-container-id-1 div.sk-estimator:hover {background-color: #d4ebff;}#sk-container-id-1 div.sk-parallel-item::after {content: \"\";width: 100%;border-bottom: 1px solid gray;flex-grow: 1;}#sk-container-id-1 div.sk-label:hover label.sk-toggleable__label {background-color: #d4ebff;}#sk-container-id-1 div.sk-serial::before {content: \"\";position: absolute;border-left: 1px solid gray;box-sizing: border-box;top: 0;bottom: 0;left: 50%;z-index: 0;}#sk-container-id-1 div.sk-serial {display: flex;flex-direction: column;align-items: center;background-color: white;padding-right: 0.2em;padding-left: 0.2em;position: relative;}#sk-container-id-1 div.sk-item {position: relative;z-index: 1;}#sk-container-id-1 div.sk-parallel {display: flex;align-items: stretch;justify-content: center;background-color: white;position: relative;}#sk-container-id-1 div.sk-item::before, #sk-container-id-1 div.sk-parallel-item::before {content: \"\";position: absolute;border-left: 1px solid gray;box-sizing: border-box;top: 0;bottom: 0;left: 50%;z-index: -1;}#sk-container-id-1 div.sk-parallel-item {display: flex;flex-direction: column;z-index: 1;position: relative;background-color: white;}#sk-container-id-1 div.sk-parallel-item:first-child::after {align-self: flex-end;width: 50%;}#sk-container-id-1 div.sk-parallel-item:last-child::after {align-self: flex-start;width: 50%;}#sk-container-id-1 div.sk-parallel-item:only-child::after {width: 0;}#sk-container-id-1 div.sk-dashed-wrapped {border: 1px dashed gray;margin: 0 0.4em 0.5em 0.4em;box-sizing: border-box;padding-bottom: 0.4em;background-color: white;}#sk-container-id-1 div.sk-label label {font-family: monospace;font-weight: bold;display: inline-block;line-height: 1.2em;}#sk-container-id-1 div.sk-label-container {text-align: center;}#sk-container-id-1 div.sk-container {/* jupyter's `normalize.less` sets `[hidden] { display: none; }` but bootstrap.min.css set `[hidden] { display: none !important; }` so we also need the `!important` here to be able to override the default hidden behavior on the sphinx rendered scikit-learn.org. See: https://github.com/scikit-learn/scikit-learn/issues/21755 */display: inline-block !important;position: relative;}#sk-container-id-1 div.sk-text-repr-fallback {display: none;}</style><div id=\"sk-container-id-1\" class=\"sk-top-container\"><div class=\"sk-text-repr-fallback\"><pre>GridSearchCV(cv=10,\n",
              "             estimator=Pipeline(steps=[(&#x27;gradientboostingregressor&#x27;,\n",
              "                                        GradientBoostingRegressor(random_state=1234))]),\n",
              "             n_jobs=-1,\n",
              "             param_grid={&#x27;gradientboostingregressor__alpha&#x27;: [0.001, 0.005,\n",
              "                                                              0.01, 0.05, 0.1,\n",
              "                                                              0.5, 0.99]})</pre><b>In a Jupyter environment, please rerun this cell to show the HTML representation or trust the notebook. <br />On GitHub, the HTML representation is unable to render, please try loading this page with nbviewer.org.</b></div><div class=\"sk-container\" hidden><div class=\"sk-item sk-dashed-wrapped\"><div class=\"sk-label-container\"><div class=\"sk-label sk-toggleable\"><input class=\"sk-toggleable__control sk-hidden--visually\" id=\"sk-estimator-id-1\" type=\"checkbox\" ><label for=\"sk-estimator-id-1\" class=\"sk-toggleable__label sk-toggleable__label-arrow\">GridSearchCV</label><div class=\"sk-toggleable__content\"><pre>GridSearchCV(cv=10,\n",
              "             estimator=Pipeline(steps=[(&#x27;gradientboostingregressor&#x27;,\n",
              "                                        GradientBoostingRegressor(random_state=1234))]),\n",
              "             n_jobs=-1,\n",
              "             param_grid={&#x27;gradientboostingregressor__alpha&#x27;: [0.001, 0.005,\n",
              "                                                              0.01, 0.05, 0.1,\n",
              "                                                              0.5, 0.99]})</pre></div></div></div><div class=\"sk-parallel\"><div class=\"sk-parallel-item\"><div class=\"sk-item\"><div class=\"sk-label-container\"><div class=\"sk-label sk-toggleable\"><input class=\"sk-toggleable__control sk-hidden--visually\" id=\"sk-estimator-id-2\" type=\"checkbox\" ><label for=\"sk-estimator-id-2\" class=\"sk-toggleable__label sk-toggleable__label-arrow\">estimator: Pipeline</label><div class=\"sk-toggleable__content\"><pre>Pipeline(steps=[(&#x27;gradientboostingregressor&#x27;,\n",
              "                 GradientBoostingRegressor(random_state=1234))])</pre></div></div></div><div class=\"sk-serial\"><div class=\"sk-item\"><div class=\"sk-serial\"><div class=\"sk-item\"><div class=\"sk-estimator sk-toggleable\"><input class=\"sk-toggleable__control sk-hidden--visually\" id=\"sk-estimator-id-3\" type=\"checkbox\" ><label for=\"sk-estimator-id-3\" class=\"sk-toggleable__label sk-toggleable__label-arrow\">GradientBoostingRegressor</label><div class=\"sk-toggleable__content\"><pre>GradientBoostingRegressor(random_state=1234)</pre></div></div></div></div></div></div></div></div></div></div></div></div>"
            ]
          },
          "metadata": {},
          "execution_count": 32
        }
      ]
    },
    {
      "cell_type": "markdown",
      "source": [
        "## Conclusion"
      ],
      "metadata": {
        "id": "saB6onHbR4jW"
      }
    },
    {
      "cell_type": "markdown",
      "source": [
        "- The physical measurements of abalones (such as length, diameter, and weight) can be used to accurately estimate their age without the need for the laborious and time-consuming ring counting method. This has important implications for the management and conservation of abalone populations, as it provides a more efficient and cost-effective way to estimate their age and track changes in population demographics over time. But we the accuracy is very low.\n",
        "- It is important to note that predicting the age of abalones from their physical measurements may require additional information, such as weather patterns and location, in order to achieve the highest possible accuracy. Therefore, future research should continue to explore and refine the predictive models for estimating the age of abalones using both physical measurements and environmental variables.\n",
        "![](https://images.unsplash.com/photo-1619968987472-4d1b2784592e?ixlib=rb-4.0.3&ixid=MnwxMjA3fDB8MHxwaG90by1wYWdlfHx8fGVufDB8fHx8&auto=format&fit=crop&w=2070&q=80)"
      ],
      "metadata": {
        "id": "5F-fjTxdR4jW"
      }
    }
  ]
}